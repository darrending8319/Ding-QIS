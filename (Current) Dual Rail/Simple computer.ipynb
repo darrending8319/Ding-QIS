{
 "cells": [
  {
   "cell_type": "code",
   "execution_count": 73,
   "id": "dcb6456b",
   "metadata": {},
   "outputs": [],
   "source": [
    "import qutip as qt\n",
    "import numpy as np"
   ]
  },
  {
   "cell_type": "code",
   "execution_count": 74,
   "id": "6509a58b",
   "metadata": {},
   "outputs": [],
   "source": [
    "num_basis = 2\n",
    "π = np.pi"
   ]
  },
  {
   "cell_type": "markdown",
   "id": "933739b7",
   "metadata": {},
   "source": [
    "## Beamsplitter Gate"
   ]
  },
  {
   "cell_type": "code",
   "execution_count": 101,
   "id": "86456968",
   "metadata": {},
   "outputs": [],
   "source": [
    "a = qt.tensor(qt.destroy(num_basis), qt.qeye(num_basis))\n",
    "adag = a.dag() \n",
    "b = qt.tensor(qt.qeye(num_basis), qt.destroy(num_basis))\n",
    "bdag = b.dag() \n",
    "\n",
    "g_state = qt.basis(num_basis, 0)\n",
    "e_state = qt.basis(num_basis, 1)\n",
    "\n",
    "gg = qt.tensor(g_state, g_state)\n",
    "ge = qt.tensor(g_state, e_state)\n",
    "eg = qt.tensor(e_state, g_state)\n",
    "ee = qt.tensor(e_state, e_state)\n",
    "\n",
    "B = ((adag*b-a*bdag)*π/4).expm()"
   ]
  },
  {
   "cell_type": "code",
   "execution_count": 106,
   "id": "8e3cae8d",
   "metadata": {},
   "outputs": [
    {
     "data": {
      "text/latex": [
       "Quantum object: dims = [[2, 2], [1, 1]], shape = (4, 1), type = ket $ \\\\ \\left(\\begin{matrix}0.0\\\\1.0\\\\0.0\\\\0.0\\\\\\end{matrix}\\right)$"
      ],
      "text/plain": [
       "Quantum object: dims = [[2, 2], [1, 1]], shape = (4, 1), type = ket\n",
       "Qobj data =\n",
       "[[0.]\n",
       " [1.]\n",
       " [0.]\n",
       " [0.]]"
      ]
     },
     "execution_count": 106,
     "metadata": {},
     "output_type": "execute_result"
    }
   ],
   "source": [
    "ge"
   ]
  },
  {
   "cell_type": "code",
   "execution_count": 107,
   "id": "b49fd0cf",
   "metadata": {},
   "outputs": [
    {
     "data": {
      "text/latex": [
       "Quantum object: dims = [[2, 2], [1, 1]], shape = (4, 1), type = ket $ \\\\ \\left(\\begin{matrix}0.0\\\\0.707\\\\0.707\\\\0.0\\\\\\end{matrix}\\right)$"
      ],
      "text/plain": [
       "Quantum object: dims = [[2, 2], [1, 1]], shape = (4, 1), type = ket\n",
       "Qobj data =\n",
       "[[0.        ]\n",
       " [0.70710678]\n",
       " [0.70710678]\n",
       " [0.        ]]"
      ]
     },
     "execution_count": 107,
     "metadata": {},
     "output_type": "execute_result"
    }
   ],
   "source": [
    "B*ge #ge+eg"
   ]
  },
  {
   "cell_type": "code",
   "execution_count": 108,
   "id": "d5479767",
   "metadata": {},
   "outputs": [
    {
     "data": {
      "text/latex": [
       "Quantum object: dims = [[2, 2], [1, 1]], shape = (4, 1), type = ket $ \\\\ \\left(\\begin{matrix}0.0\\\\-0.707\\\\0.707\\\\0.0\\\\\\end{matrix}\\right)$"
      ],
      "text/plain": [
       "Quantum object: dims = [[2, 2], [1, 1]], shape = (4, 1), type = ket\n",
       "Qobj data =\n",
       "[[ 0.        ]\n",
       " [-0.70710678]\n",
       " [ 0.70710678]\n",
       " [ 0.        ]]"
      ]
     },
     "execution_count": 108,
     "metadata": {},
     "output_type": "execute_result"
    }
   ],
   "source": [
    "B*eg #-ge+eg"
   ]
  },
  {
   "cell_type": "code",
   "execution_count": 111,
   "id": "8a6bb501",
   "metadata": {},
   "outputs": [
    {
     "data": {
      "text/latex": [
       "Quantum object: dims = [[2, 2], [1, 1]], shape = (4, 1), type = ket $ \\\\ \\left(\\begin{matrix}0.0\\\\0.707\\\\-0.707\\\\0.0\\\\\\end{matrix}\\right)$"
      ],
      "text/plain": [
       "Quantum object: dims = [[2, 2], [1, 1]], shape = (4, 1), type = ket\n",
       "Qobj data =\n",
       "[[ 0.        ]\n",
       " [ 0.70710678]\n",
       " [-0.70710678]\n",
       " [ 0.        ]]"
      ]
     },
     "execution_count": 111,
     "metadata": {},
     "output_type": "execute_result"
    }
   ],
   "source": [
    "B.dag()*ge #ge-eg"
   ]
  },
  {
   "cell_type": "code",
   "execution_count": 85,
   "id": "9c0e2533",
   "metadata": {},
   "outputs": [
    {
     "data": {
      "text/latex": [
       "Quantum object: dims = [[2, 2], [1, 1]], shape = (4, 1), type = ket $ \\\\ \\left(\\begin{matrix}0.0\\\\0.707\\\\0.707\\\\0.0\\\\\\end{matrix}\\right)$"
      ],
      "text/plain": [
       "Quantum object: dims = [[2, 2], [1, 1]], shape = (4, 1), type = ket\n",
       "Qobj data =\n",
       "[[0.        ]\n",
       " [0.70710678]\n",
       " [0.70710678]\n",
       " [0.        ]]"
      ]
     },
     "execution_count": 85,
     "metadata": {},
     "output_type": "execute_result"
    }
   ],
   "source": [
    "B.dag()*eg #ge+eg"
   ]
  },
  {
   "cell_type": "code",
   "execution_count": 88,
   "id": "d538bfb5",
   "metadata": {},
   "outputs": [
    {
     "data": {
      "text/latex": [
       "Quantum object: dims = [[2, 2], [2, 2]], shape = (4, 4), type = oper, isherm = False $ \\\\ \\left(\\begin{matrix}0.0 & 0.0 & 0.0 & 0.0\\\\0.0 & 0.0 & 0.0 & 0.0\\\\0.0 & 1.0 & 0.0 & 0.0\\\\0.0 & 0.0 & 0.0 & 0.0\\\\\\end{matrix}\\right)$"
      ],
      "text/plain": [
       "Quantum object: dims = [[2, 2], [2, 2]], shape = (4, 4), type = oper, isherm = False\n",
       "Qobj data =\n",
       "[[0. 0. 0. 0.]\n",
       " [0. 0. 0. 0.]\n",
       " [0. 1. 0. 0.]\n",
       " [0. 0. 0. 0.]]"
      ]
     },
     "execution_count": 88,
     "metadata": {},
     "output_type": "execute_result"
    }
   ],
   "source": [
    "adag*b"
   ]
  },
  {
   "cell_type": "code",
   "execution_count": 89,
   "id": "59e062ad",
   "metadata": {},
   "outputs": [
    {
     "data": {
      "text/latex": [
       "Quantum object: dims = [[2, 2], [2, 2]], shape = (4, 4), type = oper, isherm = False $ \\\\ \\left(\\begin{matrix}0.0 & 0.0 & 0.0 & 0.0\\\\0.0 & 0.0 & 1.0 & 0.0\\\\0.0 & 0.0 & 0.0 & 0.0\\\\0.0 & 0.0 & 0.0 & 0.0\\\\\\end{matrix}\\right)$"
      ],
      "text/plain": [
       "Quantum object: dims = [[2, 2], [2, 2]], shape = (4, 4), type = oper, isherm = False\n",
       "Qobj data =\n",
       "[[0. 0. 0. 0.]\n",
       " [0. 0. 1. 0.]\n",
       " [0. 0. 0. 0.]\n",
       " [0. 0. 0. 0.]]"
      ]
     },
     "execution_count": 89,
     "metadata": {},
     "output_type": "execute_result"
    }
   ],
   "source": [
    "a*bdag"
   ]
  },
  {
   "cell_type": "markdown",
   "id": "62579052",
   "metadata": {},
   "source": [
    "## Phase Modulator"
   ]
  },
  {
   "cell_type": "code",
   "execution_count": 69,
   "id": "e000a02e",
   "metadata": {},
   "outputs": [],
   "source": [
    "a = qt.destroy(num_basis)\n",
    "adag = a.dag()\n",
    "g = g_state\n",
    "e = e_state\n",
    "\n",
    "S = "
   ]
  },
  {
   "cell_type": "code",
   "execution_count": null,
   "id": "dbdb8fc6",
   "metadata": {},
   "outputs": [],
   "source": []
  }
 ],
 "metadata": {
  "kernelspec": {
   "display_name": "Python 3 (ipykernel)",
   "language": "python",
   "name": "python3"
  },
  "language_info": {
   "codemirror_mode": {
    "name": "ipython",
    "version": 3
   },
   "file_extension": ".py",
   "mimetype": "text/x-python",
   "name": "python",
   "nbconvert_exporter": "python",
   "pygments_lexer": "ipython3",
   "version": "3.9.6"
  }
 },
 "nbformat": 4,
 "nbformat_minor": 5
}
