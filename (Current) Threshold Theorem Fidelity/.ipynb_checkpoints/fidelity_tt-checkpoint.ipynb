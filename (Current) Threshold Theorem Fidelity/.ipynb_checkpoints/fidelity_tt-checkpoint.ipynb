{
 "cells": [
  {
   "cell_type": "code",
   "execution_count": 1,
   "id": "9ce745d4",
   "metadata": {},
   "outputs": [],
   "source": [
    "import qutip as qt\n",
    "import numpy as np\n",
    "import matplotlib.pyplot as plt"
   ]
  },
  {
   "cell_type": "code",
   "execution_count": 2,
   "id": "f9f5f7df",
   "metadata": {},
   "outputs": [],
   "source": [
    "num_basis=2"
   ]
  },
  {
   "cell_type": "code",
   "execution_count": 3,
   "id": "998d1ca2",
   "metadata": {},
   "outputs": [],
   "source": [
    "g_state = qt.basis(num_basis, 0)\n",
    "e_state = qt.basis(num_basis, 1)\n",
    "\n",
    "gg = qt.tensor(g_state, g_state)\n",
    "ge = qt.tensor(g_state, e_state)\n",
    "eg = qt.tensor(e_state, g_state)\n",
    "ee = qt.tensor(e_state, e_state)"
   ]
  },
  {
   "cell_type": "code",
   "execution_count": 4,
   "id": "47951830",
   "metadata": {},
   "outputs": [
    {
     "data": {
      "text/latex": [
       "Quantum object: dims = [[2, 2], [1, 1]], shape = (4, 1), type = ket $ \\\\ \\left(\\begin{matrix}1.0\\\\0.0\\\\0.0\\\\0.0\\\\\\end{matrix}\\right)$"
      ],
      "text/plain": [
       "Quantum object: dims = [[2, 2], [1, 1]], shape = (4, 1), type = ket\n",
       "Qobj data =\n",
       "[[1.]\n",
       " [0.]\n",
       " [0.]\n",
       " [0.]]"
      ]
     },
     "execution_count": 4,
     "metadata": {},
     "output_type": "execute_result"
    }
   ],
   "source": [
    "gg"
   ]
  },
  {
   "cell_type": "code",
   "execution_count": 5,
   "id": "5024abd6",
   "metadata": {},
   "outputs": [],
   "source": [
    "x = qt.sigmax()\n",
    "y = qt.sigmay()\n",
    "z = qt.sigmaz()"
   ]
  },
  {
   "cell_type": "code",
   "execution_count": 6,
   "id": "d0eb4358",
   "metadata": {},
   "outputs": [
    {
     "data": {
      "text/plain": [
       "0.3053643348042314"
      ]
     },
     "execution_count": 6,
     "metadata": {},
     "output_type": "execute_result"
    }
   ],
   "source": [
    "np.random.rand()"
   ]
  },
  {
   "cell_type": "code",
   "execution_count": 7,
   "id": "b9503b19",
   "metadata": {},
   "outputs": [],
   "source": [
    "p = 0.01\n",
    "i_s = []\n",
    "i = 0\n",
    "for k in range(0, 100, 1):\n",
    "    for j in range(0, 10000, 1):\n",
    "        if (np.random.rand()<0.01):\n",
    "            i = i + 1\n",
    "    i_s.append(i)\n",
    "    i = 0"
   ]
  },
  {
   "cell_type": "code",
   "execution_count": 8,
   "id": "400e8392",
   "metadata": {},
   "outputs": [
    {
     "data": {
      "text/plain": [
       "(array([ 2.,  5.,  9., 16., 16., 18., 15., 11.,  6.,  2.]),\n",
       " array([ 74.,  79.,  84.,  89.,  94.,  99., 104., 109., 114., 119., 124.]),\n",
       " <BarContainer object of 10 artists>)"
      ]
     },
     "execution_count": 8,
     "metadata": {},
     "output_type": "execute_result"
    },
    {
     "data": {
      "image/png": "[encoded data removed]",
      "text/plain": [
       "<Figure size 640x480 with 1 Axes>"
      ]
     },
     "metadata": {},
     "output_type": "display_data"
    }
   ],
   "source": [
    "plt.hist(i_s)"
   ]
  },
  {
   "cell_type": "code",
   "execution_count": 9,
   "id": "60da8447",
   "metadata": {},
   "outputs": [],
   "source": [
    "from qutip.qip.operations import cnot"
   ]
  },
  {
   "cell_type": "code",
   "execution_count": 10,
   "id": "8d876924",
   "metadata": {},
   "outputs": [],
   "source": [
    "CNOT = cnot()"
   ]
  },
  {
   "cell_type": "code",
   "execution_count": null,
   "id": "b44254ee",
   "metadata": {},
   "outputs": [],
   "source": []
  }
 ],
 "metadata": {
  "kernelspec": {
   "display_name": "Python 3 (ipykernel)",
   "language": "python",
   "name": "python3"
  },
  "language_info": {
   "codemirror_mode": {
    "name": "ipython",
    "version": 3
   },
   "file_extension": ".py",
   "mimetype": "text/x-python",
   "name": "python",
   "nbconvert_exporter": "python",
   "pygments_lexer": "ipython3",
   "version": "3.9.6"
  }
 },
 "nbformat": 4,
 "nbformat_minor": 5
}
