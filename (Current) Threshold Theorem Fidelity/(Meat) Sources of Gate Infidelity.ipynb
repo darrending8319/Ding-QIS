{
 "cells": [
  {
   "cell_type": "code",
   "execution_count": 30,
   "id": "057bf810",
   "metadata": {},
   "outputs": [],
   "source": [
    "import matplotlib.pyplot as plt\n",
    "import numpy as np\n",
    "import qutip as qt\n",
    "import scipy\n",
    "\n",
    "from qutip.qip.operations import cnot\n",
    "from qutip.qip.operations import snot\n",
    "from qutip.qip.operations import csign\n",
    "\n",
    "import math"
   ]
  },
  {
   "cell_type": "markdown",
   "id": "4770d6c2",
   "metadata": {},
   "source": [
    "## What has been done as of 2/11 on this document?\n",
    "\n",
    "Simulated high fidelity CZ gate for two capacitively coupled qutrits\n",
    "\n",
    "Showed local equivalence of CZ and CNOT via hadamard single qubit gates\n",
    "\n",
    "Implemented parity ZZZZ, XXXX parity measurements with perfect CNOTs with expected measurement outcomes\n",
    "\n",
    "\n",
    "## Next:\n",
    "\n",
    "Two qubit gate dataset (detuning, gamma1, gamma2, small correction to optimal gate time, others, gamma_Tup)\n",
    "\n",
    "Implement full parity protocol for distance d code (or whatever architecture of interest) and output P_l for ideal and non ideal two qubit gates\n",
    "\n",
    "Threshold plots P_l ~ two qubit gate fidelity"
   ]
  },
  {
   "cell_type": "code",
   "execution_count": 31,
   "id": "06e21d2c",
   "metadata": {},
   "outputs": [],
   "source": [
    "π = np.pi\n",
    "µs_to_ns = 1e3"
   ]
  },
  {
   "cell_type": "markdown",
   "id": "c377ed34",
   "metadata": {},
   "source": [
    "# Two Qutrits, Capacitively Coupled"
   ]
  },
  {
   "cell_type": "markdown",
   "id": "63c1884f",
   "metadata": {},
   "source": [
    "### States\n",
    "$|g\\rangle=(1,0,0)^T$, $|e\\rangle=(0,1,0)^T$, $|f\\rangle=(0,0,1)^T$"
   ]
  },
  {
   "cell_type": "code",
   "execution_count": 32,
   "id": "117d3640",
   "metadata": {},
   "outputs": [],
   "source": [
    "num_qubit_states = 3\n",
    "\n",
    "g_state = qt.basis(num_qubit_states, 0)\n",
    "e_state = qt.basis(num_qubit_states, 1)\n",
    "f_state = qt.basis(num_qubit_states, 2)"
   ]
  },
  {
   "cell_type": "markdown",
   "id": "b8804884",
   "metadata": {},
   "source": [
    "### Creation/Annihilation Operators (q1, q2)\n",
    "$b_1,b_1^\\dagger, b_2, b_2^\\dagger$"
   ]
  },
  {
   "cell_type": "code",
   "execution_count": 33,
   "id": "7debc636",
   "metadata": {},
   "outputs": [],
   "source": [
    "b1 = qt.tensor(qt.destroy(num_qubit_states), qt.qeye(num_qubit_states))\n",
    "b1dag = b1.dag() \n",
    "b2 = qt.tensor(qt.qeye(num_qubit_states), qt.destroy(num_qubit_states))\n",
    "b2dag = b2.dag() "
   ]
  },
  {
   "cell_type": "markdown",
   "id": "a3771496",
   "metadata": {},
   "source": [
    "### Projection Operators"
   ]
  },
  {
   "cell_type": "code",
   "execution_count": 34,
   "id": "fd845911",
   "metadata": {},
   "outputs": [],
   "source": [
    "gg_proj = qt.tensor(g_state, g_state).proj()\n",
    "ge_proj = qt.tensor(g_state, e_state).proj()\n",
    "gf_proj = qt.tensor(g_state, f_state).proj()\n",
    "\n",
    "eg_proj = qt.tensor(e_state, g_state).proj()\n",
    "ee_proj = qt.tensor(e_state, e_state).proj()\n",
    "ef_proj = qt.tensor(e_state, f_state).proj()\n",
    "\n",
    "fg_proj = qt.tensor(f_state, g_state).proj()\n",
    "fe_proj = qt.tensor(f_state, e_state).proj()\n",
    "ff_proj = qt.tensor(f_state, f_state).proj()"
   ]
  },
  {
   "cell_type": "markdown",
   "id": "161a570f",
   "metadata": {},
   "source": [
    "### Hamiltonian\n",
    "$H/\\hbar = \\sum_{i=1}^2{\\left(\\omega_i b_i^\\dagger b_i + \\frac{\\alpha_i}{2} b_i^\\dagger b_i^\\dagger b_i b_i\\right)} + J(b_1^\\dagger b_2+b_2^\\dagger b_1+b_1^\\dagger b_2^\\dagger+b_1 b_2)$\n"
   ]
  },
  {
   "cell_type": "code",
   "execution_count": 35,
   "id": "3cfaad80",
   "metadata": {},
   "outputs": [],
   "source": [
    "def hamiltonian(omega_1, omega_2, alpha_1, alpha_2, J_coupling):\n",
    "    t1 = (omega_1 * b1dag * b1) + (omega_2 * b2dag * b2)\n",
    "    t2 = (alpha_1 / 2 * b1dag * b1dag * b1 * b1) + (alpha_2 / 2 * b2dag * b2dag * b2 * b2)\n",
    "    t4 = J_coupling * (b1dag * b2 + b2dag * b1)\n",
    "    t5 = J_coupling * (b1dag * b2dag + b1 * b2)\n",
    "    return t1 + t2 + t4 + t5"
   ]
  },
  {
   "cell_type": "markdown",
   "id": "8ba52aa4",
   "metadata": {},
   "source": [
    "### Convenient Plotting Function"
   ]
  },
  {
   "cell_type": "code",
   "execution_count": 36,
   "id": "e7ec09ab",
   "metadata": {},
   "outputs": [],
   "source": [
    "def plotresult(time_evolution_b):\n",
    "    gf_pops = qt.expect(gf_proj, time_evolution_b.states)\n",
    "    fg_pops = qt.expect(fg_proj, time_evolution_b.states)\n",
    "    ee_pops = qt.expect(ee_proj, time_evolution_b.states)\n",
    "    \n",
    "    fig, ax = plt.subplots(tight_layout=True)\n",
    "    ax.plot(t_vec * µs_to_ns, gf_pops, label=\"gf\")\n",
    "    ax.plot(t_vec * µs_to_ns, fg_pops, label=\"fg\")\n",
    "    ax.plot(t_vec * µs_to_ns, ee_pops, label=\"ee\")\n",
    "    \n",
    "    ax.legend()\n",
    "    ax.set_xlabel('Time, $t$ [ns]')\n",
    "    ax.set_ylabel(r'Amplitude Squared, $P_{mn}$')\n",
    "    ax.set_title('CZ gate')\n",
    "\n",
    "    plt.show()\n",
    "    plt.close()"
   ]
  },
  {
   "cell_type": "markdown",
   "id": "b5dffc9b",
   "metadata": {},
   "source": [
    "## Resonance Between $|2,0\\rangle, |1,1\\rangle$\n",
    "$\\psi_0=|f,g,0\\rangle$ \n",
    "<br> \n",
    "$\\omega_{1ef}=\\omega_{2ge}$ or in other words $\\omega_{1ge}+\\alpha_1 = \\omega_{2ge}$"
   ]
  },
  {
   "cell_type": "code",
   "execution_count": 37,
   "id": "07a85cff",
   "metadata": {
    "scrolled": false
   },
   "outputs": [
    {
     "data": {
      "image/png": "[encoded data removed]",
      "text/plain": [
       "<Figure size 640x480 with 1 Axes>"
      ]
     },
     "metadata": {},
     "output_type": "display_data"
    },
    {
     "data": {
      "image/png": "[encoded data removed]",
      "text/plain": [
       "<Figure size 640x480 with 1 Axes>"
      ]
     },
     "metadata": {},
     "output_type": "display_data"
    }
   ],
   "source": [
    "omega1 = 2*π * 6000\n",
    "alpha1 = 2*π * -300\n",
    "alpha2 = 2*π * -300\n",
    "omega2 = omega1 + alpha1\n",
    "J_coupling = 2*π * 8\n",
    "\n",
    "t_start = 0\n",
    "t_end = 3 * π / (2 * J_coupling)\n",
    "t_vec = np.linspace(t_start, t_end, 601)\n",
    "\n",
    "h = hamiltonian(omega_1=omega1, omega_2=omega2, alpha_1=alpha1, \n",
    "                alpha_2=alpha2, J_coupling=J_coupling)\n",
    "\n",
    "psi0 = qt.tensor(e_state, e_state)\n",
    "te0 = qt.mesolve(h, psi0, t_vec, [], [])\n",
    "_ = plotresult(te0)\n",
    "\n",
    "ee_pops = qt.expect(ee_proj, te0.states)\n",
    "#argument of value closest to 1\n",
    "argmin = np.argmin(np.abs(ee_pops-1)[1:]) + 1\n",
    "newt_end = t_vec[argmin]\n",
    "newt_vec = np.linspace(t_start, newt_end, 601)\n",
    "\n",
    "te1 = qt.mesolve(h, psi0, newt_vec, [], [])\n",
    "_ = plotresult(te1)"
   ]
  },
  {
   "cell_type": "markdown",
   "id": "c03a3e58",
   "metadata": {},
   "source": [
    "### Propogator"
   ]
  },
  {
   "cell_type": "code",
   "execution_count": 38,
   "id": "f5a934ea",
   "metadata": {},
   "outputs": [],
   "source": [
    "def compute_propogator(h, t_vec): #output propogator matrix\n",
    "    propogator = qt.propagator(h, t_vec)\n",
    "    prop = qt.Qobj(np.array(propogator[-1]))\n",
    "    return prop\n",
    "\n",
    "propogator = compute_propogator(h, newt_vec)"
   ]
  },
  {
   "cell_type": "code",
   "execution_count": 39,
   "id": "f2e4d010",
   "metadata": {},
   "outputs": [],
   "source": [
    "def unitary(phi_1, phi_2, phi_3):\n",
    "    return qt.qdiags([\n",
    "        1,                 # gg\n",
    "        np.exp(1j*phi_2),  # ge\n",
    "        1,                 # gf\n",
    "        np.exp(1j*phi_1),  # eg\n",
    "        np.exp(1j*phi_3),  # ee\n",
    "        1,                 # ef\n",
    "        1,                 # fg\n",
    "        1,                 # fe\n",
    "        1                  # ff\n",
    "    ],\n",
    "    offsets=0,\n",
    "    dims=[[3, 3], [3, 3]])"
   ]
  },
  {
   "cell_type": "markdown",
   "id": "e768ae3b",
   "metadata": {},
   "source": [
    "## Begin with basis states: $|gg\\rangle |eg\\rangle |ge\\rangle |ee\\rangle $\n",
    "\n",
    "$U|gg\\rangle = |gg\\rangle$\n",
    "\n",
    "$U|eg\\rangle = e^{(i\\phi_1)}|eg\\rangle$\n",
    "\n",
    "$U|ge\\rangle = e^{(i\\phi_2)}|ge\\rangle$\n",
    "\n",
    "$U|ee\\rangle = e^{(i\\phi_1+\\phi_2+\\phi_c)}|ee\\rangle$\n",
    "\n"
   ]
  },
  {
   "cell_type": "code",
   "execution_count": 40,
   "id": "37971109",
   "metadata": {},
   "outputs": [
    {
     "name": "stdout",
     "output_type": "stream",
     "text": [
      "0.9999998685848434 0.9991377060211311 0.999138053944885 0.9999816904565442\n"
     ]
    },
    {
     "data": {
      "text/plain": [
       "3.105635860796071"
      ]
     },
     "execution_count": 40,
     "metadata": {},
     "output_type": "execute_result"
    }
   ],
   "source": [
    "psi0 = qt.tensor(g_state, g_state)\n",
    "te0 = qt.mesolve(h, psi0, newt_vec, [], [])\n",
    "state0 = te0.states[-1]\n",
    "#compute angle between final state and initial state (1)\n",
    "phi_0 = np.angle((psi0.dag() * state0).full()[0][0])\n",
    "fid_gg = qt.fidelity(unitary(0, 0, 0) * psi0, state0)\n",
    "\n",
    "psi1 = qt.tensor(e_state, g_state)\n",
    "te1 = qt.mesolve(h, psi1, newt_vec, [], [])\n",
    "state1 = te1.states[-1]\n",
    "#compute angle between final state and initial state (phi_1)\n",
    "phi_1 = np.angle((psi1.dag() * state1).full()[0][0])\n",
    "fid_eg = qt.fidelity(unitary(phi_1, 0, 0) * psi1, state1)\n",
    "\n",
    "psi2 = qt.tensor(g_state, e_state)\n",
    "te2 = qt.mesolve(h, psi2, newt_vec, [], [])\n",
    "state2 = te2.states[-1]\n",
    "#compute angle between final state and initial state (phi_2)\n",
    "phi_2 = np.angle((psi2.dag() * state2).full()[0][0])\n",
    "fid_ge = qt.fidelity(unitary(0, phi_2, 0) * psi2, state2)\n",
    "\n",
    "psi3 = qt.tensor(e_state, e_state)\n",
    "te3 = qt.mesolve(h, psi3, newt_vec, [], [])\n",
    "state3 = te3.states[-1]\n",
    "#compute angle between final state and initial state (phi_3 = phi_1 + phi_2 + phi_c)\n",
    "phi_3 = np.angle((psi3.dag() * state3).full()[0][0])\n",
    "fid_ee = qt.fidelity(unitary(0, 0, phi_3) * psi3, state3)\n",
    "\n",
    "#compare evolved final state with generated unitary as a function of computed angle\n",
    "#show that U applied to basis states are of the form described above\n",
    "print(fid_gg, fid_eg, fid_ge, fid_ee)\n",
    "\n",
    "conditionalphase = phi_3 - phi_2 - phi_1 - phi_0\n",
    "conditionalphase"
   ]
  },
  {
   "cell_type": "code",
   "execution_count": 41,
   "id": "4be4f904",
   "metadata": {},
   "outputs": [],
   "source": [
    "# Define the single-qubit correction gate\n",
    "def rz(theta):\n",
    "    return qt.qdiags([\n",
    "        1,                 # g\n",
    "        np.exp(1j*theta),  # e\n",
    "        1,                 # f\n",
    "    ],\n",
    "    offsets=0,\n",
    "    dims=[[3], [3]])"
   ]
  },
  {
   "cell_type": "markdown",
   "id": "2283e0c2",
   "metadata": {},
   "source": [
    "$(R_z(-\\phi_1) \\otimes R_z(-\\phi_2)) * \\begin{bmatrix}\n",
    "1 & 0 & 0 & 0 \\\\\n",
    "0 & e^{i\\phi_1} & 0 & 0 \\\\\n",
    "0 & 0 & e^{i\\phi_2} & 0 \\\\\n",
    "0 & 0 & 0 & e^{i(\\phi_1+\\phi_2+\\phi_c)}\n",
    "\\end{bmatrix}|gg, eg, ge, ee\\rangle = \\begin{bmatrix}\n",
    "1 & 0 & 0 & 0 \\\\\n",
    "0 & 1 & 0 & 0 \\\\\n",
    "0 & 0 & 1 & 0 \\\\\n",
    "0 & 0 & 0 & e^{i\\phi_c}\n",
    "\\end{bmatrix}|gg, eg, ge, ee\\rangle$\n",
    "\n"
   ]
  },
  {
   "cell_type": "code",
   "execution_count": 42,
   "id": "9a030a6e",
   "metadata": {},
   "outputs": [
    {
     "name": "stdout",
     "output_type": "stream",
     "text": [
      "0.9999998685848434 0.9991377060211311 0.999138053944885 0.9999816904565442\n"
     ]
    }
   ],
   "source": [
    "corrected_state_gg = qt.tensor(rz(-phi_1), rz(-phi_2))* state0\n",
    "corrected_state_eg = qt.tensor(rz(-phi_1), rz(-phi_2))* state1\n",
    "corrected_state_ge = qt.tensor(rz(-phi_1), rz(-phi_2))* state2\n",
    "corrected_state_ee = qt.tensor(rz(-phi_1), rz(-phi_2))* state3\n",
    "\n",
    "fid_gg = qt.fidelity(unitary(0, 0, conditionalphase) * psi0, state0)\n",
    "fid_eg = qt.fidelity(unitary(0, 0, conditionalphase) * psi1, state1)\n",
    "fid_ge = qt.fidelity(unitary(0, 0, conditionalphase) * psi2, state2)\n",
    "fid_ee = qt.fidelity(unitary(0, 0, conditionalphase) * psi3, state3)\n",
    "print(fid_gg, fid_eg, fid_ge, fid_ee)"
   ]
  },
  {
   "cell_type": "code",
   "execution_count": 43,
   "id": "19f250bf",
   "metadata": {},
   "outputs": [
    {
     "data": {
      "text/latex": [
       "Quantum object: dims = [[9], [9]], shape = (9, 9), type = oper, isherm = False $ \\\\ \\left(\\begin{matrix}(1.000+0.002j) & 0.0 & (3.458\\times10^{-06}-2.604\\times10^{-06}j) & 0.0 & (-2.358\\times10^{-04}+5.154\\times10^{-04}j) & 0.0 & (9.020\\times10^{-07}-1.084\\times10^{-06}j) & 0.0 & (1.070\\times10^{-08}-1.220\\times10^{-06}j)\\\\0.0 & (0.999-4.772\\times10^{-05}j) & 0.0 & (-0.032-0.026j) & 0.0 & (-9.217\\times10^{-05}-4.066\\times10^{-04}j) & 0.0 & (-5.874\\times10^{-05}+1.904\\times10^{-05}j) & 0.0\\\\(3.457\\times10^{-06}-2.603\\times10^{-06}j) & 0.0 & (0.419+0.908j) & 0.0 & (0.004-0.003j) & 0.0 & (-6.560\\times10^{-05}+3.823\\times10^{-05}j) & 0.0 & (-6.554\\times10^{-06}+1.595\\times10^{-06}j)\\\\0.0 & (0.032-0.026j) & 0.0 & (0.999-4.198\\times10^{-05}j) & 0.0 & (-4.863\\times10^{-06}-6.328\\times10^{-05}j) & 0.0 & (-2.874\\times10^{-04}-6.917\\times10^{-04}j) & 0.0\\\\(-2.520\\times10^{-04}-5.075\\times10^{-04}j) & 0.0 & (-5.698\\times10^{-04}+0.005j) & 0.0 & (-0.999+0.034j) & 0.0 & (4.499\\times10^{-05}+0.001j) & 0.0 & (0.002+0.001j)\\\\0.0 & (4.164\\times10^{-04}-3.191\\times10^{-06}j) & 0.0 & (-4.857\\times10^{-06}-6.320\\times10^{-05}j) & 0.0 & (0.206+0.974j) & 0.0 & (0.027-0.089j) & 0.0\\\\(9.018\\times10^{-07}-1.084\\times10^{-06}j) & 0.0 & (-6.560\\times10^{-05}+3.823\\times10^{-05}j) & 0.0 & (9.857\\times10^{-04}-8.565\\times10^{-04}j) & 0.0 & (0.655+0.755j) & 0.0 & (-1.877\\times10^{-06}-1.251\\times10^{-06}j)\\\\0.0 & (-5.866\\times10^{-05}+1.902\\times10^{-05}j) & 0.0 & (-6.136\\times10^{-04}+4.279\\times10^{-04}j) & 0.0 & (-0.093-0.007j) & 0.0 & (-0.833-0.546j) & 0.0\\\\(1.063\\times10^{-08}-1.215\\times10^{-06}j) & 0.0 & (-6.532\\times10^{-06}+1.590\\times10^{-06}j) & 0.0 & (-4.414\\times10^{-04}-0.002j) & 0.0 & (-1.871\\times10^{-06}-1.246\\times10^{-06}j) & 0.0 & (0.350-0.937j)\\\\\\end{matrix}\\right)$"
      ],
      "text/plain": [
       "Quantum object: dims = [[9], [9]], shape = (9, 9), type = oper, isherm = False\n",
       "Qobj data =\n",
       "[[ 9.99998684e-01+1.52013443e-03j  0.00000000e+00+0.00000000e+00j\n",
       "   3.45804876e-06-2.60360064e-06j  0.00000000e+00+0.00000000e+00j\n",
       "  -2.35796551e-04+5.15400948e-04j  0.00000000e+00+0.00000000e+00j\n",
       "   9.02014906e-07-1.08402047e-06j  0.00000000e+00+0.00000000e+00j\n",
       "   1.06964717e-08-1.21982967e-06j]\n",
       " [ 0.00000000e+00+0.00000000e+00j  9.99138027e-01-4.77158525e-05j\n",
       "   0.00000000e+00+0.00000000e+00j -3.23358480e-02-2.60273179e-02j\n",
       "   0.00000000e+00+0.00000000e+00j -9.21657366e-05-4.06583578e-04j\n",
       "   0.00000000e+00+0.00000000e+00j -5.87412100e-05+1.90446382e-05j\n",
       "   0.00000000e+00+0.00000000e+00j]\n",
       " [ 3.45748038e-06-2.60317270e-06j  0.00000000e+00+0.00000000e+00j\n",
       "   4.18635646e-01+9.08138724e-01j  0.00000000e+00+0.00000000e+00j\n",
       "   4.46481566e-03-2.88378934e-03j  0.00000000e+00+0.00000000e+00j\n",
       "  -6.56022655e-05+3.82270673e-05j  0.00000000e+00+0.00000000e+00j\n",
       "  -6.55388393e-06+1.59494886e-06j]\n",
       " [ 0.00000000e+00+0.00000000e+00j  3.23333983e-02-2.60302657e-02j\n",
       "   0.00000000e+00+0.00000000e+00j  9.99137831e-01-4.19845554e-05j\n",
       "   0.00000000e+00+0.00000000e+00j -4.86256477e-06-6.32807794e-05j\n",
       "   0.00000000e+00+0.00000000e+00j -2.87356575e-04-6.91743088e-04j\n",
       "   0.00000000e+00+0.00000000e+00j]\n",
       " [-2.51982722e-04-5.07548209e-04j  0.00000000e+00+0.00000000e+00j\n",
       "  -5.69826903e-04+5.28424970e-03j  0.00000000e+00+0.00000000e+00j\n",
       "  -9.99411255e-01+3.37749573e-02j  0.00000000e+00+0.00000000e+00j\n",
       "   4.49882823e-05+1.30507474e-03j  0.00000000e+00+0.00000000e+00j\n",
       "   2.17634668e-03+1.19347467e-03j]\n",
       " [ 0.00000000e+00+0.00000000e+00j  4.16378315e-04-3.19061276e-06j\n",
       "   0.00000000e+00+0.00000000e+00j -4.85664192e-06-6.32037002e-05j\n",
       "   0.00000000e+00+0.00000000e+00j  2.06436370e-01+9.74021148e-01j\n",
       "   0.00000000e+00+0.00000000e+00j  2.69034608e-02-8.91314665e-02j\n",
       "   0.00000000e+00+0.00000000e+00j]\n",
       " [ 9.01821602e-07-1.08378816e-06j  0.00000000e+00+0.00000000e+00j\n",
       "  -6.55989890e-05+3.82251580e-05j  0.00000000e+00+0.00000000e+00j\n",
       "   9.85730129e-04-8.56492937e-04j  0.00000000e+00+0.00000000e+00j\n",
       "   6.55434376e-01+7.55250996e-01j  0.00000000e+00+0.00000000e+00j\n",
       "  -1.87673512e-06-1.25069003e-06j]\n",
       " [ 0.00000000e+00+0.00000000e+00j -5.86642797e-05+1.90196964e-05j\n",
       "   0.00000000e+00+0.00000000e+00j -6.13597517e-04+4.27917423e-04j\n",
       "   0.00000000e+00+0.00000000e+00j -9.28125834e-02-7.24389332e-03j\n",
       "   0.00000000e+00+0.00000000e+00j -8.32863401e-01-5.45591217e-01j\n",
       "   0.00000000e+00+0.00000000e+00j]\n",
       " [ 1.06287271e-08-1.21536086e-06j  0.00000000e+00+0.00000000e+00j\n",
       "  -6.53213386e-06+1.58987731e-06j  0.00000000e+00+0.00000000e+00j\n",
       "  -4.41394224e-04-2.43396174e-03j  0.00000000e+00+0.00000000e+00j\n",
       "  -1.87085155e-06-1.24647426e-06j  0.00000000e+00+0.00000000e+00j\n",
       "   3.50434747e-01-9.36583860e-01j]]"
      ]
     },
     "execution_count": 43,
     "metadata": {},
     "output_type": "execute_result"
    }
   ],
   "source": [
    "#What we have\n",
    "qt.Qobj(qt.tensor(rz(-phi_1), rz(-phi_2)).full().reshape(9,9)) * propogator"
   ]
  },
  {
   "cell_type": "code",
   "execution_count": 44,
   "id": "b8054fa6",
   "metadata": {},
   "outputs": [
    {
     "data": {
      "text/latex": [
       "Quantum object: dims = [[3, 3], [3, 3]], shape = (9, 9), type = oper, isherm = False $ \\\\ \\left(\\begin{matrix}1.0 & 0.0 & 0.0 & 0.0 & 0.0 & 0.0 & 0.0 & 0.0 & 0.0\\\\0.0 & 1.0 & 0.0 & 0.0 & 0.0 & 0.0 & 0.0 & 0.0 & 0.0\\\\0.0 & 0.0 & 1.0 & 0.0 & 0.0 & 0.0 & 0.0 & 0.0 & 0.0\\\\0.0 & 0.0 & 0.0 & 1.0 & 0.0 & 0.0 & 0.0 & 0.0 & 0.0\\\\0.0 & 0.0 & 0.0 & 0.0 & (-0.999+0.034j) & 0.0 & 0.0 & 0.0 & 0.0\\\\0.0 & 0.0 & 0.0 & 0.0 & 0.0 & (-0.433+0.901j) & 0.0 & 0.0 & 0.0\\\\0.0 & 0.0 & 0.0 & 0.0 & 0.0 & 0.0 & 1.0 & 0.0 & 0.0\\\\0.0 & 0.0 & 0.0 & 0.0 & 0.0 & 0.0 & 0.0 & (0.973+0.231j) & 0.0\\\\0.0 & 0.0 & 0.0 & 0.0 & 0.0 & 0.0 & 0.0 & 0.0 & 1.0\\\\\\end{matrix}\\right)$"
      ],
      "text/plain": [
       "Quantum object: dims = [[3, 3], [3, 3]], shape = (9, 9), type = oper, isherm = False\n",
       "Qobj data =\n",
       "[[ 1.        +0.j          0.        +0.j          0.        +0.j\n",
       "   0.        +0.j          0.        +0.j          0.        +0.j\n",
       "   0.        +0.j          0.        +0.j          0.        +0.j        ]\n",
       " [ 0.        +0.j          1.        +0.j          0.        +0.j\n",
       "   0.        +0.j          0.        +0.j          0.        +0.j\n",
       "   0.        +0.j          0.        +0.j          0.        +0.j        ]\n",
       " [ 0.        +0.j          0.        +0.j          1.        +0.j\n",
       "   0.        +0.j          0.        +0.j          0.        +0.j\n",
       "   0.        +0.j          0.        +0.j          0.        +0.j        ]\n",
       " [ 0.        +0.j          0.        +0.j          0.        +0.j\n",
       "   1.        +0.j          0.        +0.j          0.        +0.j\n",
       "   0.        +0.j          0.        +0.j          0.        +0.j        ]\n",
       " [ 0.        +0.j          0.        +0.j          0.        +0.j\n",
       "   0.        +0.j         -0.99940712+0.0344299j   0.        +0.j\n",
       "   0.        +0.j          0.        +0.j          0.        +0.j        ]\n",
       " [ 0.        +0.j          0.        +0.j          0.        +0.j\n",
       "   0.        +0.j          0.        +0.j         -0.4332338 +0.90128157j\n",
       "   0.        +0.j          0.        +0.j          0.        +0.j        ]\n",
       " [ 0.        +0.j          0.        +0.j          0.        +0.j\n",
       "   0.        +0.j          0.        +0.j          0.        +0.j\n",
       "   1.        +0.j          0.        +0.j          0.        +0.j        ]\n",
       " [ 0.        +0.j          0.        +0.j          0.        +0.j\n",
       "   0.        +0.j          0.        +0.j          0.        +0.j\n",
       "   0.        +0.j          0.97301866+0.23072644j  0.        +0.j        ]\n",
       " [ 0.        +0.j          0.        +0.j          0.        +0.j\n",
       "   0.        +0.j          0.        +0.j          0.        +0.j\n",
       "   0.        +0.j          0.        +0.j          1.        +0.j        ]]"
      ]
     },
     "execution_count": 44,
     "metadata": {},
     "output_type": "execute_result"
    }
   ],
   "source": [
    "qt.tensor(rz(-phi_1), rz(-phi_2)) * unitary(phi_1, phi_2, phi_3)"
   ]
  },
  {
   "cell_type": "markdown",
   "id": "e98b3a90",
   "metadata": {},
   "source": [
    "Ideal:\n",
    "\\begin{bmatrix}\n",
    "    1 & 0 & 0 & 0 \\\\\n",
    "    0 & 1 & 0 & 0 \\\\\n",
    "    0 & 0 & 1 & 0 \\\\\n",
    "    0 & 0 & 0 & -1\n",
    "\\end{bmatrix}"
   ]
  },
  {
   "cell_type": "code",
   "execution_count": 45,
   "id": "96ba1a4e",
   "metadata": {},
   "outputs": [],
   "source": [
    "#lindblad operator 1,2; detunings; tao misalignments"
   ]
  },
  {
   "cell_type": "code",
   "execution_count": 46,
   "id": "d755321c",
   "metadata": {},
   "outputs": [],
   "source": [
    "#failure rate that is architecture independent? - nahhh"
   ]
  },
  {
   "cell_type": "markdown",
   "id": "23651f8e",
   "metadata": {},
   "source": [
    "$L_1 = a,   \\gamma_1 = 0.1,  \\gamma_{\\alpha\\ge2} = 0$"
   ]
  },
  {
   "cell_type": "markdown",
   "id": "54f4adc6",
   "metadata": {},
   "source": [
    "## Interesting question-- how can the sources of our two qubit gate fidelities be somehow related to R_e error pyramid? - how should we be adequately utilizing the leakage probabilities in our 9x9 propagator?"
   ]
  },
  {
   "cell_type": "code",
   "execution_count": null,
   "id": "193fd703",
   "metadata": {},
   "outputs": [],
   "source": []
  },
  {
   "cell_type": "code",
   "execution_count": null,
   "id": "b72ec2ad",
   "metadata": {},
   "outputs": [],
   "source": []
  },
  {
   "cell_type": "markdown",
   "id": "bba636f7",
   "metadata": {},
   "source": [
    "## CZ and CNOT Locally Equivalent"
   ]
  },
  {
   "cell_type": "code",
   "execution_count": 52,
   "id": "e2e8acbf",
   "metadata": {},
   "outputs": [
    {
     "data": {
      "text/latex": [
       "Quantum object: dims = [[2, 2], [2, 2]], shape = (4, 4), type = oper, isherm = True $ \\\\ \\left(\\begin{matrix}1.0 & 0.0 & 0.0 & 0.0\\\\0.0 & 1.0 & 0.0 & 0.0\\\\0.0 & 0.0 & 1.0 & 0.0\\\\0.0 & 0.0 & 0.0 & -1.0\\\\\\end{matrix}\\right)$"
      ],
      "text/plain": [
       "Quantum object: dims = [[2, 2], [2, 2]], shape = (4, 4), type = oper, isherm = True\n",
       "Qobj data =\n",
       "[[ 1.  0.  0.  0.]\n",
       " [ 0.  1.  0.  0.]\n",
       " [ 0.  0.  1.  0.]\n",
       " [ 0.  0.  0. -1.]]"
      ]
     },
     "execution_count": 52,
     "metadata": {},
     "output_type": "execute_result"
    }
   ],
   "source": [
    "cz = csign()\n",
    "cz"
   ]
  },
  {
   "cell_type": "code",
   "execution_count": 53,
   "id": "df300e86",
   "metadata": {},
   "outputs": [
    {
     "data": {
      "text/latex": [
       "Quantum object: dims = [[2, 2], [2, 2]], shape = (4, 4), type = oper, isherm = True $ \\\\ \\left(\\begin{matrix}1.000 & 0.0 & 0.0 & 0.0\\\\0.0 & 1.000 & 0.0 & 0.0\\\\0.0 & 0.0 & 0.0 & 1.000\\\\0.0 & 0.0 & 1.000 & 0.0\\\\\\end{matrix}\\right)$"
      ],
      "text/plain": [
       "Quantum object: dims = [[2, 2], [2, 2]], shape = (4, 4), type = oper, isherm = True\n",
       "Qobj data =\n",
       "[[1. 0. 0. 0.]\n",
       " [0. 1. 0. 0.]\n",
       " [0. 0. 0. 1.]\n",
       " [0. 0. 1. 0.]]"
      ]
     },
     "execution_count": 53,
     "metadata": {},
     "output_type": "execute_result"
    }
   ],
   "source": [
    "qt.tensor(qt.qeye(2), snot()) * cz * qt.tensor(qt.qeye(2), snot())"
   ]
  },
  {
   "cell_type": "code",
   "execution_count": 55,
   "id": "cdc1d483",
   "metadata": {},
   "outputs": [],
   "source": [
    "#states\n",
    "g_state = qt.basis(num_basis, 0)\n",
    "e_state = qt.basis(num_basis, 1)\n",
    "\n",
    "gg = qt.tensor(g_state, g_state)\n",
    "ge = qt.tensor(g_state, e_state)\n",
    "eg = qt.tensor(e_state, g_state)\n",
    "ee = qt.tensor(e_state, e_state)\n",
    "\n",
    "p_state = (g_state+e_state)/np.sqrt(2)\n",
    "m_state = (g_state-e_state)/np.sqrt(2)\n",
    "\n",
    "#operators\n",
    "CNOT = cnot()\n",
    "SNOT = snot()\n",
    "x = qt.sigmax()\n",
    "y = qt.sigmay()\n",
    "z = qt.sigmaz()"
   ]
  },
  {
   "cell_type": "markdown",
   "id": "b48f7533",
   "metadata": {},
   "source": [
    "## Parity Checks\n",
    "four data qubits, fifth qubit ancilla ALWAYS initialized in g"
   ]
  },
  {
   "cell_type": "code",
   "execution_count": 56,
   "id": "e3ddef6e",
   "metadata": {},
   "outputs": [
    {
     "name": "stdout",
     "output_type": "stream",
     "text": [
      "even parity\n"
     ]
    },
    {
     "data": {
      "text/latex": [
       "Quantum object: dims = [[2], [2]], shape = (2, 2), type = oper, isherm = True $ \\\\ \\left(\\begin{matrix}1.0 & 0.0\\\\0.0 & 0.0\\\\\\end{matrix}\\right)$"
      ],
      "text/plain": [
       "Quantum object: dims = [[2], [2]], shape = (2, 2), type = oper, isherm = True\n",
       "Qobj data =\n",
       "[[1. 0.]\n",
       " [0. 0.]]"
      ]
     },
     "execution_count": 56,
     "metadata": {},
     "output_type": "execute_result"
    }
   ],
   "source": [
    "#Z Parity\n",
    "jointstate = qt.tensor(e_state, e_state, e_state, e_state, g_state)\n",
    "ca = cnot(N=5, control=0, target=4)\n",
    "cb = cnot(N=5, control=1, target=4)\n",
    "cc = cnot(N=5, control=2, target=4)\n",
    "cd = cnot(N=5, control=3, target=4)\n",
    "finalstate = ca*cb*cc*cd*jointstate\n",
    "\n",
    "#project into original state\n",
    "proj1 = jointstate.proj() \n",
    "#project into original state with flipped qubit 5\n",
    "proj2 = (qt.tensor(qt.qeye(2), qt.qeye(2), qt.qeye(2), qt.qeye(2), qt.create(2))*jointstate).proj() \n",
    "\n",
    "if (qt.expect(proj1, finalstate) == 1):\n",
    "    print(\"even parity\")\n",
    "if (qt.expect(proj2, finalstate) == 1):\n",
    "    print(\"odd parity\")\n",
    "    \n",
    "    \n",
    "#Next Step: noisy CNOT gates- input a fidelity, output a noisy cnot gate of that fidelity (how should do this)\n",
    "    #1- random correction to the gate defined by some mean and standard deviation\n",
    "    #2- obtain real data on noisy cnot gates, quantify the mean and standard deviation of that set\n",
    "    \n",
    "finalstate.ptrace(4)"
   ]
  },
  {
   "cell_type": "code",
   "execution_count": 57,
   "id": "887824e1",
   "metadata": {},
   "outputs": [
    {
     "name": "stdout",
     "output_type": "stream",
     "text": [
      "even parity\n"
     ]
    },
    {
     "data": {
      "text/latex": [
       "Quantum object: dims = [[2], [2]], shape = (2, 2), type = oper, isherm = True $ \\\\ \\left(\\begin{matrix}1.000 & 0.0\\\\0.0 & 0.0\\\\\\end{matrix}\\right)$"
      ],
      "text/plain": [
       "Quantum object: dims = [[2], [2]], shape = (2, 2), type = oper, isherm = True\n",
       "Qobj data =\n",
       "[[1. 0.]\n",
       " [0. 0.]]"
      ]
     },
     "execution_count": 57,
     "metadata": {},
     "output_type": "execute_result"
    }
   ],
   "source": [
    "#X Parity\n",
    "had = qt.tensor(qt.qeye(2), qt.qeye(2), qt.qeye(2), qt.qeye(2), SNOT)\n",
    "\n",
    "jointstate = qt.tensor(p_state, p_state, p_state, p_state, g_state)\n",
    "ca = cnot(N=5, control=4, target=0)\n",
    "cb = cnot(N=5, control=4, target=1)\n",
    "cc = cnot(N=5, control=4, target=2)\n",
    "cd = cnot(N=5, control=4, target=3)\n",
    "\n",
    "\n",
    "finalstate = had*ca*cb*cc*cd*had*jointstate\n",
    "\n",
    "#project into original state\n",
    "proj1 = jointstate.proj() \n",
    "#project into original state with flipped qubit 5\n",
    "proj2 = (qt.tensor(qt.qeye(2), qt.qeye(2), qt.qeye(2), qt.qeye(2), qt.create(2))*jointstate).proj() \n",
    "\n",
    "if math.isclose(qt.expect(proj1, finalstate), 1):\n",
    "    print(\"even parity\")\n",
    "if math.isclose(qt.expect(proj2, finalstate), 1):\n",
    "    print(\"odd parity\")\n",
    "    \n",
    "finalstate.ptrace(4)"
   ]
  },
  {
   "cell_type": "code",
   "execution_count": null,
   "id": "8bb182d6",
   "metadata": {},
   "outputs": [],
   "source": []
  },
  {
   "cell_type": "code",
   "execution_count": null,
   "id": "c9012d33",
   "metadata": {},
   "outputs": [],
   "source": []
  },
  {
   "cell_type": "code",
   "execution_count": null,
   "id": "daabfe6f",
   "metadata": {},
   "outputs": [],
   "source": []
  },
  {
   "cell_type": "code",
   "execution_count": null,
   "id": "c148f21c",
   "metadata": {},
   "outputs": [],
   "source": []
  },
  {
   "cell_type": "code",
   "execution_count": null,
   "id": "eaa540f4",
   "metadata": {},
   "outputs": [],
   "source": []
  },
  {
   "cell_type": "code",
   "execution_count": 189,
   "id": "21b9c82b",
   "metadata": {},
   "outputs": [
    {
     "data": {
      "text/latex": [
       "Quantum object: dims = [[3, 3], [1, 1]], shape = (9, 1), type = ket $ \\\\ \\left(\\begin{matrix}0.0\\\\(0.098+0.995j)\\\\0.0\\\\(0.008-0.002j)\\\\0.0\\\\(-0.001-7.507\\times10^{-04}j)\\\\0.0\\\\(-5.770\\times10^{-07}+1.660\\times10^{-05}j)\\\\0.0\\\\\\end{matrix}\\right)$"
      ],
      "text/plain": [
       "Quantum object: dims = [[3, 3], [1, 1]], shape = (9, 1), type = ket\n",
       "Qobj data =\n",
       "[[ 0.00000000e+00+0.00000000e+00j]\n",
       " [ 9.79517349e-02+9.95159629e-01j]\n",
       " [ 0.00000000e+00+0.00000000e+00j]\n",
       " [ 7.53200262e-03-2.08455585e-03j]\n",
       " [ 0.00000000e+00+0.00000000e+00j]\n",
       " [-1.06281267e-03-7.50699683e-04j]\n",
       " [ 0.00000000e+00+0.00000000e+00j]\n",
       " [-5.76974165e-07+1.65959908e-05j]\n",
       " [ 0.00000000e+00+0.00000000e+00j]]"
      ]
     },
     "execution_count": 189,
     "metadata": {},
     "output_type": "execute_result"
    }
   ],
   "source": [
    "corrected_state_ge"
   ]
  },
  {
   "cell_type": "code",
   "execution_count": null,
   "id": "6d7a2224",
   "metadata": {},
   "outputs": [],
   "source": []
  },
  {
   "cell_type": "code",
   "execution_count": 162,
   "id": "37d6336f",
   "metadata": {},
   "outputs": [
    {
     "data": {
      "text/latex": [
       "Quantum object: dims = [[3, 3], [1, 1]], shape = (9, 1), type = ket $ \\\\ \\left(\\begin{matrix}(1.000+5.818\\times10^{-06}j)\\\\0.0\\\\(8.252\\times10^{-06}-1.608\\times10^{-06}j)\\\\0.0\\\\(-3.946\\times10^{-04}+6.178\\times10^{-04}j)\\\\0.0\\\\(7.130\\times10^{-06}-4.000\\times10^{-06}j)\\\\0.0\\\\(-4.188\\times10^{-07}-7.495\\times10^{-07}j)\\\\\\end{matrix}\\right)$"
      ],
      "text/plain": [
       "Quantum object: dims = [[3, 3], [1, 1]], shape = (9, 1), type = ket\n",
       "Qobj data =\n",
       "[[ 9.99999731e-01+5.81756964e-06j]\n",
       " [ 0.00000000e+00+0.00000000e+00j]\n",
       " [ 8.25167185e-06-1.60823259e-06j]\n",
       " [ 0.00000000e+00+0.00000000e+00j]\n",
       " [-3.94602284e-04+6.17827469e-04j]\n",
       " [ 0.00000000e+00+0.00000000e+00j]\n",
       " [ 7.12992158e-06-4.00007983e-06j]\n",
       " [ 0.00000000e+00+0.00000000e+00j]\n",
       " [-4.18786187e-07-7.49521398e-07j]]"
      ]
     },
     "execution_count": 162,
     "metadata": {},
     "output_type": "execute_result"
    }
   ],
   "source": [
    "state0"
   ]
  },
  {
   "cell_type": "code",
   "execution_count": null,
   "id": "45d8f353",
   "metadata": {},
   "outputs": [],
   "source": []
  },
  {
   "cell_type": "code",
   "execution_count": 127,
   "id": "b69c892c",
   "metadata": {},
   "outputs": [],
   "source": [
    "t_start = 0\n",
    "t_end = 3 * π / (2 * J_coupling)\n",
    "t_vec = np.linspace(t_start, t_end, 601)\n",
    "\n",
    "psi0 = qt.tensor(e_state, e_state)\n",
    "\n",
    "delta_vec = 2*π * np.linspace(-50, 50, 51)\n",
    "ee_pops = np.zeros(delta_vec.shape + t_vec.shape)\n",
    "\n",
    "for idx, detuning in enumerate(delta_vec):\n",
    "    h = hamiltonian(omega_1=omega1, omega_2=omega2-detuning, alpha_1=alpha1, \n",
    "                    alpha_2=alpha2, J_coupling=J_coupling)\n",
    "    time_evolution = qt.mesolve(h, psi0, t_vec, [], [])\n",
    "    \n",
    "    argmin = np.argmin(np.abs(ee_pops-1)[1:]) + 1\n",
    "    \n",
    "    \n",
    "    newt_end = t_vec[argmin]\n",
    "    newt_vec = np.linspace(t_start, newt_end, 601)\n",
    "    \n",
    "    ee_pops[idx,:] = qt.expect(ee_proj, time_evolution.states)"
   ]
  },
  {
   "cell_type": "code",
   "execution_count": 128,
   "id": "4c379cb9",
   "metadata": {},
   "outputs": [
    {
     "data": {
      "text/plain": [
       "<matplotlib.colorbar.Colorbar at 0x12563e550>"
      ]
     },
     "execution_count": 128,
     "metadata": {},
     "output_type": "execute_result"
    },
    {
     "data": {
      "image/png": "[encoded data removed]",
      "text/plain": [
       "<Figure size 640x480 with 2 Axes>"
      ]
     },
     "metadata": {},
     "output_type": "display_data"
    }
   ],
   "source": [
    "fig, ax = plt.subplots(tight_layout=True)\n",
    "mesh = ax.pcolormesh(\n",
    "    t_vec * µs_to_ns,\n",
    "    delta_vec / (2*π),\n",
    "    ee_pops,\n",
    "    cmap=\"inferno\",\n",
    ")\n",
    "fig.colorbar(\n",
    "    mesh,\n",
    "    label=r\"$\\vert ee \\rangle$ Population, $P_{ee}$\"\n",
    ")"
   ]
  },
  {
   "cell_type": "code",
   "execution_count": null,
   "id": "cc682bc8",
   "metadata": {},
   "outputs": [],
   "source": []
  },
  {
   "cell_type": "code",
   "execution_count": null,
   "id": "6de4a388",
   "metadata": {},
   "outputs": [],
   "source": []
  },
  {
   "cell_type": "code",
   "execution_count": null,
   "id": "27f2706e",
   "metadata": {},
   "outputs": [],
   "source": []
  },
  {
   "cell_type": "code",
   "execution_count": 68,
   "id": "dc973268",
   "metadata": {},
   "outputs": [
    {
     "data": {
      "text/plain": [
       "0.0015200907937738838"
      ]
     },
     "execution_count": 68,
     "metadata": {},
     "output_type": "execute_result"
    }
   ],
   "source": [
    "psi0 = qt.tensor(g_state, g_state)\n",
    "te1 = qt.mesolve(h, psi0, newt_vec, [], [])\n",
    "state = te1.states[-1]\n",
    "phi = np.angle((psi0.dag() * state).full()[0][0]) #get ee amp and find the complex phase\n",
    "phi"
   ]
  },
  {
   "cell_type": "code",
   "execution_count": 69,
   "id": "45985d7e",
   "metadata": {},
   "outputs": [
    {
     "data": {
      "text/plain": [
       "-0.23282420185474872"
      ]
     },
     "execution_count": 69,
     "metadata": {},
     "output_type": "execute_result"
    }
   ],
   "source": [
    "psi0 = qt.tensor(g_state, e_state)\n",
    "te1 = qt.mesolve(h, psi0, newt_vec, [], [])\n",
    "state = te1.states[-1]\n",
    "phi = np.angle((psi0.dag() * state).full()[0][0]) #get ee amp and find the complex phase\n",
    "phi"
   ]
  },
  {
   "cell_type": "code",
   "execution_count": 70,
   "id": "fb755a85",
   "metadata": {},
   "outputs": [
    {
     "data": {
      "text/plain": [
       "-2.018874026558969"
      ]
     },
     "execution_count": 70,
     "metadata": {},
     "output_type": "execute_result"
    }
   ],
   "source": [
    "psi0 = qt.tensor(e_state, g_state)\n",
    "te1 = qt.mesolve(h, psi0, newt_vec, [], [])\n",
    "state = te1.states[-1]\n",
    "phi = np.angle((psi0.dag() * state).full()[0][0]) #get ee amp and find the complex phase\n",
    "phi"
   ]
  },
  {
   "cell_type": "code",
   "execution_count": 71,
   "id": "11f901e0",
   "metadata": {},
   "outputs": [
    {
     "data": {
      "text/plain": [
       "0.8554577231761269"
      ]
     },
     "execution_count": 71,
     "metadata": {},
     "output_type": "execute_result"
    }
   ],
   "source": [
    "psi0 = qt.tensor(e_state, e_state)\n",
    "te1 = qt.mesolve(h, psi0, newt_vec, [], [])\n",
    "state = te1.states[-1]\n",
    "phi = np.angle((psi0.dag() * state).full()[0][0]) #get ee amp and find the complex phase\n",
    "phi"
   ]
  },
  {
   "cell_type": "code",
   "execution_count": null,
   "id": "b12211f5",
   "metadata": {},
   "outputs": [],
   "source": []
  },
  {
   "cell_type": "code",
   "execution_count": 66,
   "id": "1e3054d2",
   "metadata": {},
   "outputs": [
    {
     "data": {
      "text/plain": [
       "3.141592653589793"
      ]
     },
     "execution_count": 66,
     "metadata": {},
     "output_type": "execute_result"
    }
   ],
   "source": [
    "np.angle(np.exp((1j)*π))"
   ]
  },
  {
   "cell_type": "code",
   "execution_count": null,
   "id": "602035be",
   "metadata": {},
   "outputs": [],
   "source": []
  },
  {
   "cell_type": "code",
   "execution_count": null,
   "id": "ae3f13a9",
   "metadata": {},
   "outputs": [],
   "source": []
  },
  {
   "cell_type": "code",
   "execution_count": null,
   "id": "cf7ef59d",
   "metadata": {},
   "outputs": [],
   "source": []
  },
  {
   "cell_type": "code",
   "execution_count": null,
   "id": "a77cf7e3",
   "metadata": {},
   "outputs": [],
   "source": []
  },
  {
   "cell_type": "code",
   "execution_count": 67,
   "id": "2b56922d",
   "metadata": {},
   "outputs": [
    {
     "data": {
      "text/latex": [
       "Quantum object: dims = [[3, 3], [1, 1]], shape = (9, 1), type = ket $ \\\\ \\left(\\begin{matrix}(-2.360\\times10^{-04}+5.151\\times10^{-04}j)\\\\0.0\\\\(0.004-0.003j)\\\\0.0\\\\(0.656+0.755j)\\\\0.0\\\\(9.875\\times10^{-04}-8.621\\times10^{-04}j)\\\\0.0\\\\(-5.313\\times10^{-04}-0.002j)\\\\\\end{matrix}\\right)$"
      ],
      "text/plain": [
       "Quantum object: dims = [[3, 3], [1, 1]], shape = (9, 1), type = ket\n",
       "Qobj data =\n",
       "[[-2.35964334e-04+5.15106643e-04j]\n",
       " [ 0.00000000e+00+0.00000000e+00j]\n",
       " [ 4.46590719e-03-2.89036351e-03j]\n",
       " [ 0.00000000e+00+0.00000000e+00j]\n",
       " [ 6.55861048e-01+7.54857382e-01j]\n",
       " [ 0.00000000e+00+0.00000000e+00j]\n",
       " [ 9.87472255e-04-8.62074110e-04j]\n",
       " [ 0.00000000e+00+0.00000000e+00j]\n",
       " [-5.31347790e-04-2.44920512e-03j]]"
      ]
     },
     "execution_count": 67,
     "metadata": {},
     "output_type": "execute_result"
    }
   ],
   "source": [
    "te1.states[-1]"
   ]
  },
  {
   "cell_type": "code",
   "execution_count": null,
   "id": "a335ae56",
   "metadata": {},
   "outputs": [],
   "source": []
  },
  {
   "cell_type": "code",
   "execution_count": null,
   "id": "8dc42c39",
   "metadata": {},
   "outputs": [],
   "source": []
  },
  {
   "cell_type": "code",
   "execution_count": null,
   "id": "dc18254e",
   "metadata": {},
   "outputs": [],
   "source": []
  },
  {
   "cell_type": "code",
   "execution_count": null,
   "id": "b39aaec1",
   "metadata": {},
   "outputs": [],
   "source": []
  },
  {
   "cell_type": "code",
   "execution_count": 35,
   "id": "b92a5534",
   "metadata": {},
   "outputs": [
    {
     "data": {
      "text/latex": [
       "Quantum object: dims = [[9], [9]], shape = (9, 9), type = oper, isherm = False $ \\\\ \\left(\\begin{matrix}(1.000+0.002j) & 0.0 & (3.458\\times10^{-06}-2.604\\times10^{-06}j) & 0.0 & (-2.358\\times10^{-04}+5.154\\times10^{-04}j) & 0.0 & (9.020\\times10^{-07}-1.084\\times10^{-06}j) & 0.0 & (1.070\\times10^{-08}-1.220\\times10^{-06}j)\\\\0.0 & (0.972-0.231j) & 0.0 & (-0.037-0.018j) & 0.0 & (-1.835\\times10^{-04}-3.743\\times10^{-04}j) & 0.0 & (-5.276\\times10^{-05}+3.208\\times10^{-05}j) & 0.0\\\\(3.457\\times10^{-06}-2.603\\times10^{-06}j) & 0.0 & (0.419+0.908j) & 0.0 & (0.004-0.003j) & 0.0 & (-6.560\\times10^{-05}+3.823\\times10^{-05}j) & 0.0 & (-6.554\\times10^{-06}+1.595\\times10^{-06}j)\\\\0.0 & (-0.037-0.018j) & 0.0 & (-0.433-0.900j) & 0.0 & (-5.493\\times10^{-05}+3.180\\times10^{-05}j) & 0.0 & (-4.990\\times10^{-04}+5.587\\times10^{-04}j) & 0.0\\\\(-2.357\\times10^{-04}+5.153\\times10^{-04}j) & 0.0 & (0.004-0.003j) & 0.0 & (0.655+0.755j) & 0.0 & (9.857\\times10^{-04}-8.565\\times10^{-04}j) & 0.0 & (-4.427\\times10^{-04}-0.002j)\\\\0.0 & (-1.833\\times10^{-04}-3.739\\times10^{-04}j) & 0.0 & (-5.486\\times10^{-05}+3.176\\times10^{-05}j) & 0.0 & (0.788-0.608j) & 0.0 & (-0.092+0.014j) & 0.0\\\\(9.018\\times10^{-07}-1.084\\times10^{-06}j) & 0.0 & (-6.560\\times10^{-05}+3.823\\times10^{-05}j) & 0.0 & (9.857\\times10^{-04}-8.565\\times10^{-04}j) & 0.0 & (0.655+0.755j) & 0.0 & (-1.877\\times10^{-06}-1.251\\times10^{-06}j)\\\\0.0 & (-5.269\\times10^{-05}+3.204\\times10^{-05}j) & 0.0 & (-4.983\\times10^{-04}+5.579\\times10^{-04}j) & 0.0 & (-0.092+0.014j) & 0.0 & (-0.936-0.339j) & 0.0\\\\(1.063\\times10^{-08}-1.215\\times10^{-06}j) & 0.0 & (-6.532\\times10^{-06}+1.590\\times10^{-06}j) & 0.0 & (-4.414\\times10^{-04}-0.002j) & 0.0 & (-1.871\\times10^{-06}-1.246\\times10^{-06}j) & 0.0 & (0.350-0.937j)\\\\\\end{matrix}\\right)$"
      ],
      "text/plain": [
       "Quantum object: dims = [[9], [9]], shape = (9, 9), type = oper, isherm = False\n",
       "Qobj data =\n",
       "[[ 9.99998684e-01+1.52013443e-03j  0.00000000e+00+0.00000000e+00j\n",
       "   3.45804876e-06-2.60360064e-06j  0.00000000e+00+0.00000000e+00j\n",
       "  -2.35796551e-04+5.15400948e-04j  0.00000000e+00+0.00000000e+00j\n",
       "   9.02014906e-07-1.08402047e-06j  0.00000000e+00+0.00000000e+00j\n",
       "   1.06964717e-08-1.21982967e-06j]\n",
       " [ 0.00000000e+00+0.00000000e+00j  9.72168933e-01-2.30573990e-01j\n",
       "   0.00000000e+00+0.00000000e+00j -3.74685739e-02-1.78643308e-02j\n",
       "   0.00000000e+00+0.00000000e+00j -1.83488563e-04-3.74348335e-04j\n",
       "   0.00000000e+00+0.00000000e+00j -5.27621918e-05+3.20839387e-05j\n",
       "   0.00000000e+00+0.00000000e+00j]\n",
       " [ 3.45748038e-06-2.60317270e-06j  0.00000000e+00+0.00000000e+00j\n",
       "   4.18635646e-01+9.08138724e-01j  0.00000000e+00+0.00000000e+00j\n",
       "   4.46481566e-03-2.88378934e-03j  0.00000000e+00+0.00000000e+00j\n",
       "  -6.56022655e-05+3.82270673e-05j  0.00000000e+00+0.00000000e+00j\n",
       "  -6.55388393e-06+1.59494886e-06j]\n",
       " [ 0.00000000e+00+0.00000000e+00j -3.74685199e-02-1.78643051e-02j\n",
       "   0.00000000e+00+0.00000000e+00j -4.32898121e-01-9.00486327e-01j\n",
       "   0.00000000e+00+0.00000000e+00j -5.49271730e-05+3.17979127e-05j\n",
       "   0.00000000e+00+0.00000000e+00j -4.98962717e-04+5.58675674e-04j\n",
       "   0.00000000e+00+0.00000000e+00j]\n",
       " [-2.35746017e-04+5.15290492e-04j  0.00000000e+00+0.00000000e+00j\n",
       "   4.46459264e-03-2.88364529e-03j  0.00000000e+00+0.00000000e+00j\n",
       "   6.55366771e-01+7.55286700e-01j  0.00000000e+00+0.00000000e+00j\n",
       "   9.85730122e-04-8.56492931e-04j  0.00000000e+00+0.00000000e+00j\n",
       "  -4.42661177e-04-2.44231811e-03j]\n",
       " [ 0.00000000e+00+0.00000000e+00j -1.83264801e-04-3.73891822e-04j\n",
       "   0.00000000e+00+0.00000000e+00j -5.48602689e-05+3.17591812e-05j\n",
       "   0.00000000e+00+0.00000000e+00j  7.88432099e-01-6.08036182e-01j\n",
       "   0.00000000e+00+0.00000000e+00j -9.19880369e-02+1.43671706e-02j\n",
       "   0.00000000e+00+0.00000000e+00j]\n",
       " [ 9.01821602e-07-1.08378816e-06j  0.00000000e+00+0.00000000e+00j\n",
       "  -6.55989890e-05+3.82251580e-05j  0.00000000e+00+0.00000000e+00j\n",
       "   9.85730129e-04-8.56492937e-04j  0.00000000e+00+0.00000000e+00j\n",
       "   6.55434376e-01+7.55250996e-01j  0.00000000e+00+0.00000000e+00j\n",
       "  -1.87673512e-06-1.25069003e-06j]\n",
       " [ 0.00000000e+00+0.00000000e+00j -5.26930918e-05+3.20419199e-05j\n",
       "   0.00000000e+00+0.00000000e+00j -4.98309968e-04+5.57944808e-04j\n",
       "   0.00000000e+00+0.00000000e+00j -9.19797331e-02+1.43658737e-02j\n",
       "   0.00000000e+00+0.00000000e+00j -9.36273949e-01-3.38706825e-01j\n",
       "   0.00000000e+00+0.00000000e+00j]\n",
       " [ 1.06287271e-08-1.21536086e-06j  0.00000000e+00+0.00000000e+00j\n",
       "  -6.53213386e-06+1.58987731e-06j  0.00000000e+00+0.00000000e+00j\n",
       "  -4.41394224e-04-2.43396174e-03j  0.00000000e+00+0.00000000e+00j\n",
       "  -1.87085155e-06-1.24647426e-06j  0.00000000e+00+0.00000000e+00j\n",
       "   3.50434747e-01-9.36583860e-01j]]"
      ]
     },
     "execution_count": 35,
     "metadata": {},
     "output_type": "execute_result"
    }
   ],
   "source": [
    "def compute_propogator(h, t_vec): #output propogator matrix\n",
    "    propogator = qt.propagator(h, t_vec)\n",
    "    prop = qt.Qobj(np.array(propogator[-1]))\n",
    "    return prop\n",
    "\n",
    "propogator = compute_propogator(h, newt_vec)\n",
    "propogator"
   ]
  },
  {
   "cell_type": "code",
   "execution_count": 22,
   "id": "79fcbfec",
   "metadata": {},
   "outputs": [],
   "source": [
    "def unitary(phi_1, phi_2, phi_3):\n",
    "    return (\n",
    "        qt.tensor(g_state, g_state).proj() * 1 +\n",
    "        qt.tensor(g_state, e_state).proj() * np.exp(1j*phi_2) +\n",
    "        qt.tensor(g_state, f_state).proj() * 1 +\n",
    "        qt.tensor(e_state, g_state).proj() * np.exp(1j*phi_1) +\n",
    "        qt.tensor(e_state, e_state).proj() * np.exp(1j*phi_3) +\n",
    "        qt.tensor(e_state, f_state).proj() * 1 +\n",
    "        qt.tensor(f_state, g_state).proj() * 1 +\n",
    "        qt.tensor(f_state, e_state).proj() * 1 +\n",
    "        qt.tensor(f_state, f_state).proj() * 1\n",
    "    )"
   ]
  },
  {
   "cell_type": "code",
   "execution_count": 24,
   "id": "2304c977",
   "metadata": {},
   "outputs": [],
   "source": [
    "unit = qt.Qobj(np.array(unitary(0, 0, π)).reshape(9,9))"
   ]
  },
  {
   "cell_type": "code",
   "execution_count": 25,
   "id": "eb910bbd",
   "metadata": {},
   "outputs": [
    {
     "data": {
      "text/plain": [
       "(0.10078914721666707-0.0693667113684025j)"
      ]
     },
     "execution_count": 25,
     "metadata": {},
     "output_type": "execute_result"
    }
   ],
   "source": [
    "qt.process_fidelity(unit, propogator)"
   ]
  },
  {
   "cell_type": "code",
   "execution_count": 26,
   "id": "55197031",
   "metadata": {},
   "outputs": [
    {
     "data": {
      "text/plain": [
       "Text(0.5, 1.0, 'Energy Levels')"
      ]
     },
     "execution_count": 26,
     "metadata": {},
     "output_type": "execute_result"
    },
    {
     "data": {
      "image/png": "[encoded data removed]",
      "text/plain": [
       "<Figure size 640x480 with 1 Axes>"
      ]
     },
     "metadata": {},
     "output_type": "display_data"
    }
   ],
   "source": [
    "fig = plt.figure()\n",
    "plt.scatter(0,0)\n",
    "plt.scatter(1, omega1/(1000*2*π), label='$\\omega_{1ge}$')\n",
    "plt.scatter(2, omega2/(1000*2*π), label='$\\omega_{2ge}$')\n",
    "plt.scatter(3, (omega1+alpha1)/(1000*2*π), label='$\\omega_{1ef}$')\n",
    "plt.legend()\n",
    "plt.ylabel('Energy [GHz]')\n",
    "plt.xlabel('arbitrary')\n",
    "plt.title('Energy Levels')"
   ]
  },
  {
   "cell_type": "code",
   "execution_count": null,
   "id": "99203e69",
   "metadata": {},
   "outputs": [],
   "source": []
  },
  {
   "cell_type": "markdown",
   "id": "d8c8789c",
   "metadata": {},
   "source": [
    "Next steps: varied detunings, initial state - final state find those fidelities, try to somehow generate the exact Cz gate so that it can be directly translated to CNOTS in threshold theorem parity measurements ==> realistic set of errors that generate gate infidelity"
   ]
  },
  {
   "cell_type": "code",
   "execution_count": null,
   "id": "0654c5e6",
   "metadata": {},
   "outputs": [],
   "source": []
  }
 ],
 "metadata": {
  "kernelspec": {
   "display_name": "Python 3 (ipykernel)",
   "language": "python",
   "name": "python3"
  },
  "language_info": {
   "codemirror_mode": {
    "name": "ipython",
    "version": 3
   },
   "file_extension": ".py",
   "mimetype": "text/x-python",
   "name": "python",
   "nbconvert_exporter": "python",
   "pygments_lexer": "ipython3",
   "version": "3.9.6"
  }
 },
 "nbformat": 4,
 "nbformat_minor": 5
}
