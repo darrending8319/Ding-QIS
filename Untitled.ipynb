{
 "cells": [
  {
   "cell_type": "code",
   "execution_count": 1,
   "id": "c456299b",
   "metadata": {},
   "outputs": [],
   "source": [
    "import matplotlib.pyplot as plt\n",
    "import numpy as np\n",
    "import qutip as qt\n",
    "import scipy\n",
    "from scipy.constants import hbar\n",
    "\n",
    "π = np.pi\n",
    "µs_to_ns = 1e3\n",
    "norm_fact = 1/(np.sqrt(2))"
   ]
  },
  {
   "cell_type": "code",
   "execution_count": 2,
   "id": "e02fa028",
   "metadata": {},
   "outputs": [],
   "source": [
    "num_qubit_states = 3\n",
    "num_res_states = 2\n",
    "\n",
    "g_state = qt.basis(num_qubit_states, 0)\n",
    "e_state = qt.basis(num_qubit_states, 1)\n",
    "f_state = qt.basis(num_qubit_states, 2)\n",
    "\n",
    "r0_state = qt.basis(num_res_states, 0)\n",
    "r1_state = qt.basis(num_res_states, 1)"
   ]
  },
  {
   "cell_type": "code",
   "execution_count": 3,
   "id": "9024c62c",
   "metadata": {},
   "outputs": [],
   "source": [
    "b1 = qt.tensor(qt.destroy(num_qubit_states), qt.qeye(num_qubit_states), qt.qeye(num_res_states))\n",
    "b1dag = b1.dag() \n",
    "b2 = qt.tensor(qt.qeye(num_qubit_states), qt.destroy(num_qubit_states), qt.qeye(num_res_states))\n",
    "b2dag = b2.dag() \n",
    "c = qt.tensor(qt.qeye(num_qubit_states), qt.qeye(num_qubit_states), qt.destroy(num_res_states))\n",
    "cdag = c.dag()"
   ]
  },
  {
   "cell_type": "code",
   "execution_count": null,
   "id": "d8163a4f",
   "metadata": {},
   "outputs": [],
   "source": []
  }
 ],
 "metadata": {
  "kernelspec": {
   "display_name": "Python 3 (ipykernel)",
   "language": "python",
   "name": "python3"
  },
  "language_info": {
   "codemirror_mode": {
    "name": "ipython",
    "version": 3
   },
   "file_extension": ".py",
   "mimetype": "text/x-python",
   "name": "python",
   "nbconvert_exporter": "python",
   "pygments_lexer": "ipython3",
   "version": "3.8.1"
  }
 },
 "nbformat": 4,
 "nbformat_minor": 5
}
