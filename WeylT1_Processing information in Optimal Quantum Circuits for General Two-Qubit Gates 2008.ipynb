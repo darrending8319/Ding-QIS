{
 "cells": [
  {
   "cell_type": "code",
   "execution_count": 1,
   "id": "525fd8e1",
   "metadata": {},
   "outputs": [],
   "source": [
    "import matplotlib.pyplot as plt\n",
    "import numpy as np\n",
    "\n",
    "π = np.pi"
   ]
  },
  {
   "cell_type": "markdown",
   "id": "b2472c9c",
   "metadata": {},
   "source": [
    "## Canonical Decomposition\n",
    "\n",
    "$U = k_1 \\exp\\left(-i \\frac{π}{2} (t_x X \\otimes X + t_y Y \\otimes Y + t_z Z \\otimes Z)\\right) k_2$\n",
    "\n",
    "$k_1, k_2$ : single qubit gates\n",
    "$t_x, t_y, t_z$ : parameterization variables\n",
    "\n",
    "$X = \\begin{bmatrix}\n",
    "0 & 1 \\\\\n",
    "1 & 0 \\\\\n",
    "\\end{bmatrix}$\n",
    "\n",
    "$Y = \\begin{bmatrix}\n",
    "0 & -i \\\\\n",
    "i & 0 \\\\\n",
    "\\end{bmatrix}$\n",
    "\n",
    "$Z = \\begin{bmatrix}\n",
    "1 & 0 \\\\\n",
    "0 & -1 \\\\\n",
    "\\end{bmatrix}$\n",
    "\n",
    "$X \\otimes X = \\begin{bmatrix}\n",
    "0 & 0 & 0 & 1 \\\\\n",
    "0 & 0 & 1 & 0 \\\\\n",
    "0 & 1 & 0 & 0 \\\\\n",
    "1 & 0 & 0 & 0 \\\\\n",
    "\\end{bmatrix}$\n",
    "\n",
    "$Y \\otimes Y = \\begin{bmatrix}\n",
    "0 & 0 & 0 & -i \\\\\n",
    "0 & 0 & i & 0 \\\\\n",
    "0 & -i & 0 & 0 \\\\\n",
    "i & 0 & 0 & 0 \\\\\n",
    "\\end{bmatrix}$\n",
    "\n",
    "$Z \\otimes Z = \\begin{bmatrix}\n",
    "1 & 0 & 0 & 0 \\\\\n",
    "0 & -1 & 0 & 0 \\\\\n",
    "0 & 0 & -1 & 0 \\\\\n",
    "0 & 0 & 0 & 1 \\\\\n",
    "\\end{bmatrix}$\n",
    "\n",
    "\n",
    "\n",
    "\n",
    "\n",
    "\n"
   ]
  },
  {
   "cell_type": "markdown",
   "id": "251e8ffb",
   "metadata": {},
   "source": [
    "Notation in Vatan, Williams Optimal quantum circuits 2004\n",
    "\n",
    "$R_Y(\\theta) = \\begin{bmatrix}\n",
    "\\cos(\\frac{\\theta}{2}) & -\\sin(\\frac{\\theta}{2}) \\\\\n",
    "\\sin(\\frac{\\theta}{2}) & \\cos(\\frac{\\theta}{2})\n",
    "\\end{bmatrix}$\n",
    "\n",
    "$R_Z(\\alpha) = \\begin{bmatrix}\n",
    "e^{-i\\frac{\\alpha}{2}} & 0 \\\\\n",
    "0 & e^{i\\frac{\\alpha}{2}}\n",
    "\\end{bmatrix}$\n",
    "\n",
    "$H = \\frac{1}{\\sqrt{2}} \\begin{bmatrix}\n",
    "1 & 1 \\\\\n",
    "1 & -1\n",
    "\\end{bmatrix}$\n",
    "\n",
    "$S = \\begin{bmatrix}\n",
    "1 & 0 \\\\\n",
    "0 & i\n",
    "\\end{bmatrix}$\n",
    "\n",
    "control (if) top, target (then flip) bottom\n",
    "\n",
    "$CNOT_1 = \\begin{bmatrix}\n",
    "1 & 0 & 0 & 0 \\\\\n",
    "0 & 1 & 0 & 0 \\\\\n",
    "0 & 0 & 0 & 1 \\\\\n",
    "0 & 0 & 1 & 0\n",
    "\\end{bmatrix}$\n",
    "\n",
    "target top, control bottom\n",
    "\n",
    "$CNOT_2 = \\begin{bmatrix}\n",
    "1 & 0 & 0 & 0 \\\\\n",
    "0 & 0 & 0 & 1 \\\\\n",
    "0 & 0 & 1 & 0 \\\\\n",
    "0 & 1 & 0 & 0\n",
    "\\end{bmatrix}$\n",
    "\n",
    "$SWAP = CNOT_1*CNOT_2*CNOT_1 = \\begin{bmatrix}\n",
    "1 & 0 & 0 & 0 \\\\\n",
    "0 & 0 & 1 & 0 \\\\\n",
    "0 & 1 & 0 & 0 \\\\\n",
    "0 & 0 & 0 & 1\n",
    "\\end{bmatrix}$\n",
    "\n",
    "Controlled V = $\\begin{bmatrix}\n",
    "I_2 & 0 \\\\\n",
    "0 & V \\\\\n",
    "\\end{bmatrix}$\n",
    "\n",
    "Magic = $\\begin{bmatrix}\n",
    "1 & i & 0 & 0 \\\\\n",
    "0 & 0 & i & 1 \\\\\n",
    "0 & 0 & i & -1 \\\\\n",
    "1 & -i & 0 & 0\n",
    "\\end{bmatrix}$"
   ]
  },
  {
   "cell_type": "markdown",
   "id": "3bb534bc",
   "metadata": {},
   "source": [
    "### Theorem 1 Rundown\n",
    "For every $U \\in SO(4)$, $U$ in the magic basis $M U M^* \\in SU(2) \\otimes SU(2)$ \n",
    "\n",
    "Show for every $A \\otimes B \\in SU(2) \\otimes SU(2)$, we have $M^*(A \\otimes B)M \\in SO(4)$\n",
    "\n",
    "_\n",
    "\n",
    "$A \\in SU(2)$ can be written as a product of $R_z(\\alpha)R_y(\\theta)R_z(\\beta)$\n",
    "\n",
    "Therefore\n",
    "$A \\otimes B \\in SU(2) \\otimes SU(2)$ can be written as $V \\otimes I_2$ and $I_2 \\otimes V$ where $V$ is either $R_y(\\theta)$ or $R_z(\\alpha)$\n",
    "\n",
    "**I'm not sure this is okay, my intuition for this step of the proof is that $R_z(\\alpha_1)R_y(\\theta_1)R_z(\\beta_1) \\otimes R_z(\\alpha_2)R_y(\\theta_2)R_z(\\beta_2)$ is an arbitrary (about any axis and angle) rotation on qubit one and a separate arbitrary rotation on qubit two and these two separate rotations are equivalent to a conditional rotation on one of the qubits about either the Y or Z axis\n",
    "\n",
    "if $M^*(V \\otimes I_2)M$ and $M^*(I_2 \\otimes V)M$ are in $SO(4)$ then the proof is complete (paper argues elementary algebra shows this is the case\n",
    "\n",
    "$SO(4)$ requirements: determinant = 1, each column/row are unit vectors and orthogonal to each other column/row \n",
    "\n",
    "\n",
    "!!! Demonstrates by using the magic basis we can convert a unitary matrix in SO(4) to the product of two matrices in SU(2)!!!\n",
    "\n",
    "Theorem 2 moves this to include O(4) and U(2)-- determinant = -1\n",
    "\n",
    "Demonstrates circuit implementations of all two qubit quantum gates in SO(4) using single qubit gates and 2 CNOTS\n",
    "\n",
    "All designed to motivate move to SU(4) decompositions\n",
    "\n"
   ]
  },
  {
   "cell_type": "markdown",
   "id": "94a4d10e",
   "metadata": {},
   "source": [
    "### Section 5\n",
    "\n",
    "$U = A_1 \\otimes A_2 \\cdot N(\\alpha, \\beta, \\gamma) \\cdot A_3 \\otimes A_4$ where $A_J \\in U(2)$ , $N(\\alpha, \\beta, \\gamma) = \\exp\\left(i(\\alpha \\sigma_x \\otimes \\sigma_x + \\beta \\sigma_y \\otimes \\sigma_y + \\gamma \\sigma_z \\otimes \\sigma_z)\\right)$\n",
    "\n",
    "if choose $U \\in SU(4)$ then choose $A_j \\in SU(2)$\n",
    "\n",
    "\n"
   ]
  },
  {
   "cell_type": "markdown",
   "id": "1ca7a4aa",
   "metadata": {},
   "source": [
    "$D = M^*NM$\n",
    "\n",
    "$N(\\alpha, \\beta, \\gamma) = M^*NM$\n",
    "\n",
    "Can construct a circuit for computing N in terms of this diagonal operation\n",
    "\n",
    "Can continue to optimize representation into three CNOT gates plus single qubit gates, long explanation using entangling power to argue that this is optimal"
   ]
  },
  {
   "cell_type": "markdown",
   "id": "b936effd",
   "metadata": {},
   "source": [
    "Finding gate N, underlying entangling operation leading to an explicit circuit representation of any two qubit unitary operation with at most three CNOTs and 15 y or z single qubit rotations"
   ]
  },
  {
   "cell_type": "markdown",
   "id": "e58e8c78",
   "metadata": {},
   "source": [
    "All of this decomposition stuff, cartan coordinates originates from this magic basis (magic gate has a circuit implementation with S and H gates) and theorem 1-- its ability to decompose SO(4) into the multiplcation of two SO(2) matrices\n",
    "\n",
    "Now we reach 5 where we transition from SO(4) to SU(4) there's this statement that every gate in U(4) can be written as cartan decomposition and single qubit gates\n",
    "\n",
    "Then, the cartan decomposition with the use of the magic basis can be rewritten as a diagonal matrix, allowing there to be a circuit implementation of N with first the diagonal matrix gate and changing that into three CNOT gates and single qubit gates\n",
    "\n",
    "Should have some understanding of why equation 1 exists in the first place-- why the Cartan decomposition is used, why its basis is the product of XX, YY, ZZ"
   ]
  },
  {
   "cell_type": "markdown",
   "id": "723e942f",
   "metadata": {},
   "source": [
    "from what I understand from googling and jumping between these papers is that XX YY ZZ were just chosen, i assume there could be another decomposition protocol with XY, YZ etc etc -- corresponding to fsim gate family decomposing gates into two consecutive interactions... maybe I should read more about fsim and make a comparison / understand what approaches to decomposition exist and differences between these approaches."
   ]
  },
  {
   "cell_type": "code",
   "execution_count": null,
   "id": "63eceb02",
   "metadata": {},
   "outputs": [],
   "source": []
  },
  {
   "cell_type": "code",
   "execution_count": null,
   "id": "fb45090f",
   "metadata": {},
   "outputs": [],
   "source": []
  },
  {
   "cell_type": "code",
   "execution_count": null,
   "id": "14a19fd9",
   "metadata": {},
   "outputs": [],
   "source": []
  },
  {
   "cell_type": "code",
   "execution_count": null,
   "id": "920dc95f",
   "metadata": {},
   "outputs": [],
   "source": []
  },
  {
   "cell_type": "code",
   "execution_count": null,
   "id": "7eaba9e0",
   "metadata": {},
   "outputs": [],
   "source": []
  },
  {
   "cell_type": "code",
   "execution_count": 2,
   "id": "01ac2824",
   "metadata": {},
   "outputs": [],
   "source": [
    "import numpy as np\n",
    "import qutip as qt"
   ]
  },
  {
   "cell_type": "markdown",
   "id": "e4441484",
   "metadata": {},
   "source": [
    "Bell_00 / $|\\Phi^+\\rangle$ = $\\frac{1}{\\sqrt{2}} \\left( |00\\rangle + |11\\rangle \\right)$\n",
    "\n",
    "Bell_01 / $|\\Phi^-\\rangle$ = $\\frac{1}{\\sqrt{2}} \\left( |00\\rangle - |11\\rangle \\right)$\n",
    "\n",
    "Bell_10 / $|\\Psi^+\\rangle$ =  $\\frac{1}{\\sqrt{2}} \\left( |01\\rangle + |10\\rangle \\right)$\n",
    "\n",
    "Bell_11 / $|\\Psi^-\\rangle$ =  $\\frac{1}{\\sqrt{2}} \\left( |01\\rangle - |10\\rangle \\right)$"
   ]
  },
  {
   "cell_type": "code",
   "execution_count": 3,
   "id": "3b95754c",
   "metadata": {},
   "outputs": [],
   "source": [
    "Bell_00 = qt.bell_state('00')\n",
    "Bell_01 = qt.bell_state('01')\n",
    "Bell_10 = qt.bell_state('10')\n",
    "Bell_11 = qt.bell_state('11')"
   ]
  },
  {
   "cell_type": "markdown",
   "id": "a1c5562c",
   "metadata": {},
   "source": [
    "Magic_1 / $|\\Phi_1\\rangle$ = $|\\Phi^+\\rangle$\n",
    "\n",
    "Magic_2 / $|\\Phi_2\\rangle$ = $-i|\\Phi^-\\rangle$\n",
    "\n",
    "Magic_3 / $|\\Psi_3\\rangle$ = $|\\Psi^-\\rangle$\n",
    "\n",
    "Magic_4 / $|\\Psi_4\\rangle$ = $-i|\\Psi^+\\rangle$"
   ]
  },
  {
   "cell_type": "code",
   "execution_count": 4,
   "id": "5646fe53",
   "metadata": {},
   "outputs": [],
   "source": [
    "Magic_1 = Bell_00\n",
    "Magic_2 = -1j * Bell_01\n",
    "Magic_3 = Bell_11\n",
    "Magic_4 = -1j * Bell_10"
   ]
  },
  {
   "cell_type": "markdown",
   "id": "a2fcebf0",
   "metadata": {},
   "source": [
    "$U_{AB}$ (arbitrary unitary operating on A and B) $ = $ (can be decomposed into) $ U_A \\otimes U_B U_{d} V_A \\otimes V_B$\n",
    "\n",
    "$U_d = e^{-i \\vec{\\sigma}_A^T d \\vec{\\sigma}_B}$ where $\\vec{\\sigma_A} = (\\sigma_x, \\sigma_y, \\sigma_z)$ operating on A and d is a diagonal matrix with elements $ (\\alpha_x, \\alpha_y, \\alpha_z) $\n",
    "\n",
    "Canonical Decomposition: $U = k_1 \\exp\\left(-i \\frac{π}{2} (t_x X \\otimes X + t_y Y \\otimes Y + t_z Z \\otimes Z)\\right) k_2$"
   ]
  },
  {
   "cell_type": "markdown",
   "id": "f6bcd599",
   "metadata": {},
   "source": [
    "# Motivation for this representation\n",
    "\n",
    "Bennett, Divencenzo Mixed State Entanglement 1996 (thinking in the context of EPR paradox):\n",
    "\n",
    "In the context of EPP (Entanglement Purification Protocols), Entanglement of a pure state can be quantified as the entropy of formation of either subsystem alone: $E(\\Upsilon) = S(\\rho_A) = S(\\rho_B)$ where $S(\\rho) = -\\mathrm{Tr}(\\rho \\log_2 \\rho)$ (Von Neumann Entropy) and $\\rho_A$ is $\\mathrm{Tr}_B \\left( | \\Upsilon \\rangle \\langle \\Upsilon | \\right)$ the reduced density matrix. $E$ ranges from 0 (for a product state) to $\\log_2(N)$ for a maximally entangled state of two N-state particles. For the singlet state $|\\Psi^-\\rangle$, $E=1$\n",
    "\n",
    "(When pure, entangled states interact with other quantum degrees of freedom they become mixed states and the entanglement of formation becomes more complicated-- don't know how to distill out as much entanglement required to generate the original state from the mixed state in the first place... lots of discussion)\n",
    "\n",
    "Landed on minimum of entanglement over all ensembles of pure states realizing the mixed state. See page 12 for reasoning. for mixed state $M = \\sum_i p_i|\\Upsilon_i\\rangle\\langle\\Upsilon_i|, E(M)$ is the minimum $E(\\epsilon)$ over ensembles $\\epsilon = {p_i, \\Upsilon_i}$ making up the mixed state\n",
    "\n",
    "Return to Wooters, Entanglement of Formation... 1997\n",
    "\n",
    "We can represent E as an explicit function of $\\rho$ (in the case of pure states) with a step in between- the concurrence where $C(\\psi)=|\\langle\\psi|\\tilde{\\psi}\\rangle)$ where $|\\tilde{\\psi}\\rangle = \\sigma_y|\\psi^*\\rangle$ - interpretation in Hill Wooters 1997 that this spin flip operation is equivalent to complex conjugation in the magic basis\n",
    "\n",
    "This concurrence ranges from 0-1 as entanglement of formation ranges from 0-1 and it increases monotonically-- can be thought of as a measure of entanglement itself. Single state- unchanged by spin flip operation $C=1$, separable pure state such as $|\\uparrow\\downarrow\\rangle$ moved to orthogonal state via spin flip, $C=0$\n",
    "\n",
    "This reasoning is then extended to mixed states where my understanding becomes more fuzzy (discussion on page 5 of Wooters 1997)\n",
    "\n",
    "Finally back to Kraus Cirac: in an attempt to find the best input states to maximize entanglement, two important properties stated. statement 1: concurrence of a state is 1 if and only if the state written in the magic basis has real coefficients up to a global phase and the concurrence is 0 iff it's a product state and the coefficients in the magic basis are 0.\n",
    "\n",
    "Key Statement- Section III unitary operators page 3 in  $U_{AB} =  U_A \\otimes U_B U_{d} V_A \\otimes V_B$, \n",
    "\n",
    "\"Note that any measure of entanglement is not changed by local unitary operators. Thus the entanglement created by $U_AB$ is the same as the one Created by $U_D V_A\\otimes V_B$ And so the maximal amount of entanglement which can be produced by applying a general unitary, $U_AB$ is the same as the one created by $U_d$.\"\n",
    "\n",
    "Additionally Kraus Cirac 2018 Optimal Creation 'proves' in Appendix A that any unitary can be expressed in this way\n",
    "\n",
    "\n",
    "\n"
   ]
  },
  {
   "cell_type": "markdown",
   "id": "d75ce544",
   "metadata": {},
   "source": [
    "For certain cases (ie maximal entanglement, three free parameters in $U_d$ are constrained)\n",
    "\n",
    "## This is an attempt to generate gates via canonical decomposition"
   ]
  },
  {
   "cell_type": "markdown",
   "id": "cb926718",
   "metadata": {},
   "source": [
    "motivation: input three parameters into a function, obtain some unitary in a local group\n",
    "\n",
    "next step-- convert this unitary into points in the Weyl chamber via single qubit gates... this motivation is not fully thought out but it seems like a decent first step."
   ]
  },
  {
   "cell_type": "code",
   "execution_count": 18,
   "id": "1e2f0015",
   "metadata": {},
   "outputs": [],
   "source": [
    "π = np.pi\n",
    "\n",
    "xx = qt.Qobj(np.kron(qt.sigmax(), qt.sigmax()))\n",
    "yy = qt.Qobj(np.kron(qt.sigmay(), qt.sigmay()))\n",
    "zz = qt.Qobj(np.kron(qt.sigmaz(), qt.sigmaz()))\n",
    "\n",
    "xy = qt.Qobj(np.kron(qt.sigmax(), qt.sigmay()))\n",
    "yx = qt.Qobj(np.kron(qt.sigmay(), qt.sigmax()))\n",
    "xz = qt.Qobj(np.kron(qt.sigmax(), qt.sigmaz()))\n",
    "zx = qt.Qobj(np.kron(qt.sigmaz(), qt.sigmax()))\n",
    "yz = qt.Qobj(np.kron(qt.sigmay(), qt.sigmaz()))\n",
    "zy = qt.Qobj(np.kron(qt.sigmaz(), qt.sigmay()))"
   ]
  },
  {
   "cell_type": "code",
   "execution_count": 19,
   "id": "e34e209c",
   "metadata": {},
   "outputs": [],
   "source": [
    "def can_decomp(tx, ty, tz):\n",
    "    xx = qt.Qobj(np.kron(qt.sigmax(), qt.sigmax()))\n",
    "    yy = qt.Qobj(np.kron(qt.sigmay(), qt.sigmay()))\n",
    "    zz = qt.Qobj(np.kron(qt.sigmaz(), qt.sigmaz()))\n",
    "\n",
    "    return ((tx*xx + ty*yy + tz*zz)*(-1j*π/2)).expm()"
   ]
  },
  {
   "cell_type": "code",
   "execution_count": 22,
   "id": "4f564e4d",
   "metadata": {},
   "outputs": [
    {
     "data": {
      "text/latex": [
       "Quantum object: dims = [[4], [4]], shape = (4, 4), type = oper, isherm = False $ \\\\ \\left(\\begin{matrix}1.0 & 0.0 & 0.0 & 0.0\\\\0.0 & 0.0 & -1.0j & 0.0\\\\0.0 & -1.0j & 0.0 & 0.0\\\\0.0 & 0.0 & 0.0 & 1.0\\\\\\end{matrix}\\right)$"
      ],
      "text/plain": [
       "Quantum object: dims = [[4], [4]], shape = (4, 4), type = oper, isherm = False\n",
       "Qobj data =\n",
       "[[1.+0.j 0.+0.j 0.+0.j 0.+0.j]\n",
       " [0.+0.j 0.+0.j 0.-1.j 0.+0.j]\n",
       " [0.+0.j 0.-1.j 0.+0.j 0.+0.j]\n",
       " [0.+0.j 0.+0.j 0.+0.j 1.+0.j]]"
      ]
     },
     "execution_count": 22,
     "metadata": {},
     "output_type": "execute_result"
    }
   ],
   "source": [
    "tx = 1/2\n",
    "ty = 1/2\n",
    "tz = 0\n",
    "\n",
    "can_decomp(tx, ty, tz)"
   ]
  },
  {
   "cell_type": "code",
   "execution_count": 10,
   "id": "7f0dfc39",
   "metadata": {},
   "outputs": [
    {
     "data": {
      "text/plain": [
       "1.5707963267948966"
      ]
     },
     "execution_count": 10,
     "metadata": {},
     "output_type": "execute_result"
    }
   ],
   "source": [
    "π/2"
   ]
  },
  {
   "cell_type": "code",
   "execution_count": 11,
   "id": "01ef5107",
   "metadata": {},
   "outputs": [
    {
     "data": {
      "text/latex": [
       "Quantum object: dims = [[4], [4]], shape = (4, 4), type = oper, isherm = True $ \\\\ \\left(\\begin{matrix}0.0 & 0.0 & 0.0 & 1.0\\\\0.0 & 0.0 & 1.0 & 0.0\\\\0.0 & 1.0 & 0.0 & 0.0\\\\1.0 & 0.0 & 0.0 & 0.0\\\\\\end{matrix}\\right)$"
      ],
      "text/plain": [
       "Quantum object: dims = [[4], [4]], shape = (4, 4), type = oper, isherm = True\n",
       "Qobj data =\n",
       "[[0. 0. 0. 1.]\n",
       " [0. 0. 1. 0.]\n",
       " [0. 1. 0. 0.]\n",
       " [1. 0. 0. 0.]]"
      ]
     },
     "execution_count": 11,
     "metadata": {},
     "output_type": "execute_result"
    }
   ],
   "source": [
    "xx"
   ]
  },
  {
   "cell_type": "code",
   "execution_count": 12,
   "id": "1629cdf4",
   "metadata": {},
   "outputs": [
    {
     "data": {
      "text/latex": [
       "Quantum object: dims = [[4], [4]], shape = (4, 4), type = oper, isherm = True $ \\\\ \\left(\\begin{matrix}0.0 & 0.0 & 0.0 & -1.0\\\\0.0 & 0.0 & 1.0 & 0.0\\\\0.0 & 1.0 & 0.0 & 0.0\\\\-1.0 & 0.0 & 0.0 & 0.0\\\\\\end{matrix}\\right)$"
      ],
      "text/plain": [
       "Quantum object: dims = [[4], [4]], shape = (4, 4), type = oper, isherm = True\n",
       "Qobj data =\n",
       "[[ 0.  0.  0. -1.]\n",
       " [ 0.  0.  1.  0.]\n",
       " [ 0.  1.  0.  0.]\n",
       " [-1.  0.  0.  0.]]"
      ]
     },
     "execution_count": 12,
     "metadata": {},
     "output_type": "execute_result"
    }
   ],
   "source": [
    "yy"
   ]
  },
  {
   "cell_type": "code",
   "execution_count": 24,
   "id": "d1038684",
   "metadata": {},
   "outputs": [
    {
     "data": {
      "text/latex": [
       "Quantum object: dims = [[4], [4]], shape = (4, 4), type = oper, isherm = False $ \\\\ \\left(\\begin{matrix}0.707 & 0.0 & 0.0 & 0.707j\\\\0.0 & 0.707 & 0.707j & 0.0\\\\0.0 & 0.707j & 0.707 & 0.0\\\\0.707j & 0.0 & 0.0 & 0.707\\\\\\end{matrix}\\right)$"
      ],
      "text/plain": [
       "Quantum object: dims = [[4], [4]], shape = (4, 4), type = oper, isherm = False\n",
       "Qobj data =\n",
       "[[0.70710678+0.j         0.        +0.j         0.        +0.j\n",
       "  0.        +0.70710678j]\n",
       " [0.        +0.j         0.70710678+0.j         0.        +0.70710678j\n",
       "  0.        +0.j        ]\n",
       " [0.        +0.j         0.        +0.70710678j 0.70710678+0.j\n",
       "  0.        +0.j        ]\n",
       " [0.        +0.70710678j 0.        +0.j         0.        +0.j\n",
       "  0.70710678+0.j        ]]"
      ]
     },
     "execution_count": 24,
     "metadata": {},
     "output_type": "execute_result"
    }
   ],
   "source": [
    "can_decomp(-0.5, 0, 0) #Mølmer-Sørensen gate (MS)"
   ]
  },
  {
   "cell_type": "markdown",
   "id": "e24d1f07",
   "metadata": {},
   "source": [
    "## What is it about all of these above gates (before applying 12 DOF single qubit gates) (touching all the local equivalence classes) that let them be described with only three parameters?\n",
    "\n",
    "I wonder with a different basis (not xx, yy, zz) there are different \"natural gates\" in each local equivalence class that don't immediately require single qubit gates****"
   ]
  },
  {
   "cell_type": "markdown",
   "id": "453687cd",
   "metadata": {},
   "source": [
    "## Commutations\n",
    "\n",
    "can separate do that one property"
   ]
  },
  {
   "cell_type": "code",
   "execution_count": 18,
   "id": "65ea4c8e",
   "metadata": {},
   "outputs": [
    {
     "data": {
      "text/plain": [
       "True"
      ]
     },
     "execution_count": 18,
     "metadata": {},
     "output_type": "execute_result"
    }
   ],
   "source": [
    "xx*yy == yy*xx"
   ]
  },
  {
   "cell_type": "code",
   "execution_count": 60,
   "id": "1ba9dd64",
   "metadata": {},
   "outputs": [],
   "source": [
    "generators = [xx, yy, zz, xy, yx, xz, zx, yz, zy]\n",
    "commutators = []\n",
    "for i in generators:\n",
    "    for j in generators:\n",
    "        t1 = (i*j)\n",
    "        t2 = (j*i)\n",
    "        commutators.append(t1==t2)\n",
    "    commutators.append('_')"
   ]
  },
  {
   "cell_type": "code",
   "execution_count": 61,
   "id": "53061af1",
   "metadata": {},
   "outputs": [
    {
     "data": {
      "text/latex": [
       "Quantum object: dims = [[4], [4]], shape = (4, 4), type = oper, isherm = True $ \\\\ \\left(\\begin{matrix}0.0 & 0.0 & 0.0 & 0.0\\\\0.0 & 0.0 & 0.0 & 0.0\\\\0.0 & 0.0 & 0.0 & 0.0\\\\0.0 & 0.0 & 0.0 & 0.0\\\\\\end{matrix}\\right)$"
      ],
      "text/plain": [
       "Quantum object: dims = [[4], [4]], shape = (4, 4), type = oper, isherm = True\n",
       "Qobj data =\n",
       "[[0. 0. 0. 0.]\n",
       " [0. 0. 0. 0.]\n",
       " [0. 0. 0. 0.]\n",
       " [0. 0. 0. 0.]]"
      ]
     },
     "execution_count": 61,
     "metadata": {},
     "output_type": "execute_result"
    }
   ],
   "source": [
    "(xx*yz) - (yz*xx)"
   ]
  },
  {
   "cell_type": "markdown",
   "id": "503b83c4",
   "metadata": {},
   "source": [
    "| **Pauli Matrix Products** | **XX** | **YY** | **ZZ** | **XY** | **YX** | **XZ** | **ZX** | **YZ** | **ZY** |\n",
    "|--------------------------|-------|-------|-------|-------|-------|-------|-------|-------|-------|\n",
    "| **XX**                   |   0    |   0    |   0    |    non   |    non   |   non    |   non    |   0    |    0   |\n",
    "| **YY**                   |   0    |   0    |   0    |    non   |    non   |   0    |   0    |    non   |    non   |\n",
    "| **ZZ**                   |   0    |   0    |   0    |    0   |    0   |   non    |   non    |   non    |   non    |\n",
    "| **XY**                   |   non    |   non    |   0    |   0    |    0   |   non    |   0    |   0    |   non    |\n",
    "| **YX**                   |   non    |   non    |   0    |   0    |    0   |    0   |    non   |    non   |   0    |\n",
    "| **XZ**                   |   non    |    0   |    non   |   non    |   0    |   0    |   0    |    non   |   0    |\n",
    "| **ZX**                   |   non    |    0   |    non   |    0   |    non   |   0    |   0    |   0    |    non   |\n",
    "| **YZ**                   |   0    |    non   |   non    |   0    |   non    |   non    |    0   |   0    |   0    |\n",
    "| **ZY**                   |   0    |   non    |   non    |   non    |   0    |   0    |   non    |   0    |    0   |\n"
   ]
  },
  {
   "cell_type": "code",
   "execution_count": 67,
   "id": "6e03b5f9",
   "metadata": {},
   "outputs": [
    {
     "data": {
      "text/latex": [
       "Quantum object: dims = [[4], [4]], shape = (4, 4), type = oper, isherm = True $ \\\\ \\left(\\begin{matrix}0.0 & 0.0 & 0.0 & 0.0\\\\0.0 & 0.0 & 0.0 & 0.0\\\\0.0 & 0.0 & 0.0 & 0.0\\\\0.0 & 0.0 & 0.0 & 0.0\\\\\\end{matrix}\\right)$"
      ],
      "text/plain": [
       "Quantum object: dims = [[4], [4]], shape = (4, 4), type = oper, isherm = True\n",
       "Qobj data =\n",
       "[[0. 0. 0. 0.]\n",
       " [0. 0. 0. 0.]\n",
       " [0. 0. 0. 0.]\n",
       " [0. 0. 0. 0.]]"
      ]
     },
     "execution_count": 67,
     "metadata": {},
     "output_type": "execute_result"
    }
   ],
   "source": [
    "yx*xz - xz*yx   #**** this is the only unintuitive case"
   ]
  },
  {
   "cell_type": "code",
   "execution_count": 55,
   "id": "140cfdc1",
   "metadata": {},
   "outputs": [
    {
     "data": {
      "text/latex": [
       "Quantum object: dims = [[4], [4]], shape = (4, 4), type = oper, isherm = True $ \\\\ \\left(\\begin{matrix}0.0 & 0.0 & 0.0 & 0.0\\\\0.0 & 0.0 & 0.0 & 0.0\\\\0.0 & 0.0 & 0.0 & 0.0\\\\0.0 & 0.0 & 0.0 & 0.0\\\\\\end{matrix}\\right)$"
      ],
      "text/plain": [
       "Quantum object: dims = [[4], [4]], shape = (4, 4), type = oper, isherm = True\n",
       "Qobj data =\n",
       "[[0. 0. 0. 0.]\n",
       " [0. 0. 0. 0.]\n",
       " [0. 0. 0. 0.]\n",
       " [0. 0. 0. 0.]]"
      ]
     },
     "execution_count": 55,
     "metadata": {},
     "output_type": "execute_result"
    }
   ],
   "source": [
    "xx*zy - zy*xx"
   ]
  },
  {
   "cell_type": "code",
   "execution_count": 26,
   "id": "9b590135",
   "metadata": {},
   "outputs": [
    {
     "data": {
      "text/latex": [
       "Quantum object: dims = [[4], [4]], shape = (4, 4), type = oper, isherm = True $ \\\\ \\left(\\begin{matrix}0.0 & 0.0 & 0.0 & 0.0\\\\0.0 & 0.0 & 0.0 & 0.0\\\\0.0 & 0.0 & 0.0 & 0.0\\\\0.0 & 0.0 & 0.0 & 0.0\\\\\\end{matrix}\\right)$"
      ],
      "text/plain": [
       "Quantum object: dims = [[4], [4]], shape = (4, 4), type = oper, isherm = True\n",
       "Qobj data =\n",
       "[[0. 0. 0. 0.]\n",
       " [0. 0. 0. 0.]\n",
       " [0. 0. 0. 0.]\n",
       " [0. 0. 0. 0.]]"
      ]
     },
     "execution_count": 26,
     "metadata": {},
     "output_type": "execute_result"
    }
   ],
   "source": [
    "(xx*yy) - (yy*xx)"
   ]
  },
  {
   "cell_type": "code",
   "execution_count": 28,
   "id": "79b2bb20",
   "metadata": {},
   "outputs": [
    {
     "data": {
      "text/latex": [
       "Quantum object: dims = [[4], [4]], shape = (4, 4), type = oper, isherm = False $ \\\\ \\left(\\begin{matrix}0.0 & 2.0j & 0.0 & 0.0\\\\2.0j & 0.0 & 0.0 & 0.0\\\\0.0 & 0.0 & 0.0 & 2.0j\\\\0.0 & 0.0 & 2.0j & 0.0\\\\\\end{matrix}\\right)$"
      ],
      "text/plain": [
       "Quantum object: dims = [[4], [4]], shape = (4, 4), type = oper, isherm = False\n",
       "Qobj data =\n",
       "[[0.+0.j 0.+2.j 0.+0.j 0.+0.j]\n",
       " [0.+2.j 0.+0.j 0.+0.j 0.+0.j]\n",
       " [0.+0.j 0.+0.j 0.+0.j 0.+2.j]\n",
       " [0.+0.j 0.+0.j 0.+2.j 0.+0.j]]"
      ]
     },
     "execution_count": 28,
     "metadata": {},
     "output_type": "execute_result"
    }
   ],
   "source": [
    "(xy*xz) - (xz*xy)"
   ]
  },
  {
   "cell_type": "code",
   "execution_count": 21,
   "id": "2574ad10",
   "metadata": {},
   "outputs": [
    {
     "data": {
      "text/latex": [
       "Quantum object: dims = [[4], [4]], shape = (4, 4), type = oper, isherm = True $ \\\\ \\left(\\begin{matrix}0.0 & 0.0 & 0.0 & -1.0j\\\\0.0 & 0.0 & -1.0j & 0.0\\\\0.0 & 1.0j & 0.0 & 0.0\\\\1.0j & 0.0 & 0.0 & 0.0\\\\\\end{matrix}\\right)$"
      ],
      "text/plain": [
       "Quantum object: dims = [[4], [4]], shape = (4, 4), type = oper, isherm = True\n",
       "Qobj data =\n",
       "[[0.+0.j 0.+0.j 0.+0.j 0.-1.j]\n",
       " [0.+0.j 0.+0.j 0.-1.j 0.+0.j]\n",
       " [0.+0.j 0.+1.j 0.+0.j 0.+0.j]\n",
       " [0.+1.j 0.+0.j 0.+0.j 0.+0.j]]"
      ]
     },
     "execution_count": 21,
     "metadata": {},
     "output_type": "execute_result"
    }
   ],
   "source": [
    "yx"
   ]
  },
  {
   "cell_type": "code",
   "execution_count": 60,
   "id": "44394775",
   "metadata": {},
   "outputs": [
    {
     "data": {
      "text/latex": [
       "Quantum object: dims = [[4], [4]], shape = (4, 4), type = oper, isherm = True $ \\\\ \\left(\\begin{matrix}-1.0 & 0.0 & 0.0 & 0.0\\\\0.0 & 1.0 & 0.0 & 0.0\\\\0.0 & 0.0 & 1.0 & 0.0\\\\0.0 & 0.0 & 0.0 & -1.0\\\\\\end{matrix}\\right)$"
      ],
      "text/plain": [
       "Quantum object: dims = [[4], [4]], shape = (4, 4), type = oper, isherm = True\n",
       "Qobj data =\n",
       "[[-1.  0.  0.  0.]\n",
       " [ 0.  1.  0.  0.]\n",
       " [ 0.  0.  1.  0.]\n",
       " [ 0.  0.  0. -1.]]"
      ]
     },
     "execution_count": 60,
     "metadata": {},
     "output_type": "execute_result"
    }
   ],
   "source": [
    "yy*xx"
   ]
  },
  {
   "cell_type": "code",
   "execution_count": 61,
   "id": "5c6840f5",
   "metadata": {},
   "outputs": [
    {
     "data": {
      "text/latex": [
       "Quantum object: dims = [[4], [4]], shape = (4, 4), type = oper, isherm = True $ \\\\ \\left(\\begin{matrix}0.0 & 0.0 & 0.0 & 1.0\\\\0.0 & 0.0 & -1.0 & 0.0\\\\0.0 & -1.0 & 0.0 & 0.0\\\\1.0 & 0.0 & 0.0 & 0.0\\\\\\end{matrix}\\right)$"
      ],
      "text/plain": [
       "Quantum object: dims = [[4], [4]], shape = (4, 4), type = oper, isherm = True\n",
       "Qobj data =\n",
       "[[ 0.  0.  0.  1.]\n",
       " [ 0.  0. -1.  0.]\n",
       " [ 0. -1.  0.  0.]\n",
       " [ 1.  0.  0.  0.]]"
      ]
     },
     "execution_count": 61,
     "metadata": {},
     "output_type": "execute_result"
    }
   ],
   "source": [
    "xx*zz"
   ]
  },
  {
   "cell_type": "code",
   "execution_count": 62,
   "id": "d21ca935",
   "metadata": {},
   "outputs": [
    {
     "data": {
      "text/latex": [
       "Quantum object: dims = [[4], [4]], shape = (4, 4), type = oper, isherm = True $ \\\\ \\left(\\begin{matrix}0.0 & 0.0 & 0.0 & 1.0\\\\0.0 & 0.0 & -1.0 & 0.0\\\\0.0 & -1.0 & 0.0 & 0.0\\\\1.0 & 0.0 & 0.0 & 0.0\\\\\\end{matrix}\\right)$"
      ],
      "text/plain": [
       "Quantum object: dims = [[4], [4]], shape = (4, 4), type = oper, isherm = True\n",
       "Qobj data =\n",
       "[[ 0.  0.  0.  1.]\n",
       " [ 0.  0. -1.  0.]\n",
       " [ 0. -1.  0.  0.]\n",
       " [ 1.  0.  0.  0.]]"
      ]
     },
     "execution_count": 62,
     "metadata": {},
     "output_type": "execute_result"
    }
   ],
   "source": [
    "zz*xx"
   ]
  },
  {
   "cell_type": "code",
   "execution_count": 63,
   "id": "6c5c8df0",
   "metadata": {},
   "outputs": [
    {
     "data": {
      "text/latex": [
       "Quantum object: dims = [[4], [4]], shape = (4, 4), type = oper, isherm = True $ \\\\ \\left(\\begin{matrix}0.0 & 0.0 & 0.0 & -1.0\\\\0.0 & 0.0 & -1.0 & 0.0\\\\0.0 & -1.0 & 0.0 & 0.0\\\\-1.0 & 0.0 & 0.0 & 0.0\\\\\\end{matrix}\\right)$"
      ],
      "text/plain": [
       "Quantum object: dims = [[4], [4]], shape = (4, 4), type = oper, isherm = True\n",
       "Qobj data =\n",
       "[[ 0.  0.  0. -1.]\n",
       " [ 0.  0. -1.  0.]\n",
       " [ 0. -1.  0.  0.]\n",
       " [-1.  0.  0.  0.]]"
      ]
     },
     "execution_count": 63,
     "metadata": {},
     "output_type": "execute_result"
    }
   ],
   "source": [
    "yy*zz"
   ]
  },
  {
   "cell_type": "code",
   "execution_count": null,
   "id": "c213f026",
   "metadata": {},
   "outputs": [],
   "source": []
  },
  {
   "cell_type": "markdown",
   "id": "2cea71ec",
   "metadata": {},
   "source": [
    "## Next Step:\n",
    "\n",
    "Converting between locally equivalent gates via single qubit gates, given an arbitrary unitary decompose into tx, ty, tz? - understand weyl chambers numerically as opposed to completely mathematically-- , use randomizers and statistics to be more convinced of completeness and other properties\n",
    "\n",
    "If I have a function to determine all of these parameters."
   ]
  },
  {
   "cell_type": "code",
   "execution_count": null,
   "id": "99df6ffc",
   "metadata": {},
   "outputs": [],
   "source": []
  }
 ],
 "metadata": {
  "kernelspec": {
   "display_name": "Python 3 (ipykernel)",
   "language": "python",
   "name": "python3"
  },
  "language_info": {
   "codemirror_mode": {
    "name": "ipython",
    "version": 3
   },
   "file_extension": ".py",
   "mimetype": "text/x-python",
   "name": "python",
   "nbconvert_exporter": "python",
   "pygments_lexer": "ipython3",
   "version": "3.9.6"
  }
 },
 "nbformat": 4,
 "nbformat_minor": 5
}
