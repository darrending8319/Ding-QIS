{
 "cells": [
  {
   "cell_type": "code",
   "execution_count": 10,
   "id": "36be0f6d",
   "metadata": {},
   "outputs": [],
   "source": [
    "import qutip as qt\n",
    "import numpy as np\n",
    "import lmfit as lm\n",
    "import matplotlib.pyplot as plt\n",
    "from lmfit import Model\n",
    "\n",
    "π = np.pi\n",
    "_ = %precision 3"
   ]
  },
  {
   "cell_type": "code",
   "execution_count": 23,
   "id": "6c94c93f",
   "metadata": {},
   "outputs": [
    {
     "name": "stdout",
     "output_type": "stream",
     "text": [
      "Collecting sympy\n",
      "  Downloading sympy-1.12-py3-none-any.whl (5.7 MB)\n",
      "\u001b[2K     \u001b[90m━━━━━━━━━━━━━━━━━━━━━━━━━━━━━━━━━━━━━━━━\u001b[0m \u001b[32m5.7/5.7 MB\u001b[0m \u001b[31m1.8 MB/s\u001b[0m eta \u001b[36m0:00:00\u001b[0m00:01\u001b[0m00:01\u001b[0m\n",
      "\u001b[?25hCollecting mpmath>=0.19 (from sympy)\n",
      "  Downloading mpmath-1.3.0-py3-none-any.whl (536 kB)\n",
      "\u001b[2K     \u001b[90m━━━━━━━━━━━━━━━━━━━━━━━━━━━━━━━━━━━━━━━\u001b[0m \u001b[32m536.2/536.2 kB\u001b[0m \u001b[31m1.4 MB/s\u001b[0m eta \u001b[36m0:00:00\u001b[0m00:01\u001b[0m00:01\u001b[0m\n",
      "\u001b[?25hInstalling collected packages: mpmath, sympy\n",
      "Successfully installed mpmath-1.3.0 sympy-1.12\n",
      "\n",
      "\u001b[1m[\u001b[0m\u001b[34;49mnotice\u001b[0m\u001b[1;39;49m]\u001b[0m\u001b[39;49m A new release of pip is available: \u001b[0m\u001b[31;49m23.2.1\u001b[0m\u001b[39;49m -> \u001b[0m\u001b[32;49m23.3.1\u001b[0m\n",
      "\u001b[1m[\u001b[0m\u001b[34;49mnotice\u001b[0m\u001b[1;39;49m]\u001b[0m\u001b[39;49m To update, run: \u001b[0m\u001b[32;49mpip install --upgrade pip\u001b[0m\n",
      "Note: you may need to restart the kernel to use updated packages.\n"
     ]
    }
   ],
   "source": [
    "pip install sympy"
   ]
  },
  {
   "cell_type": "code",
   "execution_count": 108,
   "id": "7373d59f",
   "metadata": {},
   "outputs": [],
   "source": [
    "from sympy import symbols\n",
    "a, b, c, d, e, f, g, h, i, j, k, l, m, n, o, p, w1= symbols('a b c d e f g h i j k l m n o p w1')\n",
    "\n",
    "# Create a 4x4 matrix using the symbolic variables\n",
    "matrix = np.array([\n",
    "    [a, b, c, d],\n",
    "    [e, f, g, h],\n",
    "    [i, j, k, l],\n",
    "    [m, n, o, p]\n",
    "])"
   ]
  },
  {
   "cell_type": "code",
   "execution_count": 82,
   "id": "8bf4d199",
   "metadata": {},
   "outputs": [
    {
     "data": {
      "text/plain": [
       "array([[a, b, c, d],\n",
       "       [e, f, g, h],\n",
       "       [i, j, k, l],\n",
       "       [m, n, o, p]], dtype=object)"
      ]
     },
     "execution_count": 82,
     "metadata": {},
     "output_type": "execute_result"
    }
   ],
   "source": [
    "matrix"
   ]
  },
  {
   "cell_type": "code",
   "execution_count": 83,
   "id": "63a30728",
   "metadata": {},
   "outputs": [],
   "source": [
    "a = qt.tensor(qt.destroy(2), qt.identity(2))\n",
    "b = qt.tensor(qt.identity(2), qt.destroy(2))\n",
    "adag = a.dag()\n",
    "bdag = b.dag()"
   ]
  },
  {
   "cell_type": "code",
   "execution_count": 84,
   "id": "9378b8a9",
   "metadata": {},
   "outputs": [
    {
     "data": {
      "text/plain": [
       "array([[0.+0.j, 0.+0.j, 0.+0.j, 0.+0.j],\n",
       "       [0.+0.j, 0.+0.j, 0.+0.j, 0.+0.j],\n",
       "       [0.+0.j, 0.+0.j, 1.+0.j, 0.+0.j],\n",
       "       [0.+0.j, 0.+0.j, 0.+0.j, 1.+0.j]])"
      ]
     },
     "execution_count": 84,
     "metadata": {},
     "output_type": "execute_result"
    }
   ],
   "source": [
    "np.array(adag*a)"
   ]
  },
  {
   "cell_type": "code",
   "execution_count": 85,
   "id": "f132a45c",
   "metadata": {},
   "outputs": [],
   "source": [
    "def task(one, two, three):\n",
    "    m1 = np.dot(np.dot(one, two), three)\n",
    "    m2 = m1.reshape((2, 2, 2, 2))\n",
    "    m3 = np.trace(m2, axis1=1, axis2=3)\n",
    "    return m3"
   ]
  },
  {
   "cell_type": "code",
   "execution_count": 86,
   "id": "92d57088",
   "metadata": {},
   "outputs": [
    {
     "data": {
      "text/plain": [
       "array([[0, 0],\n",
       "       [1.0*i + 1.0*n, 1.0*k + 1.0*p]], dtype=object)"
      ]
     },
     "execution_count": 86,
     "metadata": {},
     "output_type": "execute_result"
    }
   ],
   "source": [
    "task(adag, a, matrix)"
   ]
  },
  {
   "cell_type": "code",
   "execution_count": 87,
   "id": "5dbe67cd",
   "metadata": {},
   "outputs": [
    {
     "data": {
      "text/plain": [
       "array([[0, 1.0*c + 1.0*h],\n",
       "       [0, 1.0*k + 1.0*p]], dtype=object)"
      ]
     },
     "execution_count": 87,
     "metadata": {},
     "output_type": "execute_result"
    }
   ],
   "source": [
    "task(matrix, adag, a)"
   ]
  },
  {
   "cell_type": "code",
   "execution_count": 88,
   "id": "443d2243",
   "metadata": {},
   "outputs": [
    {
     "data": {
      "text/plain": [
       "array([[1.0*f, 1.0*h],\n",
       "       [1.0*n, 1.0*p]], dtype=object)"
      ]
     },
     "execution_count": 88,
     "metadata": {},
     "output_type": "execute_result"
    }
   ],
   "source": [
    "task(bdag, b, matrix)"
   ]
  },
  {
   "cell_type": "code",
   "execution_count": 89,
   "id": "001de172",
   "metadata": {},
   "outputs": [
    {
     "data": {
      "text/plain": [
       "array([[1.0*f, 1.0*h],\n",
       "       [1.0*n, 1.0*p]], dtype=object)"
      ]
     },
     "execution_count": 89,
     "metadata": {},
     "output_type": "execute_result"
    }
   ],
   "source": [
    "task(matrix, bdag, b)"
   ]
  },
  {
   "cell_type": "code",
   "execution_count": 90,
   "id": "e13b99a4",
   "metadata": {},
   "outputs": [
    {
     "data": {
      "text/plain": [
       "array([[0, 0],\n",
       "       [1.0*e, 1.0*g]], dtype=object)"
      ]
     },
     "execution_count": 90,
     "metadata": {},
     "output_type": "execute_result"
    }
   ],
   "source": [
    "task(adag, b, matrix)"
   ]
  },
  {
   "cell_type": "code",
   "execution_count": 91,
   "id": "dccc4897",
   "metadata": {},
   "outputs": [
    {
     "data": {
      "text/plain": [
       "array([[1.0*g, 0],\n",
       "       [1.0*o, 0]], dtype=object)"
      ]
     },
     "execution_count": 91,
     "metadata": {},
     "output_type": "execute_result"
    }
   ],
   "source": [
    "task(matrix, adag, b)"
   ]
  },
  {
   "cell_type": "code",
   "execution_count": 92,
   "id": "ce5bbc72",
   "metadata": {},
   "outputs": [
    {
     "data": {
      "text/plain": [
       "array([[1.0*j, 1.0*l],\n",
       "       [0, 0]], dtype=object)"
      ]
     },
     "execution_count": 92,
     "metadata": {},
     "output_type": "execute_result"
    }
   ],
   "source": [
    "task(bdag, a, matrix)"
   ]
  },
  {
   "cell_type": "code",
   "execution_count": 93,
   "id": "92c3efba",
   "metadata": {},
   "outputs": [
    {
     "data": {
      "text/plain": [
       "array([[0, 1.0*b],\n",
       "       [0, 1.0*j]], dtype=object)"
      ]
     },
     "execution_count": 93,
     "metadata": {},
     "output_type": "execute_result"
    }
   ],
   "source": [
    "task(matrix, bdag, a)"
   ]
  },
  {
   "cell_type": "code",
   "execution_count": 118,
   "id": "2b12bf66",
   "metadata": {},
   "outputs": [
    {
     "data": {
      "text/plain": [
       "(array([[-1.0*a*c - 1.0*a*h, 0],\n",
       "        [1.0*a**2 + 1.0*a*f - 1.0*a*k - 1.0*a*p, 1.0*a*c + 1.0*a*h]],\n",
       "       dtype=object),\n",
       " array([[0, 0],\n",
       "        [0, 0]], dtype=object))"
      ]
     },
     "execution_count": 118,
     "metadata": {},
     "output_type": "execute_result"
    }
   ],
   "source": [
    "#part 1\n",
    "task(adag, a, matrix) - task(matrix, adag, a), task(bdag, b, matrix) - task(matrix, bdag, b)"
   ]
  },
  {
   "cell_type": "code",
   "execution_count": 119,
   "id": "e1fd8578",
   "metadata": {},
   "outputs": [
    {
     "data": {
      "text/plain": [
       "array([[-1.0*b*c - 1.0*b*h, 0],\n",
       "       [1.0*a*b + 1.0*b*f - 1.0*b*k - 1.0*b*p, 1.0*b*c + 1.0*b*h]],\n",
       "      dtype=object)"
      ]
     },
     "execution_count": 119,
     "metadata": {},
     "output_type": "execute_result"
    }
   ],
   "source": [
    "#part 2\n",
    "task(adag, b, matrix) - task(matrix, adag, b) + task(bdag, a, matrix) - task(matrix, bdag, a)"
   ]
  },
  {
   "cell_type": "code",
   "execution_count": 120,
   "id": "f56b488e",
   "metadata": {},
   "outputs": [
    {
     "data": {
      "text/plain": [
       "array([[0.5*a*c + 0.5*a*h, 0],\n",
       "       [-0.5*a**2 - 0.5*a*f + 0.5*a*k + 0.5*a*p, -0.5*a*c - 0.5*a*h]],\n",
       "      dtype=object)"
      ]
     },
     "execution_count": 120,
     "metadata": {},
     "output_type": "execute_result"
    }
   ],
   "source": [
    "#part 3\n",
    "task(a, matrix, adag)-0.5*task(adag, a, matrix)-0.5*task(matrix, adag, a)"
   ]
  },
  {
   "cell_type": "code",
   "execution_count": 115,
   "id": "1c20e6be",
   "metadata": {},
   "outputs": [],
   "source": [
    "p1 = task(adag, a, matrix) - task(matrix, adag, a)\n",
    "p2 = task(adag, b, matrix) - task(matrix, adag, b) + task(bdag, a, matrix) - task(matrix, bdag, a)\n",
    "p3 = task(a, matrix, adag)-0.5*task(adag, a, matrix)-0.5*task(matrix, adag, a)"
   ]
  },
  {
   "cell_type": "code",
   "execution_count": 122,
   "id": "9358e609",
   "metadata": {},
   "outputs": [
    {
     "data": {
      "text/plain": [
       "array([[-1.0*a*c - 1.0*a*h, 0],\n",
       "       [1.0*a**2 + 1.0*a*f - 1.0*a*k - 1.0*a*p, 1.0*a*c + 1.0*a*h]],\n",
       "      dtype=object)"
      ]
     },
     "execution_count": 122,
     "metadata": {},
     "output_type": "execute_result"
    }
   ],
   "source": [
    "p1"
   ]
  },
  {
   "cell_type": "code",
   "execution_count": 121,
   "id": "d72ee19b",
   "metadata": {},
   "outputs": [
    {
     "data": {
      "text/plain": [
       "[2.0*a**2 + 2.0*a*f - 2.0*a*k - 2.0*a*p, 0, -2.0*a*c - 2.0*a*h - 1]"
      ]
     },
     "execution_count": 121,
     "metadata": {},
     "output_type": "execute_result"
    }
   ],
   "source": [
    "tobloch(p1)"
   ]
  },
  {
   "cell_type": "code",
   "execution_count": 126,
   "id": "e1201e14",
   "metadata": {},
   "outputs": [
    {
     "data": {
      "text/plain": [
       "array([[a + f, c + h],\n",
       "       [i + n, k + p]], dtype=object)"
      ]
     },
     "execution_count": 126,
     "metadata": {},
     "output_type": "execute_result"
    }
   ],
   "source": [
    "temp1 = matrix.reshape((2, 2, 2, 2))\n",
    "matrix2 = np.trace(temp1, axis1=1, axis2=3)\n",
    "matrix2"
   ]
  },
  {
   "cell_type": "code",
   "execution_count": 127,
   "id": "f0506fd0",
   "metadata": {},
   "outputs": [
    {
     "data": {
      "text/plain": [
       "[2*i + 2*n, 0, 2*a + 2*f - 1]"
      ]
     },
     "execution_count": 127,
     "metadata": {},
     "output_type": "execute_result"
    }
   ],
   "source": [
    "tobloch(matrix2)"
   ]
  },
  {
   "cell_type": "code",
   "execution_count": 106,
   "id": "3096991e",
   "metadata": {},
   "outputs": [],
   "source": [
    "def tobloch(rho):\n",
    "    a = rho[0,0]\n",
    "    b = rho[1,0]\n",
    "    c = rho[0,1]\n",
    "    d = rho[1,1]\n",
    "    \n",
    "    x = 2*np.real(b)\n",
    "    y = 2*np.imag(b)\n",
    "    z = 2*a - 1\n",
    "    \n",
    "    return [x, y, z]"
   ]
  },
  {
   "cell_type": "code",
   "execution_count": null,
   "id": "98b9aeec",
   "metadata": {},
   "outputs": [],
   "source": [
    "tobloch()"
   ]
  },
  {
   "cell_type": "code",
   "execution_count": 48,
   "id": "97717007",
   "metadata": {},
   "outputs": [
    {
     "data": {
      "text/plain": [
       "array([[0, 0, 0, 0],\n",
       "       [0, 0, 0, 0],\n",
       "       [0, 0, 1.0*k, 0],\n",
       "       [0, 0, 0, 1.0*p]], dtype=object)"
      ]
     },
     "execution_count": 48,
     "metadata": {},
     "output_type": "execute_result"
    }
   ],
   "source": [
    "np.array(adag*a)*matrix"
   ]
  },
  {
   "cell_type": "code",
   "execution_count": null,
   "id": "1f662d34",
   "metadata": {},
   "outputs": [],
   "source": []
  },
  {
   "cell_type": "code",
   "execution_count": 53,
   "id": "add05e89",
   "metadata": {},
   "outputs": [
    {
     "name": "stdout",
     "output_type": "stream",
     "text": [
      "[[ 7 11]\n",
      " [23 27]]\n"
     ]
    }
   ],
   "source": [
    "matrix_A = np.array([\n",
    "    [1, 2, 3, 4],\n",
    "    [5, 6, 7, 8],\n",
    "    [9, 10, 11, 12],\n",
    "    [13, 14, 15, 16]\n",
    "])\n",
    "\n",
    "# Reshape the matrix into a 2x2x2x2 tensor (assuming a tensor product structure)\n",
    "tensor_A = matrix_A.reshape((2, 2, 2, 2))\n",
    "\n",
    "# Perform the partial trace over the second subsystem\n",
    "partial_trace_A = np.trace(tensor_A, axis1=1, axis2=3)\n",
    "\n",
    "# Display the result\n",
    "print(partial_trace_A)"
   ]
  },
  {
   "cell_type": "code",
   "execution_count": null,
   "id": "bd2521ca",
   "metadata": {},
   "outputs": [],
   "source": []
  }
 ],
 "metadata": {
  "kernelspec": {
   "display_name": "Python 3 (ipykernel)",
   "language": "python",
   "name": "python3"
  },
  "language_info": {
   "codemirror_mode": {
    "name": "ipython",
    "version": 3
   },
   "file_extension": ".py",
   "mimetype": "text/x-python",
   "name": "python",
   "nbconvert_exporter": "python",
   "pygments_lexer": "ipython3",
   "version": "3.9.6"
  }
 },
 "nbformat": 4,
 "nbformat_minor": 5
}
