{
 "cells": [
  {
   "cell_type": "code",
   "execution_count": 1,
   "id": "80d6506c",
   "metadata": {},
   "outputs": [],
   "source": [
    "import matplotlib.pyplot as plt\n",
    "import numpy as np\n",
    "import qutip as qt\n",
    "import scipy\n",
    "from scipy.constants import hbar\n",
    "\n",
    "π = np.pi\n",
    "µs_to_ns = 1e3\n",
    "norm_fact = 1/(np.sqrt(2))"
   ]
  },
  {
   "cell_type": "code",
   "execution_count": 2,
   "id": "fd7005fd",
   "metadata": {},
   "outputs": [],
   "source": [
    "num_qubit_states = 3\n",
    "\n",
    "g_state = qt.basis(num_qubit_states, 0)\n",
    "e_state = qt.basis(num_qubit_states, 1)\n",
    "f_state = qt.basis(num_qubit_states, 2)"
   ]
  },
  {
   "cell_type": "code",
   "execution_count": 3,
   "id": "6d2db6d5",
   "metadata": {},
   "outputs": [],
   "source": [
    "b1 = qt.tensor(qt.destroy(num_qubit_states), qt.qeye(num_qubit_states))\n",
    "b1dag = b1.dag() \n",
    "b2 = qt.tensor(qt.qeye(num_qubit_states), qt.destroy(num_qubit_states))\n",
    "b2dag = b2.dag() "
   ]
  },
  {
   "cell_type": "code",
   "execution_count": 4,
   "id": "eb9a0c9d",
   "metadata": {},
   "outputs": [],
   "source": [
    "gg_proj = qt.tensor(g_state, g_state).proj()\n",
    "ge_proj = qt.tensor(g_state, e_state).proj()\n",
    "gf_proj = qt.tensor(g_state, f_state).proj()\n",
    "\n",
    "eg_proj = qt.tensor(e_state, g_state).proj()\n",
    "ee_proj = qt.tensor(e_state, e_state).proj()\n",
    "ef_proj = qt.tensor(e_state, f_state).proj()\n",
    "\n",
    "fg_proj = qt.tensor(f_state, g_state).proj()\n",
    "fe_proj = qt.tensor(f_state, e_state).proj()\n",
    "ff_proj = qt.tensor(f_state, f_state).proj()"
   ]
  },
  {
   "cell_type": "markdown",
   "id": "a3f5afda",
   "metadata": {},
   "source": [
    "### Hamiltonian\n",
    "$H/\\hbar = \\sum_{i=1}^2{\\left(\\omega_i b_i^\\dagger b_i + \\frac{\\alpha_i}{2} b_i^\\dagger b_i^\\dagger b_i b_i\\right)} + J(b_1^\\dagger b_2+b_2^\\dagger b_1+b_1^\\dagger b_2^\\dagger+b_1 b_2)$"
   ]
  },
  {
   "cell_type": "code",
   "execution_count": 5,
   "id": "7bd962f4",
   "metadata": {},
   "outputs": [],
   "source": [
    "def hamiltonian(omega_1, omega_2, alpha_1, alpha_2, J_coupling):\n",
    "    t1 = (omega_1 * b1dag * b1) + (omega_2 * b2dag * b2)\n",
    "    t2 = (alpha_1 / 2 * b1dag * b1dag * b1 * b1) + (alpha_2 / 2 * b2dag * b2dag * b2 * b2)\n",
    "    t4 = J_coupling * (b1dag * b2 + b2dag * b1)\n",
    "    t5 = J_coupling * (b1dag * b2dag + b1 * b2)\n",
    "    return t1 + t2 + t4 + t5"
   ]
  },
  {
   "cell_type": "code",
   "execution_count": 6,
   "id": "1d7ec08d",
   "metadata": {},
   "outputs": [],
   "source": [
    "J_coupling = 2*π * 8\n",
    "t_start = 0\n",
    "t_end = 6 * π/(4*J_coupling) #π/4J ~ reach maximally entangled state (Jt = π/4)\n",
    "t_vec = np.linspace(t_start, t_end, 601)"
   ]
  },
  {
   "cell_type": "markdown",
   "id": "07fedd02",
   "metadata": {},
   "source": [
    "Calculate gate time"
   ]
  },
  {
   "cell_type": "code",
   "execution_count": 7,
   "id": "604ed366",
   "metadata": {},
   "outputs": [
    {
     "name": "stdout",
     "output_type": "stream",
     "text": [
      "0.0\n"
     ]
    },
    {
     "data": {
      "image/png": "[encoded data removed]",
      "text/plain": [
       "<Figure size 640x480 with 1 Axes>"
      ]
     },
     "metadata": {},
     "output_type": "display_data"
    }
   ],
   "source": [
    "omega1 = 2*π * 6000\n",
    "omega2 = 2*π * 6000\n",
    "alpha = 2*π * -300\n",
    "\n",
    "h = hamiltonian(omega_1=omega1, omega_2=omega2, alpha_1=alpha, alpha_2=alpha, J_coupling=J_coupling)\n",
    "\n",
    "psi0 = qt.tensor(e_state, g_state)\n",
    "te = qt.mesolve(h, psi0, t_vec, [], [])\n",
    "\n",
    "eg_pops = qt.expect(eg_proj, te.states)\n",
    "#argument of value closest to 0.5\n",
    "argmin = np.argmin(np.abs(eg_pops-0.5)[1:]) + 1\n",
    "plt.plot(t_vec, eg_pops)\n",
    "plt.scatter(t_vec[argmin], eg_pops[argmin], c='r')\n",
    "newt_vec = np.linspace(t_start, t_vec[argmin], 601)\n",
    "\n",
    "#note in 2010 Nature Paper Bialczak g/2 = J\n",
    "print(J_coupling * newt_vec[-1] - π/4) #SQiSW ==> gt = π/2, Jt = π/4, if print is 0 we are okay!"
   ]
  },
  {
   "cell_type": "markdown",
   "id": "634e98df",
   "metadata": {},
   "source": [
    "### On Resonance"
   ]
  },
  {
   "cell_type": "code",
   "execution_count": 8,
   "id": "7710184d",
   "metadata": {},
   "outputs": [],
   "source": [
    "omega1 = 2*π * 6000\n",
    "omega2 = 2*π * 6000\n",
    "alpha = 2*π * -300\n",
    "\n",
    "h = hamiltonian(omega_1=omega1, omega_2=omega2, alpha_1=alpha, alpha_2=alpha, J_coupling=J_coupling)"
   ]
  },
  {
   "cell_type": "markdown",
   "id": "1c921e55",
   "metadata": {},
   "source": [
    "Propogator function for specific hamiltonian"
   ]
  },
  {
   "cell_type": "code",
   "execution_count": 9,
   "id": "91169381",
   "metadata": {},
   "outputs": [
    {
     "data": {
      "text/latex": [
       "Quantum object: dims = [[3, 3], [3, 3]], shape = (9, 9), type = oper, isherm = False $ \\\\ \\left(\\begin{matrix}(1.000+5.236\\times10^{-04}j) & 0.0 & (-3.207\\times10^{-05}-2.238\\times10^{-05}j) & 0.0 & (-0.001+5.598\\times10^{-05}j) & 0.0 & (-3.207\\times10^{-05}-2.238\\times10^{-05}j) & 0.0 & (1.153\\times10^{-06}+2.668\\times10^{-07}j)\\\\0.0 & (-7.586\\times10^{-04}+0.707j) & 0.0 & (0.707+7.593\\times10^{-04}j) & 0.0 & (9.571\\times10^{-07}-6.925\\times10^{-04}j) & 0.0 & (-3.175\\times10^{-04}+8.913\\times10^{-04}j) & 0.0\\\\(-3.204\\times10^{-05}-2.236\\times10^{-05}j) & 0.0 & (0.342+0.937j) & 0.0 & (-0.049-0.033j) & 0.0 & (-0.041+0.013j) & 0.0 & (7.182\\times10^{-05}+4.859\\times10^{-05}j)\\\\0.0 & (0.707+7.593\\times10^{-04}j) & 0.0 & (-7.586\\times10^{-04}+0.707j) & 0.0 & (-3.175\\times10^{-04}+8.913\\times10^{-04}j) & 0.0 & (9.571\\times10^{-07}-6.925\\times10^{-04}j) & 0.0\\\\(-0.001+5.592\\times10^{-05}j) & 0.0 & (-0.049-0.033j) & 0.0 & (-0.993+0.084j) & 0.0 & (-0.049-0.033j) & 0.0 & (5.325\\times10^{-04}+9.001\\times10^{-04}j)\\\\0.0 & (9.459\\times10^{-07}-6.844\\times10^{-04}j) & 0.0 & (-3.138\\times10^{-04}+8.808\\times10^{-04}j) & 0.0 & (-2.324\\times10^{-06}-7.056\\times10^{-05}j) & 0.0 & (0.387+0.922j) & 0.0\\\\(-3.204\\times10^{-05}-2.236\\times10^{-05}j) & 0.0 & (-0.041+0.013j) & 0.0 & (-0.049-0.033j) & 0.0 & (0.342+0.937j) & 0.0 & (7.182\\times10^{-05}+4.859\\times10^{-05}j)\\\\0.0 & (-3.138\\times10^{-04}+8.808\\times10^{-04}j) & 0.0 & (9.459\\times10^{-07}-6.844\\times10^{-04}j) & 0.0 & (0.387+0.922j) & 0.0 & (-2.324\\times10^{-06}-7.056\\times10^{-05}j) & 0.0\\\\(1.078\\times10^{-06}+2.494\\times10^{-07}j) & 0.0 & (6.720\\times10^{-05}+4.546\\times10^{-05}j) & 0.0 & (4.983\\times10^{-04}+8.422\\times10^{-04}j) & 0.0 & (6.720\\times10^{-05}+4.546\\times10^{-05}j) & 0.0 & (-0.682+0.731j)\\\\\\end{matrix}\\right)$"
      ],
      "text/plain": [
       "Quantum object: dims = [[3, 3], [3, 3]], shape = (9, 9), type = oper, isherm = False\n",
       "Qobj data =\n",
       "[[ 9.99998978e-01+5.23637260e-04j  0.00000000e+00+0.00000000e+00j\n",
       "  -3.20725977e-05-2.23776364e-05j  0.00000000e+00+0.00000000e+00j\n",
       "  -1.32929080e-03+5.59798158e-05j  0.00000000e+00+0.00000000e+00j\n",
       "  -3.20725977e-05-2.23776364e-05j  0.00000000e+00+0.00000000e+00j\n",
       "   1.15340386e-06+2.66813092e-07j]\n",
       " [ 0.00000000e+00+0.00000000e+00j -7.58613035e-04+7.07105191e-01j\n",
       "   0.00000000e+00+0.00000000e+00j  7.07106607e-01+7.59289937e-04j\n",
       "   0.00000000e+00+0.00000000e+00j  9.57109483e-07-6.92549454e-04j\n",
       "   0.00000000e+00+0.00000000e+00j -3.17488845e-04+8.91297732e-04j\n",
       "   0.00000000e+00+0.00000000e+00j]\n",
       " [-3.20434465e-05-2.23572971e-05j  0.00000000e+00+0.00000000e+00j\n",
       "   3.41792646e-01+9.36949555e-01j  0.00000000e+00+0.00000000e+00j\n",
       "  -4.87932685e-02-3.26531448e-02j  0.00000000e+00+0.00000000e+00j\n",
       "  -4.10467728e-02+1.31346346e-02j  0.00000000e+00+0.00000000e+00j\n",
       "   7.18244746e-05+4.85917281e-05j]\n",
       " [ 0.00000000e+00+0.00000000e+00j  7.07106607e-01+7.59289937e-04j\n",
       "   0.00000000e+00+0.00000000e+00j -7.58613035e-04+7.07105191e-01j\n",
       "   0.00000000e+00+0.00000000e+00j -3.17488845e-04+8.91297732e-04j\n",
       "   0.00000000e+00+0.00000000e+00j  9.57109483e-07-6.92549454e-04j\n",
       "   0.00000000e+00+0.00000000e+00j]\n",
       " [-1.32787895e-03+5.59203593e-05j  0.00000000e+00+0.00000000e+00j\n",
       "  -4.87857869e-02-3.26481380e-02j  0.00000000e+00+0.00000000e+00j\n",
       "  -9.92962556e-01+8.44311138e-02j  0.00000000e+00+0.00000000e+00j\n",
       "  -4.87857869e-02-3.26481380e-02j  0.00000000e+00+0.00000000e+00j\n",
       "   5.32493717e-04+9.00078981e-04j]\n",
       " [ 0.00000000e+00+0.00000000e+00j  9.45886760e-07-6.84428867e-04j\n",
       "   0.00000000e+00+0.00000000e+00j -3.13766085e-04+8.80846695e-04j\n",
       "   0.00000000e+00+0.00000000e+00j -2.32360405e-06-7.05622019e-05j\n",
       "   0.00000000e+00+0.00000000e+00j  3.87167857e-01+9.22008498e-01j\n",
       "   0.00000000e+00+0.00000000e+00j]\n",
       " [-3.20434465e-05-2.23572971e-05j  0.00000000e+00+0.00000000e+00j\n",
       "  -4.10467728e-02+1.31346346e-02j  0.00000000e+00+0.00000000e+00j\n",
       "  -4.87932685e-02-3.26531448e-02j  0.00000000e+00+0.00000000e+00j\n",
       "   3.41792646e-01+9.36949555e-01j  0.00000000e+00+0.00000000e+00j\n",
       "   7.18244746e-05+4.85917281e-05j]\n",
       " [ 0.00000000e+00+0.00000000e+00j -3.13766085e-04+8.80846695e-04j\n",
       "   0.00000000e+00+0.00000000e+00j  9.45886760e-07-6.84428867e-04j\n",
       "   0.00000000e+00+0.00000000e+00j  3.87167857e-01+9.22008498e-01j\n",
       "   0.00000000e+00+0.00000000e+00j -2.32360405e-06-7.05622019e-05j\n",
       "   0.00000000e+00+0.00000000e+00j]\n",
       " [ 1.07811765e-06+2.49397381e-07j  0.00000000e+00+0.00000000e+00j\n",
       "   6.71973467e-05+4.54613169e-05j  0.00000000e+00+0.00000000e+00j\n",
       "   4.98265424e-04+8.42222587e-04j  0.00000000e+00+0.00000000e+00j\n",
       "   6.71973467e-05+4.54613169e-05j  0.00000000e+00+0.00000000e+00j\n",
       "  -6.81874396e-01+7.31468522e-01j]]"
      ]
     },
     "execution_count": 9,
     "metadata": {},
     "output_type": "execute_result"
    }
   ],
   "source": [
    "propogator = qt.propagator(h, newt_vec)\n",
    "propogator[-1]"
   ]
  },
  {
   "cell_type": "code",
   "execution_count": 10,
   "id": "7c2ebc00",
   "metadata": {},
   "outputs": [
    {
     "data": {
      "text/latex": [
       "Quantum object: dims = [[3, 3], [3, 3]], shape = (9, 9), type = oper, isherm = False $ \\\\ \\left(\\begin{matrix}(1.000+5.236\\times10^{-04}j) & 0.0 & (-3.207\\times10^{-05}-2.238\\times10^{-05}j) & 0.0 & (-0.001+5.598\\times10^{-05}j) & 0.0 & (-3.207\\times10^{-05}-2.238\\times10^{-05}j) & 0.0 & (1.153\\times10^{-06}+2.668\\times10^{-07}j)\\\\0.0 & (-7.586\\times10^{-04}+0.707j) & 0.0 & (0.707+7.593\\times10^{-04}j) & 0.0 & (9.571\\times10^{-07}-6.925\\times10^{-04}j) & 0.0 & (-3.175\\times10^{-04}+8.913\\times10^{-04}j) & 0.0\\\\(-3.204\\times10^{-05}-2.236\\times10^{-05}j) & 0.0 & (0.342+0.937j) & 0.0 & (-0.049-0.033j) & 0.0 & (-0.041+0.013j) & 0.0 & (7.182\\times10^{-05}+4.859\\times10^{-05}j)\\\\0.0 & (0.707+7.593\\times10^{-04}j) & 0.0 & (-7.586\\times10^{-04}+0.707j) & 0.0 & (-3.175\\times10^{-04}+8.913\\times10^{-04}j) & 0.0 & (9.571\\times10^{-07}-6.925\\times10^{-04}j) & 0.0\\\\(-0.001+5.592\\times10^{-05}j) & 0.0 & (-0.049-0.033j) & 0.0 & (-0.993+0.084j) & 0.0 & (-0.049-0.033j) & 0.0 & (5.325\\times10^{-04}+9.001\\times10^{-04}j)\\\\0.0 & (9.459\\times10^{-07}-6.844\\times10^{-04}j) & 0.0 & (-3.138\\times10^{-04}+8.808\\times10^{-04}j) & 0.0 & (-2.324\\times10^{-06}-7.056\\times10^{-05}j) & 0.0 & (0.387+0.922j) & 0.0\\\\(-3.204\\times10^{-05}-2.236\\times10^{-05}j) & 0.0 & (-0.041+0.013j) & 0.0 & (-0.049-0.033j) & 0.0 & (0.342+0.937j) & 0.0 & (7.182\\times10^{-05}+4.859\\times10^{-05}j)\\\\0.0 & (-3.138\\times10^{-04}+8.808\\times10^{-04}j) & 0.0 & (9.459\\times10^{-07}-6.844\\times10^{-04}j) & 0.0 & (0.387+0.922j) & 0.0 & (-2.324\\times10^{-06}-7.056\\times10^{-05}j) & 0.0\\\\(1.078\\times10^{-06}+2.494\\times10^{-07}j) & 0.0 & (6.720\\times10^{-05}+4.546\\times10^{-05}j) & 0.0 & (4.983\\times10^{-04}+8.422\\times10^{-04}j) & 0.0 & (6.720\\times10^{-05}+4.546\\times10^{-05}j) & 0.0 & (-0.682+0.731j)\\\\\\end{matrix}\\right)$"
      ],
      "text/plain": [
       "Quantum object: dims = [[3, 3], [3, 3]], shape = (9, 9), type = oper, isherm = False\n",
       "Qobj data =\n",
       "[[ 9.99998978e-01+5.23637260e-04j  0.00000000e+00+0.00000000e+00j\n",
       "  -3.20725977e-05-2.23776364e-05j  0.00000000e+00+0.00000000e+00j\n",
       "  -1.32929080e-03+5.59798158e-05j  0.00000000e+00+0.00000000e+00j\n",
       "  -3.20725977e-05-2.23776364e-05j  0.00000000e+00+0.00000000e+00j\n",
       "   1.15340386e-06+2.66813092e-07j]\n",
       " [ 0.00000000e+00+0.00000000e+00j -7.58613035e-04+7.07105191e-01j\n",
       "   0.00000000e+00+0.00000000e+00j  7.07106607e-01+7.59289937e-04j\n",
       "   0.00000000e+00+0.00000000e+00j  9.57109483e-07-6.92549454e-04j\n",
       "   0.00000000e+00+0.00000000e+00j -3.17488845e-04+8.91297732e-04j\n",
       "   0.00000000e+00+0.00000000e+00j]\n",
       " [-3.20434465e-05-2.23572971e-05j  0.00000000e+00+0.00000000e+00j\n",
       "   3.41792646e-01+9.36949555e-01j  0.00000000e+00+0.00000000e+00j\n",
       "  -4.87932685e-02-3.26531448e-02j  0.00000000e+00+0.00000000e+00j\n",
       "  -4.10467728e-02+1.31346346e-02j  0.00000000e+00+0.00000000e+00j\n",
       "   7.18244746e-05+4.85917281e-05j]\n",
       " [ 0.00000000e+00+0.00000000e+00j  7.07106607e-01+7.59289937e-04j\n",
       "   0.00000000e+00+0.00000000e+00j -7.58613035e-04+7.07105191e-01j\n",
       "   0.00000000e+00+0.00000000e+00j -3.17488845e-04+8.91297732e-04j\n",
       "   0.00000000e+00+0.00000000e+00j  9.57109483e-07-6.92549454e-04j\n",
       "   0.00000000e+00+0.00000000e+00j]\n",
       " [-1.32787895e-03+5.59203593e-05j  0.00000000e+00+0.00000000e+00j\n",
       "  -4.87857869e-02-3.26481380e-02j  0.00000000e+00+0.00000000e+00j\n",
       "  -9.92962556e-01+8.44311138e-02j  0.00000000e+00+0.00000000e+00j\n",
       "  -4.87857869e-02-3.26481380e-02j  0.00000000e+00+0.00000000e+00j\n",
       "   5.32493717e-04+9.00078981e-04j]\n",
       " [ 0.00000000e+00+0.00000000e+00j  9.45886760e-07-6.84428867e-04j\n",
       "   0.00000000e+00+0.00000000e+00j -3.13766085e-04+8.80846695e-04j\n",
       "   0.00000000e+00+0.00000000e+00j -2.32360405e-06-7.05622019e-05j\n",
       "   0.00000000e+00+0.00000000e+00j  3.87167857e-01+9.22008498e-01j\n",
       "   0.00000000e+00+0.00000000e+00j]\n",
       " [-3.20434465e-05-2.23572971e-05j  0.00000000e+00+0.00000000e+00j\n",
       "  -4.10467728e-02+1.31346346e-02j  0.00000000e+00+0.00000000e+00j\n",
       "  -4.87932685e-02-3.26531448e-02j  0.00000000e+00+0.00000000e+00j\n",
       "   3.41792646e-01+9.36949555e-01j  0.00000000e+00+0.00000000e+00j\n",
       "   7.18244746e-05+4.85917281e-05j]\n",
       " [ 0.00000000e+00+0.00000000e+00j -3.13766085e-04+8.80846695e-04j\n",
       "   0.00000000e+00+0.00000000e+00j  9.45886760e-07-6.84428867e-04j\n",
       "   0.00000000e+00+0.00000000e+00j  3.87167857e-01+9.22008498e-01j\n",
       "   0.00000000e+00+0.00000000e+00j -2.32360405e-06-7.05622019e-05j\n",
       "   0.00000000e+00+0.00000000e+00j]\n",
       " [ 1.07811765e-06+2.49397381e-07j  0.00000000e+00+0.00000000e+00j\n",
       "   6.71973467e-05+4.54613169e-05j  0.00000000e+00+0.00000000e+00j\n",
       "   4.98265424e-04+8.42222587e-04j  0.00000000e+00+0.00000000e+00j\n",
       "   6.71973467e-05+4.54613169e-05j  0.00000000e+00+0.00000000e+00j\n",
       "  -6.81874396e-01+7.31468522e-01j]]"
      ]
     },
     "execution_count": 10,
     "metadata": {},
     "output_type": "execute_result"
    }
   ],
   "source": [
    "propogator[-1]"
   ]
  },
  {
   "cell_type": "code",
   "execution_count": 117,
   "id": "a1a1300c",
   "metadata": {},
   "outputs": [],
   "source": [
    "def diagonalize(matrix):\n",
    "    eig, eigstates = matrix.eigenstates()\n",
    "    obj = (\n",
    "        np.array(eigstates[0]), np.array(eigstates[1]), np.array(eigstates[2]), \n",
    "        np.array(eigstates[3]), np.array(eigstates[4]), np.array(eigstates[5]),\n",
    "        np.array(eigstates[6]), np.array(eigstates[7]), np.array(eigstates[8]),\n",
    "    )\n",
    "    U = np.column_stack(obj)\n",
    "    T = qt.Qobj(U)\n",
    "    D = qt.Qobj(np.diag(eig))\n",
    "    Tinv = qt.Qobj.inv(T)\n",
    "    diagonalh = Tinv * D * T\n",
    "    \n",
    "    H_compbasis = qt.Qobj(np.diag((diagonalh[0,0], diagonalh[1,1], diagonalh[3,3], diagonalh[4,4])))\n",
    "    \n",
    "    return diagonalh, H_compbasis"
   ]
  },
  {
   "cell_type": "code",
   "execution_count": 125,
   "id": "8dd34826",
   "metadata": {},
   "outputs": [],
   "source": [
    "x1, x2 = diagonalize(propogator[-1])\n",
    "y1, y2 = diagonalize(h)"
   ]
  },
  {
   "cell_type": "code",
   "execution_count": 130,
   "id": "6ee1eb1f",
   "metadata": {},
   "outputs": [
    {
     "data": {
      "text/latex": [
       "Quantum object: dims = [[4], [4]], shape = (4, 4), type = oper, isherm = False $ \\\\ \\left(\\begin{matrix}(0.303+0.952j) & 0.0 & 0.0 & 0.0\\\\0.0 & (-0.548-0.108j) & 0.0 & 0.0\\\\0.0 & 0.0 & (0.545+0.816j) & 0.0\\\\0.0 & 0.0 & 0.0 & (-0.146+0.827j)\\\\\\end{matrix}\\right)$"
      ],
      "text/plain": [
       "Quantum object: dims = [[4], [4]], shape = (4, 4), type = oper, isherm = False\n",
       "Qobj data =\n",
       "[[ 0.30314165+0.95218267j  0.        +0.j          0.        +0.j\n",
       "   0.        +0.j        ]\n",
       " [ 0.        +0.j         -0.54751668-0.10786571j  0.        +0.j\n",
       "   0.        +0.j        ]\n",
       " [ 0.        +0.j          0.        +0.j          0.54459285+0.81583874j\n",
       "   0.        +0.j        ]\n",
       " [ 0.        +0.j          0.        +0.j          0.        +0.j\n",
       "  -0.1460799 +0.827059j  ]]"
      ]
     },
     "execution_count": 130,
     "metadata": {},
     "output_type": "execute_result"
    }
   ],
   "source": [
    "x2"
   ]
  },
  {
   "cell_type": "markdown",
   "id": "ae47bfa5",
   "metadata": {},
   "source": [
    "Diagonalize time independent hamiltonian"
   ]
  },
  {
   "cell_type": "markdown",
   "id": "823802f3",
   "metadata": {},
   "source": [
    "Change to $|g, g\\rangle, |g, e\\rangle, |e, g\\rangle, |e, e\\rangle$ Basis"
   ]
  },
  {
   "cell_type": "code",
   "execution_count": 102,
   "id": "fe2e4bfa",
   "metadata": {},
   "outputs": [
    {
     "data": {
      "text/latex": [
       "Quantum object: dims = [[4], [4]], shape = (4, 4), type = oper, isherm = True $ \\\\ \\left(\\begin{matrix}-8.376\\times10^{-04} & 0.0 & 0.0 & 0.0\\\\0.0 & 5.558\\times10^{+04} & 0.0 & 0.0\\\\0.0 & 0.0 & 7.443\\times10^{+04} & 0.0\\\\0.0 & 0.0 & 0.0 & 7.443\\times10^{+04}\\\\\\end{matrix}\\right)$"
      ],
      "text/plain": [
       "Quantum object: dims = [[4], [4]], shape = (4, 4), type = oper, isherm = True\n",
       "Qobj data =\n",
       "[[-8.37592333e-04  0.00000000e+00  0.00000000e+00  0.00000000e+00]\n",
       " [ 0.00000000e+00  5.55783848e+04  0.00000000e+00  0.00000000e+00]\n",
       " [ 0.00000000e+00  0.00000000e+00  7.44280259e+04  0.00000000e+00]\n",
       " [ 0.00000000e+00  0.00000000e+00  0.00000000e+00  7.44306132e+04]]"
      ]
     },
     "execution_count": 102,
     "metadata": {},
     "output_type": "execute_result"
    }
   ],
   "source": [
    "H_compbasis = qt.Qobj(np.diag((diagonalh[0,0], diagonalh[1,1], diagonalh[3,3], diagonalh[4,4])))\n",
    "H_compbasis"
   ]
  },
  {
   "cell_type": "markdown",
   "id": "7efee58e",
   "metadata": {},
   "source": [
    "What I expect..."
   ]
  },
  {
   "cell_type": "code",
   "execution_count": 109,
   "id": "c013379a",
   "metadata": {},
   "outputs": [
    {
     "data": {
      "text/latex": [
       "Quantum object: dims = [[4], [4]], shape = (4, 4), type = oper, isherm = False $ \\\\ \\left(\\begin{matrix}1.0 & 0.0 & 0.0 & 0.0\\\\0.0 & (0.707+0.707j) & 0.0 & 0.0\\\\0.0 & 0.0 & (0.707+0.707j) & 0.0\\\\0.0 & 0.0 & 0.0 & 1.0\\\\\\end{matrix}\\right)$"
      ],
      "text/plain": [
       "Quantum object: dims = [[4], [4]], shape = (4, 4), type = oper, isherm = False\n",
       "Qobj data =\n",
       "[[1.        +0.j         0.        +0.j         0.        +0.j\n",
       "  0.        +0.j        ]\n",
       " [0.        +0.j         0.70710678+0.70710678j 0.        +0.j\n",
       "  0.        +0.j        ]\n",
       " [0.        +0.j         0.        +0.j         0.70710678+0.70710678j\n",
       "  0.        +0.j        ]\n",
       " [0.        +0.j         0.        +0.j         0.        +0.j\n",
       "  1.        +0.j        ]]"
      ]
     },
     "execution_count": 109,
     "metadata": {},
     "output_type": "execute_result"
    }
   ],
   "source": [
    "qt.Qobj(np.diag((1, np.exp(1j*π/4), np.exp(1j*π/4), 1)))"
   ]
  },
  {
   "cell_type": "code",
   "execution_count": null,
   "id": "a861b46f",
   "metadata": {},
   "outputs": [],
   "source": []
  },
  {
   "cell_type": "code",
   "execution_count": null,
   "id": "c36ccab8",
   "metadata": {},
   "outputs": [],
   "source": []
  },
  {
   "cell_type": "markdown",
   "id": "d06665ea",
   "metadata": {},
   "source": [
    "Reminder of 3 Level Basis Choice"
   ]
  },
  {
   "cell_type": "code",
   "execution_count": 62,
   "id": "fa19fa94",
   "metadata": {},
   "outputs": [
    {
     "name": "stdout",
     "output_type": "stream",
     "text": [
      "[[1.+0.j]] [[1.+0.j]] [[1.+0.j]] [[1.+0.j]] [[1.+0.j]] [[1.+0.j]] [[1.+0.j]] [[1.+0.j]] [[1.+0.j]]\n"
     ]
    }
   ],
   "source": [
    "psi0 = qt.tensor(g_state, g_state)\n",
    "psi1 = qt.tensor(g_state, e_state)\n",
    "psi2 = qt.tensor(g_state, f_state)\n",
    "psi3 = qt.tensor(e_state, g_state)\n",
    "psi4 = qt.tensor(e_state, e_state)\n",
    "psi5 = qt.tensor(e_state, f_state)\n",
    "psi6 = qt.tensor(f_state, g_state)\n",
    "psi7 = qt.tensor(f_state, e_state)\n",
    "psi8 = qt.tensor(f_state, f_state)\n",
    "\n",
    "\n",
    "print(psi0[0], psi1[1], psi2[2], psi3[3], psi4[4], psi5[5], \n",
    "      psi6[6], psi7[7], psi8[8])"
   ]
  },
  {
   "cell_type": "code",
   "execution_count": 11,
   "id": "a578f19e",
   "metadata": {},
   "outputs": [],
   "source": [
    "#some edit"
   ]
  },
  {
   "cell_type": "code",
   "execution_count": null,
   "id": "a088d2c7",
   "metadata": {},
   "outputs": [],
   "source": []
  }
 ],
 "metadata": {
  "kernelspec": {
   "display_name": "Python 3 (ipykernel)",
   "language": "python",
   "name": "python3"
  },
  "language_info": {
   "codemirror_mode": {
    "name": "ipython",
    "version": 3
   },
   "file_extension": ".py",
   "mimetype": "text/x-python",
   "name": "python",
   "nbconvert_exporter": "python",
   "pygments_lexer": "ipython3",
   "version": "3.9.6"
  }
 },
 "nbformat": 4,
 "nbformat_minor": 5
}
