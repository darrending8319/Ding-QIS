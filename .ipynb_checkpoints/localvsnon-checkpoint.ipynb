{
 "cells": [
  {
   "cell_type": "code",
   "execution_count": 1,
   "id": "1a76e783-884e-4869-b950-9d7b16e92ac1",
   "metadata": {},
   "outputs": [],
   "source": [
    "import matplotlib.pyplot as plt\n",
    "import numpy as np\n",
    "import qutip as qt\n",
    "\n",
    "π = np.pi"
   ]
  },
  {
   "cell_type": "markdown",
   "id": "a66604f1",
   "metadata": {},
   "source": [
    "## Basis Definition"
   ]
  },
  {
   "cell_type": "markdown",
   "id": "9ac20f8c-8ae4-4bb5-831c-e2a552cb3f40",
   "metadata": {},
   "source": [
    "Bell_00 / $|\\Phi^+\\rangle$ = $\\frac{1}{\\sqrt{2}} \\left( |00\\rangle + |11\\rangle \\right)$\n",
    "\n",
    "Bell_01 / $|\\Phi^-\\rangle$ = $\\frac{1}{\\sqrt{2}} \\left( |00\\rangle - |11\\rangle \\right)$\n",
    "\n",
    "Bell_10 / $|\\Psi^+\\rangle$ =  $\\frac{1}{\\sqrt{2}} \\left( |01\\rangle + |10\\rangle \\right)$\n",
    "\n",
    "Bell_11 / $|\\Psi^-\\rangle$ =  $\\frac{1}{\\sqrt{2}} \\left( |01\\rangle - |10\\rangle \\right)$"
   ]
  },
  {
   "cell_type": "code",
   "execution_count": 2,
   "id": "f7577835-95cb-4b40-be59-f0b369804806",
   "metadata": {},
   "outputs": [],
   "source": [
    "Bell_00 = qt.bell_state('00')\n",
    "Bell_01 = qt.bell_state('01')\n",
    "Bell_10 = qt.bell_state('10')\n",
    "Bell_11 = qt.bell_state('11')"
   ]
  },
  {
   "cell_type": "markdown",
   "id": "1fb215c8-aef8-4f57-9f2d-586e2d8749c0",
   "metadata": {},
   "source": [
    "Magic_1 / $|\\Phi_1\\rangle$ = $|\\Phi^+\\rangle$\n",
    "\n",
    "Magic_2 / $|\\Phi_2\\rangle$ = $-i|\\Phi^-\\rangle$\n",
    "\n",
    "Magic_3 / $|\\Psi_3\\rangle$ = $|\\Psi^-\\rangle$\n",
    "\n",
    "Magic_4 / $|\\Psi_4\\rangle$ = $-i|\\Psi^+\\rangle$"
   ]
  },
  {
   "cell_type": "code",
   "execution_count": 3,
   "id": "6583fdf1-8b55-4236-a4aa-5f98af6bd17f",
   "metadata": {},
   "outputs": [],
   "source": [
    "#kraus cirac definition\n",
    "Magic_1 = Bell_00\n",
    "Magic_2 = -1j * Bell_01\n",
    "Magic_3 = Bell_11\n",
    "Magic_4 = -1j * Bell_10"
   ]
  },
  {
   "cell_type": "markdown",
   "id": "3786a62c",
   "metadata": {},
   "source": [
    "Many different ways to define the magic basis - Here is the one in Vatan Williams 2004, Gates States referenced in the weyl chamber paper (This is different than Kraus Cirac)\n",
    "\n",
    "Simply stacking the column vectors of the bell basis in matrix representation side by side"
   ]
  },
  {
   "cell_type": "code",
   "execution_count": 4,
   "id": "a497f74d",
   "metadata": {},
   "outputs": [
    {
     "data": {
      "text/latex": [
       "Quantum object: dims = [[4], [4]], shape = (4, 4), type = oper, isherm = False $ \\\\ \\left(\\begin{matrix}0.707 & 0.707j & 0.0 & 0.0\\\\0.0 & 0.0 & 0.707j & 0.707\\\\0.0 & 0.0 & 0.707j & -0.707\\\\0.707 & -0.707j & 0.0 & 0.0\\\\\\end{matrix}\\right)$"
      ],
      "text/plain": [
       "Quantum object: dims = [[4], [4]], shape = (4, 4), type = oper, isherm = False\n",
       "Qobj data =\n",
       "[[ 0.70710678+0.j          0.        +0.70710678j  0.        +0.j\n",
       "   0.        +0.j        ]\n",
       " [ 0.        +0.j          0.        +0.j          0.        +0.70710678j\n",
       "   0.70710678+0.j        ]\n",
       " [ 0.        +0.j          0.        +0.j          0.        +0.70710678j\n",
       "  -0.70710678+0.j        ]\n",
       " [ 0.70710678+0.j          0.        -0.70710678j  0.        +0.j\n",
       "   0.        +0.j        ]]"
      ]
     },
     "execution_count": 4,
     "metadata": {},
     "output_type": "execute_result"
    }
   ],
   "source": [
    "#Transform from the standard basis to the magic basis\n",
    "Q1 = qt.Qobj((1/np.sqrt(2)) * np.array([[1, 1j, 0, 0],\n",
    "                                       [0, 0, 1j, 1],\n",
    "                                       [0, 0, 1j, -1],\n",
    "                                       [1, -1j, 0, 0]], dtype=complex))\n",
    "Q1"
   ]
  },
  {
   "cell_type": "code",
   "execution_count": 5,
   "id": "2bf7f486",
   "metadata": {},
   "outputs": [
    {
     "data": {
      "text/latex": [
       "Quantum object: dims = [[4], [4]], shape = (4, 4), type = oper, isherm = False $ \\\\ \\left(\\begin{matrix}0.707 & -0.707j & 0.0 & 0.0\\\\0.0 & 0.0 & 0.707 & -0.707j\\\\0.0 & 0.0 & -0.707 & -0.707j\\\\0.707 & 0.707j & 0.0 & 0.0\\\\\\end{matrix}\\right)$"
      ],
      "text/plain": [
       "Quantum object: dims = [[4], [4]], shape = (4, 4), type = oper, isherm = False\n",
       "Qobj data =\n",
       "[[ 0.70710678+0.j          0.        -0.70710678j  0.        +0.j\n",
       "   0.        +0.j        ]\n",
       " [ 0.        +0.j          0.        +0.j          0.70710678+0.j\n",
       "   0.        -0.70710678j]\n",
       " [ 0.        +0.j          0.        +0.j         -0.70710678+0.j\n",
       "   0.        -0.70710678j]\n",
       " [ 0.70710678+0.j          0.        +0.70710678j  0.        +0.j\n",
       "   0.        +0.j        ]]"
      ]
     },
     "execution_count": 5,
     "metadata": {},
     "output_type": "execute_result"
    }
   ],
   "source": [
    "#Kraus Cirac\n",
    "Q2 = qt.Qobj(np.column_stack([Magic_1, Magic_2, Magic_3, Magic_4]))\n",
    "Q2"
   ]
  },
  {
   "cell_type": "code",
   "execution_count": 220,
   "id": "a57da053",
   "metadata": {},
   "outputs": [
    {
     "data": {
      "text/latex": [
       "Quantum object: dims = [[4], [4]], shape = (4, 4), type = oper, isherm = False $ \\\\ \\left(\\begin{matrix}0.707 & 0.0 & 0.0 & 0.707\\\\-0.707j & 0.0 & 0.0 & 0.707j\\\\0.0 & 0.707 & -0.707 & 0.0\\\\0.0 & -0.707j & -0.707j & 0.0\\\\\\end{matrix}\\right)$"
      ],
      "text/plain": [
       "Quantum object: dims = [[4], [4]], shape = (4, 4), type = oper, isherm = False\n",
       "Qobj data =\n",
       "[[ 0.70710678+0.j          0.        +0.j          0.        +0.j\n",
       "   0.70710678+0.j        ]\n",
       " [ 0.        -0.70710678j  0.        +0.j          0.        +0.j\n",
       "   0.        +0.70710678j]\n",
       " [ 0.        +0.j          0.70710678+0.j         -0.70710678+0.j\n",
       "   0.        +0.j        ]\n",
       " [ 0.        +0.j          0.        -0.70710678j  0.        -0.70710678j\n",
       "   0.        +0.j        ]]"
      ]
     },
     "execution_count": 220,
     "metadata": {},
     "output_type": "execute_result"
    }
   ],
   "source": [
    "Q2.trans() #this is the change of basis matrix that I computed with the kraus cirac representation of the magic basis\n",
    "           #this matrix should transform from the standard basis to the magic basis"
   ]
  },
  {
   "cell_type": "markdown",
   "id": "3b11d8e2",
   "metadata": {},
   "source": [
    "## Functions"
   ]
  },
  {
   "cell_type": "code",
   "execution_count": 6,
   "id": "25da3f9e-1755-4eb6-a89a-3f606d536182",
   "metadata": {},
   "outputs": [],
   "source": [
    "#http://home.lu.lv/~sd20008/papers/essays/Random%20unitary%20[paper].pdf\n",
    "def U_matrix(alpha, phi, psi, chi):\n",
    "    pre = np.exp(1j * alpha)\n",
    "    a = np.exp(1j * psi) * np.cos(phi) \n",
    "    b = np.exp(1j * chi) * np.sin(phi)\n",
    "    c = -1 * np.exp(-1j * chi) * np.sin(phi)\n",
    "    d = np.exp(-1j * psi) * np.cos(phi)\n",
    "    U = pre * np.array([[a, b],\n",
    "                  [c, d]], \n",
    "                 dtype=complex)\n",
    "    return U\n",
    "\n",
    "def randSU2():\n",
    "    alpha = np.random.uniform(0, 2*π)\n",
    "    psi = np.random.uniform(0, 2*π)\n",
    "    chi = np.random.uniform(0, 2*π)\n",
    "    phi = np.random.uniform(0, π/2)\n",
    "    x = qt.Qobj(U_matrix(alpha, phi, psi, chi))\n",
    "    return x\n",
    "\n",
    "#input a np.array state in the standard basis\n",
    "#computed change of basis matrix on my ipad, turns out it's the transpose of Q... not sure why atm\n",
    "def concurrence(state):\n",
    "    basistransform = qt.Qobj(Q2.trans()*state)\n",
    "    conc = np.abs(basistransform[0][0][0]**2 + \n",
    "           basistransform[1][0][0]**2 + \n",
    "           basistransform[2][0][0]**2 + \n",
    "           basistransform[3][0][0]**2)\n",
    "    return conc\n",
    "\n",
    "def can_decomp(tx, ty, tz):\n",
    "    xx = qt.Qobj(np.kron(qt.sigmax(), qt.sigmax()))\n",
    "    yy = qt.Qobj(np.kron(qt.sigmay(), qt.sigmay()))\n",
    "    zz = qt.Qobj(np.kron(qt.sigmaz(), qt.sigmaz()))\n",
    "\n",
    "    return ((tx*xx + ty*yy + tz*zz)*(-1j*π/2)).expm()"
   ]
  },
  {
   "cell_type": "code",
   "execution_count": 200,
   "id": "b481eaf7-1745-45a2-8cd8-7d64bd2d598b",
   "metadata": {},
   "outputs": [],
   "source": [
    "#check that randomly generated matrix in SU(2) is unitary\n",
    "temp = []\n",
    "for i in range(0, 100, 1):\n",
    "    x = randSU2()\n",
    "    temp.append(x*x.dag() == qt.Qobj(np.identity(2)))\n",
    "    \n",
    "    if (x*x.dag() != qt.Qobj(np.identity(2))):\n",
    "        print(1)\n",
    "        \n",
    "        \n",
    "temp = []\n",
    "for i in range(0, 100, 1):\n",
    "    x = randSU2()\n",
    "    y = randSU2()\n",
    "    xy = qt.Qobj(np.kron(x,y))\n",
    "    temp.append(xy*xy.dag())\n",
    "    \n",
    "    if (xy*xy.dag() != qt.Qobj(np.identity(4))):\n",
    "        print(1)"
   ]
  },
  {
   "cell_type": "markdown",
   "id": "f65c9b15",
   "metadata": {},
   "source": [
    "## Canonical Gates are diagonal in the magic basis"
   ]
  },
  {
   "cell_type": "code",
   "execution_count": 72,
   "id": "5a561fd1-36e1-4678-8f32-c6fb2717ee5d",
   "metadata": {},
   "outputs": [
    {
     "data": {
      "text/latex": [
       "Quantum object: dims = [[4], [4]], shape = (4, 4), type = oper, isherm = False $ \\\\ \\left(\\begin{matrix}(0.577-0.113j) & 0.0 & 0.0 & (-0.156-0.793j)\\\\0.0 & (-0.104-0.020j) & (0.192-0.976j) & 0.0\\\\0.0 & (0.192-0.976j) & (-0.104-0.020j) & 0.0\\\\(-0.156-0.793j) & 0.0 & 0.0 & (0.577-0.113j)\\\\\\end{matrix}\\right)$"
      ],
      "text/plain": [
       "Quantum object: dims = [[4], [4]], shape = (4, 4), type = oper, isherm = False\n",
       "Qobj data =\n",
       "[[ 0.57749833-0.11337506j  0.        +0.j          0.        +0.j\n",
       "  -0.15574879-0.79333731j]\n",
       " [ 0.        +0.j         -0.10372525-0.02036345j  0.1915644 -0.97577122j\n",
       "   0.        +0.j        ]\n",
       " [ 0.        +0.j          0.1915644 -0.97577122j -0.10372525-0.02036345j\n",
       "   0.        +0.j        ]\n",
       " [-0.15574879-0.79333731j  0.        +0.j          0.        +0.j\n",
       "   0.57749833-0.11337506j]]"
      ]
     },
     "execution_count": 72,
     "metadata": {},
     "output_type": "execute_result"
    }
   ],
   "source": [
    "U = can_decomp(0.83342, 0.234, 0.1234123)\n",
    "U"
   ]
  },
  {
   "cell_type": "markdown",
   "id": "03145e68",
   "metadata": {},
   "source": [
    "any canonical gate is diagonal in the magic basis"
   ]
  },
  {
   "cell_type": "code",
   "execution_count": 73,
   "id": "667db03e-90b9-4dea-b1f7-01e06ab843f5",
   "metadata": {},
   "outputs": [
    {
     "data": {
      "text/latex": [
       "Quantum object: dims = [[4], [4]], shape = (4, 4), type = oper, isherm = False $ \\\\ \\left(\\begin{matrix}(0.422-0.907j) & 0.0 & 0.0 & 0.0\\\\0.0 & (0.733+0.680j) & 0.0 & 0.0\\\\0.0 & 0.0 & (0.088-0.996j) & 0.0\\\\0.0 & 0.0 & 0.0 & (-0.295+0.955j)\\\\\\end{matrix}\\right)$"
      ],
      "text/plain": [
       "Quantum object: dims = [[4], [4]], shape = (4, 4), type = oper, isherm = False\n",
       "Qobj data =\n",
       "[[ 0.42174955-0.90671237j  0.        +0.j          0.        +0.j\n",
       "   0.        +0.j        ]\n",
       " [ 0.        +0.j          0.73324712+0.67996225j  0.        +0.j\n",
       "   0.        +0.j        ]\n",
       " [ 0.        +0.j          0.        +0.j          0.08783915-0.99613467j\n",
       "   0.        +0.j        ]\n",
       " [ 0.        +0.j          0.        +0.j          0.        +0.j\n",
       "  -0.29528965+0.95540778j]]"
      ]
     },
     "execution_count": 73,
     "metadata": {},
     "output_type": "execute_result"
    }
   ],
   "source": [
    "D = Q1.dag() * U * Q1\n",
    "D"
   ]
  },
  {
   "cell_type": "markdown",
   "id": "d55ec080",
   "metadata": {},
   "source": [
    "## Nearest Kronecker Decomposition"
   ]
  },
  {
   "cell_type": "code",
   "execution_count": 74,
   "id": "7510ad14-5596-4ea5-a0a2-836f21e5821a",
   "metadata": {},
   "outputs": [],
   "source": [
    "x1 = randSU2()\n",
    "y1 = randSU2()\n",
    "\n",
    "x2 = randSU2()\n",
    "y2 = randSU2()"
   ]
  },
  {
   "cell_type": "code",
   "execution_count": 75,
   "id": "4deda6af",
   "metadata": {},
   "outputs": [],
   "source": [
    "#code from Gates and States page 47 for kroneker decomposition\n",
    "\n",
    "def nearest_kronecker_product(C):\n",
    "    C = C.reshape(2, 2, 2, 2)\n",
    "    C = C.transpose(0, 2, 1, 3)\n",
    "    C = C.reshape(4, 4)\n",
    "    u, sv, vh = np.linalg.svd(C)\n",
    "    A = np.sqrt(sv[0]) * u[:, 0].reshape(2, 2)\n",
    "    B = np.sqrt(sv[0]) * vh[0, :].reshape(2, 2)\n",
    "    \n",
    "    return A, B"
   ]
  },
  {
   "cell_type": "code",
   "execution_count": 76,
   "id": "c21f3ff1-618d-4029-8196-24be134a14e3",
   "metadata": {},
   "outputs": [],
   "source": [
    "xy1 = qt.Qobj(np.kron(x1, x1)) #the otimes of two SU(2) matrices span SO(4)\n",
    "xy2 = qt.Qobj(np.kron(x2, y2))"
   ]
  },
  {
   "cell_type": "code",
   "execution_count": 77,
   "id": "16c4450f",
   "metadata": {},
   "outputs": [
    {
     "data": {
      "text/latex": [
       "Quantum object: dims = [[2], [2]], shape = (2, 2), type = oper, isherm = False $ \\\\ \\left(\\begin{matrix}(-0.921+0.342j) & (0.142+0.118j)\\\\(-0.144-0.115j) & (0.152-0.971j)\\\\\\end{matrix}\\right)$"
      ],
      "text/plain": [
       "Quantum object: dims = [[2], [2]], shape = (2, 2), type = oper, isherm = False\n",
       "Qobj data =\n",
       "[[-0.92129827+0.34235299j  0.14162368+0.118096j  ]\n",
       " [-0.1439791 -0.11521265j  0.15164537-0.97108174j]]"
      ]
     },
     "execution_count": 77,
     "metadata": {},
     "output_type": "execute_result"
    }
   ],
   "source": [
    "qt.Qobj(nearest_kronecker_product(np.array(xy1))[0])"
   ]
  },
  {
   "cell_type": "code",
   "execution_count": 78,
   "id": "30434a7a",
   "metadata": {},
   "outputs": [
    {
     "data": {
      "text/latex": [
       "Quantum object: dims = [[2], [2]], shape = (2, 2), type = oper, isherm = False $ \\\\ \\left(\\begin{matrix}(-0.967+0.174j) & (0.118+0.141j)\\\\(-0.121-0.139j) & (0.321-0.929j)\\\\\\end{matrix}\\right)$"
      ],
      "text/plain": [
       "Quantum object: dims = [[2], [2]], shape = (2, 2), type = oper, isherm = False\n",
       "Qobj data =\n",
       "[[-0.96734042+0.17392118j  0.11849092+0.14129344j]\n",
       " [-0.12131939-0.13887239j  0.32109076-0.92892238j]]"
      ]
     },
     "execution_count": 78,
     "metadata": {},
     "output_type": "execute_result"
    }
   ],
   "source": [
    "x1"
   ]
  },
  {
   "cell_type": "code",
   "execution_count": null,
   "id": "a26393fc",
   "metadata": {},
   "outputs": [],
   "source": [
    "#not quite the same..."
   ]
  },
  {
   "cell_type": "code",
   "execution_count": 79,
   "id": "4e640949-cf79-4a56-bda5-90f990e68c4a",
   "metadata": {},
   "outputs": [
    {
     "data": {
      "text/latex": [
       "Quantum object: dims = [[4], [4]], shape = (4, 4), type = oper, isherm = False $ \\\\ \\left(\\begin{matrix}(0.451+0.485j) & (-0.542+0.021j) & (0.174-0.252j) & (-0.210-0.360j)\\\\(0.125-0.711j) & (-0.463-0.296j) & (0.227+0.147j) & (0.216-0.240j)\\\\(0.062+0.036j) & (-0.103+0.259j) & (0.158-0.512j) & (0.735+0.301j)\\\\(0.028+0.187j) & (-0.324+0.470j) & (-0.188+0.715j) & (0.300+0.037j)\\\\\\end{matrix}\\right)$"
      ],
      "text/plain": [
       "Quantum object: dims = [[4], [4]], shape = (4, 4), type = oper, isherm = False\n",
       "Qobj data =\n",
       "[[ 0.45070725+0.48510425j -0.54208112+0.0209179j   0.17385401-0.25156535j\n",
       "  -0.20998987-0.36005728j]\n",
       " [ 0.12471587-0.71063096j -0.46335984-0.29578586j  0.22692399+0.14689925j\n",
       "   0.21594481-0.23989985j]\n",
       " [ 0.06192557+0.03620537j -0.10262653+0.25933967j  0.15782847-0.51152211j\n",
       "   0.73481212+0.3009179j ]\n",
       " [ 0.02840172+0.18717418j -0.32405443+0.46980671j -0.18815991+0.71515517j\n",
       "   0.30032007+0.03723357j]]"
      ]
     },
     "execution_count": 79,
     "metadata": {},
     "output_type": "execute_result"
    }
   ],
   "source": [
    "xy1*U*xy2"
   ]
  },
  {
   "cell_type": "markdown",
   "id": "c30b09d5",
   "metadata": {},
   "source": [
    "## Test 1"
   ]
  },
  {
   "cell_type": "code",
   "execution_count": 80,
   "id": "ec600ddb-b94c-4bb0-b578-f18d05e428aa",
   "metadata": {},
   "outputs": [],
   "source": [
    "num_qubit_states = 2\n",
    "\n",
    "g_state = qt.basis(num_qubit_states, 0)\n",
    "e_state = qt.basis(num_qubit_states, 1)"
   ]
  },
  {
   "cell_type": "code",
   "execution_count": 208,
   "id": "257dd345",
   "metadata": {},
   "outputs": [],
   "source": [
    "#same thing as a kroneker product between individual states\n",
    "state1 = qt.tensor(g_state, g_state)\n",
    "state2 = qt.tensor(g_state, e_state)\n",
    "state3 = qt.tensor(e_state, g_state)\n",
    "state4 = qt.tensor(e_state, e_state)"
   ]
  },
  {
   "cell_type": "code",
   "execution_count": 210,
   "id": "a0b17615",
   "metadata": {},
   "outputs": [
    {
     "data": {
      "text/plain": [
       "array([[0.+0.j],\n",
       "       [0.+0.j],\n",
       "       [0.+0.j],\n",
       "       [1.+0.j]])"
      ]
     },
     "execution_count": 210,
     "metadata": {},
     "output_type": "execute_result"
    }
   ],
   "source": [
    "psi_i = np.array(state4)\n",
    "psi_i"
   ]
  },
  {
   "cell_type": "code",
   "execution_count": 211,
   "id": "0081677e",
   "metadata": {},
   "outputs": [
    {
     "data": {
      "text/plain": [
       "0.0"
      ]
     },
     "execution_count": 211,
     "metadata": {},
     "output_type": "execute_result"
    }
   ],
   "source": [
    "concurrence(psi_i)"
   ]
  },
  {
   "cell_type": "code",
   "execution_count": 212,
   "id": "16a84064",
   "metadata": {},
   "outputs": [
    {
     "data": {
      "text/latex": [
       "Quantum object: dims = [[4], [4]], shape = (4, 4), type = oper, isherm = False $ \\\\ \\left(\\begin{matrix}0.707 & 0.0 & 0.0 & -0.707j\\\\0.0 & 0.707 & -0.707j & 0.0\\\\0.0 & -0.707j & 0.707 & 0.0\\\\-0.707j & 0.0 & 0.0 & 0.707\\\\\\end{matrix}\\right)$"
      ],
      "text/plain": [
       "Quantum object: dims = [[4], [4]], shape = (4, 4), type = oper, isherm = False\n",
       "Qobj data =\n",
       "[[0.70710678+0.j         0.        +0.j         0.        +0.j\n",
       "  0.        -0.70710678j]\n",
       " [0.        +0.j         0.70710678+0.j         0.        -0.70710678j\n",
       "  0.        +0.j        ]\n",
       " [0.        +0.j         0.        -0.70710678j 0.70710678+0.j\n",
       "  0.        +0.j        ]\n",
       " [0.        -0.70710678j 0.        +0.j         0.        +0.j\n",
       "  0.70710678+0.j        ]]"
      ]
     },
     "execution_count": 212,
     "metadata": {},
     "output_type": "execute_result"
    }
   ],
   "source": [
    "U = can_decomp(0.5, 0, 0)\n",
    "U #CNOT"
   ]
  },
  {
   "cell_type": "code",
   "execution_count": 213,
   "id": "395ce2ac-5179-4c37-9a64-ef20ab81c832",
   "metadata": {},
   "outputs": [
    {
     "data": {
      "text/latex": [
       "Quantum object: dims = [[4], [1]], shape = (4, 1), type = ket $ \\\\ \\left(\\begin{matrix}-0.707j\\\\0.0\\\\0.0\\\\0.707\\\\\\end{matrix}\\right)$"
      ],
      "text/plain": [
       "Quantum object: dims = [[4], [1]], shape = (4, 1), type = ket\n",
       "Qobj data =\n",
       "[[0.        -0.70710678j]\n",
       " [0.        +0.j        ]\n",
       " [0.        +0.j        ]\n",
       " [0.70710678+0.j        ]]"
      ]
     },
     "execution_count": 213,
     "metadata": {},
     "output_type": "execute_result"
    }
   ],
   "source": [
    "psi_f1 = qt.Qobj(U*psi_i)\n",
    "psi_f1"
   ]
  },
  {
   "cell_type": "code",
   "execution_count": 214,
   "id": "c9a54a49",
   "metadata": {},
   "outputs": [
    {
     "data": {
      "text/plain": [
       "0.9999999999999998"
      ]
     },
     "execution_count": 214,
     "metadata": {},
     "output_type": "execute_result"
    }
   ],
   "source": [
    "concurrence(psi_f1)"
   ]
  },
  {
   "cell_type": "code",
   "execution_count": 215,
   "id": "5ee70e16",
   "metadata": {},
   "outputs": [],
   "source": [
    "x1 = randSU2()\n",
    "y1 = randSU2()\n",
    "\n",
    "x2 = randSU2()\n",
    "y2 = randSU2()"
   ]
  },
  {
   "cell_type": "code",
   "execution_count": 216,
   "id": "555b18f4",
   "metadata": {},
   "outputs": [],
   "source": [
    "#spans SU(2) kron SU(2)\n",
    "xy1 = qt.Qobj(np.kron(x1, y1))\n",
    "xy2 = qt.Qobj(np.kron(x2, y2))"
   ]
  },
  {
   "cell_type": "code",
   "execution_count": 217,
   "id": "79a417f4",
   "metadata": {},
   "outputs": [
    {
     "data": {
      "text/latex": [
       "Quantum object: dims = [[4], [4]], shape = (4, 4), type = oper, isherm = False $ \\\\ \\left(\\begin{matrix}(-0.521-0.142j) & (-0.173+0.412j) & (-0.371+0.491j) & (0.196+0.303j)\\\\(-0.296+0.236j) & (-0.345-0.500j) & (0.169+0.397j) & (-0.549+0.002j)\\\\(-0.526+0.073j) & (0.027-0.475j) & (0.089-0.432j) & (0.447+0.310j)\\\\(-0.031+0.531j) & (0.444+0.087j) & (-0.451-0.192j) & (-0.391+0.345j)\\\\\\end{matrix}\\right)$"
      ],
      "text/plain": [
       "Quantum object: dims = [[4], [4]], shape = (4, 4), type = oper, isherm = False\n",
       "Qobj data =\n",
       "[[-0.52108131-0.14209487j -0.17272878+0.41177411j -0.37061353+0.49106957j\n",
       "   0.19639234+0.30301239j]\n",
       " [-0.29631816+0.23570389j -0.34524818-0.49975017j  0.16904888+0.39729246j\n",
       "  -0.54888079+0.00193356j]\n",
       " [-0.52631932+0.07311433j  0.02663179-0.47520857j  0.08938415-0.43231564j\n",
       "   0.44715863+0.31027833j]\n",
       " [-0.03063389+0.53068481j  0.44440181+0.08737794j -0.45079169-0.19229657j\n",
       "  -0.39147186+0.34476947j]]"
      ]
     },
     "execution_count": 217,
     "metadata": {},
     "output_type": "execute_result"
    }
   ],
   "source": [
    "U_prime = xy1*U*xy2 #multiply a canonical gate directly on both sides with two sets of two single qubit gates\n",
    "U_prime"
   ]
  },
  {
   "cell_type": "code",
   "execution_count": 218,
   "id": "57a77d2f",
   "metadata": {},
   "outputs": [
    {
     "data": {
      "text/plain": [
       "0.27006406903484637"
      ]
     },
     "execution_count": 218,
     "metadata": {},
     "output_type": "execute_result"
    }
   ],
   "source": [
    "psi_f2 = qt.Qobj(U_prime*psi_i)\n",
    "concurrence(psi_f2)"
   ]
  },
  {
   "cell_type": "code",
   "execution_count": 219,
   "id": "e68fbc6f",
   "metadata": {},
   "outputs": [
    {
     "data": {
      "text/latex": [
       "Quantum object: dims = [[4], [1]], shape = (4, 1), type = ket $ \\\\ \\left(\\begin{matrix}(0.196+0.303j)\\\\(-0.549+0.002j)\\\\(0.447+0.310j)\\\\(-0.391+0.345j)\\\\\\end{matrix}\\right)$"
      ],
      "text/plain": [
       "Quantum object: dims = [[4], [1]], shape = (4, 1), type = ket\n",
       "Qobj data =\n",
       "[[ 0.19639234+0.30301239j]\n",
       " [-0.54888079+0.00193356j]\n",
       " [ 0.44715863+0.31027833j]\n",
       " [-0.39147186+0.34476947j]]"
      ]
     },
     "execution_count": 219,
     "metadata": {},
     "output_type": "execute_result"
    }
   ],
   "source": [
    "psi_f2 #clearly coefficients are not real..."
   ]
  },
  {
   "cell_type": "markdown",
   "id": "f81f41dc",
   "metadata": {},
   "source": [
    "If I haven't made a serious mistake somewhere, U_prime and U should be locally equivalent as they differ solely by single qubit gates... why is the concurrence of the final wave function different??? Either I've made a serious error somewhere in my code or I misread statements made in papers"
   ]
  },
  {
   "cell_type": "code",
   "execution_count": null,
   "id": "5d7f3f19",
   "metadata": {},
   "outputs": [],
   "source": []
  },
  {
   "cell_type": "code",
   "execution_count": null,
   "id": "b187d446",
   "metadata": {},
   "outputs": [],
   "source": []
  },
  {
   "cell_type": "code",
   "execution_count": null,
   "id": "18ad17eb-78e1-404d-b4ed-a63b2db7d241",
   "metadata": {},
   "outputs": [],
   "source": []
  },
  {
   "cell_type": "code",
   "execution_count": null,
   "id": "ea63e739",
   "metadata": {},
   "outputs": [],
   "source": []
  }
 ],
 "metadata": {
  "kernelspec": {
   "display_name": "Python 3 (ipykernel)",
   "language": "python",
   "name": "python3"
  },
  "language_info": {
   "codemirror_mode": {
    "name": "ipython",
    "version": 3
   },
   "file_extension": ".py",
   "mimetype": "text/x-python",
   "name": "python",
   "nbconvert_exporter": "python",
   "pygments_lexer": "ipython3",
   "version": "3.9.6"
  }
 },
 "nbformat": 4,
 "nbformat_minor": 5
}
