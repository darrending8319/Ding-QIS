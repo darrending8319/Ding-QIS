{
 "cells": [
  {
   "cell_type": "code",
   "execution_count": 1,
   "id": "80d6506c",
   "metadata": {},
   "outputs": [],
   "source": [
    "import matplotlib.pyplot as plt\n",
    "import numpy as np\n",
    "import qutip as qt\n",
    "import scipy\n",
    "\n",
    "π = np.pi\n",
    "µs_to_ns = 1e3"
   ]
  },
  {
   "cell_type": "markdown",
   "id": "a526e223",
   "metadata": {},
   "source": [
    "## 2 Capacitively Coupled Transmon Qubits (including f state energy level)"
   ]
  },
  {
   "cell_type": "code",
   "execution_count": 7,
   "id": "fd7005fd",
   "metadata": {},
   "outputs": [],
   "source": [
    "#states\n",
    "num_qubit_states = 3\n",
    "\n",
    "g_state = qt.basis(num_qubit_states, 0)\n",
    "e_state = qt.basis(num_qubit_states, 1)\n",
    "f_state = qt.basis(num_qubit_states, 2)\n",
    "\n",
    "#operators\n",
    "b1 = qt.tensor(qt.destroy(num_qubit_states), qt.qeye(num_qubit_states))\n",
    "b1dag = b1.dag() \n",
    "b2 = qt.tensor(qt.qeye(num_qubit_states), qt.destroy(num_qubit_states))\n",
    "b2dag = b2.dag() \n",
    "\n",
    "gg_proj = qt.tensor(g_state, g_state).proj()\n",
    "ge_proj = qt.tensor(g_state, e_state).proj()\n",
    "gf_proj = qt.tensor(g_state, f_state).proj()\n",
    "\n",
    "eg_proj = qt.tensor(e_state, g_state).proj()\n",
    "ee_proj = qt.tensor(e_state, e_state).proj()\n",
    "ef_proj = qt.tensor(e_state, f_state).proj()\n",
    "\n",
    "fg_proj = qt.tensor(f_state, g_state).proj()\n",
    "fe_proj = qt.tensor(f_state, e_state).proj()\n",
    "ff_proj = qt.tensor(f_state, f_state).proj()"
   ]
  },
  {
   "cell_type": "markdown",
   "id": "a3f5afda",
   "metadata": {},
   "source": [
    "## Hamiltonian (included counter rotating terms)\n",
    "$H/\\hbar = \\sum_{i=1}^2{\\left(\\omega_i b_i^\\dagger b_i + \\frac{\\alpha_i}{2} b_i^\\dagger b_i^\\dagger b_i b_i\\right)} + J(b_1^\\dagger b_2+b_2^\\dagger b_1+b_1^\\dagger b_2^\\dagger+b_1 b_2)$"
   ]
  },
  {
   "cell_type": "code",
   "execution_count": 9,
   "id": "7bd962f4",
   "metadata": {},
   "outputs": [],
   "source": [
    "def hamiltonian(omega_1, omega_2, alpha_1, alpha_2, J_coupling):\n",
    "    t1 = (omega_1 * b1dag * b1) + (omega_2 * b2dag * b2)\n",
    "    t2 = (alpha_1 / 2 * b1dag * b1dag * b1 * b1) + (alpha_2 / 2 * b2dag * b2dag * b2 * b2)\n",
    "    t4 = J_coupling * (b1dag * b2 + b2dag * b1)\n",
    "    t5 = J_coupling * (b1dag * b2dag + b1 * b2)\n",
    "    return t1 + t2 + t5 +t4\n",
    "\n",
    "def nocounter(omega_1, omega_2, alpha_1, alpha_2, J_coupling):\n",
    "    t1 = (omega_1 * b1dag * b1) + (omega_2 * b2dag * b2)\n",
    "    t2 = (alpha_1 / 2 * b1dag * b1dag * b1 * b1) + (alpha_2 / 2 * b2dag * b2dag * b2 * b2)\n",
    "    t4 = J_coupling * (b1dag * b2 + b2dag * b1)\n",
    "    return t1 + t2 + t4"
   ]
  },
  {
   "cell_type": "markdown",
   "id": "a987430f",
   "metadata": {},
   "source": [
    "### Gate Times Investigation"
   ]
  },
  {
   "cell_type": "code",
   "execution_count": 10,
   "id": "3c78ec65",
   "metadata": {},
   "outputs": [
    {
     "name": "stdout",
     "output_type": "stream",
     "text": [
      "0.7861711930858316 0.7861711930858316 0.7853981633974483\n",
      "0.499225299301686 0.49922042809871503 0.5\n",
      "339 339\n"
     ]
    },
    {
     "data": {
      "image/png": "[encoded data removed]",
      "text/plain": [
       "<Figure size 640x480 with 1 Axes>"
      ]
     },
     "metadata": {},
     "output_type": "display_data"
    }
   ],
   "source": [
    "def calc_gatetime(t_vec, omega1, omega2, alpha, J_coupling, hamiltonian, plotbool):\n",
    "    h = hamiltonian(omega_1=omega1, omega_2=omega2, alpha_1=alpha, alpha_2=alpha, J_coupling=J_coupling)\n",
    "    psi0 = qt.tensor(e_state, g_state) #start in eg state\n",
    "    te = qt.mesolve(h, psi0, t_vec, [], []) #time evolve with t_vec\n",
    "    eg_pops = qt.expect(eg_proj, te.states)\n",
    "    argmin = np.argmin(np.abs(eg_pops-0.5)[1:]) + 1 #argument of value closest to 0.5\n",
    "    if plotbool == True:\n",
    "        fig = plt.figure()\n",
    "        plt.plot(t_vec, eg_pops) #blue line\n",
    "        plt.scatter(t_vec[argmin], eg_pops[argmin], c='r') #red dot \n",
    "    return eg_pops[argmin], t_vec[argmin], argmin\n",
    "\n",
    "J_coupling = 2*π * 8\n",
    "t_start = 0\n",
    "t_end = 6 * π/(4*J_coupling) #π/4J ~ reach maximally entangled state (Jt = π/4)\n",
    "t_vec = np.linspace(t_start, t_end/4, 509)\n",
    "omega1 = 2*π * 6000\n",
    "omega2 = 2*π * 6000\n",
    "alpha = 2*π * -300\n",
    "\n",
    "pop, gatetime, arg = calc_gatetime(t_vec, omega1, omega2, alpha, J_coupling, hamiltonian, True)\n",
    "pop_no, gatetime_no, arg_no = calc_gatetime(t_vec, omega1, omega2, alpha, J_coupling, nocounter, False)\n",
    "\n",
    "#note in 2010 Nature Paper Bialczak SQiSW: g/2 = J, gt = π/2, Jt = π/4\n",
    "print(J_coupling * gatetime, J_coupling * gatetime_no, π/4)\n",
    "print(pop, pop_no, 0.5)\n",
    "print(arg, arg_no)"
   ]
  },
  {
   "cell_type": "markdown",
   "id": "93073958",
   "metadata": {},
   "source": [
    "#### Takeaways: \n",
    "- population number for with or without counter rotating terms are different (good), whereas gatetimes are identical\n",
    "- with specific time vector, minization function locates gatetime for both hamiltonians that is identical to the analytical gatetime\n",
    "- varied time vectors can lead to minimazation function landing on differing gatetimes between w/, w/o, theoretical gatetimes "
   ]
  },
  {
   "cell_type": "markdown",
   "id": "1af67916",
   "metadata": {},
   "source": [
    "## Sanity Check, are mesolve / qt.propogator / theoretical SQiSW unitary in agreement\n",
    "1. Start: 4 initial wave functions <br>\n",
    "2. Evolve until full population is recovered using: i: mesolve, ii: propogator, iii: unitary <br>\n",
    "3. Compare final states via fidelity measurement (should all be 1)"
   ]
  },
  {
   "cell_type": "code",
   "execution_count": 11,
   "id": "7710184d",
   "metadata": {},
   "outputs": [
    {
     "name": "stdout",
     "output_type": "stream",
     "text": [
      "0.9999999917941078\n",
      "0.9999999829723749\n",
      "0.9999999829723752\n",
      "0.9999999824892357\n",
      "0.9999997572348015\n",
      "0.9999935316233698\n",
      "0.9999935316233699\n",
      "0.9991605492548539\n"
     ]
    }
   ],
   "source": [
    "_, gatetime, _ = calc_gatetime(t_vec, omega1, omega2, alpha, J_coupling, hamiltonian, False)\n",
    "h = hamiltonian(omega_1=omega1, omega_2=omega2, alpha_1=alpha, alpha_2=alpha, J_coupling=J_coupling)\n",
    "sanity_t_vec = np.linspace(t_start, 4*gatetime, 601) #time vector to recover all of initial population (4*SQiSW time)\n",
    "\n",
    "psi0 = qt.Qobj(np.array(qt.tensor(g_state, g_state)))\n",
    "psi1 = qt.Qobj(np.array(qt.tensor(g_state, e_state)))\n",
    "psi2 = qt.Qobj(np.array(qt.tensor(e_state, g_state)))\n",
    "psi3 = qt.Qobj(np.array(qt.tensor(e_state, e_state)))\n",
    "\n",
    "def compute_propogator(h, t_vec): #output propogator matrix\n",
    "    propogator = qt.propagator(h, t_vec)\n",
    "    prop = qt.Qobj(np.array(propogator[-1]))\n",
    "    return prop\n",
    "\n",
    "def compute_unitary(phi_1, phi_2, phi_3): #output theoretical unitary evolution matrix\n",
    "    return qt.Qobj(np.array(\n",
    "        qt.tensor(g_state, g_state).proj() * 1\n",
    "        + qt.tensor(e_state, g_state).proj() * np.exp(1j*phi_1)\n",
    "        + qt.tensor(g_state, e_state).proj() * np.exp(1j*phi_2)\n",
    "        + qt.tensor(f_state, g_state).proj() * 1\n",
    "        + qt.tensor(e_state, e_state).proj() * np.exp(1j*phi_3)\n",
    "        + qt.tensor(g_state, f_state).proj() * 1\n",
    "        + qt.tensor(f_state, e_state).proj() * 1\n",
    "        + qt.tensor(e_state, f_state).proj() * 1\n",
    "        + qt.tensor(f_state, f_state).proj() * 1\n",
    "    ))\n",
    "\n",
    "def sesolve_evolution(psi0, psi1, psi2, psi3, h): #output final states\n",
    "    te0 = qt.mesolve(h, psi0, sanity_t_vec, [], [])\n",
    "    te1 = qt.mesolve(h, psi1, sanity_t_vec, [], [])\n",
    "    te2 = qt.mesolve(h, psi2, sanity_t_vec, [], [])\n",
    "    te3 = qt.mesolve(h, psi3, sanity_t_vec, [], [])\n",
    "    return te0.states[-1], te1.states[-1], te2.states[-1], te3.states[-1]  \n",
    "\n",
    "sanityprop = compute_propogator(h, sanity_t_vec)\n",
    "sanitytunit = compute_unitary(π/4, π/4, π)\n",
    "s0, s1, s2, s3 = sesolve_evolution(psi0, psi1, psi2, psi3, h)\n",
    "\n",
    "print(qt.fidelity(s0, sanityprop * psi0))\n",
    "print(qt.fidelity(s1, sanityprop * psi1))\n",
    "print(qt.fidelity(s2, sanityprop * psi2))\n",
    "print(qt.fidelity(s3, sanityprop * psi3))\n",
    "print(qt.fidelity(s0, sanitytunit * psi0))\n",
    "print(qt.fidelity(s1, sanitytunit * psi1))\n",
    "print(qt.fidelity(s2, sanitytunit * psi2))\n",
    "print(qt.fidelity(s3, sanitytunit * psi3))"
   ]
  },
  {
   "cell_type": "markdown",
   "id": "2d9ce4a7",
   "metadata": {},
   "source": [
    "note: fidelities of |11> initial state evolution most greatly deviates from 1 ==> Swap + CZ shared interaction\n",
    "##### ____ _______End of Sanity Check_______ ____"
   ]
  },
  {
   "cell_type": "markdown",
   "id": "c6db66a9",
   "metadata": {},
   "source": [
    "# SQiSW Simulation\n",
    "## Goal: estimate fidelities"
   ]
  },
  {
   "cell_type": "markdown",
   "id": "dace4da7",
   "metadata": {},
   "source": [
    "### 1: Via Propogator-- compare unitary operators"
   ]
  },
  {
   "cell_type": "code",
   "execution_count": 26,
   "id": "4392c09f",
   "metadata": {},
   "outputs": [
    {
     "data": {
      "text/latex": [
       "Quantum object: dims = [[9], [9]], shape = (9, 9), type = oper, isherm = False $ \\\\ \\left(\\begin{matrix}(1.000+5.245\\times10^{-04}j) & 0.0 & (-3.286\\times10^{-05}+2.030\\times10^{-05}j) & 0.0 & (-8.803\\times10^{-04}+6.290\\times10^{-04}j) & 0.0 & (-3.286\\times10^{-05}+2.030\\times10^{-05}j) & 0.0 & (1.286\\times10^{-06}-9.150\\times10^{-07}j)\\\\0.0 & (0.386+0.592j) & 0.0 & (0.592-0.387j) & 0.0 & (-3.791\\times10^{-04}-5.800\\times10^{-04}j) & 0.0 & (2.514\\times10^{-04}-1.156\\times10^{-04}j) & 0.0\\\\(-3.283\\times10^{-05}+2.029\\times10^{-05}j) & 0.0 & (0.993+0.090j) & 0.0 & (-0.049+0.031j) & 0.0 & (-0.006+0.043j) & 0.0 & (7.388\\times10^{-05}-4.600\\times10^{-05}j)\\\\0.0 & (0.592-0.387j) & 0.0 & (0.386+0.592j) & 0.0 & (2.514\\times10^{-04}-1.156\\times10^{-04}j) & 0.0 & (-3.791\\times10^{-04}-5.800\\times10^{-04}j) & 0.0\\\\(-8.794\\times10^{-04}+6.283\\times10^{-04}j) & 0.0 & (-0.049+0.031j) & 0.0 & (-0.319+0.944j) & 0.0 & (-0.049+0.031j) & 0.0 & (0.002-0.001j)\\\\0.0 & (-3.747\\times10^{-04}-5.732\\times10^{-04}j) & 0.0 & (2.485\\times10^{-04}-1.143\\times10^{-04}j) & 0.0 & (-8.609\\times10^{-04}-0.001j) & 0.0 & (0.859-0.512j) & 0.0\\\\(-3.283\\times10^{-05}+2.029\\times10^{-05}j) & 0.0 & (-0.006+0.043j) & 0.0 & (-0.049+0.031j) & 0.0 & (0.993+0.090j) & 0.0 & (7.388\\times10^{-05}-4.600\\times10^{-05}j)\\\\0.0 & (2.485\\times10^{-04}-1.143\\times10^{-04}j) & 0.0 & (-3.747\\times10^{-04}-5.732\\times10^{-04}j) & 0.0 & (0.859-0.512j) & 0.0 & (-8.609\\times10^{-04}-0.001j) & 0.0\\\\(1.202\\times10^{-06}-8.552\\times10^{-07}j) & 0.0 & (6.912\\times10^{-05}-4.303\\times10^{-05}j) & 0.0 & (0.002-0.001j) & 0.0 & (6.912\\times10^{-05}-4.303\\times10^{-05}j) & 0.0 & (0.998+0.060j)\\\\\\end{matrix}\\right)$"
      ],
      "text/plain": [
       "Quantum object: dims = [[9], [9]], shape = (9, 9), type = oper, isherm = False\n",
       "Qobj data =\n",
       "[[ 9.99999277e-01+5.24534145e-04j  0.00000000e+00+0.00000000e+00j\n",
       "  -3.28575337e-05+2.03046840e-05j  0.00000000e+00+0.00000000e+00j\n",
       "  -8.80304925e-04+6.28965258e-04j  0.00000000e+00+0.00000000e+00j\n",
       "  -3.28575337e-05+2.03046840e-05j  0.00000000e+00+0.00000000e+00j\n",
       "   1.28616699e-06-9.15029556e-07j]\n",
       " [ 0.00000000e+00+0.00000000e+00j  3.86441513e-01+5.91513529e-01j\n",
       "   0.00000000e+00+0.00000000e+00j  5.92430336e-01-3.87040638e-01j\n",
       "   0.00000000e+00+0.00000000e+00j -3.79125033e-04-5.79970066e-04j\n",
       "   0.00000000e+00+0.00000000e+00j  2.51415391e-04-1.15644706e-04j\n",
       "   0.00000000e+00+0.00000000e+00j]\n",
       " [-3.28276401e-05+2.02862110e-05j  0.00000000e+00+0.00000000e+00j\n",
       "   9.93301272e-01+9.01394143e-02j  0.00000000e+00+0.00000000e+00j\n",
       "  -4.93064587e-02+3.05896500e-02j  0.00000000e+00+0.00000000e+00j\n",
       "  -5.57688350e-03+4.27848056e-02j  0.00000000e+00+0.00000000e+00j\n",
       "   7.38825063e-05-4.59965858e-05j]\n",
       " [ 0.00000000e+00+0.00000000e+00j  5.92430336e-01-3.87040638e-01j\n",
       "   0.00000000e+00+0.00000000e+00j  3.86441513e-01+5.91513529e-01j\n",
       "   0.00000000e+00+0.00000000e+00j  2.51415391e-04-1.15644706e-04j\n",
       "   0.00000000e+00+0.00000000e+00j -3.79125033e-04-5.79970066e-04j\n",
       "   0.00000000e+00+0.00000000e+00j]\n",
       " [-8.79369043e-04+6.28296584e-04j  0.00000000e+00+0.00000000e+00j\n",
       "  -4.92988911e-02+3.05849551e-02j  0.00000000e+00+0.00000000e+00j\n",
       "  -3.19484389e-01+9.44028706e-01j  0.00000000e+00+0.00000000e+00j\n",
       "  -4.92988911e-02+3.05849551e-02j  0.00000000e+00+0.00000000e+00j\n",
       "   1.88036209e-03-1.33203065e-03j]\n",
       " [ 0.00000000e+00+0.00000000e+00j -3.74675258e-04-5.73162980e-04j\n",
       "   0.00000000e+00+0.00000000e+00j  2.48464538e-04-1.14287388e-04j\n",
       "   0.00000000e+00+0.00000000e+00j -8.60946184e-04-1.31559234e-03j\n",
       "   0.00000000e+00+0.00000000e+00j  8.59197799e-01-5.11640610e-01j\n",
       "   0.00000000e+00+0.00000000e+00j]\n",
       " [-3.28276401e-05+2.02862110e-05j  0.00000000e+00+0.00000000e+00j\n",
       "  -5.57688350e-03+4.27848056e-02j  0.00000000e+00+0.00000000e+00j\n",
       "  -4.93064587e-02+3.05896500e-02j  0.00000000e+00+0.00000000e+00j\n",
       "   9.93301272e-01+9.01394143e-02j  0.00000000e+00+0.00000000e+00j\n",
       "   7.38825063e-05-4.59965858e-05j]\n",
       " [ 0.00000000e+00+0.00000000e+00j  2.48464538e-04-1.14287388e-04j\n",
       "   0.00000000e+00+0.00000000e+00j -3.74675258e-04-5.73162980e-04j\n",
       "   0.00000000e+00+0.00000000e+00j  8.59197799e-01-5.11640610e-01j\n",
       "   0.00000000e+00+0.00000000e+00j -8.60946184e-04-1.31559234e-03j\n",
       "   0.00000000e+00+0.00000000e+00j]\n",
       " [ 1.20213599e-06-8.55246614e-07j  0.00000000e+00+0.00000000e+00j\n",
       "   6.91183176e-05-4.30305736e-05j  0.00000000e+00+0.00000000e+00j\n",
       "   1.75938015e-03-1.24632819e-03j  0.00000000e+00+0.00000000e+00j\n",
       "   6.91183176e-05-4.30305736e-05j  0.00000000e+00+0.00000000e+00j\n",
       "   9.98199463e-01+5.99375242e-02j]]"
      ]
     },
     "execution_count": 26,
     "metadata": {},
     "output_type": "execute_result"
    }
   ],
   "source": [
    "_, gatetime, _ = calc_gatetime(t_vec, omega1, omega2, alpha, J_coupling, hamiltonian, False)\n",
    "h = hamiltonian(omega_1=omega1, omega_2=omega2, alpha_1=alpha, alpha_2=alpha, J_coupling=J_coupling)\n",
    "newt_vec = np.linspace(t_start, gatetime, 601)\n",
    "propogator = compute_propogator(h, newt_vec)\n",
    "propogator"
   ]
  },
  {
   "cell_type": "code",
   "execution_count": 27,
   "id": "6ca0d640",
   "metadata": {},
   "outputs": [
    {
     "data": {
      "text/latex": [
       "Quantum object: dims = [[9], [1]], shape = (9, 1), type = ket $ \\\\ \\left(\\begin{matrix}0.0\\\\(-3.265\\times10^{-05}-5.028\\times10^{-05}j)\\\\0.0\\\\(5.116\\times10^{-05}-3.360\\times10^{-05}j)\\\\0.0\\\\(-9.541\\times10^{-06}+2.505\\times10^{-05}j)\\\\0.0\\\\(-4.921\\times10^{-08}+1.873\\times10^{-07}j)\\\\0.0\\\\\\end{matrix}\\right)$"
      ],
      "text/plain": [
       "Quantum object: dims = [[9], [1]], shape = (9, 1), type = ket\n",
       "Qobj data =\n",
       "[[ 0.00000000e+00+0.00000000e+00j]\n",
       " [-3.26532917e-05-5.02751367e-05j]\n",
       " [ 0.00000000e+00+0.00000000e+00j]\n",
       " [ 5.11557372e-05-3.35969824e-05j]\n",
       " [ 0.00000000e+00+0.00000000e+00j]\n",
       " [-9.54107086e-06+2.50488245e-05j]\n",
       " [ 0.00000000e+00+0.00000000e+00j]\n",
       " [-4.92114923e-08+1.87328751e-07j]\n",
       " [ 0.00000000e+00+0.00000000e+00j]]"
      ]
     },
     "execution_count": 27,
     "metadata": {},
     "output_type": "execute_result"
    }
   ],
   "source": [
    "(propogator * psi0) - te0.states[-1]"
   ]
  },
  {
   "cell_type": "markdown",
   "id": "d6c58288",
   "metadata": {},
   "source": [
    "### SQiSW Theoretical Matrix"
   ]
  },
  {
   "cell_type": "code",
   "execution_count": 28,
   "id": "f1db5079",
   "metadata": {},
   "outputs": [
    {
     "data": {
      "text/latex": [
       "Quantum object: dims = [[4], [4]], shape = (4, 4), type = oper, isherm = False $ \\\\ \\left(\\begin{matrix}1.0 & 0.0 & 0.0 & 0.0\\\\0.0 & 0.707 & 0.707j & 0.0\\\\0.0 & 0.707j & 0.707 & 0.0\\\\0.0 & 0.0 & 0.0 & 1.0\\\\\\end{matrix}\\right)$"
      ],
      "text/plain": [
       "Quantum object: dims = [[4], [4]], shape = (4, 4), type = oper, isherm = False\n",
       "Qobj data =\n",
       "[[1.        +0.j         0.        +0.j         0.        +0.j\n",
       "  0.        +0.j        ]\n",
       " [0.        +0.j         0.70710678+0.j         0.        +0.70710678j\n",
       "  0.        +0.j        ]\n",
       " [0.        +0.j         0.        +0.70710678j 0.70710678+0.j\n",
       "  0.        +0.j        ]\n",
       " [0.        +0.j         0.        +0.j         0.        +0.j\n",
       "  1.        +0.j        ]]"
      ]
     },
     "execution_count": 28,
     "metadata": {},
     "output_type": "execute_result"
    }
   ],
   "source": [
    "SQiSW_matrix = np.array([[1, 0, 0, 0],\n",
    "                         [0, (1/np.sqrt(2)), (1/np.sqrt(2))*(1j), 0],\n",
    "                         [0, (1/np.sqrt(2))*(1j), (1/np.sqrt(2)), 0],\n",
    "                         [0, 0, 0, 1]], dtype=complex)\n",
    "SQiSW = qt.Qobj(SQiSW_matrix)\n",
    "SQiSW"
   ]
  },
  {
   "cell_type": "code",
   "execution_count": 29,
   "id": "4e0db035-21b6-4f4e-8daa-af48f4c5d0d2",
   "metadata": {},
   "outputs": [
    {
     "data": {
      "text/latex": [
       "Quantum object: dims = [[9], [9]], shape = (9, 9), type = oper, isherm = False $ \\\\ \\left(\\begin{matrix}1.0 & 0.0 & 0.0 & 0.0 & 0.0 & 0.0 & 0.0 & 0.0 & 0.0\\\\0.0 & 0.707 & 0.0 & 0.707j & 0.0 & 0.0 & 0.0 & 0.0 & 0.0\\\\0.0 & 0.0 & 0.0 & 0.0 & 0.0 & 0.0 & 0.0 & 0.0 & 0.0\\\\0.0 & 0.707j & 0.0 & 0.707 & 0.0 & 0.0 & 0.0 & 0.0 & 0.0\\\\0.0 & 0.0 & 0.0 & 0.0 & 1.0 & 0.0 & 0.0 & 0.0 & 0.0\\\\0.0 & 0.0 & 0.0 & 0.0 & 0.0 & 0.0 & 0.0 & 0.0 & 0.0\\\\0.0 & 0.0 & 0.0 & 0.0 & 0.0 & 0.0 & 0.0 & 0.0 & 0.0\\\\0.0 & 0.0 & 0.0 & 0.0 & 0.0 & 0.0 & 0.0 & 0.0 & 0.0\\\\0.0 & 0.0 & 0.0 & 0.0 & 0.0 & 0.0 & 0.0 & 0.0 & 0.0\\\\\\end{matrix}\\right)$"
      ],
      "text/plain": [
       "Quantum object: dims = [[9], [9]], shape = (9, 9), type = oper, isherm = False\n",
       "Qobj data =\n",
       "[[1.        +0.j         0.        +0.j         0.        +0.j\n",
       "  0.        +0.j         0.        +0.j         0.        +0.j\n",
       "  0.        +0.j         0.        +0.j         0.        +0.j        ]\n",
       " [0.        +0.j         0.70710678+0.j         0.        +0.j\n",
       "  0.        +0.70710678j 0.        +0.j         0.        +0.j\n",
       "  0.        +0.j         0.        +0.j         0.        +0.j        ]\n",
       " [0.        +0.j         0.        +0.j         0.        +0.j\n",
       "  0.        +0.j         0.        +0.j         0.        +0.j\n",
       "  0.        +0.j         0.        +0.j         0.        +0.j        ]\n",
       " [0.        +0.j         0.        +0.70710678j 0.        +0.j\n",
       "  0.70710678+0.j         0.        +0.j         0.        +0.j\n",
       "  0.        +0.j         0.        +0.j         0.        +0.j        ]\n",
       " [0.        +0.j         0.        +0.j         0.        +0.j\n",
       "  0.        +0.j         1.        +0.j         0.        +0.j\n",
       "  0.        +0.j         0.        +0.j         0.        +0.j        ]\n",
       " [0.        +0.j         0.        +0.j         0.        +0.j\n",
       "  0.        +0.j         0.        +0.j         0.        +0.j\n",
       "  0.        +0.j         0.        +0.j         0.        +0.j        ]\n",
       " [0.        +0.j         0.        +0.j         0.        +0.j\n",
       "  0.        +0.j         0.        +0.j         0.        +0.j\n",
       "  0.        +0.j         0.        +0.j         0.        +0.j        ]\n",
       " [0.        +0.j         0.        +0.j         0.        +0.j\n",
       "  0.        +0.j         0.        +0.j         0.        +0.j\n",
       "  0.        +0.j         0.        +0.j         0.        +0.j        ]\n",
       " [0.        +0.j         0.        +0.j         0.        +0.j\n",
       "  0.        +0.j         0.        +0.j         0.        +0.j\n",
       "  0.        +0.j         0.        +0.j         0.        +0.j        ]]"
      ]
     },
     "execution_count": 29,
     "metadata": {},
     "output_type": "execute_result"
    }
   ],
   "source": [
    "SQiSW_9x9_matrix = np.array([[1, 0, 0, 0, 0, 0, 0, 0, 0],\n",
    "                         [0, (1/np.sqrt(2))*(1), 0, (1/np.sqrt(2))*(1j), 0, 0, 0, 0, 0],\n",
    "                         [0, 0, 0, 0, 0, 0, 0, 0, 0],\n",
    "                         [0, (1/np.sqrt(2))*(1j), 0, (1/np.sqrt(2))*(1), 0, 0, 0, 0, 0],\n",
    "                         [0, 0, 0, 0, 1, 0, 0, 0, 0],\n",
    "                         [0, 0, 0, 0, 0, 0, 0, 0, 0],\n",
    "                         [0, 0, 0, 0, 0, 0, 0, 0, 0],\n",
    "                         [0, 0, 0, 0, 0, 0, 0, 0, 0],\n",
    "                         [0, 0, 0, 0, 0, 0, 0, 0, 0],], dtype=complex)\n",
    "T = qt.Qobj(SQiSW_9x9_matrix)\n",
    "T"
   ]
  },
  {
   "cell_type": "markdown",
   "id": "9bb40df2",
   "metadata": {},
   "source": [
    "Thought process- propogator function in the computational basis includes population evolution in higher energy levels, these should not ultimately be a part of the comparison. At the end of the day, we are operating in qubit computational basis, not qutrits.. if this is the assumption then f state evolution should not even be a part of the conversation\n",
    "\n",
    "Write the SQiSW theoretical operation in the computational basis while including row and column 3 of 0's in order to keep the basis ordering in my simulation. -- it is not immediately clear to me how I can change the basis choice ordering for my simulation as I'm multiplying individual 3 dimensional hilbert spaces... Compare these two 5x5 matrices, obviously the f state evolution will continue to affect the nominal fidelity-- I can investigate the magnitude of this impact"
   ]
  },
  {
   "cell_type": "code",
   "execution_count": 30,
   "id": "9e5079a8-970a-40be-a578-fcc36a810a94",
   "metadata": {},
   "outputs": [
    {
     "data": {
      "text/plain": [
       "(0.162993537142209+0.08600339212558425j)"
      ]
     },
     "execution_count": 30,
     "metadata": {},
     "output_type": "execute_result"
    }
   ],
   "source": [
    "qt.process_fidelity(propogator, T)"
   ]
  },
  {
   "cell_type": "code",
   "execution_count": 31,
   "id": "9ff83b10",
   "metadata": {},
   "outputs": [
    {
     "data": {
      "text/plain": [
       "(0.2726077525712537+0.06641243806451902j)"
      ]
     },
     "execution_count": 31,
     "metadata": {},
     "output_type": "execute_result"
    }
   ],
   "source": [
    "qt.process_fidelity(qt.Qobj(T[0:5, 0:5]), qt.Qobj(propogator[0:5, 0:5]))"
   ]
  },
  {
   "cell_type": "code",
   "execution_count": 32,
   "id": "2d2ead26",
   "metadata": {},
   "outputs": [
    {
     "data": {
      "text/latex": [
       "Quantum object: dims = [[5], [5]], shape = (5, 5), type = oper, isherm = False $ \\\\ \\left(\\begin{matrix}(1.000+5.245\\times10^{-04}j) & 0.0 & (-3.286\\times10^{-05}+2.030\\times10^{-05}j) & 0.0 & (-8.803\\times10^{-04}+6.290\\times10^{-04}j)\\\\0.0 & (0.386+0.592j) & 0.0 & (0.592-0.387j) & 0.0\\\\(-3.283\\times10^{-05}+2.029\\times10^{-05}j) & 0.0 & (0.993+0.090j) & 0.0 & (-0.049+0.031j)\\\\0.0 & (0.592-0.387j) & 0.0 & (0.386+0.592j) & 0.0\\\\(-8.794\\times10^{-04}+6.283\\times10^{-04}j) & 0.0 & (-0.049+0.031j) & 0.0 & (-0.319+0.944j)\\\\\\end{matrix}\\right)$"
      ],
      "text/plain": [
       "Quantum object: dims = [[5], [5]], shape = (5, 5), type = oper, isherm = False\n",
       "Qobj data =\n",
       "[[ 9.99999277e-01+5.24534145e-04j  0.00000000e+00+0.00000000e+00j\n",
       "  -3.28575337e-05+2.03046840e-05j  0.00000000e+00+0.00000000e+00j\n",
       "  -8.80304925e-04+6.28965258e-04j]\n",
       " [ 0.00000000e+00+0.00000000e+00j  3.86441513e-01+5.91513529e-01j\n",
       "   0.00000000e+00+0.00000000e+00j  5.92430336e-01-3.87040638e-01j\n",
       "   0.00000000e+00+0.00000000e+00j]\n",
       " [-3.28276401e-05+2.02862110e-05j  0.00000000e+00+0.00000000e+00j\n",
       "   9.93301272e-01+9.01394143e-02j  0.00000000e+00+0.00000000e+00j\n",
       "  -4.93064587e-02+3.05896500e-02j]\n",
       " [ 0.00000000e+00+0.00000000e+00j  5.92430336e-01-3.87040638e-01j\n",
       "   0.00000000e+00+0.00000000e+00j  3.86441513e-01+5.91513529e-01j\n",
       "   0.00000000e+00+0.00000000e+00j]\n",
       " [-8.79369043e-04+6.28296584e-04j  0.00000000e+00+0.00000000e+00j\n",
       "  -4.92988911e-02+3.05849551e-02j  0.00000000e+00+0.00000000e+00j\n",
       "  -3.19484389e-01+9.44028706e-01j]]"
      ]
     },
     "execution_count": 32,
     "metadata": {},
     "output_type": "execute_result"
    }
   ],
   "source": [
    "qt.Qobj(propogator[0:5, 0:5])"
   ]
  },
  {
   "cell_type": "code",
   "execution_count": 33,
   "id": "c1699545",
   "metadata": {},
   "outputs": [
    {
     "data": {
      "text/latex": [
       "Quantum object: dims = [[5], [5]], shape = (5, 5), type = oper, isherm = False $ \\\\ \\left(\\begin{matrix}1.0 & 0.0 & 0.0 & 0.0 & 0.0\\\\0.0 & 0.707 & 0.0 & 0.707j & 0.0\\\\0.0 & 0.0 & 0.0 & 0.0 & 0.0\\\\0.0 & 0.707j & 0.0 & 0.707 & 0.0\\\\0.0 & 0.0 & 0.0 & 0.0 & 1.0\\\\\\end{matrix}\\right)$"
      ],
      "text/plain": [
       "Quantum object: dims = [[5], [5]], shape = (5, 5), type = oper, isherm = False\n",
       "Qobj data =\n",
       "[[1.        +0.j         0.        +0.j         0.        +0.j\n",
       "  0.        +0.j         0.        +0.j        ]\n",
       " [0.        +0.j         0.70710678+0.j         0.        +0.j\n",
       "  0.        +0.70710678j 0.        +0.j        ]\n",
       " [0.        +0.j         0.        +0.j         0.        +0.j\n",
       "  0.        +0.j         0.        +0.j        ]\n",
       " [0.        +0.j         0.        +0.70710678j 0.        +0.j\n",
       "  0.70710678+0.j         0.        +0.j        ]\n",
       " [0.        +0.j         0.        +0.j         0.        +0.j\n",
       "  0.        +0.j         1.        +0.j        ]]"
      ]
     },
     "execution_count": 33,
     "metadata": {},
     "output_type": "execute_result"
    }
   ],
   "source": [
    "qt.Qobj(T[0:5, 0:5])"
   ]
  },
  {
   "cell_type": "markdown",
   "id": "ae78945a",
   "metadata": {},
   "source": [
    "### 2: Via State Evolution-- compare final states"
   ]
  },
  {
   "cell_type": "code",
   "execution_count": 36,
   "id": "bc0e9cbb",
   "metadata": {},
   "outputs": [],
   "source": [
    "def calculatephase(psi, te):\n",
    "    initial_state = psi\n",
    "    final_state = te.states[-1]\n",
    "    initial_phase = np.angle(psi.dag()*initial_state)[0][0]\n",
    "    final_phase = np.angle(psi.dag()*final_state)[0][0]\n",
    "    total_phase = final_phase - initial_phase\n",
    "    return total_phase"
   ]
  },
  {
   "cell_type": "code",
   "execution_count": 37,
   "id": "227dc9de",
   "metadata": {},
   "outputs": [
    {
     "name": "stdout",
     "output_type": "stream",
     "text": [
      "0.9999994038666674\n",
      "0.9999994227683956\n",
      "0.9999994227683956\n",
      "0.9966249074652874\n"
     ]
    },
    {
     "data": {
      "text/latex": [
       "Quantum object: dims = [[4], [1]], shape = (4, 1), type = ket $ \\\\ \\left(\\begin{matrix}0.0\\\\(0.592-0.387j)\\\\(0.386+0.592j)\\\\0.0\\\\\\end{matrix}\\right)$"
      ],
      "text/plain": [
       "Quantum object: dims = [[4], [1]], shape = (4, 1), type = ket\n",
       "Qobj data =\n",
       "[[0.        +0.j        ]\n",
       " [0.59246299-0.38699036j]\n",
       " [0.38639036+0.59154713j]\n",
       " [0.        +0.j        ]]"
      ]
     },
     "execution_count": 37,
     "metadata": {},
     "output_type": "execute_result"
    }
   ],
   "source": [
    "_, gatetime, _ = calc_gatetime(t_vec, omega1, omega2, alpha, J_coupling, hamiltonian, False)\n",
    "h = hamiltonian(omega_1=omega1, omega_2=omega2, alpha_1=alpha, alpha_2=alpha, J_coupling=J_coupling)\n",
    "newt_vec = np.linspace(t_start, gatetime, 601)\n",
    "\n",
    "psi0 = qt.tensor(g_state, g_state)\n",
    "psi1 = qt.tensor(e_state, g_state)\n",
    "psi2 = qt.tensor(g_state, e_state)\n",
    "psi3 = qt.tensor(e_state, e_state)\n",
    "\n",
    "te0 = qt.mesolve(h, psi0, newt_vec, [], [])\n",
    "te1 = qt.mesolve(h, psi1, newt_vec, [], [])\n",
    "te2 = qt.mesolve(h, psi2, newt_vec, [], [])\n",
    "te3 = qt.mesolve(h, psi3, newt_vec, [], [])\n",
    "\n",
    "expstate0 = qt.Qobj([te0.states[-1][0][0], te0.states[-1][1][0], te0.states[-1][3][0], te0.states[-1][4][0]])\n",
    "theostate0 = SQiSW * qt.Qobj(np.array([1, 0, 0, 0]))\n",
    "print(qt.fidelity(expstate0, theostate0))\n",
    "\n",
    "expstate1 = qt.Qobj([te1.states[-1][0][0], te1.states[-1][1][0], te1.states[-1][3][0], te1.states[-1][4][0]])\n",
    "theostate1 = SQiSW * qt.Qobj(np.array([0, 1, 0, 0]))\n",
    "print(qt.fidelity(expstate1, theostate1))\n",
    "\n",
    "expstate2 = qt.Qobj([te2.states[-1][0][0], te2.states[-1][1][0], te2.states[-1][3][0], te2.states[-1][4][0]])\n",
    "theostate2 = SQiSW * qt.Qobj(np.array([0, 0, 1, 0]))\n",
    "print(qt.fidelity(expstate2, theostate2))\n",
    "\n",
    "expstate3 = qt.Qobj([te3.states[-1][0][0], te3.states[-1][1][0], te3.states[-1][3][0], te3.states[-1][4][0]])\n",
    "theostate3 = SQiSW * qt.Qobj(np.array([0, 0, 0, 1]))\n",
    "print(qt.fidelity(expstate3, theostate3))\n",
    "\n",
    "expstate1"
   ]
  },
  {
   "cell_type": "code",
   "execution_count": 38,
   "id": "049d199f",
   "metadata": {},
   "outputs": [
    {
     "data": {
      "text/latex": [
       "Quantum object: dims = [[9], [1]], shape = (9, 1), type = ket $ \\\\ \\left(\\begin{matrix}0.0\\\\(0.592-0.387j)\\\\0.0\\\\(0.386+0.592j)\\\\0.0\\\\(2.580\\times10^{-04}-1.393\\times10^{-04}j)\\\\0.0\\\\(-3.746\\times10^{-04}-5.734\\times10^{-04}j)\\\\0.0\\\\\\end{matrix}\\right)$"
      ],
      "text/plain": [
       "Quantum object: dims = [[9], [1]], shape = (9, 1), type = ket\n",
       "Qobj data =\n",
       "[[ 0.00000000e+00+0.00000000e+00j]\n",
       " [ 5.92462989e-01-3.86990363e-01j]\n",
       " [ 0.00000000e+00+0.00000000e+00j]\n",
       " [ 3.86390357e-01+5.91547126e-01j]\n",
       " [ 0.00000000e+00+0.00000000e+00j]\n",
       " [ 2.58005609e-04-1.39336213e-04j]\n",
       " [ 0.00000000e+00+0.00000000e+00j]\n",
       " [-3.74626047e-04-5.73350309e-04j]\n",
       " [ 0.00000000e+00+0.00000000e+00j]]"
      ]
     },
     "execution_count": 38,
     "metadata": {},
     "output_type": "execute_result"
    }
   ],
   "source": [
    "_, gatetime, _ = calc_gatetime(t_vec, omega1, omega2, alpha, J_coupling, hamiltonian, False)\n",
    "h = hamiltonian(omega_1=omega1, omega_2=omega2, alpha_1=alpha, alpha_2=alpha, J_coupling=J_coupling)\n",
    "newt_vec = np.linspace(t_start, gatetime, 601)\n",
    "psi0 = qt.Qobj(np.array(qt.tensor(e_state, g_state)))\n",
    "te0 = qt.mesolve(h, psi0, newt_vec, [], [])\n",
    "te0.states[-1]"
   ]
  },
  {
   "cell_type": "markdown",
   "id": "d06665ea",
   "metadata": {},
   "source": [
    "Reminder of 3 Level Basis Choice"
   ]
  },
  {
   "cell_type": "code",
   "execution_count": 26,
   "id": "fa19fa94",
   "metadata": {},
   "outputs": [
    {
     "name": "stdout",
     "output_type": "stream",
     "text": [
      "[[1.+0.j]] [[1.+0.j]] [[1.+0.j]] [[1.+0.j]] [[1.+0.j]] [[1.+0.j]] [[1.+0.j]] [[1.+0.j]] [[1.+0.j]]\n"
     ]
    }
   ],
   "source": [
    "psi0 = qt.tensor(g_state, g_state)   gg, ge, eg, ee  #theoretical\n",
    "psi1 = qt.tensor(g_state, e_state)   gg, ge, gf, eg, ee, ef, fg, fe, ff #actual\n",
    "psi2 = qt.tensor(g_state, f_state)\n",
    "psi3 = qt.tensor(e_state, g_state)\n",
    "psi4 = qt.tensor(e_state, e_state)\n",
    "psi5 = qt.tensor(e_state, f_state)\n",
    "psi6 = qt.tensor(f_state, g_state)\n",
    "psi7 = qt.tensor(f_state, e_state)\n",
    "psi8 = qt.tensor(f_state, f_state)\n",
    "\n",
    "\n",
    "print(psi0[0], psi1[1], psi2[2], psi3[3], psi4[4], psi5[5], \n",
    "      psi6[6], psi7[7], psi8[8])"
   ]
  },
  {
   "cell_type": "code",
   "execution_count": null,
   "id": "ac4fc285",
   "metadata": {},
   "outputs": [],
   "source": []
  }
 ],
 "metadata": {
  "kernelspec": {
   "display_name": "Python 3 (ipykernel)",
   "language": "python",
   "name": "python3"
  },
  "language_info": {
   "codemirror_mode": {
    "name": "ipython",
    "version": 3
   },
   "file_extension": ".py",
   "mimetype": "text/x-python",
   "name": "python",
   "nbconvert_exporter": "python",
   "pygments_lexer": "ipython3",
   "version": "3.9.6"
  }
 },
 "nbformat": 4,
 "nbformat_minor": 5
}
