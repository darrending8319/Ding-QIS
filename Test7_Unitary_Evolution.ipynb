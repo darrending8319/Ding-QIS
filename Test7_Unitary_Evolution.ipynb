{
 "cells": [
  {
   "cell_type": "code",
   "execution_count": 1,
   "id": "80d6506c",
   "metadata": {},
   "outputs": [],
   "source": [
    "import matplotlib.pyplot as plt\n",
    "import numpy as np\n",
    "import qutip as qt\n",
    "import scipy\n",
    "\n",
    "π = np.pi\n",
    "µs_to_ns = 1e3\n",
    "norm_fact = 1/(np.sqrt(2))"
   ]
  },
  {
   "cell_type": "markdown",
   "id": "a526e223",
   "metadata": {},
   "source": [
    "## Capacitively Coupled Qutrits"
   ]
  },
  {
   "cell_type": "code",
   "execution_count": 2,
   "id": "fd7005fd",
   "metadata": {},
   "outputs": [],
   "source": [
    "#states\n",
    "num_qubit_states = 3\n",
    "\n",
    "g_state = qt.basis(num_qubit_states, 0)\n",
    "e_state = qt.basis(num_qubit_states, 1)\n",
    "f_state = qt.basis(num_qubit_states, 2)\n",
    "\n",
    "#operators\n",
    "b1 = qt.tensor(qt.destroy(num_qubit_states), qt.qeye(num_qubit_states))\n",
    "b1dag = b1.dag() \n",
    "b2 = qt.tensor(qt.qeye(num_qubit_states), qt.destroy(num_qubit_states))\n",
    "b2dag = b2.dag() \n",
    "\n",
    "gg_proj = qt.tensor(g_state, g_state).proj()\n",
    "ge_proj = qt.tensor(g_state, e_state).proj()\n",
    "gf_proj = qt.tensor(g_state, f_state).proj()\n",
    "\n",
    "eg_proj = qt.tensor(e_state, g_state).proj()\n",
    "ee_proj = qt.tensor(e_state, e_state).proj()\n",
    "ef_proj = qt.tensor(e_state, f_state).proj()\n",
    "\n",
    "fg_proj = qt.tensor(f_state, g_state).proj()\n",
    "fe_proj = qt.tensor(f_state, e_state).proj()\n",
    "ff_proj = qt.tensor(f_state, f_state).proj()"
   ]
  },
  {
   "cell_type": "code",
   "execution_count": null,
   "id": "a0acd072",
   "metadata": {},
   "outputs": [],
   "source": [
    "0, 0\n",
    "1, 0, 0, 0, 0, 0, 0, 0, 0\n",
    "\n",
    "\n",
    "1, 0\n",
    "0, 1, 0, 0, 0 \n",
    "\n",
    "0, 1\n"
   ]
  },
  {
   "cell_type": "markdown",
   "id": "a3f5afda",
   "metadata": {},
   "source": [
    "## Hamiltonian\n",
    "$H/\\hbar = \\sum_{i=1}^2{\\left(\\omega_i b_i^\\dagger b_i + \\frac{\\alpha_i}{2} b_i^\\dagger b_i^\\dagger b_i b_i\\right)} + J(b_1^\\dagger b_2+b_2^\\dagger b_1+b_1^\\dagger b_2^\\dagger+b_1 b_2)$"
   ]
  },
  {
   "cell_type": "code",
   "execution_count": 3,
   "id": "2505d5ca",
   "metadata": {},
   "outputs": [],
   "source": [
    "#hamiltonian in harmonic oscillator basis, eigenvectors belong to this basis (harmonic oscillator)\n",
    "#calculate eigenvectors of this hamiltonian for the eigenvectors\n",
    "#set of eigenvectors (hermitian operator, set of eigenvectors form a complete basis), can make a transformation matrix\n",
    "#can use this transformation matrix to transform propogator into the eigenbasis of the hamiltonian (computational basis)\n",
    "#now in the computational basis- you can truncate the transformed propogator by ignoring anything beyond 4x4 (process)"
   ]
  },
  {
   "cell_type": "code",
   "execution_count": 4,
   "id": "7bd962f4",
   "metadata": {},
   "outputs": [],
   "source": [
    "def hamiltonian(omega_1, omega_2, alpha_1, alpha_2, J_coupling):\n",
    "    t1 = (omega_1 * b1dag * b1) + (omega_2 * b2dag * b2)\n",
    "    t2 = (alpha_1 / 2 * b1dag * b1dag * b1 * b1) + (alpha_2 / 2 * b2dag * b2dag * b2 * b2)\n",
    "    t4 = J_coupling * (b1dag * b2 + b2dag * b1)\n",
    "    #t5 = J_coupling * (b1dag * b2dag + b1 * b2)\n",
    "    return t1 + t2 + t4# + t5\n",
    "\n",
    "def nocounter(omega_1, omega_2, alpha_1, alpha_2, J_coupling):\n",
    "    t1 = (omega_1 * b1dag * b1) + (omega_2 * b2dag * b2)\n",
    "    t2 = (alpha_1 / 2 * b1dag * b1dag * b1 * b1) + (alpha_2 / 2 * b2dag * b2dag * b2 * b2)\n",
    "    t4 = J_coupling * (b1dag * b2 + b2dag * b1)\n",
    "    return t1 + t2 + t4"
   ]
  },
  {
   "cell_type": "markdown",
   "id": "a987430f",
   "metadata": {},
   "source": [
    "### side pursuit (gate times w/, w/o, c.r. terms, and analytical)"
   ]
  },
  {
   "cell_type": "code",
   "execution_count": 5,
   "id": "3c78ec65",
   "metadata": {},
   "outputs": [
    {
     "name": "stdout",
     "output_type": "stream",
     "text": [
      "0.7853981633974483 0.7853981633974483 0.7853981633974483\n",
      "0.4999921468755914 0.4999921468755914 0.5\n"
     ]
    },
    {
     "data": {
      "image/png": "[encoded data removed]",
      "text/plain": [
       "<Figure size 640x480 with 1 Axes>"
      ]
     },
     "metadata": {},
     "output_type": "display_data"
    }
   ],
   "source": [
    "def calc_gatetime(t_vec, omega1, omega2, alpha, J_coupling, hamiltonian, plotbool):\n",
    "    h = hamiltonian(omega_1=omega1, omega_2=omega2, alpha_1=alpha, alpha_2=alpha, J_coupling=J_coupling)\n",
    "    psi0 = qt.tensor(e_state, g_state) #start in eg state\n",
    "    te = qt.mesolve(h, psi0, t_vec, [], []) #time evolve with t_vec\n",
    "    eg_pops = qt.expect(eg_proj, te.states)\n",
    "    argmin = np.argmin(np.abs(eg_pops-0.5)[1:]) + 1 #argument of value closest to 0.5\n",
    "    if plotbool == True:\n",
    "        fig = plt.figure()\n",
    "        plt.plot(t_vec, eg_pops) #blue line\n",
    "        plt.scatter(t_vec[argmin], eg_pops[argmin], c='r') #red dot \n",
    "    return eg_pops[argmin], t_vec[argmin], argmin\n",
    "\n",
    "J_coupling = 2*π * 8\n",
    "t_start = 0\n",
    "t_end = 6 * π/(4*J_coupling) #π/4J ~ reach maximally entangled state (Jt = π/4)\n",
    "t_vec = np.linspace(t_start, t_end, 301)\n",
    "omega1 = 2*π * 6000\n",
    "omega2 = 2*π * 6000\n",
    "alpha = 2*π * -300\n",
    "\n",
    "pop, gatetime, arg = calc_gatetime(t_vec, omega1, omega2, alpha, J_coupling, hamiltonian, True)\n",
    "pop_no, gatetime_no, arg_no = calc_gatetime(t_vec, omega1, omega2, alpha, J_coupling, nocounter, False)\n",
    "\n",
    "#note in 2010 Nature Paper Bialczak SQiSW: g/2 = J, gt = π/2, Jt = π/4\n",
    "print(J_coupling * gatetime, J_coupling * gatetime_no, π/4)\n",
    "print(pop, pop_no, 0.5)"
   ]
  },
  {
   "cell_type": "markdown",
   "id": "93073958",
   "metadata": {},
   "source": [
    "#### Takeaways: \n",
    "- population number for w/, w/o c.r. terms are different (good)\n",
    "- lower number of points in t_vec leads to different gatetimes from analytical (w/, w/o always identical)"
   ]
  },
  {
   "cell_type": "markdown",
   "id": "1af67916",
   "metadata": {},
   "source": [
    "## Sanity Check\n",
    "1. Start: 4 initial wave functions <br>\n",
    "2. Evolve until full population is recovered using: i: mesolve, ii: propogator, iii: unitary <br>\n",
    "3. Check fidelities of final states (should all be 1)"
   ]
  },
  {
   "cell_type": "code",
   "execution_count": 6,
   "id": "7710184d",
   "metadata": {},
   "outputs": [
    {
     "name": "stdout",
     "output_type": "stream",
     "text": [
      "1.0\n",
      "0.999999999203102\n",
      "0.9999999992031019\n",
      "0.999999997249214\n",
      "1.0\n",
      "0.999999999202444\n",
      "0.9999999992024438\n",
      "0.9989328192244116\n"
     ]
    }
   ],
   "source": [
    "_, gatetime, _ = calc_gatetime(t_vec, omega1, omega2, alpha, J_coupling, hamiltonian, False)\n",
    "h = hamiltonian(omega_1=omega1, omega_2=omega2, alpha_1=alpha, alpha_2=alpha, J_coupling=J_coupling)\n",
    "sanity_t_vec = np.linspace(t_start, 4*gatetime, 601) #time vector to recover all of initial population (4*SQiSW time)\n",
    "\n",
    "psi0 = qt.Qobj(np.array(qt.tensor(g_state, g_state)))\n",
    "psi1 = qt.Qobj(np.array(qt.tensor(g_state, e_state)))\n",
    "psi2 = qt.Qobj(np.array(qt.tensor(e_state, g_state)))\n",
    "psi3 = qt.Qobj(np.array(qt.tensor(e_state, e_state)))\n",
    "\n",
    "def compute_propogator(h, t_vec): #output propogator matrix\n",
    "    propogator = qt.propagator(h, t_vec)\n",
    "    prop = qt.Qobj(np.array(propogator[-1]))\n",
    "    return prop\n",
    "\n",
    "def compute_unitary(phi_1, phi_2, phi_3): #output theoretical unitary evolution matrix\n",
    "    return qt.Qobj(np.array(\n",
    "        qt.tensor(g_state, g_state).proj() * 1\n",
    "        + qt.tensor(e_state, g_state).proj() * np.exp(1j*phi_1)\n",
    "        + qt.tensor(g_state, e_state).proj() * np.exp(1j*phi_2)\n",
    "        + qt.tensor(f_state, g_state).proj() * 1\n",
    "        + qt.tensor(e_state, e_state).proj() * np.exp(1j*phi_3)\n",
    "        + qt.tensor(g_state, f_state).proj() * 1\n",
    "        + qt.tensor(f_state, e_state).proj() * 1\n",
    "        + qt.tensor(e_state, f_state).proj() * 1\n",
    "        + qt.tensor(f_state, f_state).proj() * 1\n",
    "    ))\n",
    "\n",
    "def sesolve_evolution(psi0, psi1, psi2, psi3, h): #output final states\n",
    "    te0 = qt.mesolve(h, psi0, sanity_t_vec, [], [])\n",
    "    te1 = qt.mesolve(h, psi1, sanity_t_vec, [], [])\n",
    "    te2 = qt.mesolve(h, psi2, sanity_t_vec, [], [])\n",
    "    te3 = qt.mesolve(h, psi3, sanity_t_vec, [], [])\n",
    "    return te0.states[-1], te1.states[-1], te2.states[-1], te3.states[-1]  \n",
    "\n",
    "sanityprop = compute_propogator(h, sanity_t_vec)\n",
    "sanitytunit = compute_unitary(π/4, π/4, π)\n",
    "s0, s1, s2, s3 = sesolve_evolution(psi0, psi1, psi2, psi3, h)\n",
    "\n",
    "print(qt.fidelity(s0, sanityprop * psi0))\n",
    "print(qt.fidelity(s1, sanityprop * psi1))\n",
    "print(qt.fidelity(s2, sanityprop * psi2))\n",
    "print(qt.fidelity(s3, sanityprop * psi3))\n",
    "print(qt.fidelity(s0, sanitytunit * psi0))\n",
    "print(qt.fidelity(s1, sanitytunit * psi1))\n",
    "print(qt.fidelity(s2, sanitytunit * psi2))\n",
    "print(qt.fidelity(s3, sanitytunit * psi3))"
   ]
  },
  {
   "cell_type": "markdown",
   "id": "2d9ce4a7",
   "metadata": {},
   "source": [
    "##### ____ _______End of Sanity Check_______ ____"
   ]
  },
  {
   "cell_type": "markdown",
   "id": "dace4da7",
   "metadata": {},
   "source": [
    "## SQiSW Simulation\n",
    "### Propogator"
   ]
  },
  {
   "cell_type": "code",
   "execution_count": 9,
   "id": "4bd0cc24",
   "metadata": {},
   "outputs": [
    {
     "data": {
      "text/latex": [
       "Quantum object: dims = [[9], [1]], shape = (9, 1), type = ket $ \\\\ \\left(\\begin{matrix}0.0\\\\(0.707-7.015\\times10^{-05}j)\\\\0.0\\\\(7.199\\times10^{-05}+0.707j)\\\\0.0\\\\0.0\\\\0.0\\\\0.0\\\\0.0\\\\\\end{matrix}\\right)$"
      ],
      "text/plain": [
       "Quantum object: dims = [[9], [1]], shape = (9, 1), type = ket\n",
       "Qobj data =\n",
       "[[0.00000000e+00+0.00000000e+00j]\n",
       " [7.07107940e-01-7.01520900e-05j]\n",
       " [0.00000000e+00+0.00000000e+00j]\n",
       " [7.19897514e-05+7.07105616e-01j]\n",
       " [0.00000000e+00+0.00000000e+00j]\n",
       " [0.00000000e+00+0.00000000e+00j]\n",
       " [0.00000000e+00+0.00000000e+00j]\n",
       " [0.00000000e+00+0.00000000e+00j]\n",
       " [0.00000000e+00+0.00000000e+00j]]"
      ]
     },
     "execution_count": 9,
     "metadata": {},
     "output_type": "execute_result"
    }
   ],
   "source": [
    "_, gatetime, _ = calc_gatetime(t_vec, omega1, omega2, alpha, J_coupling, hamiltonian, False)\n",
    "h = hamiltonian(omega_1=omega1, omega_2=omega2, alpha_1=alpha, alpha_2=alpha, J_coupling=J_coupling)\n",
    "newt_vec = np.linspace(t_start, gatetime, 601)\n",
    "psi0 = qt.Qobj(np.array(qt.tensor(e_state, g_state)))\n",
    "te0 = qt.mesolve(h, psi0, newt_vec, [], [])\n",
    "te0.states[-1]"
   ]
  },
  {
   "cell_type": "code",
   "execution_count": 10,
   "id": "4392c09f",
   "metadata": {},
   "outputs": [
    {
     "data": {
      "text/latex": [
       "Quantum object: dims = [[9], [9]], shape = (9, 9), type = oper, isherm = False $ \\\\ \\left(\\begin{matrix}1.0 & 0.0 & 0.0 & 0.0 & 0.0 & 0.0 & 0.0 & 0.0 & 0.0\\\\0.0 & (9.361\\times10^{-07}+0.707j) & 0.0 & (0.707-1.094\\times10^{-06}j) & 0.0 & 0.0 & 0.0 & 0.0 & 0.0\\\\0.0 & 0.0 & (0.342+0.937j) & 0.0 & (-0.049-0.033j) & 0.0 & (-0.041+0.013j) & 0.0 & 0.0\\\\0.0 & (0.707-1.094\\times10^{-06}j) & 0.0 & (9.361\\times10^{-07}+0.707j) & 0.0 & 0.0 & 0.0 & 0.0 & 0.0\\\\0.0 & 0.0 & (-0.049-0.033j) & 0.0 & (-0.993+0.086j) & 0.0 & (-0.049-0.033j) & 0.0 & 0.0\\\\0.0 & 0.0 & 0.0 & 0.0 & 0.0 & (2.446\\times10^{-06}-6.396\\times10^{-05}j) & 0.0 & (0.386+0.922j) & 0.0\\\\0.0 & 0.0 & (-0.041+0.013j) & 0.0 & (-0.049-0.033j) & 0.0 & (0.342+0.937j) & 0.0 & 0.0\\\\0.0 & 0.0 & 0.0 & 0.0 & 0.0 & (0.386+0.922j) & 0.0 & (2.446\\times10^{-06}-6.396\\times10^{-05}j) & 0.0\\\\0.0 & 0.0 & 0.0 & 0.0 & 0.0 & 0.0 & 0.0 & 0.0 & (-0.684+0.729j)\\\\\\end{matrix}\\right)$"
      ],
      "text/plain": [
       "Quantum object: dims = [[9], [9]], shape = (9, 9), type = oper, isherm = False\n",
       "Qobj data =\n",
       "[[ 1.00000000e+00+0.00000000e+00j  0.00000000e+00+0.00000000e+00j\n",
       "   0.00000000e+00+0.00000000e+00j  0.00000000e+00+0.00000000e+00j\n",
       "   0.00000000e+00+0.00000000e+00j  0.00000000e+00+0.00000000e+00j\n",
       "   0.00000000e+00+0.00000000e+00j  0.00000000e+00+0.00000000e+00j\n",
       "   0.00000000e+00+0.00000000e+00j]\n",
       " [ 0.00000000e+00+0.00000000e+00j  9.36085617e-07+7.07106771e-01j\n",
       "   0.00000000e+00+0.00000000e+00j  7.07106791e-01-1.09415497e-06j\n",
       "   0.00000000e+00+0.00000000e+00j  0.00000000e+00+0.00000000e+00j\n",
       "   0.00000000e+00+0.00000000e+00j  0.00000000e+00+0.00000000e+00j\n",
       "   0.00000000e+00+0.00000000e+00j]\n",
       " [ 0.00000000e+00+0.00000000e+00j  0.00000000e+00+0.00000000e+00j\n",
       "   3.41802782e-01+9.36948560e-01j  0.00000000e+00+0.00000000e+00j\n",
       "  -4.87856365e-02-3.25875822e-02j  0.00000000e+00+0.00000000e+00j\n",
       "  -4.10441432e-02+1.31367520e-02j  0.00000000e+00+0.00000000e+00j\n",
       "   0.00000000e+00+0.00000000e+00j]\n",
       " [ 0.00000000e+00+0.00000000e+00j  7.07106791e-01-1.09415497e-06j\n",
       "   0.00000000e+00+0.00000000e+00j  9.36085617e-07+7.07106771e-01j\n",
       "   0.00000000e+00+0.00000000e+00j  0.00000000e+00+0.00000000e+00j\n",
       "   0.00000000e+00+0.00000000e+00j  0.00000000e+00+0.00000000e+00j\n",
       "   0.00000000e+00+0.00000000e+00j]\n",
       " [ 0.00000000e+00+0.00000000e+00j  0.00000000e+00+0.00000000e+00j\n",
       "  -4.87790411e-02-3.25831766e-02j  0.00000000e+00+0.00000000e+00j\n",
       "  -9.92825236e-01+8.61050107e-02j  0.00000000e+00+0.00000000e+00j\n",
       "  -4.87790411e-02-3.25831766e-02j  0.00000000e+00+0.00000000e+00j\n",
       "   0.00000000e+00+0.00000000e+00j]\n",
       " [ 0.00000000e+00+0.00000000e+00j  0.00000000e+00+0.00000000e+00j\n",
       "   0.00000000e+00+0.00000000e+00j  0.00000000e+00+0.00000000e+00j\n",
       "   0.00000000e+00+0.00000000e+00j  2.44643815e-06-6.39567778e-05j\n",
       "   0.00000000e+00+0.00000000e+00j  3.86230827e-01+9.22402160e-01j\n",
       "   0.00000000e+00+0.00000000e+00j]\n",
       " [ 0.00000000e+00+0.00000000e+00j  0.00000000e+00+0.00000000e+00j\n",
       "  -4.10441432e-02+1.31367520e-02j  0.00000000e+00+0.00000000e+00j\n",
       "  -4.87856365e-02-3.25875822e-02j  0.00000000e+00+0.00000000e+00j\n",
       "   3.41802782e-01+9.36948560e-01j  0.00000000e+00+0.00000000e+00j\n",
       "   0.00000000e+00+0.00000000e+00j]\n",
       " [ 0.00000000e+00+0.00000000e+00j  0.00000000e+00+0.00000000e+00j\n",
       "   0.00000000e+00+0.00000000e+00j  0.00000000e+00+0.00000000e+00j\n",
       "   0.00000000e+00+0.00000000e+00j  3.86230827e-01+9.22402160e-01j\n",
       "   0.00000000e+00+0.00000000e+00j  2.44643815e-06-6.39567778e-05j\n",
       "   0.00000000e+00+0.00000000e+00j]\n",
       " [ 0.00000000e+00+0.00000000e+00j  0.00000000e+00+0.00000000e+00j\n",
       "   0.00000000e+00+0.00000000e+00j  0.00000000e+00+0.00000000e+00j\n",
       "   0.00000000e+00+0.00000000e+00j  0.00000000e+00+0.00000000e+00j\n",
       "   0.00000000e+00+0.00000000e+00j  0.00000000e+00+0.00000000e+00j\n",
       "  -6.84050863e-01+7.29434313e-01j]]"
      ]
     },
     "execution_count": 10,
     "metadata": {},
     "output_type": "execute_result"
    }
   ],
   "source": [
    "_, gatetime, _ = calc_gatetime(t_vec, omega1, omega2, alpha, J_coupling, hamiltonian, False)\n",
    "h = hamiltonian(omega_1=omega1, omega_2=omega2, alpha_1=alpha, alpha_2=alpha, J_coupling=J_coupling)\n",
    "newt_vec = np.linspace(t_start, gatetime, 601)\n",
    "propogator = compute_propogator(h, newt_vec)\n",
    "propogator"
   ]
  },
  {
   "cell_type": "code",
   "execution_count": 21,
   "id": "3a5f7514",
   "metadata": {},
   "outputs": [
    {
     "data": {
      "text/latex": [
       "Quantum object: dims = [[4], [4]], shape = (4, 4), type = oper, isherm = False $ \\\\ \\left(\\begin{matrix}1.0 & 0.0 & 0.0 & 0.0\\\\0.0 & (9.361\\times10^{-07}+0.707j) & 0.0 & (0.707-1.094\\times10^{-06}j)\\\\0.0 & 0.0 & (0.342+0.937j) & 0.0\\\\0.0 & (0.707-1.094\\times10^{-06}j) & 0.0 & (9.361\\times10^{-07}+0.707j)\\\\\\end{matrix}\\right)$"
      ],
      "text/plain": [
       "Quantum object: dims = [[4], [4]], shape = (4, 4), type = oper, isherm = False\n",
       "Qobj data =\n",
       "[[1.00000000e+00+0.00000000e+00j 0.00000000e+00+0.00000000e+00j\n",
       "  0.00000000e+00+0.00000000e+00j 0.00000000e+00+0.00000000e+00j]\n",
       " [0.00000000e+00+0.00000000e+00j 9.36085617e-07+7.07106771e-01j\n",
       "  0.00000000e+00+0.00000000e+00j 7.07106791e-01-1.09415497e-06j]\n",
       " [0.00000000e+00+0.00000000e+00j 0.00000000e+00+0.00000000e+00j\n",
       "  3.41802782e-01+9.36948560e-01j 0.00000000e+00+0.00000000e+00j]\n",
       " [0.00000000e+00+0.00000000e+00j 7.07106791e-01-1.09415497e-06j\n",
       "  0.00000000e+00+0.00000000e+00j 9.36085617e-07+7.07106771e-01j]]"
      ]
     },
     "execution_count": 21,
     "metadata": {},
     "output_type": "execute_result"
    }
   ],
   "source": [
    "qt.Qobj(propogator[0:4,0:4])"
   ]
  },
  {
   "cell_type": "code",
   "execution_count": 12,
   "id": "6ca0d640",
   "metadata": {},
   "outputs": [
    {
     "data": {
      "text/latex": [
       "Quantum object: dims = [[9], [1]], shape = (9, 1), type = ket $ \\\\ \\left(\\begin{matrix}0.0\\\\(-1.149\\times10^{-06}+6.906\\times10^{-05}j)\\\\0.0\\\\(-7.105\\times10^{-05}+1.156\\times10^{-06}j)\\\\0.0\\\\0.0\\\\0.0\\\\0.0\\\\0.0\\\\\\end{matrix}\\right)$"
      ],
      "text/plain": [
       "Quantum object: dims = [[9], [1]], shape = (9, 1), type = ket\n",
       "Qobj data =\n",
       "[[ 0.00000000e+00+0.00000000e+00j]\n",
       " [-1.14877138e-06+6.90579350e-05j]\n",
       " [ 0.00000000e+00+0.00000000e+00j]\n",
       " [-7.10536657e-05+1.15591632e-06j]\n",
       " [ 0.00000000e+00+0.00000000e+00j]\n",
       " [ 0.00000000e+00+0.00000000e+00j]\n",
       " [ 0.00000000e+00+0.00000000e+00j]\n",
       " [ 0.00000000e+00+0.00000000e+00j]\n",
       " [ 0.00000000e+00+0.00000000e+00j]]"
      ]
     },
     "execution_count": 12,
     "metadata": {},
     "output_type": "execute_result"
    }
   ],
   "source": [
    "(propogator * psi0) - te0.states[-1]"
   ]
  },
  {
   "cell_type": "markdown",
   "id": "819eeb53",
   "metadata": {},
   "source": [
    "### Generate Transformation Matrix \n",
    "(change propogator from harmonic oscillator to hamiltonian eigenbasis in order to compare to theoretical SQiSW 4x4 operator)"
   ]
  },
  {
   "cell_type": "code",
   "execution_count": 13,
   "id": "7cbd448a",
   "metadata": {},
   "outputs": [],
   "source": [
    "def transformation(matrix, prop):\n",
    "    eig, eigstates = matrix.eigenstates()\n",
    "    obj = (\n",
    "        np.array(eigstates[0]), np.array(eigstates[1]), np.array(eigstates[2]), \n",
    "        np.array(eigstates[3]), np.array(eigstates[4]), np.array(eigstates[5]),\n",
    "        np.array(eigstates[6]), np.array(eigstates[7]), np.array(eigstates[8]),\n",
    "    )\n",
    "    U = np.column_stack(obj) #stack the eigenstates of the hamiltonian (complete basis)\n",
    "    T = qt.Qobj(U)\n",
    "    newprop = T.dag() * prop * T\n",
    "    return T, newprop"
   ]
  },
  {
   "cell_type": "code",
   "execution_count": 15,
   "id": "e74586fc",
   "metadata": {},
   "outputs": [
    {
     "data": {
      "text/latex": [
       "Quantum object: dims = [[9], [9]], shape = (9, 9), type = oper, isherm = False $ \\\\ \\left(\\begin{matrix}1.0 & 0.0 & 0.0 & 0.0 & 0.0 & 0.0 & 0.0 & 0.0 & 0.0\\\\0.0 & 0.707 & 0.707 & 0.0 & 0.0 & 0.0 & 0.0 & 0.0 & 0.0\\\\0.0 & 0.0 & 0.0 & 0.706 & 0.707 & 0.038 & 0.0 & 0.0 & 0.0\\\\0.0 & -0.707 & 0.707 & 0.0 & 0.0 & 0.0 & 0.0 & 0.0 & 0.0\\\\0.0 & 0.0 & 0.0 & -0.053 & 0.0 & 0.999 & 0.0 & 0.0 & 0.0\\\\0.0 & 0.0 & 0.0 & 0.0 & 0.0 & 0.0 & -0.707 & 0.707 & 0.0\\\\0.0 & 0.0 & 0.0 & 0.706 & -0.707 & 0.038 & 0.0 & 0.0 & 0.0\\\\0.0 & 0.0 & 0.0 & 0.0 & 0.0 & 0.0 & 0.707 & 0.707 & 0.0\\\\0.0 & 0.0 & 0.0 & 0.0 & 0.0 & 0.0 & 0.0 & 0.0 & 1.0\\\\\\end{matrix}\\right)$"
      ],
      "text/plain": [
       "Quantum object: dims = [[9], [9]], shape = (9, 9), type = oper, isherm = False\n",
       "Qobj data =\n",
       "[[ 1.          0.          0.          0.          0.          0.\n",
       "   0.          0.          0.        ]\n",
       " [ 0.          0.70710678  0.70710678  0.          0.          0.\n",
       "   0.          0.          0.        ]\n",
       " [ 0.          0.          0.          0.70610892  0.70710678  0.03755263\n",
       "   0.          0.          0.        ]\n",
       " [ 0.         -0.70710678  0.70710678  0.          0.          0.\n",
       "   0.          0.          0.        ]\n",
       " [ 0.          0.          0.         -0.05310744  0.          0.9985888\n",
       "   0.          0.          0.        ]\n",
       " [ 0.          0.          0.          0.          0.          0.\n",
       "  -0.70710678  0.70710678  0.        ]\n",
       " [ 0.          0.          0.          0.70610892 -0.70710678  0.03755263\n",
       "   0.          0.          0.        ]\n",
       " [ 0.          0.          0.          0.          0.          0.\n",
       "   0.70710678  0.70710678  0.        ]\n",
       " [ 0.          0.          0.          0.          0.          0.\n",
       "   0.          0.          1.        ]]"
      ]
     },
     "execution_count": 15,
     "metadata": {},
     "output_type": "execute_result"
    }
   ],
   "source": [
    "T, tprop2 = transformation(h, propogator)\n",
    "#tprop2\n",
    "#tprop2 * qt.Qobj(np.array([0, 1, 0, 0, 0, 0, 0, 0, 0]))\n",
    "T"
   ]
  },
  {
   "cell_type": "markdown",
   "id": "18b1a2ee",
   "metadata": {},
   "source": [
    "#### Q1: why is the inverse matrix and T dagger yield same result?"
   ]
  },
  {
   "cell_type": "markdown",
   "id": "d6c58288",
   "metadata": {},
   "source": [
    "### SQiSW Theoretical Matrix"
   ]
  },
  {
   "cell_type": "code",
   "execution_count": 16,
   "id": "f1db5079",
   "metadata": {},
   "outputs": [
    {
     "data": {
      "text/latex": [
       "Quantum object: dims = [[4], [4]], shape = (4, 4), type = oper, isherm = False $ \\\\ \\left(\\begin{matrix}1.0 & 0.0 & 0.0 & 0.0\\\\0.0 & 0.707 & 0.707j & 0.0\\\\0.0 & 0.707j & 0.707 & 0.0\\\\0.0 & 0.0 & 0.0 & 1.0\\\\\\end{matrix}\\right)$"
      ],
      "text/plain": [
       "Quantum object: dims = [[4], [4]], shape = (4, 4), type = oper, isherm = False\n",
       "Qobj data =\n",
       "[[1.        +0.j         0.        +0.j         0.        +0.j\n",
       "  0.        +0.j        ]\n",
       " [0.        +0.j         0.70710678+0.j         0.        +0.70710678j\n",
       "  0.        +0.j        ]\n",
       " [0.        +0.j         0.        +0.70710678j 0.70710678+0.j\n",
       "  0.        +0.j        ]\n",
       " [0.        +0.j         0.        +0.j         0.        +0.j\n",
       "  1.        +0.j        ]]"
      ]
     },
     "execution_count": 16,
     "metadata": {},
     "output_type": "execute_result"
    }
   ],
   "source": [
    "SQiSW_matrix = np.array([[1, 0, 0, 0],\n",
    "                         [0, (1/np.sqrt(2)), (1/np.sqrt(2))*(1j), 0],\n",
    "                         [0, (1/np.sqrt(2))*(1j), (1/np.sqrt(2)), 0],\n",
    "                         [0, 0, 0, 1]], dtype=complex)\n",
    "SQiSW = qt.Qobj(SQiSW_matrix)\n",
    "SQiSW"
   ]
  },
  {
   "cell_type": "code",
   "execution_count": 18,
   "id": "fb063360",
   "metadata": {},
   "outputs": [
    {
     "data": {
      "text/latex": [
       "Quantum object: dims = [[4], [4]], shape = (4, 4), type = oper, isherm = False $ \\\\ \\left(\\begin{matrix}1.0 & 0.0 & 0.0 & 0.0\\\\0.0 & (-0.707+0.707j) & 0.0 & 0.0\\\\0.0 & 0.0 & (0.707+0.707j) & 0.0\\\\0.0 & 0.0 & 0.0 & (0.304+0.953j)\\\\\\end{matrix}\\right)$"
      ],
      "text/plain": [
       "Quantum object: dims = [[4], [4]], shape = (4, 4), type = oper, isherm = False\n",
       "Qobj data =\n",
       "[[ 1.        +0.j          0.        +0.j          0.        +0.j\n",
       "   0.        +0.j        ]\n",
       " [ 0.        +0.j         -0.70710585+0.70710787j  0.        +0.j\n",
       "   0.        +0.j        ]\n",
       " [ 0.        +0.j          0.        +0.j          0.70710773+0.70710568j\n",
       "   0.        +0.j        ]\n",
       " [ 0.        +0.j          0.        +0.j          0.        +0.j\n",
       "   0.30442749+0.9525363j ]]"
      ]
     },
     "execution_count": 18,
     "metadata": {},
     "output_type": "execute_result"
    }
   ],
   "source": [
    "truncatedprop = qt.Qobj(tprop2[0:4, 0:4])\n",
    "truncatedprop"
   ]
  },
  {
   "cell_type": "code",
   "execution_count": 19,
   "id": "4febb974",
   "metadata": {},
   "outputs": [
    {
     "data": {
      "text/plain": [
       "(0.25357601961832155-0.02166952657045364j)"
      ]
     },
     "execution_count": 19,
     "metadata": {},
     "output_type": "execute_result"
    }
   ],
   "source": [
    "qt.process_fidelity(SQiSW, truncatedprop)"
   ]
  },
  {
   "cell_type": "code",
   "execution_count": 20,
   "id": "c2ef2173",
   "metadata": {},
   "outputs": [
    {
     "data": {
      "text/plain": [
       "1.0003124511871277"
      ]
     },
     "execution_count": 20,
     "metadata": {},
     "output_type": "execute_result"
    }
   ],
   "source": [
    "np.sqrt(0.304**2 + 0.953**2)"
   ]
  },
  {
   "cell_type": "code",
   "execution_count": 39,
   "id": "ee262805",
   "metadata": {},
   "outputs": [
    {
     "data": {
      "text/latex": [
       "Quantum object: dims = [[4], [1]], shape = (4, 1), type = ket $ \\\\ \\left(\\begin{matrix}0.0\\\\0.707\\\\0.707j\\\\0.0\\\\\\end{matrix}\\right)$"
      ],
      "text/plain": [
       "Quantum object: dims = [[4], [1]], shape = (4, 1), type = ket\n",
       "Qobj data =\n",
       "[[0.        +0.j        ]\n",
       " [0.70710678+0.j        ]\n",
       " [0.        +0.70710678j]\n",
       " [0.        +0.j        ]]"
      ]
     },
     "execution_count": 39,
     "metadata": {},
     "output_type": "execute_result"
    }
   ],
   "source": [
    "#SQiSW * qt.Qobj([0, 1, 0, 0])\n",
    "SQiSW * qt.Qobj(np.array([0, 1, 0, 0]))"
   ]
  },
  {
   "cell_type": "code",
   "execution_count": 40,
   "id": "9068251f",
   "metadata": {},
   "outputs": [
    {
     "data": {
      "text/latex": [
       "Quantum object: dims = [[4], [1]], shape = (4, 1), type = ket $ \\\\ \\left(\\begin{matrix}0.0\\\\0.707j\\\\0.707\\\\0.0\\\\\\end{matrix}\\right)$"
      ],
      "text/plain": [
       "Quantum object: dims = [[4], [1]], shape = (4, 1), type = ket\n",
       "Qobj data =\n",
       "[[0.        +0.j        ]\n",
       " [0.        +0.70710678j]\n",
       " [0.70710678+0.j        ]\n",
       " [0.        +0.j        ]]"
      ]
     },
     "execution_count": 40,
     "metadata": {},
     "output_type": "execute_result"
    }
   ],
   "source": [
    "SQiSW * qt.Qobj(np.array([0, 0, 1, 0]))"
   ]
  },
  {
   "cell_type": "code",
   "execution_count": 41,
   "id": "672209bf",
   "metadata": {},
   "outputs": [
    {
     "data": {
      "text/latex": [
       "Quantum object: dims = [[4], [1]], shape = (4, 1), type = ket $ \\\\ \\left(\\begin{matrix}0.0\\\\(-0.708+0.706j)\\\\0.0\\\\0.0\\\\\\end{matrix}\\right)$"
      ],
      "text/plain": [
       "Quantum object: dims = [[4], [1]], shape = (4, 1), type = ket\n",
       "Qobj data =\n",
       "[[ 0.        +0.j        ]\n",
       " [-0.70786553+0.70634742j]\n",
       " [ 0.        +0.j        ]\n",
       " [ 0.        +0.j        ]]"
      ]
     },
     "execution_count": 41,
     "metadata": {},
     "output_type": "execute_result"
    }
   ],
   "source": [
    "truncatedprop * qt.Qobj(np.array([0, 1, 0, 0]))"
   ]
  },
  {
   "cell_type": "code",
   "execution_count": 42,
   "id": "0b8abf18",
   "metadata": {},
   "outputs": [
    {
     "data": {
      "text/latex": [
       "Quantum object: dims = [[4], [1]], shape = (4, 1), type = ket $ \\\\ \\left(\\begin{matrix}0.0\\\\0.0\\\\(0.706+0.708j)\\\\0.0\\\\\\end{matrix}\\right)$"
      ],
      "text/plain": [
       "Quantum object: dims = [[4], [1]], shape = (4, 1), type = ket\n",
       "Qobj data =\n",
       "[[0.       +0.j       ]\n",
       " [0.       +0.j       ]\n",
       " [0.7063483+0.7078643j]\n",
       " [0.       +0.j       ]]"
      ]
     },
     "execution_count": 42,
     "metadata": {},
     "output_type": "execute_result"
    }
   ],
   "source": [
    "truncatedprop * qt.Qobj(np.array([0, 0, 1, 0]))"
   ]
  },
  {
   "cell_type": "code",
   "execution_count": null,
   "id": "bc0e9cbb",
   "metadata": {},
   "outputs": [],
   "source": []
  },
  {
   "cell_type": "code",
   "execution_count": null,
   "id": "227dc9de",
   "metadata": {},
   "outputs": [],
   "source": []
  },
  {
   "cell_type": "code",
   "execution_count": null,
   "id": "e2fcca48",
   "metadata": {},
   "outputs": [],
   "source": []
  },
  {
   "cell_type": "code",
   "execution_count": null,
   "id": "049d199f",
   "metadata": {},
   "outputs": [],
   "source": []
  },
  {
   "cell_type": "code",
   "execution_count": null,
   "id": "71ac7a94",
   "metadata": {},
   "outputs": [],
   "source": []
  },
  {
   "cell_type": "markdown",
   "id": "d06665ea",
   "metadata": {},
   "source": [
    "Reminder of 3 Level Basis Choice"
   ]
  },
  {
   "cell_type": "code",
   "execution_count": 26,
   "id": "fa19fa94",
   "metadata": {},
   "outputs": [
    {
     "name": "stdout",
     "output_type": "stream",
     "text": [
      "[[1.+0.j]] [[1.+0.j]] [[1.+0.j]] [[1.+0.j]] [[1.+0.j]] [[1.+0.j]] [[1.+0.j]] [[1.+0.j]] [[1.+0.j]]\n"
     ]
    }
   ],
   "source": [
    "psi0 = qt.tensor(g_state, g_state)\n",
    "psi1 = qt.tensor(g_state, e_state)\n",
    "psi2 = qt.tensor(g_state, f_state)\n",
    "psi3 = qt.tensor(e_state, g_state)\n",
    "psi4 = qt.tensor(e_state, e_state)\n",
    "psi5 = qt.tensor(e_state, f_state)\n",
    "psi6 = qt.tensor(f_state, g_state)\n",
    "psi7 = qt.tensor(f_state, e_state)\n",
    "psi8 = qt.tensor(f_state, f_state)\n",
    "\n",
    "\n",
    "print(psi0[0], psi1[1], psi2[2], psi3[3], psi4[4], psi5[5], \n",
    "      psi6[6], psi7[7], psi8[8])"
   ]
  },
  {
   "cell_type": "code",
   "execution_count": null,
   "id": "ac4fc285",
   "metadata": {},
   "outputs": [],
   "source": []
  }
 ],
 "metadata": {
  "kernelspec": {
   "display_name": "Python 3 (ipykernel)",
   "language": "python",
   "name": "python3"
  },
  "language_info": {
   "codemirror_mode": {
    "name": "ipython",
    "version": 3
   },
   "file_extension": ".py",
   "mimetype": "text/x-python",
   "name": "python",
   "nbconvert_exporter": "python",
   "pygments_lexer": "ipython3",
   "version": "3.9.6"
  }
 },
 "nbformat": 4,
 "nbformat_minor": 5
}
