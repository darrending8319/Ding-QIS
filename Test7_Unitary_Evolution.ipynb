{
 "cells": [
  {
   "cell_type": "code",
   "execution_count": 1,
   "id": "80d6506c",
   "metadata": {},
   "outputs": [],
   "source": [
    "import matplotlib.pyplot as plt\n",
    "import numpy as np\n",
    "import qutip as qt\n",
    "import scipy\n",
    "\n",
    "π = np.pi\n",
    "µs_to_ns = 1e3\n",
    "norm_fact = 1/(np.sqrt(2))"
   ]
  },
  {
   "cell_type": "markdown",
   "id": "a526e223",
   "metadata": {},
   "source": [
    "### Capacitively Coupled, 3 Qubit Energy Levels"
   ]
  },
  {
   "cell_type": "code",
   "execution_count": 25,
   "id": "fd7005fd",
   "metadata": {},
   "outputs": [],
   "source": [
    "#states\n",
    "num_qubit_states = 3\n",
    "\n",
    "g_state = qt.basis(num_qubit_states, 0)\n",
    "e_state = qt.basis(num_qubit_states, 1)\n",
    "f_state = qt.basis(num_qubit_states, 2)\n",
    "\n",
    "#operators\n",
    "b1 = qt.tensor(qt.destroy(num_qubit_states), qt.qeye(num_qubit_states))\n",
    "b1dag = b1.dag() \n",
    "b2 = qt.tensor(qt.qeye(num_qubit_states), qt.destroy(num_qubit_states))\n",
    "b2dag = b2.dag() \n",
    "\n",
    "gg_proj = qt.tensor(g_state, g_state).proj()\n",
    "ge_proj = qt.tensor(g_state, e_state).proj()\n",
    "gf_proj = qt.tensor(g_state, f_state).proj()\n",
    "\n",
    "eg_proj = qt.tensor(e_state, g_state).proj()\n",
    "ee_proj = qt.tensor(e_state, e_state).proj()\n",
    "ef_proj = qt.tensor(e_state, f_state).proj()\n",
    "\n",
    "fg_proj = qt.tensor(f_state, g_state).proj()\n",
    "fe_proj = qt.tensor(f_state, e_state).proj()\n",
    "ff_proj = qt.tensor(f_state, f_state).proj()"
   ]
  },
  {
   "cell_type": "markdown",
   "id": "a3f5afda",
   "metadata": {},
   "source": [
    "### Hamiltonian\n",
    "$H/\\hbar = \\sum_{i=1}^2{\\left(\\omega_i b_i^\\dagger b_i + \\frac{\\alpha_i}{2} b_i^\\dagger b_i^\\dagger b_i b_i\\right)} + J(b_1^\\dagger b_2+b_2^\\dagger b_1+b_1^\\dagger b_2^\\dagger+b_1 b_2)$"
   ]
  },
  {
   "cell_type": "code",
   "execution_count": null,
   "id": "2505d5ca",
   "metadata": {},
   "outputs": [],
   "source": [
    "#hamiltonian in harmonic oscillator basis, eigenvectors belong to this basis (harmonic oscillator)\n",
    "#calculate eigenvectors of this hamiltonian for the eigenvectors\n",
    "#set of eigenvectors (hermitian operator, set of eigenvectors form a complete basis), can make a transformation matrix\n",
    "#can use this transformation matrix to transform propogator into the eigenbasis of the hamiltonian (computational basis)\n",
    "#now in the computational basis- you can truncate the transformed propogator by ignoring anything beyond 4x4 (process)"
   ]
  },
  {
   "cell_type": "code",
   "execution_count": 44,
   "id": "7bd962f4",
   "metadata": {},
   "outputs": [],
   "source": [
    "def hamiltonian(omega_1, omega_2, alpha_1, alpha_2, J_coupling):\n",
    "    t1 = (omega_1 * b1dag * b1) + (omega_2 * b2dag * b2)\n",
    "    t2 = (alpha_1 / 2 * b1dag * b1dag * b1 * b1) + (alpha_2 / 2 * b2dag * b2dag * b2 * b2)\n",
    "    t4 = J_coupling * (b1dag * b2 + b2dag * b1)\n",
    "    t5 = J_coupling * (b1dag * b2dag + b1 * b2)\n",
    "    return t1 + t2 + t4 + t5\n",
    "\n",
    "def nocounter(omega_1, omega_2, alpha_1, alpha_2, J_coupling):\n",
    "    t1 = (omega_1 * b1dag * b1) + (omega_2 * b2dag * b2)\n",
    "    t2 = (alpha_1 / 2 * b1dag * b1dag * b1 * b1) + (alpha_2 / 2 * b2dag * b2dag * b2 * b2)\n",
    "    t4 = J_coupling * (b1dag * b2 + b2dag * b1)\n",
    "    return t1 + t2 + t4"
   ]
  },
  {
   "cell_type": "code",
   "execution_count": 45,
   "id": "3c78ec65",
   "metadata": {},
   "outputs": [],
   "source": [
    "def calc_gatetime(t_vec, omega1, omega2, alpha, J_coupling, hamiltonian, plotbool):\n",
    "    h = hamiltonian(omega_1=omega1, omega_2=omega2, alpha_1=alpha, alpha_2=alpha, J_coupling=J_coupling)\n",
    "    psi0 = qt.tensor(e_state, g_state) #start in eg state\n",
    "    te = qt.mesolve(h, psi0, t_vec, [], []) #time evolve with t_vec\n",
    "    eg_pops = qt.expect(eg_proj, te.states)\n",
    "    argmin = np.argmin(np.abs(eg_pops-0.5)[1:]) + 1 #argument of value closest to 0.5\n",
    "    if plotbool == True:\n",
    "        fig = plt.figure()\n",
    "        plt.plot(t_vec, eg_pops) #blue line\n",
    "        plt.scatter(t_vec[argmin], eg_pops[argmin], c='r') #red dot \n",
    "    return eg_pops[argmin], t_vec[argmin], argmin"
   ]
  },
  {
   "cell_type": "markdown",
   "id": "6896f99a",
   "metadata": {},
   "source": [
    "### side pursuit (gate times w/, w/o, c.r. terms, and analytical)"
   ]
  },
  {
   "cell_type": "code",
   "execution_count": 147,
   "id": "1d7ec08d",
   "metadata": {},
   "outputs": [
    {
     "name": "stdout",
     "output_type": "stream",
     "text": [
      "0.7853981633974483 0.7853981633974483 0.7853981633974483\n",
      "0.4999982236688102 0.4999921468755914 0.5\n"
     ]
    },
    {
     "data": {
      "image/png": "[encoded data removed]",
      "text/plain": [
       "<Figure size 640x480 with 1 Axes>"
      ]
     },
     "metadata": {},
     "output_type": "display_data"
    }
   ],
   "source": [
    "J_coupling = 2*π * 8\n",
    "t_start = 0\n",
    "t_end = 6 * π/(4*J_coupling) #π/4J ~ reach maximally entangled state (Jt = π/4)\n",
    "t_vec = np.linspace(t_start, t_end, 301)\n",
    "omega1 = 2*π * 6000\n",
    "omega2 = 2*π * 6000\n",
    "alpha = 2*π * -300\n",
    "\n",
    "pop, gatetime, arg = calc_gatetime(t_vec, omega1, omega2, alpha, J_coupling, hamiltonian, True)\n",
    "pop_no, gatetime_no, arg_no = calc_gatetime(t_vec, omega1, omega2, alpha, J_coupling, nocounter, False)\n",
    "\n",
    "#note in 2010 Nature Paper Bialczak SQiSW: g/2 = J, gt = π/2, Jt = π/4\n",
    "print(J_coupling * gatetime, J_coupling * gatetime_no, π/4)\n",
    "print(pop, pop_no, 0.5)"
   ]
  },
  {
   "cell_type": "markdown",
   "id": "93073958",
   "metadata": {},
   "source": [
    "#### Takeaways: \n",
    "- population number for w/, w/o c.r. terms are different (good)\n",
    "- lower number of points in t_vec leads to different gatetimes from analytical (w/, w/o always identical)"
   ]
  },
  {
   "cell_type": "markdown",
   "id": "634e98df",
   "metadata": {},
   "source": [
    "### Propogator function for specific hamiltonian (harmonic oscillator basis)"
   ]
  },
  {
   "cell_type": "code",
   "execution_count": 149,
   "id": "7710184d",
   "metadata": {},
   "outputs": [
    {
     "data": {
      "text/latex": [
       "Quantum object: dims = [[9], [9]], shape = (9, 9), type = oper, isherm = False $ \\\\ \\left(\\begin{matrix}(1.000+5.236\\times10^{-04}j) & 0.0 & (-3.207\\times10^{-05}-2.238\\times10^{-05}j) & 0.0 & (-0.001+5.598\\times10^{-05}j) & 0.0 & (-3.207\\times10^{-05}-2.238\\times10^{-05}j) & 0.0 & (1.153\\times10^{-06}+2.668\\times10^{-07}j)\\\\0.0 & (-7.586\\times10^{-04}+0.707j) & 0.0 & (0.707+7.593\\times10^{-04}j) & 0.0 & (9.571\\times10^{-07}-6.925\\times10^{-04}j) & 0.0 & (-3.175\\times10^{-04}+8.913\\times10^{-04}j) & 0.0\\\\(-3.204\\times10^{-05}-2.236\\times10^{-05}j) & 0.0 & (0.342+0.937j) & 0.0 & (-0.049-0.033j) & 0.0 & (-0.041+0.013j) & 0.0 & (7.182\\times10^{-05}+4.859\\times10^{-05}j)\\\\0.0 & (0.707+7.593\\times10^{-04}j) & 0.0 & (-7.586\\times10^{-04}+0.707j) & 0.0 & (-3.175\\times10^{-04}+8.913\\times10^{-04}j) & 0.0 & (9.571\\times10^{-07}-6.925\\times10^{-04}j) & 0.0\\\\(-0.001+5.592\\times10^{-05}j) & 0.0 & (-0.049-0.033j) & 0.0 & (-0.993+0.084j) & 0.0 & (-0.049-0.033j) & 0.0 & (5.325\\times10^{-04}+9.001\\times10^{-04}j)\\\\0.0 & (9.459\\times10^{-07}-6.844\\times10^{-04}j) & 0.0 & (-3.138\\times10^{-04}+8.808\\times10^{-04}j) & 0.0 & (-2.324\\times10^{-06}-7.056\\times10^{-05}j) & 0.0 & (0.387+0.922j) & 0.0\\\\(-3.204\\times10^{-05}-2.236\\times10^{-05}j) & 0.0 & (-0.041+0.013j) & 0.0 & (-0.049-0.033j) & 0.0 & (0.342+0.937j) & 0.0 & (7.182\\times10^{-05}+4.859\\times10^{-05}j)\\\\0.0 & (-3.138\\times10^{-04}+8.808\\times10^{-04}j) & 0.0 & (9.459\\times10^{-07}-6.844\\times10^{-04}j) & 0.0 & (0.387+0.922j) & 0.0 & (-2.324\\times10^{-06}-7.056\\times10^{-05}j) & 0.0\\\\(1.078\\times10^{-06}+2.494\\times10^{-07}j) & 0.0 & (6.720\\times10^{-05}+4.546\\times10^{-05}j) & 0.0 & (4.983\\times10^{-04}+8.422\\times10^{-04}j) & 0.0 & (6.720\\times10^{-05}+4.546\\times10^{-05}j) & 0.0 & (-0.682+0.731j)\\\\\\end{matrix}\\right)$"
      ],
      "text/plain": [
       "Quantum object: dims = [[9], [9]], shape = (9, 9), type = oper, isherm = False\n",
       "Qobj data =\n",
       "[[ 9.99998978e-01+5.23637260e-04j  0.00000000e+00+0.00000000e+00j\n",
       "  -3.20725977e-05-2.23776364e-05j  0.00000000e+00+0.00000000e+00j\n",
       "  -1.32929080e-03+5.59798158e-05j  0.00000000e+00+0.00000000e+00j\n",
       "  -3.20725977e-05-2.23776364e-05j  0.00000000e+00+0.00000000e+00j\n",
       "   1.15340386e-06+2.66813092e-07j]\n",
       " [ 0.00000000e+00+0.00000000e+00j -7.58613035e-04+7.07105191e-01j\n",
       "   0.00000000e+00+0.00000000e+00j  7.07106607e-01+7.59289937e-04j\n",
       "   0.00000000e+00+0.00000000e+00j  9.57109483e-07-6.92549454e-04j\n",
       "   0.00000000e+00+0.00000000e+00j -3.17488845e-04+8.91297732e-04j\n",
       "   0.00000000e+00+0.00000000e+00j]\n",
       " [-3.20434465e-05-2.23572971e-05j  0.00000000e+00+0.00000000e+00j\n",
       "   3.41792646e-01+9.36949555e-01j  0.00000000e+00+0.00000000e+00j\n",
       "  -4.87932685e-02-3.26531448e-02j  0.00000000e+00+0.00000000e+00j\n",
       "  -4.10467728e-02+1.31346346e-02j  0.00000000e+00+0.00000000e+00j\n",
       "   7.18244746e-05+4.85917281e-05j]\n",
       " [ 0.00000000e+00+0.00000000e+00j  7.07106607e-01+7.59289937e-04j\n",
       "   0.00000000e+00+0.00000000e+00j -7.58613035e-04+7.07105191e-01j\n",
       "   0.00000000e+00+0.00000000e+00j -3.17488845e-04+8.91297732e-04j\n",
       "   0.00000000e+00+0.00000000e+00j  9.57109483e-07-6.92549454e-04j\n",
       "   0.00000000e+00+0.00000000e+00j]\n",
       " [-1.32787895e-03+5.59203593e-05j  0.00000000e+00+0.00000000e+00j\n",
       "  -4.87857869e-02-3.26481380e-02j  0.00000000e+00+0.00000000e+00j\n",
       "  -9.92962556e-01+8.44311138e-02j  0.00000000e+00+0.00000000e+00j\n",
       "  -4.87857869e-02-3.26481380e-02j  0.00000000e+00+0.00000000e+00j\n",
       "   5.32493717e-04+9.00078981e-04j]\n",
       " [ 0.00000000e+00+0.00000000e+00j  9.45886760e-07-6.84428867e-04j\n",
       "   0.00000000e+00+0.00000000e+00j -3.13766085e-04+8.80846695e-04j\n",
       "   0.00000000e+00+0.00000000e+00j -2.32360405e-06-7.05622019e-05j\n",
       "   0.00000000e+00+0.00000000e+00j  3.87167857e-01+9.22008498e-01j\n",
       "   0.00000000e+00+0.00000000e+00j]\n",
       " [-3.20434465e-05-2.23572971e-05j  0.00000000e+00+0.00000000e+00j\n",
       "  -4.10467728e-02+1.31346346e-02j  0.00000000e+00+0.00000000e+00j\n",
       "  -4.87932685e-02-3.26531448e-02j  0.00000000e+00+0.00000000e+00j\n",
       "   3.41792646e-01+9.36949555e-01j  0.00000000e+00+0.00000000e+00j\n",
       "   7.18244746e-05+4.85917281e-05j]\n",
       " [ 0.00000000e+00+0.00000000e+00j -3.13766085e-04+8.80846695e-04j\n",
       "   0.00000000e+00+0.00000000e+00j  9.45886760e-07-6.84428867e-04j\n",
       "   0.00000000e+00+0.00000000e+00j  3.87167857e-01+9.22008498e-01j\n",
       "   0.00000000e+00+0.00000000e+00j -2.32360405e-06-7.05622019e-05j\n",
       "   0.00000000e+00+0.00000000e+00j]\n",
       " [ 1.07811765e-06+2.49397381e-07j  0.00000000e+00+0.00000000e+00j\n",
       "   6.71973467e-05+4.54613169e-05j  0.00000000e+00+0.00000000e+00j\n",
       "   4.98265424e-04+8.42222587e-04j  0.00000000e+00+0.00000000e+00j\n",
       "   6.71973467e-05+4.54613169e-05j  0.00000000e+00+0.00000000e+00j\n",
       "  -6.81874396e-01+7.31468522e-01j]]"
      ]
     },
     "execution_count": 149,
     "metadata": {},
     "output_type": "execute_result"
    }
   ],
   "source": [
    "omega1 = 2*π * 6000\n",
    "omega2 = 2*π * 6000\n",
    "alpha = 2*π * -300\n",
    "_, gatetime, _ = calc_gatetime(t_vec, omega1, omega2, alpha, J_coupling, hamiltonian, False)\n",
    "h = hamiltonian(omega_1=omega1, omega_2=omega2, alpha_1=alpha, alpha_2=alpha, J_coupling=J_coupling)\n",
    "\n",
    "newt_vec = np.linspace(t_start, gatetime, 601)\n",
    "propogator = qt.propagator(h, newt_vec)\n",
    "#when operated on initial state vector, perform SQiSW -- how extend to computation basis?\n",
    "prop = qt.Qobj(np.array(propogator[-1]))\n",
    "prop"
   ]
  },
  {
   "cell_type": "markdown",
   "id": "819eeb53",
   "metadata": {},
   "source": [
    "### Generate Transformation Matrix for propogator to hamiltonian eigenbasis"
   ]
  },
  {
   "cell_type": "code",
   "execution_count": 173,
   "id": "7cbd448a",
   "metadata": {},
   "outputs": [],
   "source": [
    "def transformation(matrix, prop):\n",
    "    eig, eigstates = matrix.eigenstates()\n",
    "    obj = (\n",
    "        np.array(eigstates[0]), np.array(eigstates[1]), np.array(eigstates[2]), \n",
    "        np.array(eigstates[3]), np.array(eigstates[4]), np.array(eigstates[5]),\n",
    "        np.array(eigstates[6]), np.array(eigstates[7]), np.array(eigstates[8]),\n",
    "    )\n",
    "    U = np.column_stack(obj)\n",
    "    T = qt.Qobj(U)\n",
    "    D = prop\n",
    "    newprop = T.dag() * D * T\n",
    "    return newprop"
   ]
  },
  {
   "cell_type": "code",
   "execution_count": 174,
   "id": "e74586fc",
   "metadata": {},
   "outputs": [
    {
     "data": {
      "text/latex": [
       "Quantum object: dims = [[9], [9]], shape = (9, 9), type = oper, isherm = False $ \\\\ \\left(\\begin{matrix}(1.000+5.236\\times10^{-04}j) & 0.0 & 0.0 & (3.848\\times10^{-08}+2.015\\times10^{-11}j) & 0.0 & (-7.078\\times10^{-07}-3.706\\times10^{-10}j) & 0.0 & 0.0 & (3.084\\times10^{-08}+1.615\\times10^{-11}j)\\\\0.0 & (-0.708+0.706j) & 0.0 & 0.0 & 0.0 & 0.0 & (-8.127\\times10^{-06}+8.109\\times10^{-06}j) & 0.0 & 0.0\\\\0.0 & 0.0 & (0.706+0.708j) & 0.0 & 0.0 & 0.0 & 0.0 & (-8.098\\times10^{-06}-8.116\\times10^{-06}j) & 0.0\\\\(1.170\\times10^{-08}+3.662\\times10^{-08}j) & 0.0 & 0.0 & (0.304+0.953j) & 2.096\\times10^{-12}j & (-2.478\\times10^{-06}-7.754\\times10^{-06}j) & 0.0 & 0.0 & (1.519\\times10^{-06}+4.753\\times10^{-06}j)\\\\0.0 & 0.0 & 0.0 & 2.091\\times10^{-12}j & (0.383+0.924j) & 0.0 & 0.0 & 0.0 & 0.0\\\\(7.047\\times10^{-07}-5.796\\times10^{-08}j) & 0.0 & 0.0 & (8.112\\times10^{-06}-6.672\\times10^{-07}j) & 0.0 & (-0.997+0.082j) & 0.0 & 0.0 & (9.596\\times10^{-05}-7.893\\times10^{-06}j)\\\\0.0 & (-4.393\\times10^{-06}-1.046\\times10^{-05}j) & 0.0 & 0.0 & 0.0 & 0.0 & (-0.387-0.922j) & 0.0 & 0.0\\\\0.0 & 0.0 & (-4.387\\times10^{-06}-1.045\\times10^{-05}j) & 0.0 & 0.0 & 0.0 & 0.0 & (0.387+0.922j) & 0.0\\\\(-1.965\\times10^{-08}+2.108\\times10^{-08}j) & 0.0 & 0.0 & (-3.183\\times10^{-06}+3.414\\times10^{-06}j) & 0.0 & (6.143\\times10^{-05}-6.590\\times10^{-05}j) & 0.0 & 0.0 & (-0.682+0.731j)\\\\\\end{matrix}\\right)$"
      ],
      "text/plain": [
       "Quantum object: dims = [[9], [9]], shape = (9, 9), type = oper, isherm = False\n",
       "Qobj data =\n",
       "[[ 9.99999864e-01+5.23599952e-04j  0.00000000e+00+0.00000000e+00j\n",
       "   0.00000000e+00+0.00000000e+00j  3.84764068e-08+2.01462477e-11j\n",
       "   0.00000000e+00+0.00000000e+00j -7.07823443e-07-3.70616375e-10j\n",
       "   0.00000000e+00+0.00000000e+00j  0.00000000e+00+0.00000000e+00j\n",
       "   3.08370572e-08+1.61462838e-11j]\n",
       " [ 0.00000000e+00+0.00000000e+00j -7.07865532e-01+7.06347424e-01j\n",
       "   0.00000000e+00+0.00000000e+00j  0.00000000e+00+0.00000000e+00j\n",
       "   0.00000000e+00+0.00000000e+00j  0.00000000e+00+0.00000000e+00j\n",
       "  -8.12690548e-06+8.10947628e-06j  0.00000000e+00+0.00000000e+00j\n",
       "   0.00000000e+00+0.00000000e+00j]\n",
       " [ 0.00000000e+00+0.00000000e+00j  0.00000000e+00+0.00000000e+00j\n",
       "   7.06348304e-01+7.07864299e-01j  0.00000000e+00+0.00000000e+00j\n",
       "   0.00000000e+00+0.00000000e+00j  0.00000000e+00+0.00000000e+00j\n",
       "   0.00000000e+00+0.00000000e+00j -8.09840411e-06-8.11578526e-06j\n",
       "   0.00000000e+00+0.00000000e+00j]\n",
       " [ 1.17021637e-08+3.66170035e-08j  0.00000000e+00+0.00000000e+00j\n",
       "   0.00000000e+00+0.00000000e+00j  3.04415460e-01+9.52540253e-01j\n",
       "   0.00000000e+00+2.09615658e-12j -2.47802893e-06-7.75395016e-06j\n",
       "   0.00000000e+00+0.00000000e+00j  0.00000000e+00+0.00000000e+00j\n",
       "   1.51884343e-06+4.75258222e-06j]\n",
       " [ 0.00000000e+00+0.00000000e+00j  0.00000000e+00+0.00000000e+00j\n",
       "   0.00000000e+00+0.00000000e+00j  0.00000000e+00+2.09104956e-12j\n",
       "   3.82839419e-01+9.23814920e-01j  0.00000000e+00+0.00000000e+00j\n",
       "   0.00000000e+00+0.00000000e+00j  0.00000000e+00+0.00000000e+00j\n",
       "   0.00000000e+00+0.00000000e+00j]\n",
       " [ 7.04691866e-07-5.79614585e-08j  0.00000000e+00+0.00000000e+00j\n",
       "   0.00000000e+00+0.00000000e+00j  8.11164671e-06-6.67189301e-07j\n",
       "   0.00000000e+00+0.00000000e+00j -9.96633862e-01+8.19739166e-02j\n",
       "   0.00000000e+00+0.00000000e+00j  0.00000000e+00+0.00000000e+00j\n",
       "   9.59605869e-05-7.89283351e-06j]\n",
       " [ 0.00000000e+00+0.00000000e+00j -4.39292239e-06-1.04621479e-05j\n",
       "   0.00000000e+00+0.00000000e+00j  0.00000000e+00+0.00000000e+00j\n",
       "   0.00000000e+00+0.00000000e+00j  0.00000000e+00+0.00000000e+00j\n",
       "  -3.87169869e-01-9.22080583e-01j  0.00000000e+00+0.00000000e+00j\n",
       "   0.00000000e+00+0.00000000e+00j]\n",
       " [ 0.00000000e+00+0.00000000e+00j  0.00000000e+00+0.00000000e+00j\n",
       "  -4.38686647e-06-1.04462363e-05j  0.00000000e+00+0.00000000e+00j\n",
       "   0.00000000e+00+0.00000000e+00j  0.00000000e+00+0.00000000e+00j\n",
       "   0.00000000e+00+0.00000000e+00j  3.87165224e-01+9.21938118e-01j\n",
       "   0.00000000e+00+0.00000000e+00j]\n",
       " [-1.96544840e-08+2.10840545e-08j  0.00000000e+00+0.00000000e+00j\n",
       "   0.00000000e+00+0.00000000e+00j -3.18295181e-06+3.41446408e-06j\n",
       "   0.00000000e+00+0.00000000e+00j  6.14337885e-05-6.59021802e-05j\n",
       "   0.00000000e+00+0.00000000e+00j  0.00000000e+00+0.00000000e+00j\n",
       "  -6.81873562e-01+7.31469693e-01j]]"
      ]
     },
     "execution_count": 174,
     "metadata": {},
     "output_type": "execute_result"
    }
   ],
   "source": [
    "tprop = transformation(h, prop)\n",
    "tprop"
   ]
  },
  {
   "cell_type": "markdown",
   "id": "d6c58288",
   "metadata": {},
   "source": [
    "### SQiSW Matrix"
   ]
  },
  {
   "cell_type": "code",
   "execution_count": 175,
   "id": "f1db5079",
   "metadata": {},
   "outputs": [
    {
     "data": {
      "text/latex": [
       "Quantum object: dims = [[4], [4]], shape = (4, 4), type = oper, isherm = False $ \\\\ \\left(\\begin{matrix}1.0 & 0.0 & 0.0 & 0.0\\\\0.0 & 0.707 & 0.707j & 0.0\\\\0.0 & 0.707j & 0.707 & 0.0\\\\0.0 & 0.0 & 0.0 & 1.0\\\\\\end{matrix}\\right)$"
      ],
      "text/plain": [
       "Quantum object: dims = [[4], [4]], shape = (4, 4), type = oper, isherm = False\n",
       "Qobj data =\n",
       "[[1.        +0.j         0.        +0.j         0.        +0.j\n",
       "  0.        +0.j        ]\n",
       " [0.        +0.j         0.70710678+0.j         0.        +0.70710678j\n",
       "  0.        +0.j        ]\n",
       " [0.        +0.j         0.        +0.70710678j 0.70710678+0.j\n",
       "  0.        +0.j        ]\n",
       " [0.        +0.j         0.        +0.j         0.        +0.j\n",
       "  1.        +0.j        ]]"
      ]
     },
     "execution_count": 175,
     "metadata": {},
     "output_type": "execute_result"
    }
   ],
   "source": [
    "SQiSW_matrix = np.array([[1, 0, 0, 0],\n",
    "                         [0, (1/np.sqrt(2)), (1/np.sqrt(2))*(1j), 0],\n",
    "                         [0, (1/np.sqrt(2))*(1j), (1/np.sqrt(2)), 0],\n",
    "                         [0, 0, 0, 1]], dtype=complex)\n",
    "SQiSW = qt.Qobj(SQiSW_matrix)\n",
    "SQiSW"
   ]
  },
  {
   "cell_type": "code",
   "execution_count": 176,
   "id": "fb063360",
   "metadata": {},
   "outputs": [
    {
     "data": {
      "text/latex": [
       "Quantum object: dims = [[4], [4]], shape = (4, 4), type = oper, isherm = False $ \\\\ \\left(\\begin{matrix}(1.000+5.236\\times10^{-04}j) & 0.0 & 0.0 & (3.848\\times10^{-08}+2.015\\times10^{-11}j)\\\\0.0 & (-0.708+0.706j) & 0.0 & 0.0\\\\0.0 & 0.0 & (0.706+0.708j) & 0.0\\\\(1.170\\times10^{-08}+3.662\\times10^{-08}j) & 0.0 & 0.0 & (0.304+0.953j)\\\\\\end{matrix}\\right)$"
      ],
      "text/plain": [
       "Quantum object: dims = [[4], [4]], shape = (4, 4), type = oper, isherm = False\n",
       "Qobj data =\n",
       "[[ 9.99999864e-01+5.23599952e-04j  0.00000000e+00+0.00000000e+00j\n",
       "   0.00000000e+00+0.00000000e+00j  3.84764068e-08+2.01462477e-11j]\n",
       " [ 0.00000000e+00+0.00000000e+00j -7.07865532e-01+7.06347424e-01j\n",
       "   0.00000000e+00+0.00000000e+00j  0.00000000e+00+0.00000000e+00j]\n",
       " [ 0.00000000e+00+0.00000000e+00j  0.00000000e+00+0.00000000e+00j\n",
       "   7.06348304e-01+7.07864299e-01j  0.00000000e+00+0.00000000e+00j]\n",
       " [ 1.17021637e-08+3.66170035e-08j  0.00000000e+00+0.00000000e+00j\n",
       "   0.00000000e+00+0.00000000e+00j  3.04415460e-01+9.52540253e-01j]]"
      ]
     },
     "execution_count": 176,
     "metadata": {},
     "output_type": "execute_result"
    }
   ],
   "source": [
    "truncatedprop = qt.Qobj(tprop[0:4, 0:4])\n",
    "truncatedprop"
   ]
  },
  {
   "cell_type": "code",
   "execution_count": 177,
   "id": "4febb974",
   "metadata": {},
   "outputs": [
    {
     "data": {
      "text/plain": [
       "(0.2535824919713747-0.02169076945598466j)"
      ]
     },
     "execution_count": 177,
     "metadata": {},
     "output_type": "execute_result"
    }
   ],
   "source": [
    "qt.process_fidelity(SQiSW, truncatedprop)"
   ]
  },
  {
   "cell_type": "code",
   "execution_count": 178,
   "id": "ee262805",
   "metadata": {},
   "outputs": [
    {
     "data": {
      "text/latex": [
       "Quantum object: dims = [[4], [1]], shape = (4, 1), type = ket $ \\\\ \\left(\\begin{matrix}0.0\\\\0.707\\\\0.707j\\\\0.0\\\\\\end{matrix}\\right)$"
      ],
      "text/plain": [
       "Quantum object: dims = [[4], [1]], shape = (4, 1), type = ket\n",
       "Qobj data =\n",
       "[[0.        +0.j        ]\n",
       " [0.70710678+0.j        ]\n",
       " [0.        +0.70710678j]\n",
       " [0.        +0.j        ]]"
      ]
     },
     "execution_count": 178,
     "metadata": {},
     "output_type": "execute_result"
    }
   ],
   "source": [
    "#SQiSW * qt.Qobj([0, 1, 0, 0])\n",
    "SQiSW * qt.Qobj(np.array([0, 1, 0, 0]))"
   ]
  },
  {
   "cell_type": "code",
   "execution_count": 179,
   "id": "9068251f",
   "metadata": {},
   "outputs": [
    {
     "data": {
      "text/latex": [
       "Quantum object: dims = [[4], [1]], shape = (4, 1), type = ket $ \\\\ \\left(\\begin{matrix}0.0\\\\0.707j\\\\0.707\\\\0.0\\\\\\end{matrix}\\right)$"
      ],
      "text/plain": [
       "Quantum object: dims = [[4], [1]], shape = (4, 1), type = ket\n",
       "Qobj data =\n",
       "[[0.        +0.j        ]\n",
       " [0.        +0.70710678j]\n",
       " [0.70710678+0.j        ]\n",
       " [0.        +0.j        ]]"
      ]
     },
     "execution_count": 179,
     "metadata": {},
     "output_type": "execute_result"
    }
   ],
   "source": [
    "SQiSW * qt.Qobj(np.array([0, 0, 1, 0]))"
   ]
  },
  {
   "cell_type": "code",
   "execution_count": 180,
   "id": "672209bf",
   "metadata": {},
   "outputs": [
    {
     "data": {
      "text/latex": [
       "Quantum object: dims = [[4], [1]], shape = (4, 1), type = ket $ \\\\ \\left(\\begin{matrix}0.0\\\\(-0.708+0.706j)\\\\0.0\\\\0.0\\\\\\end{matrix}\\right)$"
      ],
      "text/plain": [
       "Quantum object: dims = [[4], [1]], shape = (4, 1), type = ket\n",
       "Qobj data =\n",
       "[[ 0.        +0.j        ]\n",
       " [-0.70786553+0.70634742j]\n",
       " [ 0.        +0.j        ]\n",
       " [ 0.        +0.j        ]]"
      ]
     },
     "execution_count": 180,
     "metadata": {},
     "output_type": "execute_result"
    }
   ],
   "source": [
    "truncatedprop * qt.Qobj(np.array([0, 1, 0, 0]))"
   ]
  },
  {
   "cell_type": "code",
   "execution_count": 181,
   "id": "0b8abf18",
   "metadata": {},
   "outputs": [
    {
     "data": {
      "text/latex": [
       "Quantum object: dims = [[4], [1]], shape = (4, 1), type = ket $ \\\\ \\left(\\begin{matrix}0.0\\\\0.0\\\\(0.706+0.708j)\\\\0.0\\\\\\end{matrix}\\right)$"
      ],
      "text/plain": [
       "Quantum object: dims = [[4], [1]], shape = (4, 1), type = ket\n",
       "Qobj data =\n",
       "[[0.       +0.j       ]\n",
       " [0.       +0.j       ]\n",
       " [0.7063483+0.7078643j]\n",
       " [0.       +0.j       ]]"
      ]
     },
     "execution_count": 181,
     "metadata": {},
     "output_type": "execute_result"
    }
   ],
   "source": [
    "truncatedprop * qt.Qobj(np.array([0, 0, 1, 0]))"
   ]
  },
  {
   "cell_type": "code",
   "execution_count": null,
   "id": "bc0e9cbb",
   "metadata": {},
   "outputs": [],
   "source": []
  },
  {
   "cell_type": "code",
   "execution_count": 172,
   "id": "f004ce40",
   "metadata": {},
   "outputs": [
    {
     "data": {
      "text/plain": [
       "(0.09879923494757081+0.013898946966948756j)"
      ]
     },
     "execution_count": 172,
     "metadata": {},
     "output_type": "execute_result"
    }
   ],
   "source": [
    "def unitary(phi_1, phi_2, phi_3):\n",
    "    return (\n",
    "        qt.tensor(g_state, g_state).proj() * 1\n",
    "        + qt.tensor(e_state, g_state).proj() * np.exp(1j*phi_1)\n",
    "        + qt.tensor(g_state, e_state).proj() * np.exp(1j*phi_2)\n",
    "        + qt.tensor(f_state, g_state).proj() * 1\n",
    "        + qt.tensor(e_state, e_state).proj() * np.exp(1j*phi_3)\n",
    "        + qt.tensor(g_state, f_state).proj() * 1\n",
    "        + qt.tensor(f_state, e_state).proj() * 1\n",
    "        + qt.tensor(e_state, f_state).proj() * 1\n",
    "        + qt.tensor(f_state, f_state).proj() * 1\n",
    "    )\n",
    "tunit = qt.Qobj(np.array(unitary(π/4, π/4, 0)))\n",
    "tunit\n",
    "qt.process_fidelity(tunit, tprop)"
   ]
  },
  {
   "cell_type": "code",
   "execution_count": null,
   "id": "227dc9de",
   "metadata": {},
   "outputs": [],
   "source": []
  },
  {
   "cell_type": "code",
   "execution_count": null,
   "id": "e2fcca48",
   "metadata": {},
   "outputs": [],
   "source": []
  },
  {
   "cell_type": "code",
   "execution_count": null,
   "id": "049d199f",
   "metadata": {},
   "outputs": [],
   "source": []
  },
  {
   "cell_type": "code",
   "execution_count": null,
   "id": "71ac7a94",
   "metadata": {},
   "outputs": [],
   "source": []
  },
  {
   "cell_type": "markdown",
   "id": "baa703a8",
   "metadata": {},
   "source": [
    "### What I'm Thinking:\n",
    "\n",
    "$|0, 0\\rangle, |0, 1\\rangle, |1, 0\\rangle, |1, 1\\rangle$ \n",
    "\n",
    "$[1, 0, 0, 0]^T, [0, 1, 0, 0]^T, [0, 0, 1, 0]^T, [0, 0, 0, 1]^T$"
   ]
  },
  {
   "cell_type": "code",
   "execution_count": 23,
   "id": "b0629194",
   "metadata": {},
   "outputs": [
    {
     "data": {
      "text/latex": [
       "Quantum object: dims = [[4], [4]], shape = (4, 4), type = oper, isherm = False $ \\\\ \\left(\\begin{matrix}1.0 & 0.0 & 0.0 & 0.0\\\\0.0 & 0.707 & 0.707j & 0.0\\\\0.0 & 0.707j & 0.707 & 0.0\\\\0.0 & 0.0 & 0.0 & 1.0\\\\\\end{matrix}\\right)$"
      ],
      "text/plain": [
       "Quantum object: dims = [[4], [4]], shape = (4, 4), type = oper, isherm = False\n",
       "Qobj data =\n",
       "[[1.        +0.j         0.        +0.j         0.        +0.j\n",
       "  0.        +0.j        ]\n",
       " [0.        +0.j         0.70710678+0.j         0.        +0.70710678j\n",
       "  0.        +0.j        ]\n",
       " [0.        +0.j         0.        +0.70710678j 0.70710678+0.j\n",
       "  0.        +0.j        ]\n",
       " [0.        +0.j         0.        +0.j         0.        +0.j\n",
       "  1.        +0.j        ]]"
      ]
     },
     "execution_count": 23,
     "metadata": {},
     "output_type": "execute_result"
    }
   ],
   "source": [
    "SQiSW_matrix = np.array([[1, 0, 0, 0],\n",
    "                         [0, (1/np.sqrt(2)), (1/np.sqrt(2))*(1j), 0],\n",
    "                         [0, (1/np.sqrt(2))*(1j), (1/np.sqrt(2)), 0],\n",
    "                         [0, 0, 0, 1]], dtype=complex)\n",
    "SQiSW = qt.Qobj(SQiSW_matrix)\n",
    "SQiSW"
   ]
  },
  {
   "cell_type": "code",
   "execution_count": 24,
   "id": "cff1e97c",
   "metadata": {},
   "outputs": [
    {
     "data": {
      "text/latex": [
       "Quantum object: dims = [[4], [1]], shape = (4, 1), type = ket $ \\\\ \\left(\\begin{matrix}0.0\\\\0.707j\\\\0.707\\\\0.0\\\\\\end{matrix}\\right)$"
      ],
      "text/plain": [
       "Quantum object: dims = [[4], [1]], shape = (4, 1), type = ket\n",
       "Qobj data =\n",
       "[[0.        +0.j        ]\n",
       " [0.        +0.70710678j]\n",
       " [0.70710678+0.j        ]\n",
       " [0.        +0.j        ]]"
      ]
     },
     "execution_count": 24,
     "metadata": {},
     "output_type": "execute_result"
    }
   ],
   "source": [
    "gg = qt.basis(4, 0)\n",
    "ge = qt.basis(4, 1)\n",
    "eg = qt.basis(4, 2)\n",
    "ee = qt.basis(4, 3)\n",
    "\n",
    "#SQiSW * gg\n",
    "#SQiSW * ge\n",
    "SQiSW * eg\n",
    "#SQiSW * ee"
   ]
  },
  {
   "cell_type": "code",
   "execution_count": null,
   "id": "5318300e",
   "metadata": {},
   "outputs": [],
   "source": [
    "#T dagger * propogator * T (stacked eigenvector)\n",
    "#propogator in the hamiltonian basis\n",
    "#truncate by ignoring extra stuff"
   ]
  },
  {
   "cell_type": "code",
   "execution_count": 14,
   "id": "8dd34826",
   "metadata": {},
   "outputs": [],
   "source": [
    "x1, x2 = diagonalize(propogator[-1])\n",
    "y1, y2 = diagonalize(h)"
   ]
  },
  {
   "cell_type": "code",
   "execution_count": 15,
   "id": "6ee1eb1f",
   "metadata": {},
   "outputs": [
    {
     "data": {
      "text/latex": [
       "Quantum object: dims = [[9], [9]], shape = (9, 9), type = oper, isherm = False $ \\\\ \\left(\\begin{matrix}(0.303+0.952j) & 0.0 & (-8.901\\times10^{-04}+0.001j) & 0.0 & (-0.024-0.007j) & (0.028+0.005j) & 0.0 & 0.0 & (-8.656\\times10^{-04}-5.792\\times10^{-04}j)\\\\0.0 & (-0.548-0.108j) & 0.0 & (0.001+9.033\\times10^{-04}j) & 0.0 & 0.0 & (-2.184\\times10^{-05}+6.823\\times10^{-04}j) & (-0.160+0.814j) & 0.0\\\\(-8.329\\times10^{-04}+0.001j) & 0.0 & (1.000+5.257\\times10^{-04}j) & 0.0 & (5.057\\times10^{-05}-5.979\\times10^{-05}j) & (1.961\\times10^{-06}-5.255\\times10^{-06}j) & 0.0 & 0.0 & (-3.640\\times10^{-07}-7.108\\times10^{-07}j)\\\\0.0 & (0.001+8.927\\times10^{-04}j) & 0.0 & (0.545+0.816j) & 0.0 & 0.0 & (0.162-0.108j) & (-1.159\\times10^{-06}-6.836\\times10^{-04}j) & 0.0\\\\(-0.024-0.007j) & 0.0 & (5.405\\times10^{-05}-6.390\\times10^{-05}j) & 0.0 & (-0.146+0.827j) & (0.534+0.095j) & 0.0 & 0.0 & (4.680\\times10^{-05}+3.151\\times10^{-05}j)\\\\(0.028+0.005j) & 0.0 & (2.096\\times10^{-06}-5.616\\times10^{-06}j) & 0.0 & (0.534+0.095j) & (-0.147+0.827j) & 0.0 & 0.0 & (4.847\\times10^{-07}+1.004\\times10^{-07}j)\\\\0.0 & (-2.158\\times10^{-05}+6.743\\times10^{-04}j) & 0.0 & (0.162-0.108j) & 0.0 & 0.0 & (0.545+0.816j) & (-0.001-9.190\\times10^{-04}j) & 0.0\\\\0.0 & (-0.160+0.814j) & 0.0 & (-1.173\\times10^{-06}-6.917\\times10^{-04}j) & 0.0 & 0.0 & (-0.001-9.299\\times10^{-04}j) & (-0.548-0.108j) & 0.0\\\\(-8.666\\times10^{-04}-5.799\\times10^{-04}j) & 0.0 & (-3.894\\times10^{-07}-7.604\\times10^{-07}j) & 0.0 & (4.684\\times10^{-05}+3.154\\times10^{-05}j) & (4.851\\times10^{-07}+1.005\\times10^{-07}j) & 0.0 & 0.0 & (-0.997+0.082j)\\\\\\end{matrix}\\right)$"
      ],
      "text/plain": [
       "Quantum object: dims = [[9], [9]], shape = (9, 9), type = oper, isherm = False\n",
       "Qobj data =\n",
       "[[ 3.03141651e-01+9.52182671e-01j  0.00000000e+00+0.00000000e+00j\n",
       "  -8.90112400e-04+1.46699347e-03j  0.00000000e+00+0.00000000e+00j\n",
       "  -2.39575959e-02-6.67461201e-03j  2.83860480e-02+5.05926559e-03j\n",
       "   0.00000000e+00+0.00000000e+00j  0.00000000e+00+0.00000000e+00j\n",
       "  -8.65630281e-04-5.79234671e-04j]\n",
       " [ 0.00000000e+00+0.00000000e+00j -5.47516685e-01-1.07865706e-01j\n",
       "   0.00000000e+00+0.00000000e+00j  1.05947780e-03+9.03336222e-04j\n",
       "   0.00000000e+00+0.00000000e+00j  0.00000000e+00+0.00000000e+00j\n",
       "  -2.18377121e-05+6.82292734e-04j -1.60347831e-01+8.14213338e-01j\n",
       "   0.00000000e+00+0.00000000e+00j]\n",
       " [-8.32896979e-04+1.37269573e-03j  0.00000000e+00+0.00000000e+00j\n",
       "   9.99998823e-01+5.25697950e-04j  0.00000000e+00+0.00000000e+00j\n",
       "   5.05713689e-05-5.97863359e-05j  1.96093773e-06-5.25465478e-06j\n",
       "   0.00000000e+00+0.00000000e+00j  0.00000000e+00+0.00000000e+00j\n",
       "  -3.63971117e-07-7.10768017e-07j]\n",
       " [ 0.00000000e+00+0.00000000e+00j  1.04705476e-03+8.92744045e-04j\n",
       "   0.00000000e+00+0.00000000e+00j  5.44592846e-01+8.15838737e-01j\n",
       "   0.00000000e+00+0.00000000e+00j  0.00000000e+00+0.00000000e+00j\n",
       "   1.61754466e-01-1.07975967e-01j -1.15908277e-06-6.83589974e-04j\n",
       "   0.00000000e+00+0.00000000e+00j]\n",
       " [-2.39612538e-02-6.67562237e-03j  0.00000000e+00+0.00000000e+00j\n",
       "   5.40535763e-05-6.39031492e-05j  0.00000000e+00+0.00000000e+00j\n",
       "  -1.46079900e-01+8.27058997e-01j  5.33764918e-01+9.50996043e-02j\n",
       "   0.00000000e+00+0.00000000e+00j  0.00000000e+00+0.00000000e+00j\n",
       "   4.67965558e-05+3.15133122e-05j]\n",
       " [ 2.83903916e-02+5.06003993e-03j  0.00000000e+00+0.00000000e+00j\n",
       "   2.09596329e-06-5.61648372e-06j  0.00000000e+00+0.00000000e+00j\n",
       "   5.33765116e-01+9.50998292e-02j -1.47354172e-01+8.26703900e-01j\n",
       "   0.00000000e+00+0.00000000e+00j  0.00000000e+00+0.00000000e+00j\n",
       "   4.84659200e-07+1.00424920e-07j]\n",
       " [ 0.00000000e+00+0.00000000e+00j -2.15816185e-05+6.74292431e-04j\n",
       "   0.00000000e+00+0.00000000e+00j  1.61754461e-01-1.07975975e-01j\n",
       "   0.00000000e+00+0.00000000e+00j  0.00000000e+00+0.00000000e+00j\n",
       "   5.44592894e-01+8.15838687e-01j -1.02242443e-03-9.18964991e-04j\n",
       "   0.00000000e+00+0.00000000e+00j]\n",
       " [ 0.00000000e+00+0.00000000e+00j -1.60347791e-01+8.14213348e-01j\n",
       "   0.00000000e+00+0.00000000e+00j -1.17286875e-06-6.91700593e-04j\n",
       "   0.00000000e+00+0.00000000e+00j  0.00000000e+00+0.00000000e+00j\n",
       "  -1.03455524e-03-9.29868273e-04j -5.47516734e-01-1.07865656e-01j\n",
       "   0.00000000e+00+0.00000000e+00j]\n",
       " [-8.66550355e-04-5.79850343e-04j  0.00000000e+00+0.00000000e+00j\n",
       "  -3.89387838e-07-7.60401523e-07j  0.00000000e+00+0.00000000e+00j\n",
       "   4.68391378e-05+3.15420108e-05j  4.85100113e-07+1.00516280e-07j\n",
       "   0.00000000e+00+0.00000000e+00j  0.00000000e+00+0.00000000e+00j\n",
       "  -9.96633279e-01+8.19743144e-02j]]"
      ]
     },
     "execution_count": 15,
     "metadata": {},
     "output_type": "execute_result"
    }
   ],
   "source": [
    "x1"
   ]
  },
  {
   "cell_type": "markdown",
   "id": "ae47bfa5",
   "metadata": {},
   "source": [
    "Diagonalize time independent hamiltonian"
   ]
  },
  {
   "cell_type": "markdown",
   "id": "823802f3",
   "metadata": {},
   "source": [
    "Change to $|g, g\\rangle, |g, e\\rangle, |e, g\\rangle, |e, e\\rangle$ Basis"
   ]
  },
  {
   "cell_type": "code",
   "execution_count": 16,
   "id": "fe2e4bfa",
   "metadata": {},
   "outputs": [
    {
     "data": {
      "text/latex": [
       "Quantum object: dims = [[4], [4]], shape = (4, 4), type = oper, isherm = True $ \\\\ \\left(\\begin{matrix}-8.376\\times10^{-04} & 0.0 & 0.0 & 0.0\\\\0.0 & 5.558\\times10^{+04} & 0.0 & 0.0\\\\0.0 & 0.0 & 7.443\\times10^{+04} & 0.0\\\\0.0 & 0.0 & 0.0 & 7.443\\times10^{+04}\\\\\\end{matrix}\\right)$"
      ],
      "text/plain": [
       "Quantum object: dims = [[4], [4]], shape = (4, 4), type = oper, isherm = True\n",
       "Qobj data =\n",
       "[[-8.37592333e-04  0.00000000e+00  0.00000000e+00  0.00000000e+00]\n",
       " [ 0.00000000e+00  5.55783848e+04  0.00000000e+00  0.00000000e+00]\n",
       " [ 0.00000000e+00  0.00000000e+00  7.44280259e+04  0.00000000e+00]\n",
       " [ 0.00000000e+00  0.00000000e+00  0.00000000e+00  7.44306132e+04]]"
      ]
     },
     "execution_count": 16,
     "metadata": {},
     "output_type": "execute_result"
    }
   ],
   "source": [
    "H_compbasis = qt.Qobj(np.diag((y1[0,0], y1[1,1], y1[3,3], y1[4,4])))\n",
    "H_compbasis"
   ]
  },
  {
   "cell_type": "markdown",
   "id": "7efee58e",
   "metadata": {},
   "source": [
    "What I expect..."
   ]
  },
  {
   "cell_type": "code",
   "execution_count": null,
   "id": "a861b46f",
   "metadata": {},
   "outputs": [],
   "source": [
    "#slight anharmonicity "
   ]
  },
  {
   "cell_type": "code",
   "execution_count": null,
   "id": "c36ccab8",
   "metadata": {},
   "outputs": [],
   "source": []
  },
  {
   "cell_type": "markdown",
   "id": "d06665ea",
   "metadata": {},
   "source": [
    "Reminder of 3 Level Basis Choice"
   ]
  },
  {
   "cell_type": "code",
   "execution_count": 37,
   "id": "fa19fa94",
   "metadata": {},
   "outputs": [
    {
     "name": "stdout",
     "output_type": "stream",
     "text": [
      "[[1.+0.j]] [[1.+0.j]] [[1.+0.j]] [[1.+0.j]] [[1.+0.j]] [[1.+0.j]] [[1.+0.j]] [[1.+0.j]] [[1.+0.j]]\n"
     ]
    }
   ],
   "source": [
    "psi0 = qt.tensor(g_state, g_state)\n",
    "psi1 = qt.tensor(g_state, e_state)\n",
    "psi2 = qt.tensor(g_state, f_state)\n",
    "psi3 = qt.tensor(e_state, g_state)\n",
    "psi4 = qt.tensor(e_state, e_state)\n",
    "psi5 = qt.tensor(e_state, f_state)\n",
    "psi6 = qt.tensor(f_state, g_state)\n",
    "psi7 = qt.tensor(f_state, e_state)\n",
    "psi8 = qt.tensor(f_state, f_state)\n",
    "\n",
    "\n",
    "print(psi0[0], psi1[1], psi2[2], psi3[3], psi4[4], psi5[5], \n",
    "      psi6[6], psi7[7], psi8[8])"
   ]
  },
  {
   "cell_type": "code",
   "execution_count": 38,
   "id": "a578f19e",
   "metadata": {},
   "outputs": [],
   "source": [
    "#some edit"
   ]
  },
  {
   "cell_type": "code",
   "execution_count": 39,
   "id": "a088d2c7",
   "metadata": {},
   "outputs": [
    {
     "data": {
      "text/latex": [
       "Quantum object: dims = [[3, 3], [1, 1]], shape = (9, 1), type = ket $ \\\\ \\left(\\begin{matrix}1.0\\\\0.0\\\\0.0\\\\0.0\\\\0.0\\\\0.0\\\\0.0\\\\0.0\\\\0.0\\\\\\end{matrix}\\right)$"
      ],
      "text/plain": [
       "Quantum object: dims = [[3, 3], [1, 1]], shape = (9, 1), type = ket\n",
       "Qobj data =\n",
       "[[1.]\n",
       " [0.]\n",
       " [0.]\n",
       " [0.]\n",
       " [0.]\n",
       " [0.]\n",
       " [0.]\n",
       " [0.]\n",
       " [0.]]"
      ]
     },
     "execution_count": 39,
     "metadata": {},
     "output_type": "execute_result"
    }
   ],
   "source": [
    "psi0"
   ]
  },
  {
   "cell_type": "code",
   "execution_count": 42,
   "id": "09390358",
   "metadata": {},
   "outputs": [
    {
     "data": {
      "text/latex": [
       "Quantum object: dims = [[3, 3], [1, 1]], shape = (9, 1), type = ket $ \\\\ \\left(\\begin{matrix}0.0\\\\0.0\\\\1.0\\\\0.0\\\\0.0\\\\0.0\\\\0.0\\\\0.0\\\\0.0\\\\\\end{matrix}\\right)$"
      ],
      "text/plain": [
       "Quantum object: dims = [[3, 3], [1, 1]], shape = (9, 1), type = ket\n",
       "Qobj data =\n",
       "[[0.]\n",
       " [0.]\n",
       " [1.]\n",
       " [0.]\n",
       " [0.]\n",
       " [0.]\n",
       " [0.]\n",
       " [0.]\n",
       " [0.]]"
      ]
     },
     "execution_count": 42,
     "metadata": {},
     "output_type": "execute_result"
    }
   ],
   "source": [
    "psi2"
   ]
  },
  {
   "cell_type": "code",
   "execution_count": null,
   "id": "e9e8a887",
   "metadata": {},
   "outputs": [],
   "source": []
  }
 ],
 "metadata": {
  "kernelspec": {
   "display_name": "Python 3 (ipykernel)",
   "language": "python",
   "name": "python3"
  },
  "language_info": {
   "codemirror_mode": {
    "name": "ipython",
    "version": 3
   },
   "file_extension": ".py",
   "mimetype": "text/x-python",
   "name": "python",
   "nbconvert_exporter": "python",
   "pygments_lexer": "ipython3",
   "version": "3.9.6"
  }
 },
 "nbformat": 4,
 "nbformat_minor": 5
}
