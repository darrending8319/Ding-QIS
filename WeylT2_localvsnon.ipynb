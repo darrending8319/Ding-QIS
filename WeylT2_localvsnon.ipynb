{
 "cells": [
  {
   "cell_type": "code",
   "execution_count": 1,
   "id": "1a76e783-884e-4869-b950-9d7b16e92ac1",
   "metadata": {},
   "outputs": [],
   "source": [
    "import matplotlib.pyplot as plt\n",
    "import numpy as np\n",
    "import qutip as qt\n",
    "\n",
    "π = np.pi"
   ]
  },
  {
   "cell_type": "markdown",
   "id": "a66604f1",
   "metadata": {},
   "source": [
    "## Basis Definition"
   ]
  },
  {
   "cell_type": "markdown",
   "id": "9ac20f8c-8ae4-4bb5-831c-e2a552cb3f40",
   "metadata": {},
   "source": [
    "Bell_00 / $|\\Phi^+\\rangle$ = $\\frac{1}{\\sqrt{2}} \\left( |00\\rangle + |11\\rangle \\right)$\n",
    "\n",
    "Bell_01 / $|\\Phi^-\\rangle$ = $\\frac{1}{\\sqrt{2}} \\left( |00\\rangle - |11\\rangle \\right)$\n",
    "\n",
    "Bell_10 / $|\\Psi^+\\rangle$ =  $\\frac{1}{\\sqrt{2}} \\left( |01\\rangle + |10\\rangle \\right)$\n",
    "\n",
    "Bell_11 / $|\\Psi^-\\rangle$ =  $\\frac{1}{\\sqrt{2}} \\left( |01\\rangle - |10\\rangle \\right)$"
   ]
  },
  {
   "cell_type": "code",
   "execution_count": 2,
   "id": "f7577835-95cb-4b40-be59-f0b369804806",
   "metadata": {},
   "outputs": [],
   "source": [
    "Bell_00 = qt.bell_state('00')\n",
    "Bell_01 = qt.bell_state('01')\n",
    "Bell_10 = qt.bell_state('10')\n",
    "Bell_11 = qt.bell_state('11')"
   ]
  },
  {
   "cell_type": "markdown",
   "id": "1fb215c8-aef8-4f57-9f2d-586e2d8749c0",
   "metadata": {},
   "source": [
    "Magic_1 / $|\\Phi_1\\rangle$ = $|\\Phi^+\\rangle$\n",
    "\n",
    "Magic_2 / $|\\Phi_2\\rangle$ = $-i|\\Phi^-\\rangle$\n",
    "\n",
    "Magic_3 / $|\\Psi_3\\rangle$ = $|\\Psi^-\\rangle$\n",
    "\n",
    "Magic_4 / $|\\Psi_4\\rangle$ = $-i|\\Psi^+\\rangle$"
   ]
  },
  {
   "cell_type": "code",
   "execution_count": 3,
   "id": "6583fdf1-8b55-4236-a4aa-5f98af6bd17f",
   "metadata": {},
   "outputs": [],
   "source": [
    "#kraus cirac definition\n",
    "Magic_1 = Bell_00\n",
    "Magic_2 = -1j * Bell_01\n",
    "Magic_3 = Bell_11\n",
    "Magic_4 = -1j * Bell_10"
   ]
  },
  {
   "cell_type": "markdown",
   "id": "3786a62c",
   "metadata": {},
   "source": [
    "Many different ways to define the magic basis - Here is the one in Vatan Williams 2004, Gates States referenced in the weyl chamber paper (This is different than Kraus Cirac)\n",
    "\n",
    "Simply stacking the column vectors of the bell basis in matrix representation side by side"
   ]
  },
  {
   "cell_type": "code",
   "execution_count": 4,
   "id": "a497f74d",
   "metadata": {},
   "outputs": [
    {
     "data": {
      "text/latex": [
       "Quantum object: dims = [[4], [4]], shape = (4, 4), type = oper, isherm = False $ \\\\ \\left(\\begin{matrix}0.707 & 0.707j & 0.0 & 0.0\\\\0.0 & 0.0 & 0.707j & 0.707\\\\0.0 & 0.0 & 0.707j & -0.707\\\\0.707 & -0.707j & 0.0 & 0.0\\\\\\end{matrix}\\right)$"
      ],
      "text/plain": [
       "Quantum object: dims = [[4], [4]], shape = (4, 4), type = oper, isherm = False\n",
       "Qobj data =\n",
       "[[ 0.70710678+0.j          0.        +0.70710678j  0.        +0.j\n",
       "   0.        +0.j        ]\n",
       " [ 0.        +0.j          0.        +0.j          0.        +0.70710678j\n",
       "   0.70710678+0.j        ]\n",
       " [ 0.        +0.j          0.        +0.j          0.        +0.70710678j\n",
       "  -0.70710678+0.j        ]\n",
       " [ 0.70710678+0.j          0.        -0.70710678j  0.        +0.j\n",
       "   0.        +0.j        ]]"
      ]
     },
     "execution_count": 4,
     "metadata": {},
     "output_type": "execute_result"
    }
   ],
   "source": [
    "#Transform from the standard basis to the magic basis\n",
    "Q1 = qt.Qobj((1/np.sqrt(2)) * np.array([[1, 1j, 0, 0],\n",
    "                                       [0, 0, 1j, 1],\n",
    "                                       [0, 0, 1j, -1],\n",
    "                                       [1, -1j, 0, 0]], dtype=complex))\n",
    "Q1"
   ]
  },
  {
   "cell_type": "code",
   "execution_count": 5,
   "id": "2bf7f486",
   "metadata": {},
   "outputs": [
    {
     "data": {
      "text/latex": [
       "Quantum object: dims = [[4], [4]], shape = (4, 4), type = oper, isherm = False $ \\\\ \\left(\\begin{matrix}0.707 & -0.707j & 0.0 & 0.0\\\\0.0 & 0.0 & 0.707 & -0.707j\\\\0.0 & 0.0 & -0.707 & -0.707j\\\\0.707 & 0.707j & 0.0 & 0.0\\\\\\end{matrix}\\right)$"
      ],
      "text/plain": [
       "Quantum object: dims = [[4], [4]], shape = (4, 4), type = oper, isherm = False\n",
       "Qobj data =\n",
       "[[ 0.70710678+0.j          0.        -0.70710678j  0.        +0.j\n",
       "   0.        +0.j        ]\n",
       " [ 0.        +0.j          0.        +0.j          0.70710678+0.j\n",
       "   0.        -0.70710678j]\n",
       " [ 0.        +0.j          0.        +0.j         -0.70710678+0.j\n",
       "   0.        -0.70710678j]\n",
       " [ 0.70710678+0.j          0.        +0.70710678j  0.        +0.j\n",
       "   0.        +0.j        ]]"
      ]
     },
     "execution_count": 5,
     "metadata": {},
     "output_type": "execute_result"
    }
   ],
   "source": [
    "#Kraus Cirac\n",
    "Q2 = qt.Qobj(np.column_stack([Magic_1, Magic_2, Magic_3, Magic_4]))\n",
    "Q2"
   ]
  },
  {
   "cell_type": "code",
   "execution_count": 6,
   "id": "a57da053",
   "metadata": {},
   "outputs": [
    {
     "data": {
      "text/latex": [
       "Quantum object: dims = [[4], [4]], shape = (4, 4), type = oper, isherm = False $ \\\\ \\left(\\begin{matrix}0.707 & 0.0 & 0.0 & 0.707\\\\-0.707j & 0.0 & 0.0 & 0.707j\\\\0.0 & 0.707 & -0.707 & 0.0\\\\0.0 & -0.707j & -0.707j & 0.0\\\\\\end{matrix}\\right)$"
      ],
      "text/plain": [
       "Quantum object: dims = [[4], [4]], shape = (4, 4), type = oper, isherm = False\n",
       "Qobj data =\n",
       "[[ 0.70710678+0.j          0.        +0.j          0.        +0.j\n",
       "   0.70710678+0.j        ]\n",
       " [ 0.        -0.70710678j  0.        +0.j          0.        +0.j\n",
       "   0.        +0.70710678j]\n",
       " [ 0.        +0.j          0.70710678+0.j         -0.70710678+0.j\n",
       "   0.        +0.j        ]\n",
       " [ 0.        +0.j          0.        -0.70710678j  0.        -0.70710678j\n",
       "   0.        +0.j        ]]"
      ]
     },
     "execution_count": 6,
     "metadata": {},
     "output_type": "execute_result"
    }
   ],
   "source": [
    "Q2.trans() #this is the change of basis matrix that I computed with the kraus cirac representation of the magic basis\n",
    "           #this matrix should transform from the standard basis to the magic basis"
   ]
  },
  {
   "cell_type": "markdown",
   "id": "3b11d8e2",
   "metadata": {},
   "source": [
    "## Functions"
   ]
  },
  {
   "cell_type": "code",
   "execution_count": 8,
   "id": "25da3f9e-1755-4eb6-a89a-3f606d536182",
   "metadata": {},
   "outputs": [],
   "source": [
    "#http://home.lu.lv/~sd20008/papers/essays/Random%20unitary%20[paper].pdf\n",
    "def U_matrix(alpha, phi, psi, chi):\n",
    "    pre = np.exp(1j * alpha)\n",
    "    a = np.exp(1j * psi) * np.cos(phi) \n",
    "    b = np.exp(1j * chi) * np.sin(phi)\n",
    "    c = -1 * np.exp(-1j * chi) * np.sin(phi)\n",
    "    d = np.exp(-1j * psi) * np.cos(phi)\n",
    "    U = pre * np.array([[a, b],\n",
    "                  [c, d]], \n",
    "                 dtype=complex)\n",
    "    return U\n",
    "\n",
    "def randSU2():\n",
    "    alpha = np.random.uniform(0, 2*π)\n",
    "    psi = np.random.uniform(0, 2*π)\n",
    "    chi = np.random.uniform(0, 2*π)\n",
    "    phi = np.random.uniform(0, π/2)\n",
    "    x = qt.Qobj(U_matrix(alpha, phi, psi, chi))\n",
    "    return x\n",
    "\n",
    "#input a np.array state in the standard basis\n",
    "#computed change of basis matrix on my ipad, turns out it's the transpose of Q... not sure why atm\n",
    "def concurrence(state):\n",
    "    basistransform = qt.Qobj(Q2.trans()*state)\n",
    "    conc = np.abs(basistransform[0][0][0]**2 + \n",
    "           basistransform[1][0][0]**2 + \n",
    "           basistransform[2][0][0]**2 + \n",
    "           basistransform[3][0][0]**2)\n",
    "    return conc\n",
    "\n",
    "def can_decomp(tx, ty, tz):\n",
    "    xx = qt.Qobj(np.kron(qt.sigmax(), qt.sigmax()))\n",
    "    yy = qt.Qobj(np.kron(qt.sigmay(), qt.sigmay()))\n",
    "    zz = qt.Qobj(np.kron(qt.sigmaz(), qt.sigmaz()))\n",
    "\n",
    "    return ((tx*xx + ty*yy + tz*zz)*(-1j*π/2)).expm()"
   ]
  },
  {
   "cell_type": "code",
   "execution_count": 9,
   "id": "b481eaf7-1745-45a2-8cd8-7d64bd2d598b",
   "metadata": {},
   "outputs": [],
   "source": [
    "#check that randomly generated matrix in SU(2) is unitary\n",
    "temp = []\n",
    "for i in range(0, 100, 1):\n",
    "    x = randSU2()\n",
    "    temp.append(x*x.dag() == qt.Qobj(np.identity(2)))\n",
    "    \n",
    "    if (x*x.dag() != qt.Qobj(np.identity(2))):\n",
    "        print(1)\n",
    "        \n",
    "        \n",
    "temp = []\n",
    "for i in range(0, 100, 1):\n",
    "    x = randSU2()\n",
    "    y = randSU2()\n",
    "    xy = qt.Qobj(np.kron(x,y))\n",
    "    temp.append(xy*xy.dag())\n",
    "    \n",
    "    if (xy*xy.dag() != qt.Qobj(np.identity(4))):\n",
    "        print(1)"
   ]
  },
  {
   "cell_type": "markdown",
   "id": "f65c9b15",
   "metadata": {},
   "source": [
    "## Canonical Gates are diagonal in the magic basis"
   ]
  },
  {
   "cell_type": "code",
   "execution_count": 10,
   "id": "5a561fd1-36e1-4678-8f32-c6fb2717ee5d",
   "metadata": {},
   "outputs": [
    {
     "data": {
      "text/latex": [
       "Quantum object: dims = [[4], [4]], shape = (4, 4), type = oper, isherm = False $ \\\\ \\left(\\begin{matrix}(0.577-0.113j) & 0.0 & 0.0 & (-0.156-0.793j)\\\\0.0 & (-0.104-0.020j) & (0.192-0.976j) & 0.0\\\\0.0 & (0.192-0.976j) & (-0.104-0.020j) & 0.0\\\\(-0.156-0.793j) & 0.0 & 0.0 & (0.577-0.113j)\\\\\\end{matrix}\\right)$"
      ],
      "text/plain": [
       "Quantum object: dims = [[4], [4]], shape = (4, 4), type = oper, isherm = False\n",
       "Qobj data =\n",
       "[[ 0.57749833-0.11337506j  0.        +0.j          0.        +0.j\n",
       "  -0.15574879-0.79333731j]\n",
       " [ 0.        +0.j         -0.10372525-0.02036345j  0.1915644 -0.97577122j\n",
       "   0.        +0.j        ]\n",
       " [ 0.        +0.j          0.1915644 -0.97577122j -0.10372525-0.02036345j\n",
       "   0.        +0.j        ]\n",
       " [-0.15574879-0.79333731j  0.        +0.j          0.        +0.j\n",
       "   0.57749833-0.11337506j]]"
      ]
     },
     "execution_count": 10,
     "metadata": {},
     "output_type": "execute_result"
    }
   ],
   "source": [
    "U = can_decomp(0.83342, 0.234, 0.1234123)\n",
    "U"
   ]
  },
  {
   "cell_type": "markdown",
   "id": "03145e68",
   "metadata": {},
   "source": [
    "any canonical gate is diagonal in the magic basis"
   ]
  },
  {
   "cell_type": "code",
   "execution_count": 14,
   "id": "667db03e-90b9-4dea-b1f7-01e06ab843f5",
   "metadata": {},
   "outputs": [
    {
     "data": {
      "text/latex": [
       "Quantum object: dims = [[4], [4]], shape = (4, 4), type = oper, isherm = False $ \\\\ \\left(\\begin{matrix}(0.422-0.907j) & 0.0 & 0.0 & 0.0\\\\0.0 & (0.733+0.680j) & 0.0 & 0.0\\\\0.0 & 0.0 & (-0.295+0.955j) & 0.0\\\\0.0 & 0.0 & 0.0 & (0.088-0.996j)\\\\\\end{matrix}\\right)$"
      ],
      "text/plain": [
       "Quantum object: dims = [[4], [4]], shape = (4, 4), type = oper, isherm = False\n",
       "Qobj data =\n",
       "[[ 0.42174955-0.90671237j  0.        +0.j          0.        +0.j\n",
       "   0.        +0.j        ]\n",
       " [ 0.        +0.j          0.73324712+0.67996225j  0.        +0.j\n",
       "   0.        +0.j        ]\n",
       " [ 0.        +0.j          0.        +0.j         -0.29528965+0.95540778j\n",
       "   0.        +0.j        ]\n",
       " [ 0.        +0.j          0.        +0.j          0.        +0.j\n",
       "   0.08783915-0.99613467j]]"
      ]
     },
     "execution_count": 14,
     "metadata": {},
     "output_type": "execute_result"
    }
   ],
   "source": [
    "D = Q2.dag() * U * Q2\n",
    "D"
   ]
  },
  {
   "cell_type": "markdown",
   "id": "d55ec080",
   "metadata": {},
   "source": [
    "## Nearest Kronecker Decomposition"
   ]
  },
  {
   "cell_type": "code",
   "execution_count": 15,
   "id": "7510ad14-5596-4ea5-a0a2-836f21e5821a",
   "metadata": {},
   "outputs": [],
   "source": [
    "x1 = randSU2()\n",
    "y1 = randSU2()\n",
    "\n",
    "x2 = randSU2()\n",
    "y2 = randSU2()"
   ]
  },
  {
   "cell_type": "code",
   "execution_count": 16,
   "id": "4deda6af",
   "metadata": {},
   "outputs": [],
   "source": [
    "#code from Gates and States page 47 for kroneker decomposition\n",
    "\n",
    "def nearest_kronecker_product(C):\n",
    "    C = C.reshape(2, 2, 2, 2)\n",
    "    C = C.transpose(0, 2, 1, 3)\n",
    "    C = C.reshape(4, 4)\n",
    "    u, sv, vh = np.linalg.svd(C)\n",
    "    A = np.sqrt(sv[0]) * u[:, 0].reshape(2, 2)\n",
    "    B = np.sqrt(sv[0]) * vh[0, :].reshape(2, 2)\n",
    "    \n",
    "    return A, B"
   ]
  },
  {
   "cell_type": "code",
   "execution_count": 17,
   "id": "c21f3ff1-618d-4029-8196-24be134a14e3",
   "metadata": {},
   "outputs": [],
   "source": [
    "xy1 = qt.Qobj(np.kron(x1, x1)) #the otimes of two SU(2) matrices span SO(4)\n",
    "xy2 = qt.Qobj(np.kron(x2, y2))"
   ]
  },
  {
   "cell_type": "code",
   "execution_count": 18,
   "id": "16c4450f",
   "metadata": {},
   "outputs": [
    {
     "data": {
      "text/latex": [
       "Quantum object: dims = [[2], [2]], shape = (2, 2), type = oper, isherm = False $ \\\\ \\left(\\begin{matrix}(-0.278-0.276j) & (-0.063+0.918j)\\\\(0.384-0.836j) & (0.376-0.110j)\\\\\\end{matrix}\\right)$"
      ],
      "text/plain": [
       "Quantum object: dims = [[2], [2]], shape = (2, 2), type = oper, isherm = False\n",
       "Qobj data =\n",
       "[[-0.27769712-0.27594557j -0.06262884+0.9180501j ]\n",
       " [ 0.38363698-0.83639765j  0.37579633-0.1097213j ]]"
      ]
     },
     "execution_count": 18,
     "metadata": {},
     "output_type": "execute_result"
    }
   ],
   "source": [
    "qt.Qobj(nearest_kronecker_product(np.array(xy1))[0])"
   ]
  },
  {
   "cell_type": "code",
   "execution_count": 19,
   "id": "30434a7a",
   "metadata": {},
   "outputs": [
    {
     "data": {
      "text/latex": [
       "Quantum object: dims = [[2], [2]], shape = (2, 2), type = oper, isherm = False $ \\\\ \\left(\\begin{matrix}(0.149-0.362j) & (-0.873+0.292j)\\\\(0.919+0.036j) & (0.245+0.306j)\\\\\\end{matrix}\\right)$"
      ],
      "text/plain": [
       "Quantum object: dims = [[2], [2]], shape = (2, 2), type = oper, isherm = False\n",
       "Qobj data =\n",
       "[[ 0.14924306-0.36192286j -0.87259783+0.29208112j]\n",
       " [ 0.91948668+0.03581335j  0.24469721+0.30558947j]]"
      ]
     },
     "execution_count": 19,
     "metadata": {},
     "output_type": "execute_result"
    }
   ],
   "source": [
    "x1"
   ]
  },
  {
   "cell_type": "code",
   "execution_count": 20,
   "id": "a26393fc",
   "metadata": {},
   "outputs": [],
   "source": [
    "#not quite the same..."
   ]
  },
  {
   "cell_type": "code",
   "execution_count": 21,
   "id": "4e640949-cf79-4a56-bda5-90f990e68c4a",
   "metadata": {},
   "outputs": [
    {
     "data": {
      "text/latex": [
       "Quantum object: dims = [[4], [4]], shape = (4, 4), type = oper, isherm = False $ \\\\ \\left(\\begin{matrix}(0.133-0.672j) & (0.152-0.028j) & (0.216+0.464j) & (0.441-0.223j)\\\\(-0.055-0.043j) & (-0.604-0.676j) & (-0.047-0.107j) & (0.349+0.194j)\\\\(0.599+0.322j) & (-0.164-0.182j) & (0.568+0.138j) & (-0.218-0.297j)\\\\(0.247-0.039j) & (0.186-0.244j) & (-0.497-0.368j) & (0.077-0.674j)\\\\\\end{matrix}\\right)$"
      ],
      "text/plain": [
       "Quantum object: dims = [[4], [4]], shape = (4, 4), type = oper, isherm = False\n",
       "Qobj data =\n",
       "[[ 0.13254363-0.67206454j  0.15154078-0.02798945j  0.2161288 +0.4642911j\n",
       "   0.44137241-0.22344112j]\n",
       " [-0.05506688-0.04333929j -0.60435112-0.67584411j -0.04706475-0.10733948j\n",
       "   0.34912418+0.19354393j]\n",
       " [ 0.59943395+0.32233377j -0.16415045-0.18174367j  0.56752565+0.13799809j\n",
       "  -0.21780898-0.29704236j]\n",
       " [ 0.24720487-0.03899261j  0.18603362-0.24425765j -0.49714376-0.36838093j\n",
       "   0.07674166-0.67405735j]]"
      ]
     },
     "execution_count": 21,
     "metadata": {},
     "output_type": "execute_result"
    }
   ],
   "source": [
    "xy1*U*xy2"
   ]
  },
  {
   "cell_type": "markdown",
   "id": "c30b09d5",
   "metadata": {},
   "source": [
    "## Test 1"
   ]
  },
  {
   "cell_type": "code",
   "execution_count": 22,
   "id": "ec600ddb-b94c-4bb0-b578-f18d05e428aa",
   "metadata": {},
   "outputs": [],
   "source": [
    "num_qubit_states = 2\n",
    "\n",
    "g_state = qt.basis(num_qubit_states, 0)\n",
    "e_state = qt.basis(num_qubit_states, 1)"
   ]
  },
  {
   "cell_type": "code",
   "execution_count": 23,
   "id": "257dd345",
   "metadata": {},
   "outputs": [],
   "source": [
    "#same thing as a kroneker product between individual states\n",
    "state1 = qt.tensor(g_state, g_state)\n",
    "state2 = qt.tensor(g_state, e_state)\n",
    "state3 = qt.tensor(e_state, g_state)\n",
    "state4 = qt.tensor(e_state, e_state)"
   ]
  },
  {
   "cell_type": "code",
   "execution_count": 24,
   "id": "a0b17615",
   "metadata": {},
   "outputs": [
    {
     "data": {
      "text/plain": [
       "array([[0.+0.j],\n",
       "       [0.+0.j],\n",
       "       [0.+0.j],\n",
       "       [1.+0.j]])"
      ]
     },
     "execution_count": 24,
     "metadata": {},
     "output_type": "execute_result"
    }
   ],
   "source": [
    "psi_i = np.array(state4)\n",
    "psi_i"
   ]
  },
  {
   "cell_type": "code",
   "execution_count": 25,
   "id": "0081677e",
   "metadata": {},
   "outputs": [
    {
     "data": {
      "text/plain": [
       "0.0"
      ]
     },
     "execution_count": 25,
     "metadata": {},
     "output_type": "execute_result"
    }
   ],
   "source": [
    "concurrence(psi_i)"
   ]
  },
  {
   "cell_type": "code",
   "execution_count": 47,
   "id": "16a84064",
   "metadata": {},
   "outputs": [
    {
     "data": {
      "text/latex": [
       "Quantum object: dims = [[4], [4]], shape = (4, 4), type = oper, isherm = False $ \\\\ \\left(\\begin{matrix}0.707 & 0.0 & 0.0 & -0.707j\\\\0.0 & 0.707 & -0.707j & 0.0\\\\0.0 & -0.707j & 0.707 & 0.0\\\\-0.707j & 0.0 & 0.0 & 0.707\\\\\\end{matrix}\\right)$"
      ],
      "text/plain": [
       "Quantum object: dims = [[4], [4]], shape = (4, 4), type = oper, isherm = False\n",
       "Qobj data =\n",
       "[[0.70710678+0.j         0.        +0.j         0.        +0.j\n",
       "  0.        -0.70710678j]\n",
       " [0.        +0.j         0.70710678+0.j         0.        -0.70710678j\n",
       "  0.        +0.j        ]\n",
       " [0.        +0.j         0.        -0.70710678j 0.70710678+0.j\n",
       "  0.        +0.j        ]\n",
       " [0.        -0.70710678j 0.        +0.j         0.        +0.j\n",
       "  0.70710678+0.j        ]]"
      ]
     },
     "execution_count": 47,
     "metadata": {},
     "output_type": "execute_result"
    }
   ],
   "source": [
    "U = can_decomp(0.5, 0, 0)\n",
    "U #CNOT locally equivalent gate"
   ]
  },
  {
   "cell_type": "code",
   "execution_count": 62,
   "id": "873e84a9-cdd3-49ed-931c-9c49a93a41f7",
   "metadata": {},
   "outputs": [],
   "source": [
    "CNOT = qt.Qobj(np.array([[1 , 0 , 0 , 0 ],\n",
    "                   [0 , 1 , 0 , 0 ],\n",
    "                   [0 , 0 , 0 , 1 ],\n",
    "                   [0 , 0 , 1 , 0]]))"
   ]
  },
  {
   "cell_type": "code",
   "execution_count": 48,
   "id": "395ce2ac-5179-4c37-9a64-ef20ab81c832",
   "metadata": {},
   "outputs": [
    {
     "data": {
      "text/latex": [
       "Quantum object: dims = [[4], [1]], shape = (4, 1), type = ket $ \\\\ \\left(\\begin{matrix}-0.707j\\\\0.0\\\\0.0\\\\0.707\\\\\\end{matrix}\\right)$"
      ],
      "text/plain": [
       "Quantum object: dims = [[4], [1]], shape = (4, 1), type = ket\n",
       "Qobj data =\n",
       "[[0.        -0.70710678j]\n",
       " [0.        +0.j        ]\n",
       " [0.        +0.j        ]\n",
       " [0.70710678+0.j        ]]"
      ]
     },
     "execution_count": 48,
     "metadata": {},
     "output_type": "execute_result"
    }
   ],
   "source": [
    "psi_f1 = qt.Qobj(U*psi_i)\n",
    "psi_f1"
   ]
  },
  {
   "cell_type": "code",
   "execution_count": 65,
   "id": "cf0930ed-a43f-448f-abba-dafe55ef5f53",
   "metadata": {},
   "outputs": [
    {
     "data": {
      "text/plain": [
       "array([[0.+0.j],\n",
       "       [0.+0.j],\n",
       "       [1.+0.j],\n",
       "       [0.+0.j]])"
      ]
     },
     "execution_count": 65,
     "metadata": {},
     "output_type": "execute_result"
    }
   ],
   "source": [
    "CNOT*psi_i"
   ]
  },
  {
   "cell_type": "code",
   "execution_count": null,
   "id": "d28e4522-7507-4b81-a16d-c8c293fab951",
   "metadata": {},
   "outputs": [],
   "source": []
  },
  {
   "cell_type": "code",
   "execution_count": 66,
   "id": "c9a54a49",
   "metadata": {},
   "outputs": [
    {
     "data": {
      "text/plain": [
       "0.9999999999999998"
      ]
     },
     "execution_count": 66,
     "metadata": {},
     "output_type": "execute_result"
    }
   ],
   "source": [
    "concurrence(psi_f1)"
   ]
  },
  {
   "cell_type": "code",
   "execution_count": 67,
   "id": "202c3935-1eda-463a-a78c-662498718644",
   "metadata": {},
   "outputs": [
    {
     "data": {
      "text/plain": [
       "0.0"
      ]
     },
     "execution_count": 67,
     "metadata": {},
     "output_type": "execute_result"
    }
   ],
   "source": [
    "concurrence(CNOT*psi_i)"
   ]
  },
  {
   "cell_type": "code",
   "execution_count": 69,
   "id": "5ee70e16",
   "metadata": {},
   "outputs": [],
   "source": [
    "x1 = randSU2()\n",
    "y1 = randSU2()\n",
    "\n",
    "x2 = randSU2()\n",
    "y2 = randSU2()"
   ]
  },
  {
   "cell_type": "code",
   "execution_count": 70,
   "id": "555b18f4",
   "metadata": {},
   "outputs": [],
   "source": [
    "#spans SU(2) kron SU(2)\n",
    "xy1 = qt.Qobj(np.kron(x1, y1))\n",
    "xy2 = qt.Qobj(np.kron(x2, y2))"
   ]
  },
  {
   "cell_type": "code",
   "execution_count": 52,
   "id": "79a417f4",
   "metadata": {},
   "outputs": [
    {
     "data": {
      "text/latex": [
       "Quantum object: dims = [[4], [4]], shape = (4, 4), type = oper, isherm = False $ \\\\ \\left(\\begin{matrix}(0.698-0.390j) & (0.109-0.312j) & (0.061-0.068j) & (0.243+0.430j)\\\\(0.327+0.059j) & (-0.749+0.277j) & (-0.407+0.277j) & (-0.075+0.057j)\\\\(-0.183-0.283j) & (-0.318-0.195j) & (0.482+0.083j) & (-0.651+0.292j)\\\\(0.156-0.336j) & (0.139+0.307j) & (-0.337-0.630j) & (-0.461-0.163j)\\\\\\end{matrix}\\right)$"
      ],
      "text/plain": [
       "Quantum object: dims = [[4], [4]], shape = (4, 4), type = oper, isherm = False\n",
       "Qobj data =\n",
       "[[ 0.69801438-0.38963073j  0.10894219-0.31162805j  0.06082144-0.06831944j\n",
       "   0.24262832+0.42982332j]\n",
       " [ 0.3271533 +0.05870335j -0.74946767+0.27734003j -0.4066918 +0.27698997j\n",
       "  -0.07464308+0.05667539j]\n",
       " [-0.18258164-0.28250716j -0.31777973-0.19455866j  0.48202599+0.08309498j\n",
       "  -0.65067902+0.2921979j ]\n",
       " [ 0.15613623-0.33610055j  0.13879958+0.30707967j -0.33660789-0.63004194j\n",
       "  -0.46063088-0.16326702j]]"
      ]
     },
     "execution_count": 52,
     "metadata": {},
     "output_type": "execute_result"
    }
   ],
   "source": [
    "U_prime = xy1*U*xy2 #multiply a canonical gate directly on both sides with two sets of two single qubit gates\n",
    "U_prime"
   ]
  },
  {
   "cell_type": "code",
   "execution_count": 53,
   "id": "57a77d2f",
   "metadata": {},
   "outputs": [
    {
     "data": {
      "text/plain": [
       "0.38691978679021266"
      ]
     },
     "execution_count": 53,
     "metadata": {},
     "output_type": "execute_result"
    }
   ],
   "source": [
    "psi_f2 = qt.Qobj(U_prime*psi_i)\n",
    "concurrence(psi_f2)"
   ]
  },
  {
   "cell_type": "code",
   "execution_count": 54,
   "id": "e68fbc6f",
   "metadata": {},
   "outputs": [
    {
     "data": {
      "text/latex": [
       "Quantum object: dims = [[4], [1]], shape = (4, 1), type = ket $ \\\\ \\left(\\begin{matrix}(0.243+0.430j)\\\\(-0.075+0.057j)\\\\(-0.651+0.292j)\\\\(-0.461-0.163j)\\\\\\end{matrix}\\right)$"
      ],
      "text/plain": [
       "Quantum object: dims = [[4], [1]], shape = (4, 1), type = ket\n",
       "Qobj data =\n",
       "[[ 0.24262832+0.42982332j]\n",
       " [-0.07464308+0.05667539j]\n",
       " [-0.65067902+0.2921979j ]\n",
       " [-0.46063088-0.16326702j]]"
      ]
     },
     "execution_count": 54,
     "metadata": {},
     "output_type": "execute_result"
    }
   ],
   "source": [
    "psi_f2 #clearly coefficients are not real..."
   ]
  },
  {
   "cell_type": "markdown",
   "id": "f81f41dc",
   "metadata": {},
   "source": [
    "If I haven't made a serious mistake somewhere, U_prime and U should be locally equivalent as they differ solely by single qubit gates... why is the concurrence of the final wave function different??? Either I've made a serious error somewhere in my code or I misread statements made in papers"
   ]
  },
  {
   "cell_type": "code",
   "execution_count": null,
   "id": "5d7f3f19",
   "metadata": {},
   "outputs": [],
   "source": []
  },
  {
   "cell_type": "code",
   "execution_count": null,
   "id": "b187d446",
   "metadata": {},
   "outputs": [],
   "source": []
  },
  {
   "cell_type": "code",
   "execution_count": null,
   "id": "18ad17eb-78e1-404d-b4ed-a63b2db7d241",
   "metadata": {},
   "outputs": [],
   "source": []
  },
  {
   "cell_type": "code",
   "execution_count": null,
   "id": "ea63e739",
   "metadata": {},
   "outputs": [],
   "source": []
  }
 ],
 "metadata": {
  "kernelspec": {
   "display_name": "Python 3 (ipykernel)",
   "language": "python",
   "name": "python3"
  },
  "language_info": {
   "codemirror_mode": {
    "name": "ipython",
    "version": 3
   },
   "file_extension": ".py",
   "mimetype": "text/x-python",
   "name": "python",
   "nbconvert_exporter": "python",
   "pygments_lexer": "ipython3",
   "version": "3.9.6"
  }
 },
 "nbformat": 4,
 "nbformat_minor": 5
}
