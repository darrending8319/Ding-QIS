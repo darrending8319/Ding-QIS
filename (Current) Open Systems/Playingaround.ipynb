{
 "cells": [
  {
   "cell_type": "code",
   "execution_count": 1,
   "id": "aa587f6d",
   "metadata": {},
   "outputs": [],
   "source": [
    "import qutip as qt\n",
    "import numpy as np\n",
    "import lmfit as lm\n",
    "import matplotlib.pyplot as plt\n",
    "from lmfit import Model\n",
    "from numpy import random\n",
    "#_ = %precision 3"
   ]
  },
  {
   "cell_type": "code",
   "execution_count": 50,
   "id": "f18a8759",
   "metadata": {},
   "outputs": [],
   "source": [
    "num_basis = 3"
   ]
  },
  {
   "cell_type": "code",
   "execution_count": 51,
   "id": "6b119a32",
   "metadata": {},
   "outputs": [],
   "source": [
    "a = qt.destroy(num_basis)\n",
    "adag = a.dag()\n",
    "\n",
    "x = (a+a.dag())\n",
    "p = (1j)*(a.dag()-a)"
   ]
  },
  {
   "cell_type": "code",
   "execution_count": 52,
   "id": "4241e24f",
   "metadata": {},
   "outputs": [
    {
     "data": {
      "text/latex": [
       "Quantum object: dims = [[3], [3]], shape = (3, 3), type = oper, isherm = True $ \\\\ \\left(\\begin{matrix}0.0 & -1.0j & 0.0\\\\1.0j & 0.0 & -1.414j\\\\0.0 & 1.414j & 0.0\\\\\\end{matrix}\\right)$"
      ],
      "text/plain": [
       "Quantum object: dims = [[3], [3]], shape = (3, 3), type = oper, isherm = True\n",
       "Qobj data =\n",
       "[[0.+0.j         0.-1.j         0.+0.j        ]\n",
       " [0.+1.j         0.+0.j         0.-1.41421356j]\n",
       " [0.+0.j         0.+1.41421356j 0.+0.j        ]]"
      ]
     },
     "execution_count": 52,
     "metadata": {},
     "output_type": "execute_result"
    }
   ],
   "source": [
    "p"
   ]
  },
  {
   "cell_type": "code",
   "execution_count": 62,
   "id": "89b5ffd2",
   "metadata": {},
   "outputs": [],
   "source": [
    "states = []\n",
    "var = []\n",
    "for i in range(0, 10000, 1):\n",
    "    state = qt.rand_ket(num_basis)\n",
    "    states.append(state)\n",
    "    var.append(qt.variance(x, state)*qt.variance(p, state))"
   ]
  },
  {
   "cell_type": "code",
   "execution_count": 63,
   "id": "5d622612",
   "metadata": {},
   "outputs": [
    {
     "data": {
      "text/plain": [
       "array([1.04332898, 0.85330893, 1.42944018, ..., 2.78953091, 3.05235325,\n",
       "       1.28211363])"
      ]
     },
     "execution_count": 63,
     "metadata": {},
     "output_type": "execute_result"
    }
   ],
   "source": [
    "var = np.array(var)\n",
    "var"
   ]
  },
  {
   "cell_type": "code",
   "execution_count": 70,
   "id": "2aed5700",
   "metadata": {},
   "outputs": [
    {
     "data": {
      "text/latex": [
       "Quantum object: dims = [[3], [1]], shape = (3, 1), type = ket $ \\\\ \\left(\\begin{matrix}(0.367+0.225j)\\\\(-0.543-0.445j)\\\\(0.407+0.396j)\\\\\\end{matrix}\\right)$"
      ],
      "text/plain": [
       "Quantum object: dims = [[3], [1]], shape = (3, 1), type = ket\n",
       "Qobj data =\n",
       "[[ 0.36745863+0.22530875j]\n",
       " [-0.54252609-0.44456203j]\n",
       " [ 0.40690222+0.39581656j]]"
      ]
     },
     "execution_count": 70,
     "metadata": {},
     "output_type": "execute_result"
    }
   ],
   "source": [
    "states[np.argwhere(var == np.min(var))[0][0]]"
   ]
  },
  {
   "cell_type": "code",
   "execution_count": 73,
   "id": "b6f4baec",
   "metadata": {},
   "outputs": [
    {
     "data": {
      "text/plain": [
       "0.030433336119484376"
      ]
     },
     "execution_count": 73,
     "metadata": {},
     "output_type": "execute_result"
    }
   ],
   "source": [
    "np.min(var)"
   ]
  },
  {
   "cell_type": "code",
   "execution_count": null,
   "id": "74941313",
   "metadata": {},
   "outputs": [],
   "source": []
  },
  {
   "cell_type": "code",
   "execution_count": null,
   "id": "5dc40235",
   "metadata": {},
   "outputs": [],
   "source": []
  },
  {
   "cell_type": "code",
   "execution_count": null,
   "id": "256cec2d",
   "metadata": {},
   "outputs": [],
   "source": []
  },
  {
   "cell_type": "code",
   "execution_count": 5,
   "id": "2459388e",
   "metadata": {},
   "outputs": [],
   "source": [
    "def basis(num_basis):\n",
    "    bs = []\n",
    "    for i in range(0, num_basis, 1):\n",
    "        bs.append(qt.basis(num_basis, i))\n",
    "    return bs\n",
    "    \n",
    "def randstate(num_basis, basis):\n",
    "    cs = []\n",
    "    for i in range(0, num_basis, 1):\n",
    "        cs.append(np.random.uniform(0, 1))\n",
    "    ncs = qt.Qobj(np.dot(np.array(cs), basis)).unit()\n",
    "    return ncs"
   ]
  },
  {
   "cell_type": "code",
   "execution_count": 6,
   "id": "a5466f5d",
   "metadata": {},
   "outputs": [],
   "source": [
    "state = randstate(num_basis, basis(num_basis))"
   ]
  },
  {
   "cell_type": "code",
   "execution_count": 7,
   "id": "05719689",
   "metadata": {},
   "outputs": [],
   "source": [
    "#check\n",
    "for i in range(0, 100, 1):\n",
    "    state = randstate(num_basis, basis(num_basis))\n",
    "    if (state != state.unit()):\n",
    "        print('Not Unitary')"
   ]
  },
  {
   "cell_type": "code",
   "execution_count": 8,
   "id": "b2c151ad",
   "metadata": {},
   "outputs": [
    {
     "data": {
      "text/latex": [
       "Quantum object: dims = [[8], [8]], shape = (8, 8), type = oper, isherm = False $ \\\\ \\left(\\begin{matrix}0.0 & 1.0 & 0.0 & 0.0 & 0.0 & 0.0 & 0.0 & 0.0\\\\0.0 & 0.0 & 1.414 & 0.0 & 0.0 & 0.0 & 0.0 & 0.0\\\\0.0 & 0.0 & 0.0 & 1.732 & 0.0 & 0.0 & 0.0 & 0.0\\\\0.0 & 0.0 & 0.0 & 0.0 & 2.0 & 0.0 & 0.0 & 0.0\\\\0.0 & 0.0 & 0.0 & 0.0 & 0.0 & 2.236 & 0.0 & 0.0\\\\0.0 & 0.0 & 0.0 & 0.0 & 0.0 & 0.0 & 2.449 & 0.0\\\\0.0 & 0.0 & 0.0 & 0.0 & 0.0 & 0.0 & 0.0 & 2.646\\\\0.0 & 0.0 & 0.0 & 0.0 & 0.0 & 0.0 & 0.0 & 0.0\\\\\\end{matrix}\\right)$"
      ],
      "text/plain": [
       "Quantum object: dims = [[8], [8]], shape = (8, 8), type = oper, isherm = False\n",
       "Qobj data =\n",
       "[[0.         1.         0.         0.         0.         0.\n",
       "  0.         0.        ]\n",
       " [0.         0.         1.41421356 0.         0.         0.\n",
       "  0.         0.        ]\n",
       " [0.         0.         0.         1.73205081 0.         0.\n",
       "  0.         0.        ]\n",
       " [0.         0.         0.         0.         2.         0.\n",
       "  0.         0.        ]\n",
       " [0.         0.         0.         0.         0.         2.23606798\n",
       "  0.         0.        ]\n",
       " [0.         0.         0.         0.         0.         0.\n",
       "  2.44948974 0.        ]\n",
       " [0.         0.         0.         0.         0.         0.\n",
       "  0.         2.64575131]\n",
       " [0.         0.         0.         0.         0.         0.\n",
       "  0.         0.        ]]"
      ]
     },
     "execution_count": 8,
     "metadata": {},
     "output_type": "execute_result"
    }
   ],
   "source": [
    "a"
   ]
  },
  {
   "cell_type": "code",
   "execution_count": 15,
   "id": "f3061278",
   "metadata": {},
   "outputs": [
    {
     "data": {
      "text/plain": [
       "0.0"
      ]
     },
     "execution_count": 15,
     "metadata": {},
     "output_type": "execute_result"
    }
   ],
   "source": [
    "qt.expect(p, state)"
   ]
  },
  {
   "cell_type": "code",
   "execution_count": 16,
   "id": "6e7fb140",
   "metadata": {},
   "outputs": [
    {
     "data": {
      "text/latex": [
       "Quantum object: dims = [[8], [1]], shape = (8, 1), type = ket $ \\\\ \\left(\\begin{matrix}0.104\\\\0.371\\\\0.216\\\\0.213\\\\0.549\\\\0.603\\\\0.239\\\\0.191\\\\\\end{matrix}\\right)$"
      ],
      "text/plain": [
       "Quantum object: dims = [[8], [1]], shape = (8, 1), type = ket\n",
       "Qobj data =\n",
       "[[0.10388327]\n",
       " [0.37110126]\n",
       " [0.21614376]\n",
       " [0.21276426]\n",
       " [0.54926435]\n",
       " [0.60349079]\n",
       " [0.23939748]\n",
       " [0.19053018]]"
      ]
     },
     "execution_count": 16,
     "metadata": {},
     "output_type": "execute_result"
    }
   ],
   "source": [
    "state"
   ]
  }
 ],
 "metadata": {
  "kernelspec": {
   "display_name": "Python 3 (ipykernel)",
   "language": "python",
   "name": "python3"
  },
  "language_info": {
   "codemirror_mode": {
    "name": "ipython",
    "version": 3
   },
   "file_extension": ".py",
   "mimetype": "text/x-python",
   "name": "python",
   "nbconvert_exporter": "python",
   "pygments_lexer": "ipython3",
   "version": "3.9.6"
  }
 },
 "nbformat": 4,
 "nbformat_minor": 5
}
