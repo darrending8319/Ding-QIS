{
 "cells": [
  {
   "cell_type": "code",
   "execution_count": 1,
   "id": "91cbd752",
   "metadata": {},
   "outputs": [],
   "source": [
    "import qutip as qt\n",
    "import numpy as np\n",
    "import matplotlib.pyplot as plt"
   ]
  },
  {
   "cell_type": "code",
   "execution_count": 18,
   "id": "17c0007d",
   "metadata": {},
   "outputs": [],
   "source": [
    "num_basis = 2\n",
    "π = np.pi"
   ]
  },
  {
   "cell_type": "code",
   "execution_count": 19,
   "id": "1529d425",
   "metadata": {},
   "outputs": [],
   "source": [
    "g_state = qt.basis(num_basis, 0)"
   ]
  },
  {
   "cell_type": "code",
   "execution_count": 20,
   "id": "da52eaa6",
   "metadata": {},
   "outputs": [],
   "source": [
    "alpha0 = 1j\n",
    "psi0 = qt.coherent(num_basis, alpha0)\n",
    "a = qt.destroy(num_basis)"
   ]
  },
  {
   "cell_type": "code",
   "execution_count": 21,
   "id": "562e119b",
   "metadata": {},
   "outputs": [
    {
     "data": {
      "text/latex": [
       "Quantum object: dims = [[2], [1]], shape = (2, 1), type = ket $ \\\\ \\left(\\begin{matrix}0.540\\\\0.841j\\\\\\end{matrix}\\right)$"
      ],
      "text/plain": [
       "Quantum object: dims = [[2], [1]], shape = (2, 1), type = ket\n",
       "Qobj data =\n",
       "[[0.54030231+0.j        ]\n",
       " [0.        +0.84147098j]]"
      ]
     },
     "execution_count": 21,
     "metadata": {},
     "output_type": "execute_result"
    }
   ],
   "source": [
    "psi0"
   ]
  },
  {
   "cell_type": "code",
   "execution_count": 22,
   "id": "9bf27615",
   "metadata": {},
   "outputs": [
    {
     "data": {
      "text/latex": [
       "Quantum object: dims = [[2], [1]], shape = (2, 1), type = ket $ \\\\ \\left(\\begin{matrix}0.841j\\\\0.0\\\\\\end{matrix}\\right)$"
      ],
      "text/plain": [
       "Quantum object: dims = [[2], [1]], shape = (2, 1), type = ket\n",
       "Qobj data =\n",
       "[[0.+0.84147098j]\n",
       " [0.+0.j        ]]"
      ]
     },
     "execution_count": 22,
     "metadata": {},
     "output_type": "execute_result"
    }
   ],
   "source": [
    "a*psi0"
   ]
  },
  {
   "cell_type": "code",
   "execution_count": 23,
   "id": "e280fdd3",
   "metadata": {},
   "outputs": [
    {
     "data": {
      "text/latex": [
       "Quantum object: dims = [[2], [1]], shape = (2, 1), type = ket $ \\\\ \\left(\\begin{matrix}0.540j\\\\-0.841\\\\\\end{matrix}\\right)$"
      ],
      "text/plain": [
       "Quantum object: dims = [[2], [1]], shape = (2, 1), type = ket\n",
       "Qobj data =\n",
       "[[ 0.        +0.54030231j]\n",
       " [-0.84147098+0.j        ]]"
      ]
     },
     "execution_count": 23,
     "metadata": {},
     "output_type": "execute_result"
    }
   ],
   "source": [
    "alpha0*psi0"
   ]
  },
  {
   "cell_type": "code",
   "execution_count": 24,
   "id": "c5ab332d",
   "metadata": {},
   "outputs": [],
   "source": [
    "alpha = 1j\n",
    "psi0 = qt.coherent(num_basis, alpha0)\n",
    "psi1 = qt.coherent(num_basis, -alpha0)\n",
    "psi2 = qt.coherent(num_basis, 1j*alpha0)\n",
    "psi3 = qt.coherent(num_basis, -1j*alpha0)"
   ]
  },
  {
   "cell_type": "code",
   "execution_count": 25,
   "id": "dbbedff3",
   "metadata": {},
   "outputs": [
    {
     "data": {
      "text/latex": [
       "Quantum object: dims = [[2], [1]], shape = (2, 1), type = ket $ \\\\ \\left(\\begin{matrix}0.540\\\\0.841j\\\\\\end{matrix}\\right)$"
      ],
      "text/plain": [
       "Quantum object: dims = [[2], [1]], shape = (2, 1), type = ket\n",
       "Qobj data =\n",
       "[[0.54030231+0.j        ]\n",
       " [0.        +0.84147098j]]"
      ]
     },
     "execution_count": 25,
     "metadata": {},
     "output_type": "execute_result"
    }
   ],
   "source": [
    "psi0"
   ]
  },
  {
   "cell_type": "code",
   "execution_count": 26,
   "id": "504dffc9",
   "metadata": {},
   "outputs": [
    {
     "data": {
      "text/latex": [
       "Quantum object: dims = [[2], [1]], shape = (2, 1), type = ket $ \\\\ \\left(\\begin{matrix}0.540\\\\-0.841j\\\\\\end{matrix}\\right)$"
      ],
      "text/plain": [
       "Quantum object: dims = [[2], [1]], shape = (2, 1), type = ket\n",
       "Qobj data =\n",
       "[[0.54030231+0.j        ]\n",
       " [0.        -0.84147098j]]"
      ]
     },
     "execution_count": 26,
     "metadata": {},
     "output_type": "execute_result"
    }
   ],
   "source": [
    "psi1"
   ]
  },
  {
   "cell_type": "code",
   "execution_count": 27,
   "id": "6e2e64a4",
   "metadata": {},
   "outputs": [
    {
     "data": {
      "text/latex": [
       "Quantum object: dims = [[2], [1]], shape = (2, 1), type = ket $ \\\\ \\left(\\begin{matrix}0.540\\\\-0.841\\\\\\end{matrix}\\right)$"
      ],
      "text/plain": [
       "Quantum object: dims = [[2], [1]], shape = (2, 1), type = ket\n",
       "Qobj data =\n",
       "[[ 0.54030231]\n",
       " [-0.84147098]]"
      ]
     },
     "execution_count": 27,
     "metadata": {},
     "output_type": "execute_result"
    }
   ],
   "source": [
    "psi2"
   ]
  },
  {
   "cell_type": "code",
   "execution_count": 28,
   "id": "fa836e5c",
   "metadata": {},
   "outputs": [
    {
     "data": {
      "text/latex": [
       "Quantum object: dims = [[2], [1]], shape = (2, 1), type = ket $ \\\\ \\left(\\begin{matrix}0.540\\\\0.841\\\\\\end{matrix}\\right)$"
      ],
      "text/plain": [
       "Quantum object: dims = [[2], [1]], shape = (2, 1), type = ket\n",
       "Qobj data =\n",
       "[[0.54030231]\n",
       " [0.84147098]]"
      ]
     },
     "execution_count": 28,
     "metadata": {},
     "output_type": "execute_result"
    }
   ],
   "source": [
    "psi3"
   ]
  },
  {
   "cell_type": "code",
   "execution_count": null,
   "id": "d95a38a5",
   "metadata": {},
   "outputs": [],
   "source": []
  }
 ],
 "metadata": {
  "kernelspec": {
   "display_name": "Python 3 (ipykernel)",
   "language": "python",
   "name": "python3"
  },
  "language_info": {
   "codemirror_mode": {
    "name": "ipython",
    "version": 3
   },
   "file_extension": ".py",
   "mimetype": "text/x-python",
   "name": "python",
   "nbconvert_exporter": "python",
   "pygments_lexer": "ipython3",
   "version": "3.9.6"
  }
 },
 "nbformat": 4,
 "nbformat_minor": 5
}
