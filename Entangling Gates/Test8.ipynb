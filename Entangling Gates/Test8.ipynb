{
 "cells": [
  {
   "cell_type": "code",
   "execution_count": 1,
   "id": "403c4006-1574-4220-af9c-18b126fc5b36",
   "metadata": {},
   "outputs": [],
   "source": [
    "import matplotlib.pyplot as plt\n",
    "import numpy as np\n",
    "import qutip as qt\n",
    "import scipy\n",
    "\n",
    "π = np.pi\n",
    "µs_to_ns = 1e3"
   ]
  },
  {
   "cell_type": "code",
   "execution_count": 2,
   "id": "493e36a2-b841-4de5-b9ce-6028ef33c8e8",
   "metadata": {},
   "outputs": [],
   "source": [
    "#states\n",
    "num_qubit_states = 3\n",
    "\n",
    "g_state = qt.basis(num_qubit_states, 0)\n",
    "e_state = qt.basis(num_qubit_states, 1)\n",
    "f_state = qt.basis(num_qubit_states, 2)\n",
    "\n",
    "#operators\n",
    "b1 = qt.tensor(qt.destroy(num_qubit_states), qt.qeye(num_qubit_states))\n",
    "b1dag = b1.dag() \n",
    "b2 = qt.tensor(qt.qeye(num_qubit_states), qt.destroy(num_qubit_states))\n",
    "b2dag = b2.dag() \n",
    "\n",
    "gg_proj = qt.tensor(g_state, g_state).proj()\n",
    "ge_proj = qt.tensor(g_state, e_state).proj()\n",
    "gf_proj = qt.tensor(g_state, f_state).proj()\n",
    "\n",
    "eg_proj = qt.tensor(e_state, g_state).proj()\n",
    "ee_proj = qt.tensor(e_state, e_state).proj()\n",
    "ef_proj = qt.tensor(e_state, f_state).proj()\n",
    "\n",
    "fg_proj = qt.tensor(f_state, g_state).proj()\n",
    "fe_proj = qt.tensor(f_state, e_state).proj()\n",
    "ff_proj = qt.tensor(f_state, f_state).proj()"
   ]
  },
  {
   "cell_type": "code",
   "execution_count": 3,
   "id": "1573ac2c-a328-42b0-a971-ea6aac98313c",
   "metadata": {},
   "outputs": [],
   "source": [
    "def hamiltonian(omega_1, omega_2, alpha_1, alpha_2, J_coupling):\n",
    "    t1 = (omega_1 * b1dag * b1) + (omega_2 * b2dag * b2)\n",
    "    t2 = (alpha_1 / 2 * b1dag * b1dag * b1 * b1) + (alpha_2 / 2 * b2dag * b2dag * b2 * b2)\n",
    "    t4 = J_coupling * (b1dag * b2 + b2dag * b1)\n",
    "    t5 = J_coupling * (b1dag * b2dag + b1 * b2)\n",
    "    return t1 + t2 + t5 +t4"
   ]
  },
  {
   "cell_type": "code",
   "execution_count": 4,
   "id": "dd502d44-7cda-4c63-8854-62622b1cbbde",
   "metadata": {},
   "outputs": [],
   "source": [
    "def calc_gatetime(t_vec, omega1, omega2, alpha, J_coupling, hamiltonian, plotbool):\n",
    "    h = hamiltonian(omega_1=omega1, omega_2=omega2, alpha_1=alpha, alpha_2=alpha, J_coupling=J_coupling)\n",
    "    psi0 = qt.tensor(e_state, g_state) #start in eg state\n",
    "    te = qt.mesolve(h, psi0, t_vec, [], []) #time evolve with t_vec\n",
    "    eg_pops = qt.expect(eg_proj, te.states)\n",
    "    argmin = np.argmin(np.abs(eg_pops-0.5)[1:]) + 1 #argument of value closest to 0.5\n",
    "    if plotbool == True:\n",
    "        fig = plt.figure()\n",
    "        plt.plot(t_vec, eg_pops) #blue line\n",
    "        plt.scatter(t_vec[argmin], eg_pops[argmin], c='r') #red dot \n",
    "    return eg_pops[argmin], t_vec[argmin], argmin\n",
    "\n",
    "def compute_propogator(h, t_vec): #output propogator matrix\n",
    "    propogator = qt.propagator(h, t_vec)\n",
    "    prop = qt.Qobj(np.array(propogator[-1]))\n",
    "    return prop\n",
    "\n",
    "def fivetofour(matrix):\n",
    "    matrix_4x5 = np.delete(matrix, 2, axis=0)\n",
    "    matrix_4x4 = np.delete(matrix_4x5, 2, axis=1)\n",
    "    return matrix_4x4\n",
    "\n",
    "def compute_cz(phi): #output theoretical unitary evolution matrix\n",
    "    matrix=qt.Qobj(np.array(\n",
    "        qt.tensor(g_state, g_state).proj() * 1\n",
    "        + qt.tensor(e_state, g_state).proj()\n",
    "        + qt.tensor(g_state, e_state).proj()\n",
    "        + qt.tensor(e_state, e_state).proj() * np.exp(1j*phi)))\n",
    "    return qt.Qobj(fivetofour(np.array(matrix[0:5,0:5])))\n",
    "\n",
    "SQiSW_matrix = np.array([[1, 0, 0, 0],\n",
    "                         [0, (1/np.sqrt(2)), (1/np.sqrt(2))*(1j), 0],\n",
    "                         [0, (1/np.sqrt(2))*(1j), (1/np.sqrt(2)), 0],\n",
    "                         [0, 0, 0, 1]], dtype=complex)\n",
    "SQiSW = qt.Qobj(SQiSW_matrix)"
   ]
  },
  {
   "cell_type": "code",
   "execution_count": 44,
   "id": "c9ec530d-0342-4d6d-9411-a2144fe83836",
   "metadata": {},
   "outputs": [],
   "source": [
    "J_coupling = 2*π * 8\n",
    "t_start = 0\n",
    "t_end = 6 * π/(4*J_coupling) #π/4J ~ reach maximally entangled state (Jt = π/4)\n",
    "t_vec = np.linspace(t_start, t_end/4, 601)\n",
    "omega1 = 2*π * 6000\n",
    "omega2 = 2*π * 6000\n",
    "alpha = 2*π * -300"
   ]
  },
  {
   "cell_type": "code",
   "execution_count": 45,
   "id": "a79ee781-0a44-499d-9bbf-2a42bdcc8d82",
   "metadata": {},
   "outputs": [
    {
     "data": {
      "text/latex": [
       "Quantum object: dims = [[9], [9]], shape = (9, 9), type = oper, isherm = False $ \\\\ \\left(\\begin{matrix}(1.000+5.236\\times10^{-04}j) & 0.0 & (-3.207\\times10^{-05}-2.238\\times10^{-05}j) & 0.0 & (-0.001+5.598\\times10^{-05}j) & 0.0 & (-3.207\\times10^{-05}-2.238\\times10^{-05}j) & 0.0 & (1.153\\times10^{-06}+2.668\\times10^{-07}j)\\\\0.0 & (-7.586\\times10^{-04}+0.707j) & 0.0 & (0.707+7.593\\times10^{-04}j) & 0.0 & (9.571\\times10^{-07}-6.925\\times10^{-04}j) & 0.0 & (-3.175\\times10^{-04}+8.913\\times10^{-04}j) & 0.0\\\\(-3.204\\times10^{-05}-2.236\\times10^{-05}j) & 0.0 & (0.342+0.937j) & 0.0 & (-0.049-0.033j) & 0.0 & (-0.041+0.013j) & 0.0 & (7.182\\times10^{-05}+4.859\\times10^{-05}j)\\\\0.0 & (0.707+7.593\\times10^{-04}j) & 0.0 & (-7.586\\times10^{-04}+0.707j) & 0.0 & (-3.175\\times10^{-04}+8.913\\times10^{-04}j) & 0.0 & (9.571\\times10^{-07}-6.925\\times10^{-04}j) & 0.0\\\\(-0.001+5.592\\times10^{-05}j) & 0.0 & (-0.049-0.033j) & 0.0 & (-0.993+0.084j) & 0.0 & (-0.049-0.033j) & 0.0 & (5.325\\times10^{-04}+9.001\\times10^{-04}j)\\\\0.0 & (9.459\\times10^{-07}-6.844\\times10^{-04}j) & 0.0 & (-3.138\\times10^{-04}+8.808\\times10^{-04}j) & 0.0 & (-2.324\\times10^{-06}-7.056\\times10^{-05}j) & 0.0 & (0.387+0.922j) & 0.0\\\\(-3.204\\times10^{-05}-2.236\\times10^{-05}j) & 0.0 & (-0.041+0.013j) & 0.0 & (-0.049-0.033j) & 0.0 & (0.342+0.937j) & 0.0 & (7.182\\times10^{-05}+4.859\\times10^{-05}j)\\\\0.0 & (-3.138\\times10^{-04}+8.808\\times10^{-04}j) & 0.0 & (9.459\\times10^{-07}-6.844\\times10^{-04}j) & 0.0 & (0.387+0.922j) & 0.0 & (-2.324\\times10^{-06}-7.056\\times10^{-05}j) & 0.0\\\\(1.078\\times10^{-06}+2.494\\times10^{-07}j) & 0.0 & (6.720\\times10^{-05}+4.546\\times10^{-05}j) & 0.0 & (4.983\\times10^{-04}+8.422\\times10^{-04}j) & 0.0 & (6.720\\times10^{-05}+4.546\\times10^{-05}j) & 0.0 & (-0.682+0.731j)\\\\\\end{matrix}\\right)$"
      ],
      "text/plain": [
       "Quantum object: dims = [[9], [9]], shape = (9, 9), type = oper, isherm = False\n",
       "Qobj data =\n",
       "[[ 9.99998978e-01+5.23637260e-04j  0.00000000e+00+0.00000000e+00j\n",
       "  -3.20725977e-05-2.23776364e-05j  0.00000000e+00+0.00000000e+00j\n",
       "  -1.32929080e-03+5.59798158e-05j  0.00000000e+00+0.00000000e+00j\n",
       "  -3.20725977e-05-2.23776364e-05j  0.00000000e+00+0.00000000e+00j\n",
       "   1.15340386e-06+2.66813092e-07j]\n",
       " [ 0.00000000e+00+0.00000000e+00j -7.58613035e-04+7.07105191e-01j\n",
       "   0.00000000e+00+0.00000000e+00j  7.07106607e-01+7.59289937e-04j\n",
       "   0.00000000e+00+0.00000000e+00j  9.57109483e-07-6.92549454e-04j\n",
       "   0.00000000e+00+0.00000000e+00j -3.17488845e-04+8.91297732e-04j\n",
       "   0.00000000e+00+0.00000000e+00j]\n",
       " [-3.20434465e-05-2.23572971e-05j  0.00000000e+00+0.00000000e+00j\n",
       "   3.41792646e-01+9.36949555e-01j  0.00000000e+00+0.00000000e+00j\n",
       "  -4.87932685e-02-3.26531448e-02j  0.00000000e+00+0.00000000e+00j\n",
       "  -4.10467728e-02+1.31346346e-02j  0.00000000e+00+0.00000000e+00j\n",
       "   7.18244746e-05+4.85917281e-05j]\n",
       " [ 0.00000000e+00+0.00000000e+00j  7.07106607e-01+7.59289937e-04j\n",
       "   0.00000000e+00+0.00000000e+00j -7.58613035e-04+7.07105191e-01j\n",
       "   0.00000000e+00+0.00000000e+00j -3.17488845e-04+8.91297732e-04j\n",
       "   0.00000000e+00+0.00000000e+00j  9.57109483e-07-6.92549454e-04j\n",
       "   0.00000000e+00+0.00000000e+00j]\n",
       " [-1.32787895e-03+5.59203593e-05j  0.00000000e+00+0.00000000e+00j\n",
       "  -4.87857869e-02-3.26481380e-02j  0.00000000e+00+0.00000000e+00j\n",
       "  -9.92962556e-01+8.44311138e-02j  0.00000000e+00+0.00000000e+00j\n",
       "  -4.87857869e-02-3.26481380e-02j  0.00000000e+00+0.00000000e+00j\n",
       "   5.32493717e-04+9.00078981e-04j]\n",
       " [ 0.00000000e+00+0.00000000e+00j  9.45886760e-07-6.84428867e-04j\n",
       "   0.00000000e+00+0.00000000e+00j -3.13766085e-04+8.80846695e-04j\n",
       "   0.00000000e+00+0.00000000e+00j -2.32360405e-06-7.05622019e-05j\n",
       "   0.00000000e+00+0.00000000e+00j  3.87167857e-01+9.22008498e-01j\n",
       "   0.00000000e+00+0.00000000e+00j]\n",
       " [-3.20434465e-05-2.23572971e-05j  0.00000000e+00+0.00000000e+00j\n",
       "  -4.10467728e-02+1.31346346e-02j  0.00000000e+00+0.00000000e+00j\n",
       "  -4.87932685e-02-3.26531448e-02j  0.00000000e+00+0.00000000e+00j\n",
       "   3.41792646e-01+9.36949555e-01j  0.00000000e+00+0.00000000e+00j\n",
       "   7.18244746e-05+4.85917281e-05j]\n",
       " [ 0.00000000e+00+0.00000000e+00j -3.13766085e-04+8.80846695e-04j\n",
       "   0.00000000e+00+0.00000000e+00j  9.45886760e-07-6.84428867e-04j\n",
       "   0.00000000e+00+0.00000000e+00j  3.87167857e-01+9.22008498e-01j\n",
       "   0.00000000e+00+0.00000000e+00j -2.32360405e-06-7.05622019e-05j\n",
       "   0.00000000e+00+0.00000000e+00j]\n",
       " [ 1.07811765e-06+2.49397381e-07j  0.00000000e+00+0.00000000e+00j\n",
       "   6.71973467e-05+4.54613169e-05j  0.00000000e+00+0.00000000e+00j\n",
       "   4.98265424e-04+8.42222587e-04j  0.00000000e+00+0.00000000e+00j\n",
       "   6.71973467e-05+4.54613169e-05j  0.00000000e+00+0.00000000e+00j\n",
       "  -6.81874396e-01+7.31468522e-01j]]"
      ]
     },
     "execution_count": 45,
     "metadata": {},
     "output_type": "execute_result"
    }
   ],
   "source": [
    "_, gatetime, _ = calc_gatetime(t_vec, omega1, omega2, alpha, J_coupling, hamiltonian, False)\n",
    "h = hamiltonian(omega_1=omega1, omega_2=omega2, alpha_1=alpha, alpha_2=alpha, J_coupling=J_coupling)\n",
    "newt_vec = np.linspace(t_start, gatetime, 601)\n",
    "propogator = compute_propogator(h, newt_vec)\n",
    "propogator"
   ]
  },
  {
   "cell_type": "code",
   "execution_count": 46,
   "id": "a2b773af-4262-4a75-b80a-4f5b3cdff0e4",
   "metadata": {},
   "outputs": [
    {
     "data": {
      "text/plain": [
       "0.015625"
      ]
     },
     "execution_count": 46,
     "metadata": {},
     "output_type": "execute_result"
    }
   ],
   "source": [
    "gatetime"
   ]
  },
  {
   "cell_type": "code",
   "execution_count": 47,
   "id": "307825bd-81c0-4cb1-9f79-021bf6afde90",
   "metadata": {},
   "outputs": [
    {
     "data": {
      "text/latex": [
       "Quantum object: dims = [[4], [4]], shape = (4, 4), type = oper, isherm = False $ \\\\ \\left(\\begin{matrix}(1.000+5.236\\times10^{-04}j) & 0.0 & 0.0 & (-0.001+5.598\\times10^{-05}j)\\\\0.0 & (-7.586\\times10^{-04}+0.707j) & (0.707+7.593\\times10^{-04}j) & 0.0\\\\0.0 & (0.707+7.593\\times10^{-04}j) & (-7.586\\times10^{-04}+0.707j) & 0.0\\\\(-0.001+5.592\\times10^{-05}j) & 0.0 & 0.0 & (-0.993+0.084j)\\\\\\end{matrix}\\right)$"
      ],
      "text/plain": [
       "Quantum object: dims = [[4], [4]], shape = (4, 4), type = oper, isherm = False\n",
       "Qobj data =\n",
       "[[ 9.99998978e-01+5.23637260e-04j  0.00000000e+00+0.00000000e+00j\n",
       "   0.00000000e+00+0.00000000e+00j -1.32929080e-03+5.59798158e-05j]\n",
       " [ 0.00000000e+00+0.00000000e+00j -7.58613035e-04+7.07105191e-01j\n",
       "   7.07106607e-01+7.59289937e-04j  0.00000000e+00+0.00000000e+00j]\n",
       " [ 0.00000000e+00+0.00000000e+00j  7.07106607e-01+7.59289937e-04j\n",
       "  -7.58613035e-04+7.07105191e-01j  0.00000000e+00+0.00000000e+00j]\n",
       " [-1.32787895e-03+5.59203593e-05j  0.00000000e+00+0.00000000e+00j\n",
       "   0.00000000e+00+0.00000000e+00j -9.92962556e-01+8.44311138e-02j]]"
      ]
     },
     "execution_count": 47,
     "metadata": {},
     "output_type": "execute_result"
    }
   ],
   "source": [
    "temp1 = qt.Qobj(propogator[0:5,0:5])\n",
    "prop4x4 = qt.Qobj(fivetofour(temp1))\n",
    "prop4x4"
   ]
  },
  {
   "cell_type": "code",
   "execution_count": 48,
   "id": "83dc834f-e475-4bf9-90b3-b076f4f54e1b",
   "metadata": {},
   "outputs": [
    {
     "data": {
      "text/latex": [
       "Quantum object: dims = [[4], [4]], shape = (4, 4), type = oper, isherm = False $ \\\\ \\left(\\begin{matrix}1.0 & 0.0 & 0.0 & 0.0\\\\0.0 & 0.707 & 0.707j & 0.0\\\\0.0 & 0.707j & 0.707 & 0.0\\\\0.0 & 0.0 & 0.0 & 1.0\\\\\\end{matrix}\\right)$"
      ],
      "text/plain": [
       "Quantum object: dims = [[4], [4]], shape = (4, 4), type = oper, isherm = False\n",
       "Qobj data =\n",
       "[[1.        +0.j         0.        +0.j         0.        +0.j\n",
       "  0.        +0.j        ]\n",
       " [0.        +0.j         0.70710678+0.j         0.        +0.70710678j\n",
       "  0.        +0.j        ]\n",
       " [0.        +0.j         0.        +0.70710678j 0.70710678+0.j\n",
       "  0.        +0.j        ]\n",
       " [0.        +0.j         0.        +0.j         0.        +0.j\n",
       "  1.        +0.j        ]]"
      ]
     },
     "execution_count": 48,
     "metadata": {},
     "output_type": "execute_result"
    }
   ],
   "source": [
    "SQiSW"
   ]
  },
  {
   "cell_type": "code",
   "execution_count": 49,
   "id": "730d616d-4656-424f-a6cb-438f07e42c67",
   "metadata": {},
   "outputs": [
    {
     "data": {
      "text/plain": [
       "(0.40733696354118265+0.0005442951098725222j)"
      ]
     },
     "execution_count": 49,
     "metadata": {},
     "output_type": "execute_result"
    }
   ],
   "source": [
    "qt.process_fidelity(prop4x4, SQiSW)"
   ]
  },
  {
   "cell_type": "code",
   "execution_count": 50,
   "id": "7e9d4365-8453-4641-9524-5e9de98c91ff",
   "metadata": {},
   "outputs": [],
   "source": [
    "philist = np.linspace(0, 2*π, 200)\n",
    "fidelitylist = []\n",
    "for phi in philist:\n",
    "    newmatrix = compute_cz(phi) * prop4x4\n",
    "    fidelitylist.append(qt.process_fidelity(newmatrix, SQiSW))\n",
    "fidelities = np.abs(fidelitylist)\n",
    "argmax = np.argmin(np.abs(fidelities-np.max(fidelities)))"
   ]
  },
  {
   "cell_type": "code",
   "execution_count": 51,
   "id": "ad9afe28-f57e-4506-b8d9-ed7bc5284b08",
   "metadata": {},
   "outputs": [],
   "source": [
    "# Do this without using qt.process_fidelity, may have to meet with yunwei again!!!"
   ]
  },
  {
   "cell_type": "code",
   "execution_count": 52,
   "id": "0f89ac23-4c31-44f7-b08d-9c26d1fada0d",
   "metadata": {},
   "outputs": [
    {
     "data": {
      "image/png": "[encoded data removed]",
      "text/plain": [
       "<Figure size 640x480 with 1 Axes>"
      ]
     },
     "metadata": {},
     "output_type": "display_data"
    }
   ],
   "source": [
    "fig = plt.figure()\n",
    "plt.scatter(philist, fidelities)\n",
    "plt.scatter(philist[argmax], fidelities[argmax], c='r')\n",
    "_ = plt.title(f'phi_max = {philist[argmax]}, fid_max = {fidelities[argmax]}')"
   ]
  },
  {
   "cell_type": "code",
   "execution_count": null,
   "id": "4b2eabe7-2ce7-43d2-9adc-64f966a579b6",
   "metadata": {},
   "outputs": [],
   "source": [
    "#if the same thing is done for slightly different gatetimes, the maximum fidelity / phimax very different\n",
    "\n",
    "#important takeaway: if we do multiply the propogator by a relative phase in the 11 element--\n",
    "#we do get a better imperfect fidelity quantity (imperfect because 4x4 not unitary)"
   ]
  },
  {
   "cell_type": "markdown",
   "id": "bac785a8-02ce-4200-b9ef-63060d31f034",
   "metadata": {},
   "source": [
    "## Method 2"
   ]
  },
  {
   "cell_type": "code",
   "execution_count": 64,
   "id": "1eb6bdfb-96dd-4758-9364-70f7b40131e3",
   "metadata": {},
   "outputs": [
    {
     "name": "stdout",
     "output_type": "stream",
     "text": [
      "0.9965461747681873\n"
     ]
    },
    {
     "data": {
      "text/latex": [
       "Quantum object: dims = [[4], [1]], shape = (4, 1), type = ket $ \\\\ \\left(\\begin{matrix}(-0.001+5.599\\times10^{-05}j)\\\\0.0\\\\0.0\\\\(-0.993+0.084j)\\\\\\end{matrix}\\right)$"
      ],
      "text/plain": [
       "Quantum object: dims = [[4], [1]], shape = (4, 1), type = ket\n",
       "Qobj data =\n",
       "[[-0.00132884+5.59890579e-05j]\n",
       " [ 0.        +0.00000000e+00j]\n",
       " [ 0.        +0.00000000e+00j]\n",
       " [-0.99296192+8.44446796e-02j]]"
      ]
     },
     "execution_count": 64,
     "metadata": {},
     "output_type": "execute_result"
    }
   ],
   "source": [
    "_, gatetime, _ = calc_gatetime(t_vec, omega1, omega2, alpha, J_coupling, hamiltonian, False)\n",
    "h = hamiltonian(omega_1=omega1, omega_2=omega2, alpha_1=alpha, alpha_2=alpha, J_coupling=J_coupling)\n",
    "newt_vec = np.linspace(t_start, gatetime, 601)\n",
    "\n",
    "psi0 = qt.tensor(e_state, e_state)\n",
    "te0 = qt.mesolve(h, psi0, newt_vec, [], [])\n",
    "\n",
    "expstate = qt.Qobj([te0.states[-1][0][0], te0.states[-1][1][0], te0.states[-1][3][0], te0.states[-1][4][0]])\n",
    "theostate = SQiSW * qt.Qobj(np.array([0, 0, 0, 1]))\n",
    "print(qt.fidelity(expstate, theostate))\n",
    "\n",
    "expstate"
   ]
  },
  {
   "cell_type": "code",
   "execution_count": 82,
   "id": "da99d84a-ec55-4b80-ace6-6acea5e562b4",
   "metadata": {},
   "outputs": [
    {
     "data": {
      "text/latex": [
       "Quantum object: dims = [[3, 3], [1, 1]], shape = (9, 1), type = ket $ \\\\ \\left(\\begin{matrix}(-0.001+5.599\\times10^{-05}j)\\\\0.0\\\\(-0.049-0.033j)\\\\0.0\\\\(-0.993+0.084j)\\\\0.0\\\\(-0.049-0.033j)\\\\0.0\\\\(4.244\\times10^{-04}+9.092\\times10^{-04}j)\\\\\\end{matrix}\\right)$"
      ],
      "text/plain": [
       "Quantum object: dims = [[3, 3], [1, 1]], shape = (9, 1), type = ket\n",
       "Qobj data =\n",
       "[[-1.32883920e-03+5.59890579e-05j]\n",
       " [ 0.00000000e+00+0.00000000e+00j]\n",
       " [-4.87916286e-02-3.26473573e-02j]\n",
       " [ 0.00000000e+00+0.00000000e+00j]\n",
       " [-9.92961920e-01+8.44446796e-02j]\n",
       " [ 0.00000000e+00+0.00000000e+00j]\n",
       " [-4.87916286e-02-3.26473573e-02j]\n",
       " [ 0.00000000e+00+0.00000000e+00j]\n",
       " [ 4.24362030e-04+9.09180538e-04j]]"
      ]
     },
     "execution_count": 82,
     "metadata": {},
     "output_type": "execute_result"
    }
   ],
   "source": [
    "te0.states[-1]"
   ]
  },
  {
   "cell_type": "code",
   "execution_count": 83,
   "id": "52740125-a9d1-410e-a470-b806e76a3a25",
   "metadata": {},
   "outputs": [
    {
     "data": {
      "text/latex": [
       "Quantum object: dims = [[3, 3], [1, 1]], shape = (9, 1), type = ket $ \\\\ \\left(\\begin{matrix}0.0\\\\0.0\\\\0.0\\\\0.0\\\\1.0\\\\0.0\\\\0.0\\\\0.0\\\\0.0\\\\\\end{matrix}\\right)$"
      ],
      "text/plain": [
       "Quantum object: dims = [[3, 3], [1, 1]], shape = (9, 1), type = ket\n",
       "Qobj data =\n",
       "[[0.]\n",
       " [0.]\n",
       " [0.]\n",
       " [0.]\n",
       " [1.]\n",
       " [0.]\n",
       " [0.]\n",
       " [0.]\n",
       " [0.]]"
      ]
     },
     "execution_count": 83,
     "metadata": {},
     "output_type": "execute_result"
    }
   ],
   "source": [
    "te0.states[0]"
   ]
  },
  {
   "cell_type": "code",
   "execution_count": 77,
   "id": "e842379c-e9b7-4e74-853d-c2ee00304b0b",
   "metadata": {},
   "outputs": [],
   "source": [
    "philist = np.linspace(0, 2*π, 200)\n",
    "fidelitylist = []\n",
    "for phi in philist:\n",
    "    newmatrix = compute_cz(phi) * expstate\n",
    "    fidelitylist.append(qt.fidelity(newmatrix, theostate))"
   ]
  },
  {
   "cell_type": "code",
   "execution_count": 81,
   "id": "5fb4c4f5-807f-4963-896a-d1b4839769b4",
   "metadata": {},
   "outputs": [
    {
     "data": {
      "text/plain": [
       "0.9965461747681874"
      ]
     },
     "execution_count": 81,
     "metadata": {},
     "output_type": "execute_result"
    },
    {
     "data": {
      "image/png": "[encoded data removed]",
      "text/plain": [
       "<Figure size 640x480 with 1 Axes>"
      ]
     },
     "metadata": {},
     "output_type": "display_data"
    }
   ],
   "source": [
    "plt.scatter(philist, fidelitylist)\n",
    "np.max(fidelitylist)"
   ]
  },
  {
   "cell_type": "code",
   "execution_count": null,
   "id": "92a1aa01-9f68-4d28-a44c-ef03a203d3fc",
   "metadata": {},
   "outputs": [],
   "source": [
    "philist = np.linspace(0, 2*π, 200)\n",
    "for phi in philist:\n",
    "    newmatrix = compute_cz(phi) * expstate\n",
    "    fidelitylist.append(qt.fidelity(newmatrix, theostate))"
   ]
  },
  {
   "cell_type": "code",
   "execution_count": null,
   "id": "991b1adc-48cd-4e3f-8b34-74fc95f1844c",
   "metadata": {},
   "outputs": [],
   "source": []
  }
 ],
 "metadata": {
  "kernelspec": {
   "display_name": "Python 3 (ipykernel)",
   "language": "python",
   "name": "python3"
  },
  "language_info": {
   "codemirror_mode": {
    "name": "ipython",
    "version": 3
   },
   "file_extension": ".py",
   "mimetype": "text/x-python",
   "name": "python",
   "nbconvert_exporter": "python",
   "pygments_lexer": "ipython3",
   "version": "3.9.6"
  }
 },
 "nbformat": 4,
 "nbformat_minor": 5
}
